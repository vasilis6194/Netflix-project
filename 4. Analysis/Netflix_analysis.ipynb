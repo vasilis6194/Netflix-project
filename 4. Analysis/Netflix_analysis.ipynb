{
 "cells": [
  {
   "cell_type": "markdown",
   "id": "5f10808d",
   "metadata": {},
   "source": [
    "# 📊 **Netflix Content Analysis** 🔍\n",
    "### **Comprehensive Exploration of Content Trends, Categories, and Global Distribution**\n",
    "\n",
    "This report delves into the **distribution of content by type**, **geographical production trends**, **seasonal patterns**, and more, using Netflix's vast library of movies and TV shows. We analyze various aspects, from the **growth in new content over the years** to the **dominant genres** and **countries of origin**, and even explore the impact of **TMDB ratings**.\n",
    "\n",
    "✨ Key Insights:\n",
    "- The evolution of Netflix’s content library from 2008 to 2021.\n",
    "- Global distribution of movies and TV shows across different countries 🌍.\n",
    "- Trend analysis of content addition over the years 📈.\n",
    "- Detailed breakdown of **top categories** and their popularity.\n",
    "\n",
    "Let’s dive into the data and uncover the fascinating insights behind Netflix’s expansive content library! 🚀\n"
   ]
  },
  {
   "cell_type": "code",
   "execution_count": 4,
   "id": "c90ec879",
   "metadata": {},
   "outputs": [],
   "source": [
    "import numpy as np\n",
    "import pandas as pd\n",
    "import plotly.express as px\n",
    "import matplotlib.pyplot as plt\n",
    "import folium\n",
    "import requests\n",
    "import json\n",
    "from country_coords import country_coords"
   ]
  },
  {
   "cell_type": "code",
   "execution_count": 5,
   "id": "76547626",
   "metadata": {},
   "outputs": [],
   "source": [
    "df = pd.read_csv(\"cleaned_netflix.csv\")"
   ]
  },
  {
   "cell_type": "code",
   "execution_count": 6,
   "id": "90681157",
   "metadata": {},
   "outputs": [
    {
     "data": {
      "text/html": [
       "<div>\n",
       "<style scoped>\n",
       "    .dataframe tbody tr th:only-of-type {\n",
       "        vertical-align: middle;\n",
       "    }\n",
       "\n",
       "    .dataframe tbody tr th {\n",
       "        vertical-align: top;\n",
       "    }\n",
       "\n",
       "    .dataframe thead th {\n",
       "        text-align: right;\n",
       "    }\n",
       "</style>\n",
       "<table border=\"1\" class=\"dataframe\">\n",
       "  <thead>\n",
       "    <tr style=\"text-align: right;\">\n",
       "      <th></th>\n",
       "      <th>Unnamed: 0</th>\n",
       "      <th>show_id</th>\n",
       "      <th>type</th>\n",
       "      <th>title</th>\n",
       "      <th>director</th>\n",
       "      <th>cast</th>\n",
       "      <th>country</th>\n",
       "      <th>date_added</th>\n",
       "      <th>release_year</th>\n",
       "      <th>rating</th>\n",
       "      <th>duration</th>\n",
       "      <th>listed_in</th>\n",
       "      <th>description</th>\n",
       "      <th>year_added</th>\n",
       "      <th>month_added</th>\n",
       "    </tr>\n",
       "  </thead>\n",
       "  <tbody>\n",
       "    <tr>\n",
       "      <th>0</th>\n",
       "      <td>0</td>\n",
       "      <td>s1</td>\n",
       "      <td>Movie</td>\n",
       "      <td>Dick Johnson Is Dead</td>\n",
       "      <td>Kirsten Johnson</td>\n",
       "      <td>Not Available</td>\n",
       "      <td>United States</td>\n",
       "      <td>2021-09-25</td>\n",
       "      <td>2020</td>\n",
       "      <td>PG-13</td>\n",
       "      <td>90 min</td>\n",
       "      <td>Documentaries</td>\n",
       "      <td>As her father nears the end of his life, filmm...</td>\n",
       "      <td>2021</td>\n",
       "      <td>September</td>\n",
       "    </tr>\n",
       "    <tr>\n",
       "      <th>1</th>\n",
       "      <td>1</td>\n",
       "      <td>s2</td>\n",
       "      <td>TV Show</td>\n",
       "      <td>Blood &amp; Water</td>\n",
       "      <td>Unknown</td>\n",
       "      <td>Ama Qamata, Khosi Ngema, Gail Mabalane, Thaban...</td>\n",
       "      <td>South Africa</td>\n",
       "      <td>2021-09-24</td>\n",
       "      <td>2021</td>\n",
       "      <td>TV-MA</td>\n",
       "      <td>2 Seasons</td>\n",
       "      <td>International TV Shows, TV Dramas, TV Mysteries</td>\n",
       "      <td>After crossing paths at a party, a Cape Town t...</td>\n",
       "      <td>2021</td>\n",
       "      <td>September</td>\n",
       "    </tr>\n",
       "  </tbody>\n",
       "</table>\n",
       "</div>"
      ],
      "text/plain": [
       "   Unnamed: 0 show_id     type                 title         director  \\\n",
       "0           0      s1    Movie  Dick Johnson Is Dead  Kirsten Johnson   \n",
       "1           1      s2  TV Show         Blood & Water          Unknown   \n",
       "\n",
       "                                                cast        country  \\\n",
       "0                                      Not Available  United States   \n",
       "1  Ama Qamata, Khosi Ngema, Gail Mabalane, Thaban...   South Africa   \n",
       "\n",
       "   date_added  release_year rating   duration  \\\n",
       "0  2021-09-25          2020  PG-13     90 min   \n",
       "1  2021-09-24          2021  TV-MA  2 Seasons   \n",
       "\n",
       "                                         listed_in  \\\n",
       "0                                    Documentaries   \n",
       "1  International TV Shows, TV Dramas, TV Mysteries   \n",
       "\n",
       "                                         description  year_added month_added  \n",
       "0  As her father nears the end of his life, filmm...        2021   September  \n",
       "1  After crossing paths at a party, a Cape Town t...        2021   September  "
      ]
     },
     "execution_count": 6,
     "metadata": {},
     "output_type": "execute_result"
    }
   ],
   "source": [
    "df.head(2)"
   ]
  },
  {
   "cell_type": "code",
   "execution_count": 7,
   "id": "89b8e8ee",
   "metadata": {},
   "outputs": [],
   "source": [
    "df.drop(columns=\"Unnamed: 0\", inplace=True)"
   ]
  },
  {
   "cell_type": "code",
   "execution_count": 8,
   "id": "59322628",
   "metadata": {},
   "outputs": [
    {
     "data": {
      "text/html": [
       "<div>\n",
       "<style scoped>\n",
       "    .dataframe tbody tr th:only-of-type {\n",
       "        vertical-align: middle;\n",
       "    }\n",
       "\n",
       "    .dataframe tbody tr th {\n",
       "        vertical-align: top;\n",
       "    }\n",
       "\n",
       "    .dataframe thead th {\n",
       "        text-align: right;\n",
       "    }\n",
       "</style>\n",
       "<table border=\"1\" class=\"dataframe\">\n",
       "  <thead>\n",
       "    <tr style=\"text-align: right;\">\n",
       "      <th></th>\n",
       "      <th>show_id</th>\n",
       "      <th>type</th>\n",
       "      <th>title</th>\n",
       "      <th>director</th>\n",
       "      <th>cast</th>\n",
       "      <th>country</th>\n",
       "      <th>date_added</th>\n",
       "      <th>release_year</th>\n",
       "      <th>rating</th>\n",
       "      <th>duration</th>\n",
       "      <th>listed_in</th>\n",
       "      <th>description</th>\n",
       "      <th>year_added</th>\n",
       "      <th>month_added</th>\n",
       "    </tr>\n",
       "  </thead>\n",
       "  <tbody>\n",
       "    <tr>\n",
       "      <th>0</th>\n",
       "      <td>s1</td>\n",
       "      <td>Movie</td>\n",
       "      <td>Dick Johnson Is Dead</td>\n",
       "      <td>Kirsten Johnson</td>\n",
       "      <td>Not Available</td>\n",
       "      <td>United States</td>\n",
       "      <td>2021-09-25</td>\n",
       "      <td>2020</td>\n",
       "      <td>PG-13</td>\n",
       "      <td>90 min</td>\n",
       "      <td>Documentaries</td>\n",
       "      <td>As her father nears the end of his life, filmm...</td>\n",
       "      <td>2021</td>\n",
       "      <td>September</td>\n",
       "    </tr>\n",
       "    <tr>\n",
       "      <th>1</th>\n",
       "      <td>s2</td>\n",
       "      <td>TV Show</td>\n",
       "      <td>Blood &amp; Water</td>\n",
       "      <td>Unknown</td>\n",
       "      <td>Ama Qamata, Khosi Ngema, Gail Mabalane, Thaban...</td>\n",
       "      <td>South Africa</td>\n",
       "      <td>2021-09-24</td>\n",
       "      <td>2021</td>\n",
       "      <td>TV-MA</td>\n",
       "      <td>2 Seasons</td>\n",
       "      <td>International TV Shows, TV Dramas, TV Mysteries</td>\n",
       "      <td>After crossing paths at a party, a Cape Town t...</td>\n",
       "      <td>2021</td>\n",
       "      <td>September</td>\n",
       "    </tr>\n",
       "  </tbody>\n",
       "</table>\n",
       "</div>"
      ],
      "text/plain": [
       "  show_id     type                 title         director  \\\n",
       "0      s1    Movie  Dick Johnson Is Dead  Kirsten Johnson   \n",
       "1      s2  TV Show         Blood & Water          Unknown   \n",
       "\n",
       "                                                cast        country  \\\n",
       "0                                      Not Available  United States   \n",
       "1  Ama Qamata, Khosi Ngema, Gail Mabalane, Thaban...   South Africa   \n",
       "\n",
       "   date_added  release_year rating   duration  \\\n",
       "0  2021-09-25          2020  PG-13     90 min   \n",
       "1  2021-09-24          2021  TV-MA  2 Seasons   \n",
       "\n",
       "                                         listed_in  \\\n",
       "0                                    Documentaries   \n",
       "1  International TV Shows, TV Dramas, TV Mysteries   \n",
       "\n",
       "                                         description  year_added month_added  \n",
       "0  As her father nears the end of his life, filmm...        2021   September  \n",
       "1  After crossing paths at a party, a Cape Town t...        2021   September  "
      ]
     },
     "execution_count": 8,
     "metadata": {},
     "output_type": "execute_result"
    }
   ],
   "source": [
    "df.head(2)"
   ]
  },
  {
   "cell_type": "code",
   "execution_count": 9,
   "id": "6554a89a",
   "metadata": {},
   "outputs": [],
   "source": [
    "# Convert column to datetime\n",
    "df[\"date_added\"] = pd.to_datetime(df[\"date_added\"])"
   ]
  },
  {
   "cell_type": "code",
   "execution_count": 10,
   "id": "5914f2b7",
   "metadata": {},
   "outputs": [],
   "source": [
    "# Create month_added column\n",
    "df[\"month_added\"] = df[\"date_added\"].dt.month"
   ]
  },
  {
   "cell_type": "code",
   "execution_count": 11,
   "id": "183fc302",
   "metadata": {},
   "outputs": [],
   "source": [
    "months_dict = {\n",
    "    1: \"January\",\n",
    "    2: \"February\",\n",
    "    3: \"March\",\n",
    "    4: \"April\",\n",
    "    5: \"May\",\n",
    "    6: \"June\",\n",
    "    7: \"July\",\n",
    "    8: \"August\",\n",
    "    9: \"September\",\n",
    "    10: \"October\",\n",
    "    11: \"November\",\n",
    "    12: \"December\"\n",
    "}\n"
   ]
  },
  {
   "cell_type": "code",
   "execution_count": 12,
   "id": "74dff7cc",
   "metadata": {},
   "outputs": [],
   "source": [
    "df[\"month_added\"] = df[\"month_added\"].map(months_dict)"
   ]
  },
  {
   "cell_type": "markdown",
   "id": "80cd8353",
   "metadata": {},
   "source": [
    "# Distribution of Content by Type (Movies vs. TV Shows) 🎬📺\n",
    "\n",
    "In this analysis, we explored the distribution of content available on Netflix. We focused on **Movies** and **TV Shows** to see how they are represented in the dataset.\n",
    "\n",
    "The data reveals:\n",
    "- A **majority of content** is in the form of **Movies**.\n",
    "- The **TV Shows** count, while substantial, is significantly lower than movies.\n",
    "  \n",
    "This provides insights into the content focus on the platform.\n",
    "\n",
    "## Key Findings:\n",
    "- **Movies:** 70% of the content\n",
    "- **TV Shows:** 30% of the content\n"
   ]
  },
  {
   "cell_type": "markdown",
   "id": "fd18ff67",
   "metadata": {},
   "source": [
    "## Movies vs TV Shows"
   ]
  },
  {
   "cell_type": "code",
   "execution_count": 13,
   "id": "3ce2489b",
   "metadata": {},
   "outputs": [
    {
     "data": {
      "text/html": [
       "<div>\n",
       "<style scoped>\n",
       "    .dataframe tbody tr th:only-of-type {\n",
       "        vertical-align: middle;\n",
       "    }\n",
       "\n",
       "    .dataframe tbody tr th {\n",
       "        vertical-align: top;\n",
       "    }\n",
       "\n",
       "    .dataframe thead th {\n",
       "        text-align: right;\n",
       "    }\n",
       "</style>\n",
       "<table border=\"1\" class=\"dataframe\">\n",
       "  <thead>\n",
       "    <tr style=\"text-align: right;\">\n",
       "      <th></th>\n",
       "      <th>type</th>\n",
       "      <th>show_id</th>\n",
       "    </tr>\n",
       "  </thead>\n",
       "  <tbody>\n",
       "    <tr>\n",
       "      <th>0</th>\n",
       "      <td>Movie</td>\n",
       "      <td>6126</td>\n",
       "    </tr>\n",
       "    <tr>\n",
       "      <th>1</th>\n",
       "      <td>TV Show</td>\n",
       "      <td>2664</td>\n",
       "    </tr>\n",
       "  </tbody>\n",
       "</table>\n",
       "</div>"
      ],
      "text/plain": [
       "      type  show_id\n",
       "0    Movie     6126\n",
       "1  TV Show     2664"
      ]
     },
     "execution_count": 13,
     "metadata": {},
     "output_type": "execute_result"
    }
   ],
   "source": [
    "movies_vs_shows = df.groupby(\"type\").count()[[\"show_id\"]].reset_index()\n",
    "movies_vs_shows"
   ]
  },
  {
   "cell_type": "code",
   "execution_count": 14,
   "id": "38cf1735",
   "metadata": {},
   "outputs": [
    {
     "data": {
      "application/vnd.plotly.v1+json": {
       "config": {
        "plotlyServerURL": "https://plot.ly"
       },
       "data": [
        {
         "alignmentgroup": "True",
         "hovertemplate": "type=%{x}<br>show_id=%{text}<extra></extra>",
         "legendgroup": "Movie",
         "marker": {
          "color": "#E50914",
          "pattern": {
           "shape": ""
          }
         },
         "name": "Movie",
         "offsetgroup": "Movie",
         "orientation": "v",
         "showlegend": true,
         "text": [
          6126
         ],
         "textposition": "auto",
         "type": "bar",
         "x": [
          "Movie"
         ],
         "xaxis": "x",
         "y": [
          6126
         ],
         "yaxis": "y"
        },
        {
         "alignmentgroup": "True",
         "hovertemplate": "type=%{x}<br>show_id=%{text}<extra></extra>",
         "legendgroup": "TV Show",
         "marker": {
          "color": "#221F1F",
          "pattern": {
           "shape": ""
          }
         },
         "name": "TV Show",
         "offsetgroup": "TV Show",
         "orientation": "v",
         "showlegend": true,
         "text": [
          2664
         ],
         "textposition": "auto",
         "type": "bar",
         "x": [
          "TV Show"
         ],
         "xaxis": "x",
         "y": [
          2664
         ],
         "yaxis": "y"
        }
       ],
       "layout": {
        "barmode": "relative",
        "legend": {
         "title": {
          "text": "type"
         },
         "tracegroupgap": 0
        },
        "template": {
         "data": {
          "bar": [
           {
            "error_x": {
             "color": "#2a3f5f"
            },
            "error_y": {
             "color": "#2a3f5f"
            },
            "marker": {
             "line": {
              "color": "#E5ECF6",
              "width": 0.5
             },
             "pattern": {
              "fillmode": "overlay",
              "size": 10,
              "solidity": 0.2
             }
            },
            "type": "bar"
           }
          ],
          "barpolar": [
           {
            "marker": {
             "line": {
              "color": "#E5ECF6",
              "width": 0.5
             },
             "pattern": {
              "fillmode": "overlay",
              "size": 10,
              "solidity": 0.2
             }
            },
            "type": "barpolar"
           }
          ],
          "carpet": [
           {
            "aaxis": {
             "endlinecolor": "#2a3f5f",
             "gridcolor": "white",
             "linecolor": "white",
             "minorgridcolor": "white",
             "startlinecolor": "#2a3f5f"
            },
            "baxis": {
             "endlinecolor": "#2a3f5f",
             "gridcolor": "white",
             "linecolor": "white",
             "minorgridcolor": "white",
             "startlinecolor": "#2a3f5f"
            },
            "type": "carpet"
           }
          ],
          "choropleth": [
           {
            "colorbar": {
             "outlinewidth": 0,
             "ticks": ""
            },
            "type": "choropleth"
           }
          ],
          "contour": [
           {
            "colorbar": {
             "outlinewidth": 0,
             "ticks": ""
            },
            "colorscale": [
             [
              0,
              "#0d0887"
             ],
             [
              0.1111111111111111,
              "#46039f"
             ],
             [
              0.2222222222222222,
              "#7201a8"
             ],
             [
              0.3333333333333333,
              "#9c179e"
             ],
             [
              0.4444444444444444,
              "#bd3786"
             ],
             [
              0.5555555555555556,
              "#d8576b"
             ],
             [
              0.6666666666666666,
              "#ed7953"
             ],
             [
              0.7777777777777778,
              "#fb9f3a"
             ],
             [
              0.8888888888888888,
              "#fdca26"
             ],
             [
              1,
              "#f0f921"
             ]
            ],
            "type": "contour"
           }
          ],
          "contourcarpet": [
           {
            "colorbar": {
             "outlinewidth": 0,
             "ticks": ""
            },
            "type": "contourcarpet"
           }
          ],
          "heatmap": [
           {
            "colorbar": {
             "outlinewidth": 0,
             "ticks": ""
            },
            "colorscale": [
             [
              0,
              "#0d0887"
             ],
             [
              0.1111111111111111,
              "#46039f"
             ],
             [
              0.2222222222222222,
              "#7201a8"
             ],
             [
              0.3333333333333333,
              "#9c179e"
             ],
             [
              0.4444444444444444,
              "#bd3786"
             ],
             [
              0.5555555555555556,
              "#d8576b"
             ],
             [
              0.6666666666666666,
              "#ed7953"
             ],
             [
              0.7777777777777778,
              "#fb9f3a"
             ],
             [
              0.8888888888888888,
              "#fdca26"
             ],
             [
              1,
              "#f0f921"
             ]
            ],
            "type": "heatmap"
           }
          ],
          "heatmapgl": [
           {
            "colorbar": {
             "outlinewidth": 0,
             "ticks": ""
            },
            "colorscale": [
             [
              0,
              "#0d0887"
             ],
             [
              0.1111111111111111,
              "#46039f"
             ],
             [
              0.2222222222222222,
              "#7201a8"
             ],
             [
              0.3333333333333333,
              "#9c179e"
             ],
             [
              0.4444444444444444,
              "#bd3786"
             ],
             [
              0.5555555555555556,
              "#d8576b"
             ],
             [
              0.6666666666666666,
              "#ed7953"
             ],
             [
              0.7777777777777778,
              "#fb9f3a"
             ],
             [
              0.8888888888888888,
              "#fdca26"
             ],
             [
              1,
              "#f0f921"
             ]
            ],
            "type": "heatmapgl"
           }
          ],
          "histogram": [
           {
            "marker": {
             "pattern": {
              "fillmode": "overlay",
              "size": 10,
              "solidity": 0.2
             }
            },
            "type": "histogram"
           }
          ],
          "histogram2d": [
           {
            "colorbar": {
             "outlinewidth": 0,
             "ticks": ""
            },
            "colorscale": [
             [
              0,
              "#0d0887"
             ],
             [
              0.1111111111111111,
              "#46039f"
             ],
             [
              0.2222222222222222,
              "#7201a8"
             ],
             [
              0.3333333333333333,
              "#9c179e"
             ],
             [
              0.4444444444444444,
              "#bd3786"
             ],
             [
              0.5555555555555556,
              "#d8576b"
             ],
             [
              0.6666666666666666,
              "#ed7953"
             ],
             [
              0.7777777777777778,
              "#fb9f3a"
             ],
             [
              0.8888888888888888,
              "#fdca26"
             ],
             [
              1,
              "#f0f921"
             ]
            ],
            "type": "histogram2d"
           }
          ],
          "histogram2dcontour": [
           {
            "colorbar": {
             "outlinewidth": 0,
             "ticks": ""
            },
            "colorscale": [
             [
              0,
              "#0d0887"
             ],
             [
              0.1111111111111111,
              "#46039f"
             ],
             [
              0.2222222222222222,
              "#7201a8"
             ],
             [
              0.3333333333333333,
              "#9c179e"
             ],
             [
              0.4444444444444444,
              "#bd3786"
             ],
             [
              0.5555555555555556,
              "#d8576b"
             ],
             [
              0.6666666666666666,
              "#ed7953"
             ],
             [
              0.7777777777777778,
              "#fb9f3a"
             ],
             [
              0.8888888888888888,
              "#fdca26"
             ],
             [
              1,
              "#f0f921"
             ]
            ],
            "type": "histogram2dcontour"
           }
          ],
          "mesh3d": [
           {
            "colorbar": {
             "outlinewidth": 0,
             "ticks": ""
            },
            "type": "mesh3d"
           }
          ],
          "parcoords": [
           {
            "line": {
             "colorbar": {
              "outlinewidth": 0,
              "ticks": ""
             }
            },
            "type": "parcoords"
           }
          ],
          "pie": [
           {
            "automargin": true,
            "type": "pie"
           }
          ],
          "scatter": [
           {
            "fillpattern": {
             "fillmode": "overlay",
             "size": 10,
             "solidity": 0.2
            },
            "type": "scatter"
           }
          ],
          "scatter3d": [
           {
            "line": {
             "colorbar": {
              "outlinewidth": 0,
              "ticks": ""
             }
            },
            "marker": {
             "colorbar": {
              "outlinewidth": 0,
              "ticks": ""
             }
            },
            "type": "scatter3d"
           }
          ],
          "scattercarpet": [
           {
            "marker": {
             "colorbar": {
              "outlinewidth": 0,
              "ticks": ""
             }
            },
            "type": "scattercarpet"
           }
          ],
          "scattergeo": [
           {
            "marker": {
             "colorbar": {
              "outlinewidth": 0,
              "ticks": ""
             }
            },
            "type": "scattergeo"
           }
          ],
          "scattergl": [
           {
            "marker": {
             "colorbar": {
              "outlinewidth": 0,
              "ticks": ""
             }
            },
            "type": "scattergl"
           }
          ],
          "scattermapbox": [
           {
            "marker": {
             "colorbar": {
              "outlinewidth": 0,
              "ticks": ""
             }
            },
            "type": "scattermapbox"
           }
          ],
          "scatterpolar": [
           {
            "marker": {
             "colorbar": {
              "outlinewidth": 0,
              "ticks": ""
             }
            },
            "type": "scatterpolar"
           }
          ],
          "scatterpolargl": [
           {
            "marker": {
             "colorbar": {
              "outlinewidth": 0,
              "ticks": ""
             }
            },
            "type": "scatterpolargl"
           }
          ],
          "scatterternary": [
           {
            "marker": {
             "colorbar": {
              "outlinewidth": 0,
              "ticks": ""
             }
            },
            "type": "scatterternary"
           }
          ],
          "surface": [
           {
            "colorbar": {
             "outlinewidth": 0,
             "ticks": ""
            },
            "colorscale": [
             [
              0,
              "#0d0887"
             ],
             [
              0.1111111111111111,
              "#46039f"
             ],
             [
              0.2222222222222222,
              "#7201a8"
             ],
             [
              0.3333333333333333,
              "#9c179e"
             ],
             [
              0.4444444444444444,
              "#bd3786"
             ],
             [
              0.5555555555555556,
              "#d8576b"
             ],
             [
              0.6666666666666666,
              "#ed7953"
             ],
             [
              0.7777777777777778,
              "#fb9f3a"
             ],
             [
              0.8888888888888888,
              "#fdca26"
             ],
             [
              1,
              "#f0f921"
             ]
            ],
            "type": "surface"
           }
          ],
          "table": [
           {
            "cells": {
             "fill": {
              "color": "#EBF0F8"
             },
             "line": {
              "color": "white"
             }
            },
            "header": {
             "fill": {
              "color": "#C8D4E3"
             },
             "line": {
              "color": "white"
             }
            },
            "type": "table"
           }
          ]
         },
         "layout": {
          "annotationdefaults": {
           "arrowcolor": "#2a3f5f",
           "arrowhead": 0,
           "arrowwidth": 1
          },
          "autotypenumbers": "strict",
          "coloraxis": {
           "colorbar": {
            "outlinewidth": 0,
            "ticks": ""
           }
          },
          "colorscale": {
           "diverging": [
            [
             0,
             "#8e0152"
            ],
            [
             0.1,
             "#c51b7d"
            ],
            [
             0.2,
             "#de77ae"
            ],
            [
             0.3,
             "#f1b6da"
            ],
            [
             0.4,
             "#fde0ef"
            ],
            [
             0.5,
             "#f7f7f7"
            ],
            [
             0.6,
             "#e6f5d0"
            ],
            [
             0.7,
             "#b8e186"
            ],
            [
             0.8,
             "#7fbc41"
            ],
            [
             0.9,
             "#4d9221"
            ],
            [
             1,
             "#276419"
            ]
           ],
           "sequential": [
            [
             0,
             "#0d0887"
            ],
            [
             0.1111111111111111,
             "#46039f"
            ],
            [
             0.2222222222222222,
             "#7201a8"
            ],
            [
             0.3333333333333333,
             "#9c179e"
            ],
            [
             0.4444444444444444,
             "#bd3786"
            ],
            [
             0.5555555555555556,
             "#d8576b"
            ],
            [
             0.6666666666666666,
             "#ed7953"
            ],
            [
             0.7777777777777778,
             "#fb9f3a"
            ],
            [
             0.8888888888888888,
             "#fdca26"
            ],
            [
             1,
             "#f0f921"
            ]
           ],
           "sequentialminus": [
            [
             0,
             "#0d0887"
            ],
            [
             0.1111111111111111,
             "#46039f"
            ],
            [
             0.2222222222222222,
             "#7201a8"
            ],
            [
             0.3333333333333333,
             "#9c179e"
            ],
            [
             0.4444444444444444,
             "#bd3786"
            ],
            [
             0.5555555555555556,
             "#d8576b"
            ],
            [
             0.6666666666666666,
             "#ed7953"
            ],
            [
             0.7777777777777778,
             "#fb9f3a"
            ],
            [
             0.8888888888888888,
             "#fdca26"
            ],
            [
             1,
             "#f0f921"
            ]
           ]
          },
          "colorway": [
           "#636efa",
           "#EF553B",
           "#00cc96",
           "#ab63fa",
           "#FFA15A",
           "#19d3f3",
           "#FF6692",
           "#B6E880",
           "#FF97FF",
           "#FECB52"
          ],
          "font": {
           "color": "#2a3f5f"
          },
          "geo": {
           "bgcolor": "white",
           "lakecolor": "white",
           "landcolor": "#E5ECF6",
           "showlakes": true,
           "showland": true,
           "subunitcolor": "white"
          },
          "hoverlabel": {
           "align": "left"
          },
          "hovermode": "closest",
          "mapbox": {
           "style": "light"
          },
          "paper_bgcolor": "white",
          "plot_bgcolor": "#E5ECF6",
          "polar": {
           "angularaxis": {
            "gridcolor": "white",
            "linecolor": "white",
            "ticks": ""
           },
           "bgcolor": "#E5ECF6",
           "radialaxis": {
            "gridcolor": "white",
            "linecolor": "white",
            "ticks": ""
           }
          },
          "scene": {
           "xaxis": {
            "backgroundcolor": "#E5ECF6",
            "gridcolor": "white",
            "gridwidth": 2,
            "linecolor": "white",
            "showbackground": true,
            "ticks": "",
            "zerolinecolor": "white"
           },
           "yaxis": {
            "backgroundcolor": "#E5ECF6",
            "gridcolor": "white",
            "gridwidth": 2,
            "linecolor": "white",
            "showbackground": true,
            "ticks": "",
            "zerolinecolor": "white"
           },
           "zaxis": {
            "backgroundcolor": "#E5ECF6",
            "gridcolor": "white",
            "gridwidth": 2,
            "linecolor": "white",
            "showbackground": true,
            "ticks": "",
            "zerolinecolor": "white"
           }
          },
          "shapedefaults": {
           "line": {
            "color": "#2a3f5f"
           }
          },
          "ternary": {
           "aaxis": {
            "gridcolor": "white",
            "linecolor": "white",
            "ticks": ""
           },
           "baxis": {
            "gridcolor": "white",
            "linecolor": "white",
            "ticks": ""
           },
           "bgcolor": "#E5ECF6",
           "caxis": {
            "gridcolor": "white",
            "linecolor": "white",
            "ticks": ""
           }
          },
          "title": {
           "x": 0.05
          },
          "xaxis": {
           "automargin": true,
           "gridcolor": "white",
           "linecolor": "white",
           "ticks": "",
           "title": {
            "standoff": 15
           },
           "zerolinecolor": "white",
           "zerolinewidth": 2
          },
          "yaxis": {
           "automargin": true,
           "gridcolor": "white",
           "linecolor": "white",
           "ticks": "",
           "title": {
            "standoff": 15
           },
           "zerolinecolor": "white",
           "zerolinewidth": 2
          }
         }
        },
        "title": {
         "font": {
          "color": "#E50914",
          "size": 24
         },
         "text": "Distribution of Netflix Content"
        },
        "xaxis": {
         "anchor": "y",
         "categoryarray": [
          "Movie",
          "TV Show"
         ],
         "categoryorder": "array",
         "domain": [
          0,
          1
         ],
         "title": {
          "text": "Type of Content"
         }
        },
        "yaxis": {
         "anchor": "x",
         "domain": [
          0,
          1
         ],
         "title": {
          "text": "Number of Shows"
         }
        }
       }
      }
     },
     "metadata": {},
     "output_type": "display_data"
    }
   ],
   "source": [
    "fig = px.bar(\n",
    "    data_frame=movies_vs_shows,\n",
    "    x=\"type\",\n",
    "    y=\"show_id\",\n",
    "    title=\"Distribution of Netflix Content\",\n",
    "    text=\"show_id\",\n",
    "    color=\"type\", \n",
    "    color_discrete_map={\n",
    "        \"Movie\": \"#E50914\",  \n",
    "        \"TV Show\": \"#221F1F\" \n",
    "    }\n",
    ")\n",
    "\n",
    "# Customizing labels\n",
    "fig.update_layout(\n",
    "    xaxis_title=\"Type of Content\",  # Update X-axis label\n",
    "    yaxis_title=\"Number of Shows\",  # Update Y-axis label\n",
    "    title_font=dict(size=24, color=\"#E50914\")  \n",
    ")\n",
    "\n",
    "# Show the figure\n",
    "fig.show()"
   ]
  },
  {
   "cell_type": "markdown",
   "id": "ad330fc6",
   "metadata": {},
   "source": [
    "# Volume of New Content Added Over the Years 📈\n",
    "\n",
    "\n",
    "Through a **trend analysis**, we can see how the volume of new content has grown on Netflix. Based on the data, we observe a **sharp increase** in the number of shows added to Netflix, especially after 2015.\n",
    "\n",
    "## Content Added by Year:\n",
    "- **2008**: 2 shows\n",
    "- **2009**: 2 shows\n",
    "- **2010**: 1 show\n",
    "- **2011**: 13 shows\n",
    "- **2012**: 3 shows\n",
    "- **2013**: 11 shows\n",
    "- **2014**: 24 shows\n",
    "- **2015**: 82 shows\n",
    "- **2016**: 426 shows\n",
    "- **2017**: 1,185 shows\n",
    "- **2018**: 1,648 shows\n",
    "- **2019**: 2,016 shows\n",
    "- **2020**: 1,879 shows\n",
    "- **2021**: 1,498 shows\n",
    "\n",
    "### Key Insights:\n",
    "- **Pre-2015**: The volume of new content added to Netflix was **relatively low**.\n",
    "- **Post-2015**: There was a **sharp increase**, with a **peak in 2019**.\n",
    "- **2021** saw a slight drop in content addition compared to 2020, but still significantly higher than earlier years.\n",
    "\n",
    "## Trend Visualization:\n",
    "- **2015-2021**: Steady growth with a peak in **2019**.\n",
    "- **2016-2019**: Significant growth in content addition (from 426 to 2,016 shows).\n"
   ]
  },
  {
   "cell_type": "code",
   "execution_count": 15,
   "id": "a1fd56f0",
   "metadata": {},
   "outputs": [
    {
     "data": {
      "text/html": [
       "<div>\n",
       "<style scoped>\n",
       "    .dataframe tbody tr th:only-of-type {\n",
       "        vertical-align: middle;\n",
       "    }\n",
       "\n",
       "    .dataframe tbody tr th {\n",
       "        vertical-align: top;\n",
       "    }\n",
       "\n",
       "    .dataframe thead th {\n",
       "        text-align: right;\n",
       "    }\n",
       "</style>\n",
       "<table border=\"1\" class=\"dataframe\">\n",
       "  <thead>\n",
       "    <tr style=\"text-align: right;\">\n",
       "      <th></th>\n",
       "      <th>year_added</th>\n",
       "      <th>show_id</th>\n",
       "    </tr>\n",
       "  </thead>\n",
       "  <tbody>\n",
       "    <tr>\n",
       "      <th>0</th>\n",
       "      <td>2008</td>\n",
       "      <td>2</td>\n",
       "    </tr>\n",
       "    <tr>\n",
       "      <th>1</th>\n",
       "      <td>2009</td>\n",
       "      <td>2</td>\n",
       "    </tr>\n",
       "    <tr>\n",
       "      <th>2</th>\n",
       "      <td>2010</td>\n",
       "      <td>1</td>\n",
       "    </tr>\n",
       "    <tr>\n",
       "      <th>3</th>\n",
       "      <td>2011</td>\n",
       "      <td>13</td>\n",
       "    </tr>\n",
       "    <tr>\n",
       "      <th>4</th>\n",
       "      <td>2012</td>\n",
       "      <td>3</td>\n",
       "    </tr>\n",
       "    <tr>\n",
       "      <th>5</th>\n",
       "      <td>2013</td>\n",
       "      <td>11</td>\n",
       "    </tr>\n",
       "    <tr>\n",
       "      <th>6</th>\n",
       "      <td>2014</td>\n",
       "      <td>24</td>\n",
       "    </tr>\n",
       "    <tr>\n",
       "      <th>7</th>\n",
       "      <td>2015</td>\n",
       "      <td>82</td>\n",
       "    </tr>\n",
       "    <tr>\n",
       "      <th>8</th>\n",
       "      <td>2016</td>\n",
       "      <td>426</td>\n",
       "    </tr>\n",
       "    <tr>\n",
       "      <th>9</th>\n",
       "      <td>2017</td>\n",
       "      <td>1185</td>\n",
       "    </tr>\n",
       "    <tr>\n",
       "      <th>10</th>\n",
       "      <td>2018</td>\n",
       "      <td>1648</td>\n",
       "    </tr>\n",
       "    <tr>\n",
       "      <th>11</th>\n",
       "      <td>2019</td>\n",
       "      <td>2016</td>\n",
       "    </tr>\n",
       "    <tr>\n",
       "      <th>12</th>\n",
       "      <td>2020</td>\n",
       "      <td>1879</td>\n",
       "    </tr>\n",
       "    <tr>\n",
       "      <th>13</th>\n",
       "      <td>2021</td>\n",
       "      <td>1498</td>\n",
       "    </tr>\n",
       "  </tbody>\n",
       "</table>\n",
       "</div>"
      ],
      "text/plain": [
       "    year_added  show_id\n",
       "0         2008        2\n",
       "1         2009        2\n",
       "2         2010        1\n",
       "3         2011       13\n",
       "4         2012        3\n",
       "5         2013       11\n",
       "6         2014       24\n",
       "7         2015       82\n",
       "8         2016      426\n",
       "9         2017     1185\n",
       "10        2018     1648\n",
       "11        2019     2016\n",
       "12        2020     1879\n",
       "13        2021     1498"
      ]
     },
     "execution_count": 15,
     "metadata": {},
     "output_type": "execute_result"
    }
   ],
   "source": [
    "yearly_content = df.groupby(\"year_added\").count()[[\"show_id\"]].reset_index()\n",
    "yearly_content"
   ]
  },
  {
   "cell_type": "code",
   "execution_count": 16,
   "id": "c8a6d892",
   "metadata": {},
   "outputs": [
    {
     "data": {
      "application/vnd.plotly.v1+json": {
       "config": {
        "plotlyServerURL": "https://plot.ly"
       },
       "data": [
        {
         "hovertemplate": "year_added=%{x}<br>show_id=%{y}<extra></extra>",
         "legendgroup": "",
         "line": {
          "color": "#E50914",
          "dash": "solid",
          "width": 3
         },
         "marker": {
          "symbol": "circle"
         },
         "mode": "lines",
         "name": "",
         "orientation": "v",
         "showlegend": false,
         "type": "scatter",
         "x": [
          2008,
          2009,
          2010,
          2011,
          2012,
          2013,
          2014,
          2015,
          2016,
          2017,
          2018,
          2019,
          2020,
          2021
         ],
         "xaxis": "x",
         "y": [
          2,
          2,
          1,
          13,
          3,
          11,
          24,
          82,
          426,
          1185,
          1648,
          2016,
          1879,
          1498
         ],
         "yaxis": "y"
        }
       ],
       "layout": {
        "legend": {
         "tracegroupgap": 0
        },
        "template": {
         "data": {
          "bar": [
           {
            "error_x": {
             "color": "#2a3f5f"
            },
            "error_y": {
             "color": "#2a3f5f"
            },
            "marker": {
             "line": {
              "color": "#E5ECF6",
              "width": 0.5
             },
             "pattern": {
              "fillmode": "overlay",
              "size": 10,
              "solidity": 0.2
             }
            },
            "type": "bar"
           }
          ],
          "barpolar": [
           {
            "marker": {
             "line": {
              "color": "#E5ECF6",
              "width": 0.5
             },
             "pattern": {
              "fillmode": "overlay",
              "size": 10,
              "solidity": 0.2
             }
            },
            "type": "barpolar"
           }
          ],
          "carpet": [
           {
            "aaxis": {
             "endlinecolor": "#2a3f5f",
             "gridcolor": "white",
             "linecolor": "white",
             "minorgridcolor": "white",
             "startlinecolor": "#2a3f5f"
            },
            "baxis": {
             "endlinecolor": "#2a3f5f",
             "gridcolor": "white",
             "linecolor": "white",
             "minorgridcolor": "white",
             "startlinecolor": "#2a3f5f"
            },
            "type": "carpet"
           }
          ],
          "choropleth": [
           {
            "colorbar": {
             "outlinewidth": 0,
             "ticks": ""
            },
            "type": "choropleth"
           }
          ],
          "contour": [
           {
            "colorbar": {
             "outlinewidth": 0,
             "ticks": ""
            },
            "colorscale": [
             [
              0,
              "#0d0887"
             ],
             [
              0.1111111111111111,
              "#46039f"
             ],
             [
              0.2222222222222222,
              "#7201a8"
             ],
             [
              0.3333333333333333,
              "#9c179e"
             ],
             [
              0.4444444444444444,
              "#bd3786"
             ],
             [
              0.5555555555555556,
              "#d8576b"
             ],
             [
              0.6666666666666666,
              "#ed7953"
             ],
             [
              0.7777777777777778,
              "#fb9f3a"
             ],
             [
              0.8888888888888888,
              "#fdca26"
             ],
             [
              1,
              "#f0f921"
             ]
            ],
            "type": "contour"
           }
          ],
          "contourcarpet": [
           {
            "colorbar": {
             "outlinewidth": 0,
             "ticks": ""
            },
            "type": "contourcarpet"
           }
          ],
          "heatmap": [
           {
            "colorbar": {
             "outlinewidth": 0,
             "ticks": ""
            },
            "colorscale": [
             [
              0,
              "#0d0887"
             ],
             [
              0.1111111111111111,
              "#46039f"
             ],
             [
              0.2222222222222222,
              "#7201a8"
             ],
             [
              0.3333333333333333,
              "#9c179e"
             ],
             [
              0.4444444444444444,
              "#bd3786"
             ],
             [
              0.5555555555555556,
              "#d8576b"
             ],
             [
              0.6666666666666666,
              "#ed7953"
             ],
             [
              0.7777777777777778,
              "#fb9f3a"
             ],
             [
              0.8888888888888888,
              "#fdca26"
             ],
             [
              1,
              "#f0f921"
             ]
            ],
            "type": "heatmap"
           }
          ],
          "heatmapgl": [
           {
            "colorbar": {
             "outlinewidth": 0,
             "ticks": ""
            },
            "colorscale": [
             [
              0,
              "#0d0887"
             ],
             [
              0.1111111111111111,
              "#46039f"
             ],
             [
              0.2222222222222222,
              "#7201a8"
             ],
             [
              0.3333333333333333,
              "#9c179e"
             ],
             [
              0.4444444444444444,
              "#bd3786"
             ],
             [
              0.5555555555555556,
              "#d8576b"
             ],
             [
              0.6666666666666666,
              "#ed7953"
             ],
             [
              0.7777777777777778,
              "#fb9f3a"
             ],
             [
              0.8888888888888888,
              "#fdca26"
             ],
             [
              1,
              "#f0f921"
             ]
            ],
            "type": "heatmapgl"
           }
          ],
          "histogram": [
           {
            "marker": {
             "pattern": {
              "fillmode": "overlay",
              "size": 10,
              "solidity": 0.2
             }
            },
            "type": "histogram"
           }
          ],
          "histogram2d": [
           {
            "colorbar": {
             "outlinewidth": 0,
             "ticks": ""
            },
            "colorscale": [
             [
              0,
              "#0d0887"
             ],
             [
              0.1111111111111111,
              "#46039f"
             ],
             [
              0.2222222222222222,
              "#7201a8"
             ],
             [
              0.3333333333333333,
              "#9c179e"
             ],
             [
              0.4444444444444444,
              "#bd3786"
             ],
             [
              0.5555555555555556,
              "#d8576b"
             ],
             [
              0.6666666666666666,
              "#ed7953"
             ],
             [
              0.7777777777777778,
              "#fb9f3a"
             ],
             [
              0.8888888888888888,
              "#fdca26"
             ],
             [
              1,
              "#f0f921"
             ]
            ],
            "type": "histogram2d"
           }
          ],
          "histogram2dcontour": [
           {
            "colorbar": {
             "outlinewidth": 0,
             "ticks": ""
            },
            "colorscale": [
             [
              0,
              "#0d0887"
             ],
             [
              0.1111111111111111,
              "#46039f"
             ],
             [
              0.2222222222222222,
              "#7201a8"
             ],
             [
              0.3333333333333333,
              "#9c179e"
             ],
             [
              0.4444444444444444,
              "#bd3786"
             ],
             [
              0.5555555555555556,
              "#d8576b"
             ],
             [
              0.6666666666666666,
              "#ed7953"
             ],
             [
              0.7777777777777778,
              "#fb9f3a"
             ],
             [
              0.8888888888888888,
              "#fdca26"
             ],
             [
              1,
              "#f0f921"
             ]
            ],
            "type": "histogram2dcontour"
           }
          ],
          "mesh3d": [
           {
            "colorbar": {
             "outlinewidth": 0,
             "ticks": ""
            },
            "type": "mesh3d"
           }
          ],
          "parcoords": [
           {
            "line": {
             "colorbar": {
              "outlinewidth": 0,
              "ticks": ""
             }
            },
            "type": "parcoords"
           }
          ],
          "pie": [
           {
            "automargin": true,
            "type": "pie"
           }
          ],
          "scatter": [
           {
            "fillpattern": {
             "fillmode": "overlay",
             "size": 10,
             "solidity": 0.2
            },
            "type": "scatter"
           }
          ],
          "scatter3d": [
           {
            "line": {
             "colorbar": {
              "outlinewidth": 0,
              "ticks": ""
             }
            },
            "marker": {
             "colorbar": {
              "outlinewidth": 0,
              "ticks": ""
             }
            },
            "type": "scatter3d"
           }
          ],
          "scattercarpet": [
           {
            "marker": {
             "colorbar": {
              "outlinewidth": 0,
              "ticks": ""
             }
            },
            "type": "scattercarpet"
           }
          ],
          "scattergeo": [
           {
            "marker": {
             "colorbar": {
              "outlinewidth": 0,
              "ticks": ""
             }
            },
            "type": "scattergeo"
           }
          ],
          "scattergl": [
           {
            "marker": {
             "colorbar": {
              "outlinewidth": 0,
              "ticks": ""
             }
            },
            "type": "scattergl"
           }
          ],
          "scattermapbox": [
           {
            "marker": {
             "colorbar": {
              "outlinewidth": 0,
              "ticks": ""
             }
            },
            "type": "scattermapbox"
           }
          ],
          "scatterpolar": [
           {
            "marker": {
             "colorbar": {
              "outlinewidth": 0,
              "ticks": ""
             }
            },
            "type": "scatterpolar"
           }
          ],
          "scatterpolargl": [
           {
            "marker": {
             "colorbar": {
              "outlinewidth": 0,
              "ticks": ""
             }
            },
            "type": "scatterpolargl"
           }
          ],
          "scatterternary": [
           {
            "marker": {
             "colorbar": {
              "outlinewidth": 0,
              "ticks": ""
             }
            },
            "type": "scatterternary"
           }
          ],
          "surface": [
           {
            "colorbar": {
             "outlinewidth": 0,
             "ticks": ""
            },
            "colorscale": [
             [
              0,
              "#0d0887"
             ],
             [
              0.1111111111111111,
              "#46039f"
             ],
             [
              0.2222222222222222,
              "#7201a8"
             ],
             [
              0.3333333333333333,
              "#9c179e"
             ],
             [
              0.4444444444444444,
              "#bd3786"
             ],
             [
              0.5555555555555556,
              "#d8576b"
             ],
             [
              0.6666666666666666,
              "#ed7953"
             ],
             [
              0.7777777777777778,
              "#fb9f3a"
             ],
             [
              0.8888888888888888,
              "#fdca26"
             ],
             [
              1,
              "#f0f921"
             ]
            ],
            "type": "surface"
           }
          ],
          "table": [
           {
            "cells": {
             "fill": {
              "color": "#EBF0F8"
             },
             "line": {
              "color": "white"
             }
            },
            "header": {
             "fill": {
              "color": "#C8D4E3"
             },
             "line": {
              "color": "white"
             }
            },
            "type": "table"
           }
          ]
         },
         "layout": {
          "annotationdefaults": {
           "arrowcolor": "#2a3f5f",
           "arrowhead": 0,
           "arrowwidth": 1
          },
          "autotypenumbers": "strict",
          "coloraxis": {
           "colorbar": {
            "outlinewidth": 0,
            "ticks": ""
           }
          },
          "colorscale": {
           "diverging": [
            [
             0,
             "#8e0152"
            ],
            [
             0.1,
             "#c51b7d"
            ],
            [
             0.2,
             "#de77ae"
            ],
            [
             0.3,
             "#f1b6da"
            ],
            [
             0.4,
             "#fde0ef"
            ],
            [
             0.5,
             "#f7f7f7"
            ],
            [
             0.6,
             "#e6f5d0"
            ],
            [
             0.7,
             "#b8e186"
            ],
            [
             0.8,
             "#7fbc41"
            ],
            [
             0.9,
             "#4d9221"
            ],
            [
             1,
             "#276419"
            ]
           ],
           "sequential": [
            [
             0,
             "#0d0887"
            ],
            [
             0.1111111111111111,
             "#46039f"
            ],
            [
             0.2222222222222222,
             "#7201a8"
            ],
            [
             0.3333333333333333,
             "#9c179e"
            ],
            [
             0.4444444444444444,
             "#bd3786"
            ],
            [
             0.5555555555555556,
             "#d8576b"
            ],
            [
             0.6666666666666666,
             "#ed7953"
            ],
            [
             0.7777777777777778,
             "#fb9f3a"
            ],
            [
             0.8888888888888888,
             "#fdca26"
            ],
            [
             1,
             "#f0f921"
            ]
           ],
           "sequentialminus": [
            [
             0,
             "#0d0887"
            ],
            [
             0.1111111111111111,
             "#46039f"
            ],
            [
             0.2222222222222222,
             "#7201a8"
            ],
            [
             0.3333333333333333,
             "#9c179e"
            ],
            [
             0.4444444444444444,
             "#bd3786"
            ],
            [
             0.5555555555555556,
             "#d8576b"
            ],
            [
             0.6666666666666666,
             "#ed7953"
            ],
            [
             0.7777777777777778,
             "#fb9f3a"
            ],
            [
             0.8888888888888888,
             "#fdca26"
            ],
            [
             1,
             "#f0f921"
            ]
           ]
          },
          "colorway": [
           "#636efa",
           "#EF553B",
           "#00cc96",
           "#ab63fa",
           "#FFA15A",
           "#19d3f3",
           "#FF6692",
           "#B6E880",
           "#FF97FF",
           "#FECB52"
          ],
          "font": {
           "color": "#2a3f5f"
          },
          "geo": {
           "bgcolor": "white",
           "lakecolor": "white",
           "landcolor": "#E5ECF6",
           "showlakes": true,
           "showland": true,
           "subunitcolor": "white"
          },
          "hoverlabel": {
           "align": "left"
          },
          "hovermode": "closest",
          "mapbox": {
           "style": "light"
          },
          "paper_bgcolor": "white",
          "plot_bgcolor": "#E5ECF6",
          "polar": {
           "angularaxis": {
            "gridcolor": "white",
            "linecolor": "white",
            "ticks": ""
           },
           "bgcolor": "#E5ECF6",
           "radialaxis": {
            "gridcolor": "white",
            "linecolor": "white",
            "ticks": ""
           }
          },
          "scene": {
           "xaxis": {
            "backgroundcolor": "#E5ECF6",
            "gridcolor": "white",
            "gridwidth": 2,
            "linecolor": "white",
            "showbackground": true,
            "ticks": "",
            "zerolinecolor": "white"
           },
           "yaxis": {
            "backgroundcolor": "#E5ECF6",
            "gridcolor": "white",
            "gridwidth": 2,
            "linecolor": "white",
            "showbackground": true,
            "ticks": "",
            "zerolinecolor": "white"
           },
           "zaxis": {
            "backgroundcolor": "#E5ECF6",
            "gridcolor": "white",
            "gridwidth": 2,
            "linecolor": "white",
            "showbackground": true,
            "ticks": "",
            "zerolinecolor": "white"
           }
          },
          "shapedefaults": {
           "line": {
            "color": "#2a3f5f"
           }
          },
          "ternary": {
           "aaxis": {
            "gridcolor": "white",
            "linecolor": "white",
            "ticks": ""
           },
           "baxis": {
            "gridcolor": "white",
            "linecolor": "white",
            "ticks": ""
           },
           "bgcolor": "#E5ECF6",
           "caxis": {
            "gridcolor": "white",
            "linecolor": "white",
            "ticks": ""
           }
          },
          "title": {
           "x": 0.05
          },
          "xaxis": {
           "automargin": true,
           "gridcolor": "white",
           "linecolor": "white",
           "ticks": "",
           "title": {
            "standoff": 15
           },
           "zerolinecolor": "white",
           "zerolinewidth": 2
          },
          "yaxis": {
           "automargin": true,
           "gridcolor": "white",
           "linecolor": "white",
           "ticks": "",
           "title": {
            "standoff": 15
           },
           "zerolinecolor": "white",
           "zerolinewidth": 2
          }
         }
        },
        "title": {
         "font": {
          "color": "#E50914",
          "size": 24
         },
         "text": "Volume of new content over the years"
        },
        "xaxis": {
         "anchor": "y",
         "domain": [
          0,
          1
         ],
         "title": {
          "text": "Year"
         }
        },
        "yaxis": {
         "anchor": "x",
         "domain": [
          0,
          1
         ],
         "title": {
          "text": "Number of Content"
         }
        }
       }
      }
     },
     "metadata": {},
     "output_type": "display_data"
    }
   ],
   "source": [
    "fig = px.line(\n",
    "    data_frame=yearly_content,\n",
    "    x=\"year_added\",\n",
    "    y=\"show_id\",\n",
    "    title=\"Volume of new content over the years\"\n",
    "    \n",
    ")\n",
    "\n",
    "fig.update_traces(\n",
    "    line_color=\"#E50914\",  # Netflix red for the line\n",
    "    line_width=3  # Optional: Set the thickness of the line\n",
    ")\n",
    "\n",
    "# Customizing labels\n",
    "fig.update_layout(\n",
    "    xaxis_title=\"Year\",  # Update X-axis label\n",
    "    yaxis_title=\"Number of Content\",  # Update Y-axis label\n",
    "    title_font=dict(size=24, color=\"#E50914\")  \n",
    ")\n",
    "\n",
    "# Show the figure\n",
    "fig.show()"
   ]
  },
  {
   "cell_type": "markdown",
   "id": "7ecc976d",
   "metadata": {},
   "source": [
    "##\tWhat are the most common  Most Common Categories in the Dataset 📊\n",
    "\n",
    "Netflix offers a wide range of content, and in this analysis, we dive into the **most common categories** within the dataset. Based on the content data, here are the top categories on Netflix.\n",
    "\n",
    "📅 **Top Categories:**\n",
    "1. **International Movies**: 2,752 titles\n",
    "2. **Dramas**: 2,426 titles\n",
    "3. **Comedies**: 1,674 titles\n",
    "4. **International TV Shows**: 1,349 titles\n",
    "5. **Documentaries**: 869 titles\n",
    "\n",
    "\n",
    "## Key Insights:\n",
    "- **International Movies** account for the largest portion of content, with a total of **2,752 titles**.\n",
    "- **Dramas** and **Comedies** are also highly represented, contributing to Netflix's broad genre variety.\n",
    "- **International TV Shows** and **Documentaries** are also significant categories, showcasing the global and educational focus of Netflix's offerings.\n",
    "\n",
    "### What This Means:\n",
    "- Netflix's library is **heavily focused on international content**, with both **International Movies** and **International TV Shows** having a prominent presence.\n",
    "- **Dramas** and **Comedies** are the core genres, which align with global preferences for storytelling.\n"
   ]
  },
  {
   "cell_type": "code",
   "execution_count": 17,
   "id": "3bc2ec4a",
   "metadata": {},
   "outputs": [
    {
     "data": {
      "text/plain": [
       "International Movies      2752\n",
       "Dramas                    2426\n",
       "Comedies                  1674\n",
       "International TV Shows    1349\n",
       "Documentaries              869\n",
       "dtype: int64"
      ]
     },
     "execution_count": 17,
     "metadata": {},
     "output_type": "execute_result"
    }
   ],
   "source": [
    "top5_categories = df['listed_in'].str.get_dummies(sep=\", \").sum().sort_values(ascending=False).head(5)\n",
    "top5_categories"
   ]
  },
  {
   "cell_type": "code",
   "execution_count": 18,
   "id": "151b0eb0",
   "metadata": {},
   "outputs": [
    {
     "data": {
      "application/vnd.plotly.v1+json": {
       "config": {
        "plotlyServerURL": "https://plot.ly"
       },
       "data": [
        {
         "alignmentgroup": "True",
         "hovertemplate": "variable=0<br>index=%{x}<br>value=%{y}<extra></extra>",
         "legendgroup": "0",
         "marker": {
          "color": "#221F1F",
          "pattern": {
           "shape": ""
          }
         },
         "name": "0",
         "offsetgroup": "0",
         "orientation": "v",
         "showlegend": true,
         "textposition": "auto",
         "texttemplate": "%{y}",
         "type": "bar",
         "x": [
          "International Movies",
          "Dramas",
          "Comedies",
          "International TV Shows",
          "Documentaries"
         ],
         "xaxis": "x",
         "y": [
          2752,
          2426,
          1674,
          1349,
          869
         ],
         "yaxis": "y"
        }
       ],
       "layout": {
        "barmode": "relative",
        "legend": {
         "title": {
          "text": "variable"
         },
         "tracegroupgap": 0
        },
        "template": {
         "data": {
          "bar": [
           {
            "error_x": {
             "color": "#2a3f5f"
            },
            "error_y": {
             "color": "#2a3f5f"
            },
            "marker": {
             "line": {
              "color": "#E5ECF6",
              "width": 0.5
             },
             "pattern": {
              "fillmode": "overlay",
              "size": 10,
              "solidity": 0.2
             }
            },
            "type": "bar"
           }
          ],
          "barpolar": [
           {
            "marker": {
             "line": {
              "color": "#E5ECF6",
              "width": 0.5
             },
             "pattern": {
              "fillmode": "overlay",
              "size": 10,
              "solidity": 0.2
             }
            },
            "type": "barpolar"
           }
          ],
          "carpet": [
           {
            "aaxis": {
             "endlinecolor": "#2a3f5f",
             "gridcolor": "white",
             "linecolor": "white",
             "minorgridcolor": "white",
             "startlinecolor": "#2a3f5f"
            },
            "baxis": {
             "endlinecolor": "#2a3f5f",
             "gridcolor": "white",
             "linecolor": "white",
             "minorgridcolor": "white",
             "startlinecolor": "#2a3f5f"
            },
            "type": "carpet"
           }
          ],
          "choropleth": [
           {
            "colorbar": {
             "outlinewidth": 0,
             "ticks": ""
            },
            "type": "choropleth"
           }
          ],
          "contour": [
           {
            "colorbar": {
             "outlinewidth": 0,
             "ticks": ""
            },
            "colorscale": [
             [
              0,
              "#0d0887"
             ],
             [
              0.1111111111111111,
              "#46039f"
             ],
             [
              0.2222222222222222,
              "#7201a8"
             ],
             [
              0.3333333333333333,
              "#9c179e"
             ],
             [
              0.4444444444444444,
              "#bd3786"
             ],
             [
              0.5555555555555556,
              "#d8576b"
             ],
             [
              0.6666666666666666,
              "#ed7953"
             ],
             [
              0.7777777777777778,
              "#fb9f3a"
             ],
             [
              0.8888888888888888,
              "#fdca26"
             ],
             [
              1,
              "#f0f921"
             ]
            ],
            "type": "contour"
           }
          ],
          "contourcarpet": [
           {
            "colorbar": {
             "outlinewidth": 0,
             "ticks": ""
            },
            "type": "contourcarpet"
           }
          ],
          "heatmap": [
           {
            "colorbar": {
             "outlinewidth": 0,
             "ticks": ""
            },
            "colorscale": [
             [
              0,
              "#0d0887"
             ],
             [
              0.1111111111111111,
              "#46039f"
             ],
             [
              0.2222222222222222,
              "#7201a8"
             ],
             [
              0.3333333333333333,
              "#9c179e"
             ],
             [
              0.4444444444444444,
              "#bd3786"
             ],
             [
              0.5555555555555556,
              "#d8576b"
             ],
             [
              0.6666666666666666,
              "#ed7953"
             ],
             [
              0.7777777777777778,
              "#fb9f3a"
             ],
             [
              0.8888888888888888,
              "#fdca26"
             ],
             [
              1,
              "#f0f921"
             ]
            ],
            "type": "heatmap"
           }
          ],
          "heatmapgl": [
           {
            "colorbar": {
             "outlinewidth": 0,
             "ticks": ""
            },
            "colorscale": [
             [
              0,
              "#0d0887"
             ],
             [
              0.1111111111111111,
              "#46039f"
             ],
             [
              0.2222222222222222,
              "#7201a8"
             ],
             [
              0.3333333333333333,
              "#9c179e"
             ],
             [
              0.4444444444444444,
              "#bd3786"
             ],
             [
              0.5555555555555556,
              "#d8576b"
             ],
             [
              0.6666666666666666,
              "#ed7953"
             ],
             [
              0.7777777777777778,
              "#fb9f3a"
             ],
             [
              0.8888888888888888,
              "#fdca26"
             ],
             [
              1,
              "#f0f921"
             ]
            ],
            "type": "heatmapgl"
           }
          ],
          "histogram": [
           {
            "marker": {
             "pattern": {
              "fillmode": "overlay",
              "size": 10,
              "solidity": 0.2
             }
            },
            "type": "histogram"
           }
          ],
          "histogram2d": [
           {
            "colorbar": {
             "outlinewidth": 0,
             "ticks": ""
            },
            "colorscale": [
             [
              0,
              "#0d0887"
             ],
             [
              0.1111111111111111,
              "#46039f"
             ],
             [
              0.2222222222222222,
              "#7201a8"
             ],
             [
              0.3333333333333333,
              "#9c179e"
             ],
             [
              0.4444444444444444,
              "#bd3786"
             ],
             [
              0.5555555555555556,
              "#d8576b"
             ],
             [
              0.6666666666666666,
              "#ed7953"
             ],
             [
              0.7777777777777778,
              "#fb9f3a"
             ],
             [
              0.8888888888888888,
              "#fdca26"
             ],
             [
              1,
              "#f0f921"
             ]
            ],
            "type": "histogram2d"
           }
          ],
          "histogram2dcontour": [
           {
            "colorbar": {
             "outlinewidth": 0,
             "ticks": ""
            },
            "colorscale": [
             [
              0,
              "#0d0887"
             ],
             [
              0.1111111111111111,
              "#46039f"
             ],
             [
              0.2222222222222222,
              "#7201a8"
             ],
             [
              0.3333333333333333,
              "#9c179e"
             ],
             [
              0.4444444444444444,
              "#bd3786"
             ],
             [
              0.5555555555555556,
              "#d8576b"
             ],
             [
              0.6666666666666666,
              "#ed7953"
             ],
             [
              0.7777777777777778,
              "#fb9f3a"
             ],
             [
              0.8888888888888888,
              "#fdca26"
             ],
             [
              1,
              "#f0f921"
             ]
            ],
            "type": "histogram2dcontour"
           }
          ],
          "mesh3d": [
           {
            "colorbar": {
             "outlinewidth": 0,
             "ticks": ""
            },
            "type": "mesh3d"
           }
          ],
          "parcoords": [
           {
            "line": {
             "colorbar": {
              "outlinewidth": 0,
              "ticks": ""
             }
            },
            "type": "parcoords"
           }
          ],
          "pie": [
           {
            "automargin": true,
            "type": "pie"
           }
          ],
          "scatter": [
           {
            "fillpattern": {
             "fillmode": "overlay",
             "size": 10,
             "solidity": 0.2
            },
            "type": "scatter"
           }
          ],
          "scatter3d": [
           {
            "line": {
             "colorbar": {
              "outlinewidth": 0,
              "ticks": ""
             }
            },
            "marker": {
             "colorbar": {
              "outlinewidth": 0,
              "ticks": ""
             }
            },
            "type": "scatter3d"
           }
          ],
          "scattercarpet": [
           {
            "marker": {
             "colorbar": {
              "outlinewidth": 0,
              "ticks": ""
             }
            },
            "type": "scattercarpet"
           }
          ],
          "scattergeo": [
           {
            "marker": {
             "colorbar": {
              "outlinewidth": 0,
              "ticks": ""
             }
            },
            "type": "scattergeo"
           }
          ],
          "scattergl": [
           {
            "marker": {
             "colorbar": {
              "outlinewidth": 0,
              "ticks": ""
             }
            },
            "type": "scattergl"
           }
          ],
          "scattermapbox": [
           {
            "marker": {
             "colorbar": {
              "outlinewidth": 0,
              "ticks": ""
             }
            },
            "type": "scattermapbox"
           }
          ],
          "scatterpolar": [
           {
            "marker": {
             "colorbar": {
              "outlinewidth": 0,
              "ticks": ""
             }
            },
            "type": "scatterpolar"
           }
          ],
          "scatterpolargl": [
           {
            "marker": {
             "colorbar": {
              "outlinewidth": 0,
              "ticks": ""
             }
            },
            "type": "scatterpolargl"
           }
          ],
          "scatterternary": [
           {
            "marker": {
             "colorbar": {
              "outlinewidth": 0,
              "ticks": ""
             }
            },
            "type": "scatterternary"
           }
          ],
          "surface": [
           {
            "colorbar": {
             "outlinewidth": 0,
             "ticks": ""
            },
            "colorscale": [
             [
              0,
              "#0d0887"
             ],
             [
              0.1111111111111111,
              "#46039f"
             ],
             [
              0.2222222222222222,
              "#7201a8"
             ],
             [
              0.3333333333333333,
              "#9c179e"
             ],
             [
              0.4444444444444444,
              "#bd3786"
             ],
             [
              0.5555555555555556,
              "#d8576b"
             ],
             [
              0.6666666666666666,
              "#ed7953"
             ],
             [
              0.7777777777777778,
              "#fb9f3a"
             ],
             [
              0.8888888888888888,
              "#fdca26"
             ],
             [
              1,
              "#f0f921"
             ]
            ],
            "type": "surface"
           }
          ],
          "table": [
           {
            "cells": {
             "fill": {
              "color": "#EBF0F8"
             },
             "line": {
              "color": "white"
             }
            },
            "header": {
             "fill": {
              "color": "#C8D4E3"
             },
             "line": {
              "color": "white"
             }
            },
            "type": "table"
           }
          ]
         },
         "layout": {
          "annotationdefaults": {
           "arrowcolor": "#2a3f5f",
           "arrowhead": 0,
           "arrowwidth": 1
          },
          "autotypenumbers": "strict",
          "coloraxis": {
           "colorbar": {
            "outlinewidth": 0,
            "ticks": ""
           }
          },
          "colorscale": {
           "diverging": [
            [
             0,
             "#8e0152"
            ],
            [
             0.1,
             "#c51b7d"
            ],
            [
             0.2,
             "#de77ae"
            ],
            [
             0.3,
             "#f1b6da"
            ],
            [
             0.4,
             "#fde0ef"
            ],
            [
             0.5,
             "#f7f7f7"
            ],
            [
             0.6,
             "#e6f5d0"
            ],
            [
             0.7,
             "#b8e186"
            ],
            [
             0.8,
             "#7fbc41"
            ],
            [
             0.9,
             "#4d9221"
            ],
            [
             1,
             "#276419"
            ]
           ],
           "sequential": [
            [
             0,
             "#0d0887"
            ],
            [
             0.1111111111111111,
             "#46039f"
            ],
            [
             0.2222222222222222,
             "#7201a8"
            ],
            [
             0.3333333333333333,
             "#9c179e"
            ],
            [
             0.4444444444444444,
             "#bd3786"
            ],
            [
             0.5555555555555556,
             "#d8576b"
            ],
            [
             0.6666666666666666,
             "#ed7953"
            ],
            [
             0.7777777777777778,
             "#fb9f3a"
            ],
            [
             0.8888888888888888,
             "#fdca26"
            ],
            [
             1,
             "#f0f921"
            ]
           ],
           "sequentialminus": [
            [
             0,
             "#0d0887"
            ],
            [
             0.1111111111111111,
             "#46039f"
            ],
            [
             0.2222222222222222,
             "#7201a8"
            ],
            [
             0.3333333333333333,
             "#9c179e"
            ],
            [
             0.4444444444444444,
             "#bd3786"
            ],
            [
             0.5555555555555556,
             "#d8576b"
            ],
            [
             0.6666666666666666,
             "#ed7953"
            ],
            [
             0.7777777777777778,
             "#fb9f3a"
            ],
            [
             0.8888888888888888,
             "#fdca26"
            ],
            [
             1,
             "#f0f921"
            ]
           ]
          },
          "colorway": [
           "#636efa",
           "#EF553B",
           "#00cc96",
           "#ab63fa",
           "#FFA15A",
           "#19d3f3",
           "#FF6692",
           "#B6E880",
           "#FF97FF",
           "#FECB52"
          ],
          "font": {
           "color": "#2a3f5f"
          },
          "geo": {
           "bgcolor": "white",
           "lakecolor": "white",
           "landcolor": "#E5ECF6",
           "showlakes": true,
           "showland": true,
           "subunitcolor": "white"
          },
          "hoverlabel": {
           "align": "left"
          },
          "hovermode": "closest",
          "mapbox": {
           "style": "light"
          },
          "paper_bgcolor": "white",
          "plot_bgcolor": "#E5ECF6",
          "polar": {
           "angularaxis": {
            "gridcolor": "white",
            "linecolor": "white",
            "ticks": ""
           },
           "bgcolor": "#E5ECF6",
           "radialaxis": {
            "gridcolor": "white",
            "linecolor": "white",
            "ticks": ""
           }
          },
          "scene": {
           "xaxis": {
            "backgroundcolor": "#E5ECF6",
            "gridcolor": "white",
            "gridwidth": 2,
            "linecolor": "white",
            "showbackground": true,
            "ticks": "",
            "zerolinecolor": "white"
           },
           "yaxis": {
            "backgroundcolor": "#E5ECF6",
            "gridcolor": "white",
            "gridwidth": 2,
            "linecolor": "white",
            "showbackground": true,
            "ticks": "",
            "zerolinecolor": "white"
           },
           "zaxis": {
            "backgroundcolor": "#E5ECF6",
            "gridcolor": "white",
            "gridwidth": 2,
            "linecolor": "white",
            "showbackground": true,
            "ticks": "",
            "zerolinecolor": "white"
           }
          },
          "shapedefaults": {
           "line": {
            "color": "#2a3f5f"
           }
          },
          "ternary": {
           "aaxis": {
            "gridcolor": "white",
            "linecolor": "white",
            "ticks": ""
           },
           "baxis": {
            "gridcolor": "white",
            "linecolor": "white",
            "ticks": ""
           },
           "bgcolor": "#E5ECF6",
           "caxis": {
            "gridcolor": "white",
            "linecolor": "white",
            "ticks": ""
           }
          },
          "title": {
           "x": 0.05
          },
          "xaxis": {
           "automargin": true,
           "gridcolor": "white",
           "linecolor": "white",
           "ticks": "",
           "title": {
            "standoff": 15
           },
           "zerolinecolor": "white",
           "zerolinewidth": 2
          },
          "yaxis": {
           "automargin": true,
           "gridcolor": "white",
           "linecolor": "white",
           "ticks": "",
           "title": {
            "standoff": 15
           },
           "zerolinecolor": "white",
           "zerolinewidth": 2
          }
         }
        },
        "title": {
         "font": {
          "color": "#E50914",
          "size": 24
         },
         "text": "Top 5 Categories"
        },
        "xaxis": {
         "anchor": "y",
         "domain": [
          0,
          1
         ],
         "title": {
          "text": "Category"
         }
        },
        "yaxis": {
         "anchor": "x",
         "domain": [
          0,
          1
         ],
         "title": {
          "text": "Number of Content"
         }
        }
       }
      }
     },
     "metadata": {},
     "output_type": "display_data"
    }
   ],
   "source": [
    "\n",
    "fig = px.bar(\n",
    "    data_frame=top5_categories,\n",
    "    title=\"Top 5 Categories\",\n",
    "    text_auto=True,\n",
    "    color_discrete_sequence=['#221F1F']\n",
    ")\n",
    "\n",
    "\n",
    "# Customizing labels\n",
    "fig.update_layout(\n",
    "    xaxis_title=\"Category\",  # Update X-axis label\n",
    "    yaxis_title=\"Number of Content\",  # Update Y-axis label\n",
    "    title_font=dict(size=24, color=\"#E50914\")  \n",
    ")\n",
    "\n",
    "# Show the figure\n",
    "fig.show()"
   ]
  },
  {
   "cell_type": "markdown",
   "id": "ac391784",
   "metadata": {},
   "source": [
    "## API Integration"
   ]
  },
  {
   "cell_type": "markdown",
   "id": "b89a5002",
   "metadata": {},
   "source": [
    "###  **API Integrated Analysis Using TMDB API**  \n",
    "🎥 **TMDB API Ratings Analysis**  \n",
    "By integrating **TMDB API** ratings with our dataset, we analyzed how these ratings align with Netflix's own classification.\n",
    "\n",
    "**Findings:**  \n",
    "- The highest-rated movie based on **TMDB** is **Schindler's List** with a rating of **8.566**.\n"
   ]
  },
  {
   "cell_type": "code",
   "execution_count": 19,
   "id": "2721efea",
   "metadata": {},
   "outputs": [],
   "source": [
    "API_KEY = \"e5c136f9e3702f30464c50387cc31ee4\""
   ]
  },
  {
   "cell_type": "code",
   "execution_count": 20,
   "id": "fb8af8ea",
   "metadata": {},
   "outputs": [],
   "source": [
    "#Create an empty list to hold movie data\n",
    "top_movies = []\n",
    "\n",
    "# Fetch top 200 movies (across multiple pages)\n",
    "for page in range(1, 11):  # Fetch 10 pages (each contains 20 movies, total = 200 movies)\n",
    "    url = f\"https://api.themoviedb.org/3/movie/top_rated?api_key={API_KEY}&page={page}\"\n",
    "    response = requests.get(url)\n",
    "    data = response.json()\n",
    "    \n",
    "    # Check if the response is valid\n",
    "    if response.status_code == 200:\n",
    "        for movie in data[\"results\"]:\n",
    "            top_movies.append({\n",
    "                \"movie_id\": movie[\"id\"],\n",
    "                \"title\": movie[\"title\"],\n",
    "                \"rating\": movie[\"vote_average\"],\n",
    "                \"release_date\": movie[\"release_date\"]})\n",
    "    else:\n",
    "        print(f\"Failed to fetch data for page {page}\")\n",
    "        break"
   ]
  },
  {
   "cell_type": "code",
   "execution_count": 21,
   "id": "0aeb13af",
   "metadata": {},
   "outputs": [
    {
     "data": {
      "text/html": [
       "<div>\n",
       "<style scoped>\n",
       "    .dataframe tbody tr th:only-of-type {\n",
       "        vertical-align: middle;\n",
       "    }\n",
       "\n",
       "    .dataframe tbody tr th {\n",
       "        vertical-align: top;\n",
       "    }\n",
       "\n",
       "    .dataframe thead th {\n",
       "        text-align: right;\n",
       "    }\n",
       "</style>\n",
       "<table border=\"1\" class=\"dataframe\">\n",
       "  <thead>\n",
       "    <tr style=\"text-align: right;\">\n",
       "      <th></th>\n",
       "      <th>movie_id</th>\n",
       "      <th>title</th>\n",
       "      <th>rating</th>\n",
       "      <th>release_date</th>\n",
       "    </tr>\n",
       "  </thead>\n",
       "  <tbody>\n",
       "    <tr>\n",
       "      <th>0</th>\n",
       "      <td>278</td>\n",
       "      <td>The Shawshank Redemption</td>\n",
       "      <td>8.708</td>\n",
       "      <td>1994-09-23</td>\n",
       "    </tr>\n",
       "    <tr>\n",
       "      <th>1</th>\n",
       "      <td>238</td>\n",
       "      <td>The Godfather</td>\n",
       "      <td>8.700</td>\n",
       "      <td>1972-03-14</td>\n",
       "    </tr>\n",
       "    <tr>\n",
       "      <th>2</th>\n",
       "      <td>240</td>\n",
       "      <td>The Godfather Part II</td>\n",
       "      <td>8.572</td>\n",
       "      <td>1974-12-20</td>\n",
       "    </tr>\n",
       "    <tr>\n",
       "      <th>3</th>\n",
       "      <td>424</td>\n",
       "      <td>Schindler's List</td>\n",
       "      <td>8.567</td>\n",
       "      <td>1993-12-15</td>\n",
       "    </tr>\n",
       "    <tr>\n",
       "      <th>4</th>\n",
       "      <td>389</td>\n",
       "      <td>12 Angry Men</td>\n",
       "      <td>8.500</td>\n",
       "      <td>1957-04-10</td>\n",
       "    </tr>\n",
       "  </tbody>\n",
       "</table>\n",
       "</div>"
      ],
      "text/plain": [
       "   movie_id                     title  rating release_date\n",
       "0       278  The Shawshank Redemption   8.708   1994-09-23\n",
       "1       238             The Godfather   8.700   1972-03-14\n",
       "2       240     The Godfather Part II   8.572   1974-12-20\n",
       "3       424          Schindler's List   8.567   1993-12-15\n",
       "4       389              12 Angry Men   8.500   1957-04-10"
      ]
     },
     "execution_count": 21,
     "metadata": {},
     "output_type": "execute_result"
    }
   ],
   "source": [
    "df_top_movies = pd.DataFrame(top_movies)\n",
    "df_top_movies.head()"
   ]
  },
  {
   "cell_type": "code",
   "execution_count": 22,
   "id": "d6c9d531",
   "metadata": {},
   "outputs": [],
   "source": [
    "#Merging the 2 dataframes to get only the movies that are both on Netflix and in TMDB's top-rated list\n",
    "\n",
    "merged_df=df.merge(df_top_movies,on=\"title\",how=\"right\").dropna()"
   ]
  },
  {
   "cell_type": "code",
   "execution_count": 23,
   "id": "e4379b7e",
   "metadata": {},
   "outputs": [
    {
     "data": {
      "text/html": [
       "<div>\n",
       "<style scoped>\n",
       "    .dataframe tbody tr th:only-of-type {\n",
       "        vertical-align: middle;\n",
       "    }\n",
       "\n",
       "    .dataframe tbody tr th {\n",
       "        vertical-align: top;\n",
       "    }\n",
       "\n",
       "    .dataframe thead th {\n",
       "        text-align: right;\n",
       "    }\n",
       "</style>\n",
       "<table border=\"1\" class=\"dataframe\">\n",
       "  <thead>\n",
       "    <tr style=\"text-align: right;\">\n",
       "      <th></th>\n",
       "      <th>show_id</th>\n",
       "      <th>type</th>\n",
       "      <th>title</th>\n",
       "      <th>director</th>\n",
       "      <th>cast</th>\n",
       "      <th>country</th>\n",
       "      <th>date_added</th>\n",
       "      <th>release_year</th>\n",
       "      <th>rating_x</th>\n",
       "      <th>duration</th>\n",
       "      <th>listed_in</th>\n",
       "      <th>description</th>\n",
       "      <th>year_added</th>\n",
       "      <th>month_added</th>\n",
       "      <th>movie_id</th>\n",
       "      <th>rating_y</th>\n",
       "      <th>release_date</th>\n",
       "    </tr>\n",
       "  </thead>\n",
       "  <tbody>\n",
       "    <tr>\n",
       "      <th>3</th>\n",
       "      <td>s7958</td>\n",
       "      <td>Movie</td>\n",
       "      <td>Schindler's List</td>\n",
       "      <td>Steven Spielberg</td>\n",
       "      <td>Liam Neeson, Ben Kingsley, Ralph Fiennes, Caro...</td>\n",
       "      <td>United States</td>\n",
       "      <td>2018-04-01</td>\n",
       "      <td>1993.0</td>\n",
       "      <td>R</td>\n",
       "      <td>195 min</td>\n",
       "      <td>Classic Movies, Dramas</td>\n",
       "      <td>Oskar Schindler becomes an unlikely humanitari...</td>\n",
       "      <td>2018.0</td>\n",
       "      <td>April</td>\n",
       "      <td>424</td>\n",
       "      <td>8.567</td>\n",
       "      <td>1993-12-15</td>\n",
       "    </tr>\n",
       "    <tr>\n",
       "      <th>10</th>\n",
       "      <td>s7803</td>\n",
       "      <td>Movie</td>\n",
       "      <td>Pulp Fiction</td>\n",
       "      <td>Quentin Tarantino</td>\n",
       "      <td>John Travolta, Samuel L. Jackson, Uma Thurman,...</td>\n",
       "      <td>United States</td>\n",
       "      <td>2019-01-01</td>\n",
       "      <td>1994.0</td>\n",
       "      <td>R</td>\n",
       "      <td>154 min</td>\n",
       "      <td>Classic Movies, Cult Movies, Dramas</td>\n",
       "      <td>This stylized crime caper weaves together stor...</td>\n",
       "      <td>2019.0</td>\n",
       "      <td>January</td>\n",
       "      <td>680</td>\n",
       "      <td>8.488</td>\n",
       "      <td>1994-09-10</td>\n",
       "    </tr>\n",
       "    <tr>\n",
       "      <th>12</th>\n",
       "      <td>s8405</td>\n",
       "      <td>Movie</td>\n",
       "      <td>The Lord of the Rings: The Return of the King</td>\n",
       "      <td>Peter Jackson</td>\n",
       "      <td>Elijah Wood, Ian McKellen, Liv Tyler, Viggo Mo...</td>\n",
       "      <td>New Zealand, United States</td>\n",
       "      <td>2020-01-01</td>\n",
       "      <td>2003.0</td>\n",
       "      <td>PG-13</td>\n",
       "      <td>201 min</td>\n",
       "      <td>Action &amp; Adventure, Sci-Fi &amp; Fantasy</td>\n",
       "      <td>Aragorn is revealed as the heir to the ancient...</td>\n",
       "      <td>2020.0</td>\n",
       "      <td>January</td>\n",
       "      <td>122</td>\n",
       "      <td>8.483</td>\n",
       "      <td>2003-12-17</td>\n",
       "    </tr>\n",
       "    <tr>\n",
       "      <th>18</th>\n",
       "      <td>s6881</td>\n",
       "      <td>Movie</td>\n",
       "      <td>GoodFellas</td>\n",
       "      <td>Martin Scorsese</td>\n",
       "      <td>Robert De Niro, Ray Liotta, Joe Pesci, Lorrain...</td>\n",
       "      <td>United States</td>\n",
       "      <td>2021-01-01</td>\n",
       "      <td>1990.0</td>\n",
       "      <td>R</td>\n",
       "      <td>145 min</td>\n",
       "      <td>Classic Movies, Dramas</td>\n",
       "      <td>Former mobster Henry Hill recounts his colorfu...</td>\n",
       "      <td>2021.0</td>\n",
       "      <td>January</td>\n",
       "      <td>769</td>\n",
       "      <td>8.456</td>\n",
       "      <td>1990-09-12</td>\n",
       "    </tr>\n",
       "    <tr>\n",
       "      <th>24</th>\n",
       "      <td>s2590</td>\n",
       "      <td>Movie</td>\n",
       "      <td>Psycho</td>\n",
       "      <td>Mysskin</td>\n",
       "      <td>Udhayanidhi Stalin, Aditi Rao Hydari, Nithya M...</td>\n",
       "      <td>India</td>\n",
       "      <td>2020-05-01</td>\n",
       "      <td>2020.0</td>\n",
       "      <td>TV-MA</td>\n",
       "      <td>143 min</td>\n",
       "      <td>Horror Movies, International Movies, Thrillers</td>\n",
       "      <td>As a visually impaired man attempts to rescue ...</td>\n",
       "      <td>2020.0</td>\n",
       "      <td>May</td>\n",
       "      <td>539</td>\n",
       "      <td>8.427</td>\n",
       "      <td>1960-06-22</td>\n",
       "    </tr>\n",
       "  </tbody>\n",
       "</table>\n",
       "</div>"
      ],
      "text/plain": [
       "   show_id   type                                          title  \\\n",
       "3    s7958  Movie                               Schindler's List   \n",
       "10   s7803  Movie                                   Pulp Fiction   \n",
       "12   s8405  Movie  The Lord of the Rings: The Return of the King   \n",
       "18   s6881  Movie                                     GoodFellas   \n",
       "24   s2590  Movie                                         Psycho   \n",
       "\n",
       "             director                                               cast  \\\n",
       "3    Steven Spielberg  Liam Neeson, Ben Kingsley, Ralph Fiennes, Caro...   \n",
       "10  Quentin Tarantino  John Travolta, Samuel L. Jackson, Uma Thurman,...   \n",
       "12      Peter Jackson  Elijah Wood, Ian McKellen, Liv Tyler, Viggo Mo...   \n",
       "18    Martin Scorsese  Robert De Niro, Ray Liotta, Joe Pesci, Lorrain...   \n",
       "24            Mysskin  Udhayanidhi Stalin, Aditi Rao Hydari, Nithya M...   \n",
       "\n",
       "                       country date_added  release_year rating_x duration  \\\n",
       "3                United States 2018-04-01        1993.0        R  195 min   \n",
       "10               United States 2019-01-01        1994.0        R  154 min   \n",
       "12  New Zealand, United States 2020-01-01        2003.0    PG-13  201 min   \n",
       "18               United States 2021-01-01        1990.0        R  145 min   \n",
       "24                       India 2020-05-01        2020.0    TV-MA  143 min   \n",
       "\n",
       "                                         listed_in  \\\n",
       "3                           Classic Movies, Dramas   \n",
       "10             Classic Movies, Cult Movies, Dramas   \n",
       "12            Action & Adventure, Sci-Fi & Fantasy   \n",
       "18                          Classic Movies, Dramas   \n",
       "24  Horror Movies, International Movies, Thrillers   \n",
       "\n",
       "                                          description  year_added month_added  \\\n",
       "3   Oskar Schindler becomes an unlikely humanitari...      2018.0       April   \n",
       "10  This stylized crime caper weaves together stor...      2019.0     January   \n",
       "12  Aragorn is revealed as the heir to the ancient...      2020.0     January   \n",
       "18  Former mobster Henry Hill recounts his colorfu...      2021.0     January   \n",
       "24  As a visually impaired man attempts to rescue ...      2020.0         May   \n",
       "\n",
       "    movie_id  rating_y release_date  \n",
       "3        424     8.567   1993-12-15  \n",
       "10       680     8.488   1994-09-10  \n",
       "12       122     8.483   2003-12-17  \n",
       "18       769     8.456   1990-09-12  \n",
       "24       539     8.427   1960-06-22  "
      ]
     },
     "execution_count": 23,
     "metadata": {},
     "output_type": "execute_result"
    }
   ],
   "source": [
    "merged_df.head()"
   ]
  },
  {
   "cell_type": "markdown",
   "id": "135c9580",
   "metadata": {},
   "source": [
    "**Some of the movies have not the same release year. This means that some movies in the 2 dataframes had the same Title , thus the merging conlcude to some mistakes. To filter these , we have to match the release years from the 2 dataframes**"
   ]
  },
  {
   "cell_type": "code",
   "execution_count": 24,
   "id": "dbcd82d3",
   "metadata": {},
   "outputs": [],
   "source": [
    "merged_df[\"release_year\"]=merged_df[\"release_year\"].astype('int')"
   ]
  },
  {
   "cell_type": "code",
   "execution_count": 25,
   "id": "3c559a97",
   "metadata": {},
   "outputs": [],
   "source": [
    "merged_df[\"release_date\"]=pd.to_datetime(merged_df[\"release_date\"])"
   ]
  },
  {
   "cell_type": "code",
   "execution_count": 26,
   "id": "43dbcd52",
   "metadata": {},
   "outputs": [],
   "source": [
    "merged_df[\"TMDB_release_year\"] = merged_df[\"release_date\"].dt.year"
   ]
  },
  {
   "cell_type": "code",
   "execution_count": 27,
   "id": "6b704553",
   "metadata": {},
   "outputs": [],
   "source": [
    "merged_df = merged_df[merged_df['TMDB_release_year'] == merged_df['release_year']]"
   ]
  },
  {
   "cell_type": "code",
   "execution_count": 28,
   "id": "b3d094fe",
   "metadata": {
    "scrolled": false
   },
   "outputs": [],
   "source": [
    "top5_movies = merged_df.head()"
   ]
  },
  {
   "cell_type": "code",
   "execution_count": 29,
   "id": "b0fab404",
   "metadata": {},
   "outputs": [
    {
     "data": {
      "application/vnd.plotly.v1+json": {
       "config": {
        "plotlyServerURL": "https://plot.ly"
       },
       "data": [
        {
         "alignmentgroup": "True",
         "hovertemplate": "title=%{x}<br>rating_y=%{y}<extra></extra>",
         "legendgroup": "",
         "marker": {
          "color": "#221F1F",
          "pattern": {
           "shape": ""
          }
         },
         "name": "",
         "offsetgroup": "",
         "orientation": "v",
         "showlegend": false,
         "textposition": "auto",
         "texttemplate": "%{y}",
         "type": "bar",
         "x": [
          "Schindler's List",
          "Pulp Fiction",
          "The Lord of the Rings: The Return of the King",
          "GoodFellas",
          "City of God"
         ],
         "xaxis": "x",
         "y": [
          8.567,
          8.488,
          8.483,
          8.456,
          8.426
         ],
         "yaxis": "y"
        }
       ],
       "layout": {
        "barmode": "relative",
        "legend": {
         "tracegroupgap": 0
        },
        "template": {
         "data": {
          "bar": [
           {
            "error_x": {
             "color": "#2a3f5f"
            },
            "error_y": {
             "color": "#2a3f5f"
            },
            "marker": {
             "line": {
              "color": "#E5ECF6",
              "width": 0.5
             },
             "pattern": {
              "fillmode": "overlay",
              "size": 10,
              "solidity": 0.2
             }
            },
            "type": "bar"
           }
          ],
          "barpolar": [
           {
            "marker": {
             "line": {
              "color": "#E5ECF6",
              "width": 0.5
             },
             "pattern": {
              "fillmode": "overlay",
              "size": 10,
              "solidity": 0.2
             }
            },
            "type": "barpolar"
           }
          ],
          "carpet": [
           {
            "aaxis": {
             "endlinecolor": "#2a3f5f",
             "gridcolor": "white",
             "linecolor": "white",
             "minorgridcolor": "white",
             "startlinecolor": "#2a3f5f"
            },
            "baxis": {
             "endlinecolor": "#2a3f5f",
             "gridcolor": "white",
             "linecolor": "white",
             "minorgridcolor": "white",
             "startlinecolor": "#2a3f5f"
            },
            "type": "carpet"
           }
          ],
          "choropleth": [
           {
            "colorbar": {
             "outlinewidth": 0,
             "ticks": ""
            },
            "type": "choropleth"
           }
          ],
          "contour": [
           {
            "colorbar": {
             "outlinewidth": 0,
             "ticks": ""
            },
            "colorscale": [
             [
              0,
              "#0d0887"
             ],
             [
              0.1111111111111111,
              "#46039f"
             ],
             [
              0.2222222222222222,
              "#7201a8"
             ],
             [
              0.3333333333333333,
              "#9c179e"
             ],
             [
              0.4444444444444444,
              "#bd3786"
             ],
             [
              0.5555555555555556,
              "#d8576b"
             ],
             [
              0.6666666666666666,
              "#ed7953"
             ],
             [
              0.7777777777777778,
              "#fb9f3a"
             ],
             [
              0.8888888888888888,
              "#fdca26"
             ],
             [
              1,
              "#f0f921"
             ]
            ],
            "type": "contour"
           }
          ],
          "contourcarpet": [
           {
            "colorbar": {
             "outlinewidth": 0,
             "ticks": ""
            },
            "type": "contourcarpet"
           }
          ],
          "heatmap": [
           {
            "colorbar": {
             "outlinewidth": 0,
             "ticks": ""
            },
            "colorscale": [
             [
              0,
              "#0d0887"
             ],
             [
              0.1111111111111111,
              "#46039f"
             ],
             [
              0.2222222222222222,
              "#7201a8"
             ],
             [
              0.3333333333333333,
              "#9c179e"
             ],
             [
              0.4444444444444444,
              "#bd3786"
             ],
             [
              0.5555555555555556,
              "#d8576b"
             ],
             [
              0.6666666666666666,
              "#ed7953"
             ],
             [
              0.7777777777777778,
              "#fb9f3a"
             ],
             [
              0.8888888888888888,
              "#fdca26"
             ],
             [
              1,
              "#f0f921"
             ]
            ],
            "type": "heatmap"
           }
          ],
          "heatmapgl": [
           {
            "colorbar": {
             "outlinewidth": 0,
             "ticks": ""
            },
            "colorscale": [
             [
              0,
              "#0d0887"
             ],
             [
              0.1111111111111111,
              "#46039f"
             ],
             [
              0.2222222222222222,
              "#7201a8"
             ],
             [
              0.3333333333333333,
              "#9c179e"
             ],
             [
              0.4444444444444444,
              "#bd3786"
             ],
             [
              0.5555555555555556,
              "#d8576b"
             ],
             [
              0.6666666666666666,
              "#ed7953"
             ],
             [
              0.7777777777777778,
              "#fb9f3a"
             ],
             [
              0.8888888888888888,
              "#fdca26"
             ],
             [
              1,
              "#f0f921"
             ]
            ],
            "type": "heatmapgl"
           }
          ],
          "histogram": [
           {
            "marker": {
             "pattern": {
              "fillmode": "overlay",
              "size": 10,
              "solidity": 0.2
             }
            },
            "type": "histogram"
           }
          ],
          "histogram2d": [
           {
            "colorbar": {
             "outlinewidth": 0,
             "ticks": ""
            },
            "colorscale": [
             [
              0,
              "#0d0887"
             ],
             [
              0.1111111111111111,
              "#46039f"
             ],
             [
              0.2222222222222222,
              "#7201a8"
             ],
             [
              0.3333333333333333,
              "#9c179e"
             ],
             [
              0.4444444444444444,
              "#bd3786"
             ],
             [
              0.5555555555555556,
              "#d8576b"
             ],
             [
              0.6666666666666666,
              "#ed7953"
             ],
             [
              0.7777777777777778,
              "#fb9f3a"
             ],
             [
              0.8888888888888888,
              "#fdca26"
             ],
             [
              1,
              "#f0f921"
             ]
            ],
            "type": "histogram2d"
           }
          ],
          "histogram2dcontour": [
           {
            "colorbar": {
             "outlinewidth": 0,
             "ticks": ""
            },
            "colorscale": [
             [
              0,
              "#0d0887"
             ],
             [
              0.1111111111111111,
              "#46039f"
             ],
             [
              0.2222222222222222,
              "#7201a8"
             ],
             [
              0.3333333333333333,
              "#9c179e"
             ],
             [
              0.4444444444444444,
              "#bd3786"
             ],
             [
              0.5555555555555556,
              "#d8576b"
             ],
             [
              0.6666666666666666,
              "#ed7953"
             ],
             [
              0.7777777777777778,
              "#fb9f3a"
             ],
             [
              0.8888888888888888,
              "#fdca26"
             ],
             [
              1,
              "#f0f921"
             ]
            ],
            "type": "histogram2dcontour"
           }
          ],
          "mesh3d": [
           {
            "colorbar": {
             "outlinewidth": 0,
             "ticks": ""
            },
            "type": "mesh3d"
           }
          ],
          "parcoords": [
           {
            "line": {
             "colorbar": {
              "outlinewidth": 0,
              "ticks": ""
             }
            },
            "type": "parcoords"
           }
          ],
          "pie": [
           {
            "automargin": true,
            "type": "pie"
           }
          ],
          "scatter": [
           {
            "fillpattern": {
             "fillmode": "overlay",
             "size": 10,
             "solidity": 0.2
            },
            "type": "scatter"
           }
          ],
          "scatter3d": [
           {
            "line": {
             "colorbar": {
              "outlinewidth": 0,
              "ticks": ""
             }
            },
            "marker": {
             "colorbar": {
              "outlinewidth": 0,
              "ticks": ""
             }
            },
            "type": "scatter3d"
           }
          ],
          "scattercarpet": [
           {
            "marker": {
             "colorbar": {
              "outlinewidth": 0,
              "ticks": ""
             }
            },
            "type": "scattercarpet"
           }
          ],
          "scattergeo": [
           {
            "marker": {
             "colorbar": {
              "outlinewidth": 0,
              "ticks": ""
             }
            },
            "type": "scattergeo"
           }
          ],
          "scattergl": [
           {
            "marker": {
             "colorbar": {
              "outlinewidth": 0,
              "ticks": ""
             }
            },
            "type": "scattergl"
           }
          ],
          "scattermapbox": [
           {
            "marker": {
             "colorbar": {
              "outlinewidth": 0,
              "ticks": ""
             }
            },
            "type": "scattermapbox"
           }
          ],
          "scatterpolar": [
           {
            "marker": {
             "colorbar": {
              "outlinewidth": 0,
              "ticks": ""
             }
            },
            "type": "scatterpolar"
           }
          ],
          "scatterpolargl": [
           {
            "marker": {
             "colorbar": {
              "outlinewidth": 0,
              "ticks": ""
             }
            },
            "type": "scatterpolargl"
           }
          ],
          "scatterternary": [
           {
            "marker": {
             "colorbar": {
              "outlinewidth": 0,
              "ticks": ""
             }
            },
            "type": "scatterternary"
           }
          ],
          "surface": [
           {
            "colorbar": {
             "outlinewidth": 0,
             "ticks": ""
            },
            "colorscale": [
             [
              0,
              "#0d0887"
             ],
             [
              0.1111111111111111,
              "#46039f"
             ],
             [
              0.2222222222222222,
              "#7201a8"
             ],
             [
              0.3333333333333333,
              "#9c179e"
             ],
             [
              0.4444444444444444,
              "#bd3786"
             ],
             [
              0.5555555555555556,
              "#d8576b"
             ],
             [
              0.6666666666666666,
              "#ed7953"
             ],
             [
              0.7777777777777778,
              "#fb9f3a"
             ],
             [
              0.8888888888888888,
              "#fdca26"
             ],
             [
              1,
              "#f0f921"
             ]
            ],
            "type": "surface"
           }
          ],
          "table": [
           {
            "cells": {
             "fill": {
              "color": "#EBF0F8"
             },
             "line": {
              "color": "white"
             }
            },
            "header": {
             "fill": {
              "color": "#C8D4E3"
             },
             "line": {
              "color": "white"
             }
            },
            "type": "table"
           }
          ]
         },
         "layout": {
          "annotationdefaults": {
           "arrowcolor": "#2a3f5f",
           "arrowhead": 0,
           "arrowwidth": 1
          },
          "autotypenumbers": "strict",
          "coloraxis": {
           "colorbar": {
            "outlinewidth": 0,
            "ticks": ""
           }
          },
          "colorscale": {
           "diverging": [
            [
             0,
             "#8e0152"
            ],
            [
             0.1,
             "#c51b7d"
            ],
            [
             0.2,
             "#de77ae"
            ],
            [
             0.3,
             "#f1b6da"
            ],
            [
             0.4,
             "#fde0ef"
            ],
            [
             0.5,
             "#f7f7f7"
            ],
            [
             0.6,
             "#e6f5d0"
            ],
            [
             0.7,
             "#b8e186"
            ],
            [
             0.8,
             "#7fbc41"
            ],
            [
             0.9,
             "#4d9221"
            ],
            [
             1,
             "#276419"
            ]
           ],
           "sequential": [
            [
             0,
             "#0d0887"
            ],
            [
             0.1111111111111111,
             "#46039f"
            ],
            [
             0.2222222222222222,
             "#7201a8"
            ],
            [
             0.3333333333333333,
             "#9c179e"
            ],
            [
             0.4444444444444444,
             "#bd3786"
            ],
            [
             0.5555555555555556,
             "#d8576b"
            ],
            [
             0.6666666666666666,
             "#ed7953"
            ],
            [
             0.7777777777777778,
             "#fb9f3a"
            ],
            [
             0.8888888888888888,
             "#fdca26"
            ],
            [
             1,
             "#f0f921"
            ]
           ],
           "sequentialminus": [
            [
             0,
             "#0d0887"
            ],
            [
             0.1111111111111111,
             "#46039f"
            ],
            [
             0.2222222222222222,
             "#7201a8"
            ],
            [
             0.3333333333333333,
             "#9c179e"
            ],
            [
             0.4444444444444444,
             "#bd3786"
            ],
            [
             0.5555555555555556,
             "#d8576b"
            ],
            [
             0.6666666666666666,
             "#ed7953"
            ],
            [
             0.7777777777777778,
             "#fb9f3a"
            ],
            [
             0.8888888888888888,
             "#fdca26"
            ],
            [
             1,
             "#f0f921"
            ]
           ]
          },
          "colorway": [
           "#636efa",
           "#EF553B",
           "#00cc96",
           "#ab63fa",
           "#FFA15A",
           "#19d3f3",
           "#FF6692",
           "#B6E880",
           "#FF97FF",
           "#FECB52"
          ],
          "font": {
           "color": "#2a3f5f"
          },
          "geo": {
           "bgcolor": "white",
           "lakecolor": "white",
           "landcolor": "#E5ECF6",
           "showlakes": true,
           "showland": true,
           "subunitcolor": "white"
          },
          "hoverlabel": {
           "align": "left"
          },
          "hovermode": "closest",
          "mapbox": {
           "style": "light"
          },
          "paper_bgcolor": "white",
          "plot_bgcolor": "#E5ECF6",
          "polar": {
           "angularaxis": {
            "gridcolor": "white",
            "linecolor": "white",
            "ticks": ""
           },
           "bgcolor": "#E5ECF6",
           "radialaxis": {
            "gridcolor": "white",
            "linecolor": "white",
            "ticks": ""
           }
          },
          "scene": {
           "xaxis": {
            "backgroundcolor": "#E5ECF6",
            "gridcolor": "white",
            "gridwidth": 2,
            "linecolor": "white",
            "showbackground": true,
            "ticks": "",
            "zerolinecolor": "white"
           },
           "yaxis": {
            "backgroundcolor": "#E5ECF6",
            "gridcolor": "white",
            "gridwidth": 2,
            "linecolor": "white",
            "showbackground": true,
            "ticks": "",
            "zerolinecolor": "white"
           },
           "zaxis": {
            "backgroundcolor": "#E5ECF6",
            "gridcolor": "white",
            "gridwidth": 2,
            "linecolor": "white",
            "showbackground": true,
            "ticks": "",
            "zerolinecolor": "white"
           }
          },
          "shapedefaults": {
           "line": {
            "color": "#2a3f5f"
           }
          },
          "ternary": {
           "aaxis": {
            "gridcolor": "white",
            "linecolor": "white",
            "ticks": ""
           },
           "baxis": {
            "gridcolor": "white",
            "linecolor": "white",
            "ticks": ""
           },
           "bgcolor": "#E5ECF6",
           "caxis": {
            "gridcolor": "white",
            "linecolor": "white",
            "ticks": ""
           }
          },
          "title": {
           "x": 0.05
          },
          "xaxis": {
           "automargin": true,
           "gridcolor": "white",
           "linecolor": "white",
           "ticks": "",
           "title": {
            "standoff": 15
           },
           "zerolinecolor": "white",
           "zerolinewidth": 2
          },
          "yaxis": {
           "automargin": true,
           "gridcolor": "white",
           "linecolor": "white",
           "ticks": "",
           "title": {
            "standoff": 15
           },
           "zerolinecolor": "white",
           "zerolinewidth": 2
          }
         }
        },
        "title": {
         "font": {
          "color": "#E50914",
          "size": 24
         },
         "text": "Top 5 Movies"
        },
        "xaxis": {
         "anchor": "y",
         "domain": [
          0,
          1
         ],
         "title": {
          "text": "Movie Title"
         }
        },
        "yaxis": {
         "anchor": "x",
         "domain": [
          0,
          1
         ],
         "title": {
          "text": "Rating"
         }
        }
       }
      }
     },
     "metadata": {},
     "output_type": "display_data"
    }
   ],
   "source": [
    "\n",
    "fig = px.bar(\n",
    "    data_frame=top5_movies,\n",
    "    x=\"title\",\n",
    "    y=\"rating_y\",\n",
    "    title=\"Top 5 Movies\",\n",
    "    text_auto=True,\n",
    "    color_discrete_sequence=['#221F1F']\n",
    ")\n",
    "\n",
    "\n",
    "# Customizing labels\n",
    "fig.update_layout(\n",
    "    xaxis_title=\"Movie Title\",  # Update X-axis label\n",
    "    yaxis_title=\"Rating\",  # Update Y-axis label\n",
    "    title_font=dict(size=24, color=\"#E50914\")  \n",
    ")\n",
    "\n",
    "# Show the figure\n",
    "fig.show()"
   ]
  },
  {
   "cell_type": "markdown",
   "id": "8b7a48f3",
   "metadata": {},
   "source": [
    "## Location-Based Analysis"
   ]
  },
  {
   "cell_type": "markdown",
   "id": "7c03acc5",
   "metadata": {},
   "source": [
    "### **Where Are Most of the Movies and TV Shows Produced? (Using Folium)**  \n",
    "🌍 **Geospatial Analysis of Movie and TV Show Production**  \n",
    "By using **Folium** and the country data, we mapped the production countries of Netflix content.\n",
    "\n",
    "**Key Findings:**\n",
    "- **United States** is by far the largest producer with **3680** titles.\n",
    "- **India** follows with **1046** titles, followed by other major producers such as **United Kingdom** (803), **Canada** (445), **France** (393), and **Japan** (316).\n",
    "\n",
    "\n",
    "The visualization shows the global distribution of Netflix content across different countries. \n"
   ]
  },
  {
   "cell_type": "code",
   "execution_count": 30,
   "id": "bfc8b1dd",
   "metadata": {},
   "outputs": [],
   "source": [
    "country_content = df['country'].str.get_dummies(sep=\", \").sum().sort_values(ascending=False)"
   ]
  },
  {
   "cell_type": "code",
   "execution_count": 31,
   "id": "6d65f87d",
   "metadata": {},
   "outputs": [
    {
     "data": {
      "text/html": [
       "<div style=\"width:100%;\"><div style=\"position:relative;width:100%;height:0;padding-bottom:60%;\"><span style=\"color:#565656\">Make this Notebook Trusted to load map: File -> Trust Notebook</span><iframe srcdoc=\"&lt;!DOCTYPE html&gt;\n",
       "&lt;html&gt;\n",
       "&lt;head&gt;\n",
       "    \n",
       "    &lt;meta http-equiv=&quot;content-type&quot; content=&quot;text/html; charset=UTF-8&quot; /&gt;\n",
       "    \n",
       "        &lt;script&gt;\n",
       "            L_NO_TOUCH = false;\n",
       "            L_DISABLE_3D = false;\n",
       "        &lt;/script&gt;\n",
       "    \n",
       "    &lt;style&gt;html, body {width: 100%;height: 100%;margin: 0;padding: 0;}&lt;/style&gt;\n",
       "    &lt;style&gt;#map {position:absolute;top:0;bottom:0;right:0;left:0;}&lt;/style&gt;\n",
       "    &lt;script src=&quot;https://cdn.jsdelivr.net/npm/leaflet@1.9.3/dist/leaflet.js&quot;&gt;&lt;/script&gt;\n",
       "    &lt;script src=&quot;https://code.jquery.com/jquery-3.7.1.min.js&quot;&gt;&lt;/script&gt;\n",
       "    &lt;script src=&quot;https://cdn.jsdelivr.net/npm/bootstrap@5.2.2/dist/js/bootstrap.bundle.min.js&quot;&gt;&lt;/script&gt;\n",
       "    &lt;script src=&quot;https://cdnjs.cloudflare.com/ajax/libs/Leaflet.awesome-markers/2.0.2/leaflet.awesome-markers.js&quot;&gt;&lt;/script&gt;\n",
       "    &lt;link rel=&quot;stylesheet&quot; href=&quot;https://cdn.jsdelivr.net/npm/leaflet@1.9.3/dist/leaflet.css&quot;/&gt;\n",
       "    &lt;link rel=&quot;stylesheet&quot; href=&quot;https://cdn.jsdelivr.net/npm/bootstrap@5.2.2/dist/css/bootstrap.min.css&quot;/&gt;\n",
       "    &lt;link rel=&quot;stylesheet&quot; href=&quot;https://netdna.bootstrapcdn.com/bootstrap/3.0.0/css/bootstrap-glyphicons.css&quot;/&gt;\n",
       "    &lt;link rel=&quot;stylesheet&quot; href=&quot;https://cdn.jsdelivr.net/npm/@fortawesome/fontawesome-free@6.2.0/css/all.min.css&quot;/&gt;\n",
       "    &lt;link rel=&quot;stylesheet&quot; href=&quot;https://cdnjs.cloudflare.com/ajax/libs/Leaflet.awesome-markers/2.0.2/leaflet.awesome-markers.css&quot;/&gt;\n",
       "    &lt;link rel=&quot;stylesheet&quot; href=&quot;https://cdn.jsdelivr.net/gh/python-visualization/folium/folium/templates/leaflet.awesome.rotate.min.css&quot;/&gt;\n",
       "    \n",
       "            &lt;meta name=&quot;viewport&quot; content=&quot;width=device-width,\n",
       "                initial-scale=1.0, maximum-scale=1.0, user-scalable=no&quot; /&gt;\n",
       "            &lt;style&gt;\n",
       "                #map_872c175f5dec8ff2914d27a1f6935452 {\n",
       "                    position: relative;\n",
       "                    width: 100.0%;\n",
       "                    height: 100.0%;\n",
       "                    left: 0.0%;\n",
       "                    top: 0.0%;\n",
       "                }\n",
       "                .leaflet-container { font-size: 1rem; }\n",
       "            &lt;/style&gt;\n",
       "        \n",
       "&lt;/head&gt;\n",
       "&lt;body&gt;\n",
       "    \n",
       "    \n",
       "            &lt;div class=&quot;folium-map&quot; id=&quot;map_872c175f5dec8ff2914d27a1f6935452&quot; &gt;&lt;/div&gt;\n",
       "        \n",
       "&lt;/body&gt;\n",
       "&lt;script&gt;\n",
       "    \n",
       "    \n",
       "            var map_872c175f5dec8ff2914d27a1f6935452 = L.map(\n",
       "                &quot;map_872c175f5dec8ff2914d27a1f6935452&quot;,\n",
       "                {\n",
       "                    center: [20.0, 0.0],\n",
       "                    crs: L.CRS.EPSG3857,\n",
       "                    ...{\n",
       "  &quot;maxBounds&quot;: null,\n",
       "  &quot;zoom&quot;: 2,\n",
       "  &quot;zoomControl&quot;: true,\n",
       "  &quot;preferCanvas&quot;: false,\n",
       "}\n",
       "\n",
       "                }\n",
       "            );\n",
       "\n",
       "            \n",
       "\n",
       "        \n",
       "    \n",
       "            var tile_layer_97958eaed2a027cc97421d2d6a6e62f4 = L.tileLayer(\n",
       "                &quot;https://tile.openstreetmap.org/{z}/{x}/{y}.png&quot;,\n",
       "                {\n",
       "  &quot;minZoom&quot;: 0,\n",
       "  &quot;maxZoom&quot;: 19,\n",
       "  &quot;maxNativeZoom&quot;: 19,\n",
       "  &quot;noWrap&quot;: false,\n",
       "  &quot;attribution&quot;: &quot;\\u0026copy; \\u003ca href=\\&quot;https://www.openstreetmap.org/copyright\\&quot;\\u003eOpenStreetMap\\u003c/a\\u003e contributors&quot;,\n",
       "  &quot;subdomains&quot;: &quot;abc&quot;,\n",
       "  &quot;detectRetina&quot;: false,\n",
       "  &quot;tms&quot;: false,\n",
       "  &quot;opacity&quot;: 1,\n",
       "}\n",
       "\n",
       "            );\n",
       "        \n",
       "    \n",
       "            tile_layer_97958eaed2a027cc97421d2d6a6e62f4.addTo(map_872c175f5dec8ff2914d27a1f6935452);\n",
       "        \n",
       "    \n",
       "            var circle_marker_5058cff17f2725e25e62be9e58169e8e = L.circleMarker(\n",
       "                [37.0902, -95.7129],\n",
       "                {&quot;bubblingMouseEvents&quot;: true, &quot;color&quot;: &quot;red&quot;, &quot;dashArray&quot;: null, &quot;dashOffset&quot;: null, &quot;fill&quot;: true, &quot;fillColor&quot;: &quot;black&quot;, &quot;fillOpacity&quot;: 0.7, &quot;fillRule&quot;: &quot;evenodd&quot;, &quot;lineCap&quot;: &quot;round&quot;, &quot;lineJoin&quot;: &quot;round&quot;, &quot;opacity&quot;: 1.0, &quot;radius&quot;: 60.663003552412405, &quot;stroke&quot;: true, &quot;weight&quot;: 3}\n",
       "            ).addTo(map_872c175f5dec8ff2914d27a1f6935452);\n",
       "        \n",
       "    \n",
       "        var popup_990b0fc40cb15dfbd91fb9c10346f4bc = L.popup({\n",
       "  &quot;maxWidth&quot;: &quot;100%&quot;,\n",
       "  &quot;autoClose&quot;: null,\n",
       "  &quot;closeOnClick&quot;: null,\n",
       "});\n",
       "\n",
       "        \n",
       "            \n",
       "                var html_9a9272f3fdfd1ca2b5ff883a43349e4a = $(`&lt;div id=&quot;html_9a9272f3fdfd1ca2b5ff883a43349e4a&quot; style=&quot;width: 100.0%; height: 100.0%;&quot;&gt;United States: 3680 contents&lt;/div&gt;`)[0];\n",
       "                popup_990b0fc40cb15dfbd91fb9c10346f4bc.setContent(html_9a9272f3fdfd1ca2b5ff883a43349e4a);\n",
       "            \n",
       "        \n",
       "\n",
       "        circle_marker_5058cff17f2725e25e62be9e58169e8e.bindPopup(popup_990b0fc40cb15dfbd91fb9c10346f4bc)\n",
       "        ;\n",
       "\n",
       "        \n",
       "    \n",
       "    \n",
       "            var circle_marker_c70fa28396d42940bd264a3f62cd8b3b = L.circleMarker(\n",
       "                [20.5937, 78.9629],\n",
       "                {&quot;bubblingMouseEvents&quot;: true, &quot;color&quot;: &quot;red&quot;, &quot;dashArray&quot;: null, &quot;dashOffset&quot;: null, &quot;fill&quot;: true, &quot;fillColor&quot;: &quot;black&quot;, &quot;fillOpacity&quot;: 0.7, &quot;fillRule&quot;: &quot;evenodd&quot;, &quot;lineCap&quot;: &quot;round&quot;, &quot;lineJoin&quot;: &quot;round&quot;, &quot;opacity&quot;: 1.0, &quot;radius&quot;: 32.341923257592455, &quot;stroke&quot;: true, &quot;weight&quot;: 3}\n",
       "            ).addTo(map_872c175f5dec8ff2914d27a1f6935452);\n",
       "        \n",
       "    \n",
       "        var popup_9630a775e0a4e2e839861fa45fa48e64 = L.popup({\n",
       "  &quot;maxWidth&quot;: &quot;100%&quot;,\n",
       "  &quot;autoClose&quot;: null,\n",
       "  &quot;closeOnClick&quot;: null,\n",
       "});\n",
       "\n",
       "        \n",
       "            \n",
       "                var html_68e898c250c32b5cf69144a51849e418 = $(`&lt;div id=&quot;html_68e898c250c32b5cf69144a51849e418&quot; style=&quot;width: 100.0%; height: 100.0%;&quot;&gt;India: 1046 contents&lt;/div&gt;`)[0];\n",
       "                popup_9630a775e0a4e2e839861fa45fa48e64.setContent(html_68e898c250c32b5cf69144a51849e418);\n",
       "            \n",
       "        \n",
       "\n",
       "        circle_marker_c70fa28396d42940bd264a3f62cd8b3b.bindPopup(popup_9630a775e0a4e2e839861fa45fa48e64)\n",
       "        ;\n",
       "\n",
       "        \n",
       "    \n",
       "    \n",
       "            var circle_marker_c05f41ce7b203afa96ccc7f00a6d039a = L.circleMarker(\n",
       "                [55.3781, -3.436],\n",
       "                {&quot;bubblingMouseEvents&quot;: true, &quot;color&quot;: &quot;red&quot;, &quot;dashArray&quot;: null, &quot;dashOffset&quot;: null, &quot;fill&quot;: true, &quot;fillColor&quot;: &quot;black&quot;, &quot;fillOpacity&quot;: 0.7, &quot;fillRule&quot;: &quot;evenodd&quot;, &quot;lineCap&quot;: &quot;round&quot;, &quot;lineJoin&quot;: &quot;round&quot;, &quot;opacity&quot;: 1.0, &quot;radius&quot;: 28.337254630609507, &quot;stroke&quot;: true, &quot;weight&quot;: 3}\n",
       "            ).addTo(map_872c175f5dec8ff2914d27a1f6935452);\n",
       "        \n",
       "    \n",
       "        var popup_4580d1ad8788ada4b2a8e0d908ea9350 = L.popup({\n",
       "  &quot;maxWidth&quot;: &quot;100%&quot;,\n",
       "  &quot;autoClose&quot;: null,\n",
       "  &quot;closeOnClick&quot;: null,\n",
       "});\n",
       "\n",
       "        \n",
       "            \n",
       "                var html_37d05045b08a4e4746150793601272ab = $(`&lt;div id=&quot;html_37d05045b08a4e4746150793601272ab&quot; style=&quot;width: 100.0%; height: 100.0%;&quot;&gt;United Kingdom: 803 contents&lt;/div&gt;`)[0];\n",
       "                popup_4580d1ad8788ada4b2a8e0d908ea9350.setContent(html_37d05045b08a4e4746150793601272ab);\n",
       "            \n",
       "        \n",
       "\n",
       "        circle_marker_c05f41ce7b203afa96ccc7f00a6d039a.bindPopup(popup_4580d1ad8788ada4b2a8e0d908ea9350)\n",
       "        ;\n",
       "\n",
       "        \n",
       "    \n",
       "    \n",
       "            var circle_marker_14496485dcf1b5c33458245ce7992ccb = L.circleMarker(\n",
       "                [56.1304, -106.3468],\n",
       "                {&quot;bubblingMouseEvents&quot;: true, &quot;color&quot;: &quot;red&quot;, &quot;dashArray&quot;: null, &quot;dashOffset&quot;: null, &quot;fill&quot;: true, &quot;fillColor&quot;: &quot;black&quot;, &quot;fillOpacity&quot;: 0.7, &quot;fillRule&quot;: &quot;evenodd&quot;, &quot;lineCap&quot;: &quot;round&quot;, &quot;lineJoin&quot;: &quot;round&quot;, &quot;opacity&quot;: 1.0, &quot;radius&quot;: 21.095023109728988, &quot;stroke&quot;: true, &quot;weight&quot;: 3}\n",
       "            ).addTo(map_872c175f5dec8ff2914d27a1f6935452);\n",
       "        \n",
       "    \n",
       "        var popup_f17aaf28716fda8cf6392824ed17b0bb = L.popup({\n",
       "  &quot;maxWidth&quot;: &quot;100%&quot;,\n",
       "  &quot;autoClose&quot;: null,\n",
       "  &quot;closeOnClick&quot;: null,\n",
       "});\n",
       "\n",
       "        \n",
       "            \n",
       "                var html_0a17a511caf83c5b588fd9bf726cf581 = $(`&lt;div id=&quot;html_0a17a511caf83c5b588fd9bf726cf581&quot; style=&quot;width: 100.0%; height: 100.0%;&quot;&gt;Canada: 445 contents&lt;/div&gt;`)[0];\n",
       "                popup_f17aaf28716fda8cf6392824ed17b0bb.setContent(html_0a17a511caf83c5b588fd9bf726cf581);\n",
       "            \n",
       "        \n",
       "\n",
       "        circle_marker_14496485dcf1b5c33458245ce7992ccb.bindPopup(popup_f17aaf28716fda8cf6392824ed17b0bb)\n",
       "        ;\n",
       "\n",
       "        \n",
       "    \n",
       "    \n",
       "            var circle_marker_d016128596a9b219cd8e3b73728631a9 = L.circleMarker(\n",
       "                [46.6034, 1.8883],\n",
       "                {&quot;bubblingMouseEvents&quot;: true, &quot;color&quot;: &quot;red&quot;, &quot;dashArray&quot;: null, &quot;dashOffset&quot;: null, &quot;fill&quot;: true, &quot;fillColor&quot;: &quot;black&quot;, &quot;fillOpacity&quot;: 0.7, &quot;fillRule&quot;: &quot;evenodd&quot;, &quot;lineCap&quot;: &quot;round&quot;, &quot;lineJoin&quot;: &quot;round&quot;, &quot;opacity&quot;: 1.0, &quot;radius&quot;: 19.82422760159901, &quot;stroke&quot;: true, &quot;weight&quot;: 3}\n",
       "            ).addTo(map_872c175f5dec8ff2914d27a1f6935452);\n",
       "        \n",
       "    \n",
       "        var popup_233d6be8d6160375e2c0e965ca7ba3d4 = L.popup({\n",
       "  &quot;maxWidth&quot;: &quot;100%&quot;,\n",
       "  &quot;autoClose&quot;: null,\n",
       "  &quot;closeOnClick&quot;: null,\n",
       "});\n",
       "\n",
       "        \n",
       "            \n",
       "                var html_28d85e6cd4009c2fc7c20e2402e48932 = $(`&lt;div id=&quot;html_28d85e6cd4009c2fc7c20e2402e48932&quot; style=&quot;width: 100.0%; height: 100.0%;&quot;&gt;France: 393 contents&lt;/div&gt;`)[0];\n",
       "                popup_233d6be8d6160375e2c0e965ca7ba3d4.setContent(html_28d85e6cd4009c2fc7c20e2402e48932);\n",
       "            \n",
       "        \n",
       "\n",
       "        circle_marker_d016128596a9b219cd8e3b73728631a9.bindPopup(popup_233d6be8d6160375e2c0e965ca7ba3d4)\n",
       "        ;\n",
       "\n",
       "        \n",
       "    \n",
       "    \n",
       "            var circle_marker_65c08d021b008ea2005debfedce5445b = L.circleMarker(\n",
       "                [36.2048, 138.2529],\n",
       "                {&quot;bubblingMouseEvents&quot;: true, &quot;color&quot;: &quot;red&quot;, &quot;dashArray&quot;: null, &quot;dashOffset&quot;: null, &quot;fill&quot;: true, &quot;fillColor&quot;: &quot;black&quot;, &quot;fillOpacity&quot;: 0.7, &quot;fillRule&quot;: &quot;evenodd&quot;, &quot;lineCap&quot;: &quot;round&quot;, &quot;lineJoin&quot;: &quot;round&quot;, &quot;opacity&quot;: 1.0, &quot;radius&quot;: 17.776388834631177, &quot;stroke&quot;: true, &quot;weight&quot;: 3}\n",
       "            ).addTo(map_872c175f5dec8ff2914d27a1f6935452);\n",
       "        \n",
       "    \n",
       "        var popup_f353e0e59b6b8f722fd6508cc5f00d84 = L.popup({\n",
       "  &quot;maxWidth&quot;: &quot;100%&quot;,\n",
       "  &quot;autoClose&quot;: null,\n",
       "  &quot;closeOnClick&quot;: null,\n",
       "});\n",
       "\n",
       "        \n",
       "            \n",
       "                var html_21fd4bd944bc374c4b49fb9c21c938be = $(`&lt;div id=&quot;html_21fd4bd944bc374c4b49fb9c21c938be&quot; style=&quot;width: 100.0%; height: 100.0%;&quot;&gt;Japan: 316 contents&lt;/div&gt;`)[0];\n",
       "                popup_f353e0e59b6b8f722fd6508cc5f00d84.setContent(html_21fd4bd944bc374c4b49fb9c21c938be);\n",
       "            \n",
       "        \n",
       "\n",
       "        circle_marker_65c08d021b008ea2005debfedce5445b.bindPopup(popup_f353e0e59b6b8f722fd6508cc5f00d84)\n",
       "        ;\n",
       "\n",
       "        \n",
       "    \n",
       "    \n",
       "            var circle_marker_b8ab2f901b9884524e7203d066e07e40 = L.circleMarker(\n",
       "                [40.4637, -3.7492],\n",
       "                {&quot;bubblingMouseEvents&quot;: true, &quot;color&quot;: &quot;red&quot;, &quot;dashArray&quot;: null, &quot;dashOffset&quot;: null, &quot;fill&quot;: true, &quot;fillColor&quot;: &quot;black&quot;, &quot;fillOpacity&quot;: 0.7, &quot;fillRule&quot;: &quot;evenodd&quot;, &quot;lineCap&quot;: &quot;round&quot;, &quot;lineJoin&quot;: &quot;round&quot;, &quot;opacity&quot;: 1.0, &quot;radius&quot;: 15.231546211727817, &quot;stroke&quot;: true, &quot;weight&quot;: 3}\n",
       "            ).addTo(map_872c175f5dec8ff2914d27a1f6935452);\n",
       "        \n",
       "    \n",
       "        var popup_dae034bb80d5340c030fc07bfa0bc5e0 = L.popup({\n",
       "  &quot;maxWidth&quot;: &quot;100%&quot;,\n",
       "  &quot;autoClose&quot;: null,\n",
       "  &quot;closeOnClick&quot;: null,\n",
       "});\n",
       "\n",
       "        \n",
       "            \n",
       "                var html_0793a4c5af0f99d54fd5b356bb008471 = $(`&lt;div id=&quot;html_0793a4c5af0f99d54fd5b356bb008471&quot; style=&quot;width: 100.0%; height: 100.0%;&quot;&gt;Spain: 232 contents&lt;/div&gt;`)[0];\n",
       "                popup_dae034bb80d5340c030fc07bfa0bc5e0.setContent(html_0793a4c5af0f99d54fd5b356bb008471);\n",
       "            \n",
       "        \n",
       "\n",
       "        circle_marker_b8ab2f901b9884524e7203d066e07e40.bindPopup(popup_dae034bb80d5340c030fc07bfa0bc5e0)\n",
       "        ;\n",
       "\n",
       "        \n",
       "    \n",
       "    \n",
       "            var circle_marker_0ddfc3dc941e5b7e7fde9514d70d1925 = L.circleMarker(\n",
       "                [35.9078, 127.7669],\n",
       "                {&quot;bubblingMouseEvents&quot;: true, &quot;color&quot;: &quot;red&quot;, &quot;dashArray&quot;: null, &quot;dashOffset&quot;: null, &quot;fill&quot;: true, &quot;fillColor&quot;: &quot;black&quot;, &quot;fillOpacity&quot;: 0.7, &quot;fillRule&quot;: &quot;evenodd&quot;, &quot;lineCap&quot;: &quot;round&quot;, &quot;lineJoin&quot;: &quot;round&quot;, &quot;opacity&quot;: 1.0, &quot;radius&quot;: 15.198684153570664, &quot;stroke&quot;: true, &quot;weight&quot;: 3}\n",
       "            ).addTo(map_872c175f5dec8ff2914d27a1f6935452);\n",
       "        \n",
       "    \n",
       "        var popup_560231424973822cdd21c37daa8e7f38 = L.popup({\n",
       "  &quot;maxWidth&quot;: &quot;100%&quot;,\n",
       "  &quot;autoClose&quot;: null,\n",
       "  &quot;closeOnClick&quot;: null,\n",
       "});\n",
       "\n",
       "        \n",
       "            \n",
       "                var html_a416c5ded8c7c6ea5109bd55935e24b0 = $(`&lt;div id=&quot;html_a416c5ded8c7c6ea5109bd55935e24b0&quot; style=&quot;width: 100.0%; height: 100.0%;&quot;&gt;South Korea: 231 contents&lt;/div&gt;`)[0];\n",
       "                popup_560231424973822cdd21c37daa8e7f38.setContent(html_a416c5ded8c7c6ea5109bd55935e24b0);\n",
       "            \n",
       "        \n",
       "\n",
       "        circle_marker_0ddfc3dc941e5b7e7fde9514d70d1925.bindPopup(popup_560231424973822cdd21c37daa8e7f38)\n",
       "        ;\n",
       "\n",
       "        \n",
       "    \n",
       "    \n",
       "            var circle_marker_aeb580c35d1ff5cd6272499536d15e40 = L.circleMarker(\n",
       "                [51.1657, 10.4515],\n",
       "                {&quot;bubblingMouseEvents&quot;: true, &quot;color&quot;: &quot;red&quot;, &quot;dashArray&quot;: null, &quot;dashOffset&quot;: null, &quot;fill&quot;: true, &quot;fillColor&quot;: &quot;black&quot;, &quot;fillOpacity&quot;: 0.7, &quot;fillRule&quot;: &quot;evenodd&quot;, &quot;lineCap&quot;: &quot;round&quot;, &quot;lineJoin&quot;: &quot;round&quot;, &quot;opacity&quot;: 1.0, &quot;radius&quot;: 15.033296378372908, &quot;stroke&quot;: true, &quot;weight&quot;: 3}\n",
       "            ).addTo(map_872c175f5dec8ff2914d27a1f6935452);\n",
       "        \n",
       "    \n",
       "        var popup_8710e7c0faa8b70777c0f398993d2545 = L.popup({\n",
       "  &quot;maxWidth&quot;: &quot;100%&quot;,\n",
       "  &quot;autoClose&quot;: null,\n",
       "  &quot;closeOnClick&quot;: null,\n",
       "});\n",
       "\n",
       "        \n",
       "            \n",
       "                var html_8bbca70acdad399d736214aed7c190f0 = $(`&lt;div id=&quot;html_8bbca70acdad399d736214aed7c190f0&quot; style=&quot;width: 100.0%; height: 100.0%;&quot;&gt;Germany: 226 contents&lt;/div&gt;`)[0];\n",
       "                popup_8710e7c0faa8b70777c0f398993d2545.setContent(html_8bbca70acdad399d736214aed7c190f0);\n",
       "            \n",
       "        \n",
       "\n",
       "        circle_marker_aeb580c35d1ff5cd6272499536d15e40.bindPopup(popup_8710e7c0faa8b70777c0f398993d2545)\n",
       "        ;\n",
       "\n",
       "        \n",
       "    \n",
       "    \n",
       "            var circle_marker_8a154e94f93cc7cce228d96a930883f8 = L.circleMarker(\n",
       "                [23.6345, -102.5528],\n",
       "                {&quot;bubblingMouseEvents&quot;: true, &quot;color&quot;: &quot;red&quot;, &quot;dashArray&quot;: null, &quot;dashOffset&quot;: null, &quot;fill&quot;: true, &quot;fillColor&quot;: &quot;black&quot;, &quot;fillOpacity&quot;: 0.7, &quot;fillRule&quot;: &quot;evenodd&quot;, &quot;lineCap&quot;: &quot;round&quot;, &quot;lineJoin&quot;: &quot;round&quot;, &quot;opacity&quot;: 1.0, &quot;radius&quot;: 13.0, &quot;stroke&quot;: true, &quot;weight&quot;: 3}\n",
       "            ).addTo(map_872c175f5dec8ff2914d27a1f6935452);\n",
       "        \n",
       "    \n",
       "        var popup_d8eee46bbcc360c6d6ecaed83b62f1eb = L.popup({\n",
       "  &quot;maxWidth&quot;: &quot;100%&quot;,\n",
       "  &quot;autoClose&quot;: null,\n",
       "  &quot;closeOnClick&quot;: null,\n",
       "});\n",
       "\n",
       "        \n",
       "            \n",
       "                var html_ea23846bc5f2577a03bb6a026574cfec = $(`&lt;div id=&quot;html_ea23846bc5f2577a03bb6a026574cfec&quot; style=&quot;width: 100.0%; height: 100.0%;&quot;&gt;Mexico: 169 contents&lt;/div&gt;`)[0];\n",
       "                popup_d8eee46bbcc360c6d6ecaed83b62f1eb.setContent(html_ea23846bc5f2577a03bb6a026574cfec);\n",
       "            \n",
       "        \n",
       "\n",
       "        circle_marker_8a154e94f93cc7cce228d96a930883f8.bindPopup(popup_d8eee46bbcc360c6d6ecaed83b62f1eb)\n",
       "        ;\n",
       "\n",
       "        \n",
       "    \n",
       "    \n",
       "            var circle_marker_5b5263a4f112349fc3293675646493be = L.circleMarker(\n",
       "                [35.8617, 104.1954],\n",
       "                {&quot;bubblingMouseEvents&quot;: true, &quot;color&quot;: &quot;red&quot;, &quot;dashArray&quot;: null, &quot;dashOffset&quot;: null, &quot;fill&quot;: true, &quot;fillColor&quot;: &quot;black&quot;, &quot;fillOpacity&quot;: 0.7, &quot;fillRule&quot;: &quot;evenodd&quot;, &quot;lineCap&quot;: &quot;round&quot;, &quot;lineJoin&quot;: &quot;round&quot;, &quot;opacity&quot;: 1.0, &quot;radius&quot;: 12.727922061357855, &quot;stroke&quot;: true, &quot;weight&quot;: 3}\n",
       "            ).addTo(map_872c175f5dec8ff2914d27a1f6935452);\n",
       "        \n",
       "    \n",
       "        var popup_6915b60e8a0bc6c700d708512b0d9c91 = L.popup({\n",
       "  &quot;maxWidth&quot;: &quot;100%&quot;,\n",
       "  &quot;autoClose&quot;: null,\n",
       "  &quot;closeOnClick&quot;: null,\n",
       "});\n",
       "\n",
       "        \n",
       "            \n",
       "                var html_23fb5531e60c1cf8eb73de0d3b76e741 = $(`&lt;div id=&quot;html_23fb5531e60c1cf8eb73de0d3b76e741&quot; style=&quot;width: 100.0%; height: 100.0%;&quot;&gt;China: 162 contents&lt;/div&gt;`)[0];\n",
       "                popup_6915b60e8a0bc6c700d708512b0d9c91.setContent(html_23fb5531e60c1cf8eb73de0d3b76e741);\n",
       "            \n",
       "        \n",
       "\n",
       "        circle_marker_5b5263a4f112349fc3293675646493be.bindPopup(popup_6915b60e8a0bc6c700d708512b0d9c91)\n",
       "        ;\n",
       "\n",
       "        \n",
       "    \n",
       "    \n",
       "            var circle_marker_af2029b1a286ddc8203a64a156f43613 = L.circleMarker(\n",
       "                [-25.2744, 133.7751],\n",
       "                {&quot;bubblingMouseEvents&quot;: true, &quot;color&quot;: &quot;red&quot;, &quot;dashArray&quot;: null, &quot;dashOffset&quot;: null, &quot;fill&quot;: true, &quot;fillColor&quot;: &quot;black&quot;, &quot;fillOpacity&quot;: 0.7, &quot;fillRule&quot;: &quot;evenodd&quot;, &quot;lineCap&quot;: &quot;round&quot;, &quot;lineJoin&quot;: &quot;round&quot;, &quot;opacity&quot;: 1.0, &quot;radius&quot;: 12.569805089976535, &quot;stroke&quot;: true, &quot;weight&quot;: 3}\n",
       "            ).addTo(map_872c175f5dec8ff2914d27a1f6935452);\n",
       "        \n",
       "    \n",
       "        var popup_b030559fbd303be1aeb0f92f450981cf = L.popup({\n",
       "  &quot;maxWidth&quot;: &quot;100%&quot;,\n",
       "  &quot;autoClose&quot;: null,\n",
       "  &quot;closeOnClick&quot;: null,\n",
       "});\n",
       "\n",
       "        \n",
       "            \n",
       "                var html_5d21d554472a64350673bcc15e9630c0 = $(`&lt;div id=&quot;html_5d21d554472a64350673bcc15e9630c0&quot; style=&quot;width: 100.0%; height: 100.0%;&quot;&gt;Australia: 158 contents&lt;/div&gt;`)[0];\n",
       "                popup_b030559fbd303be1aeb0f92f450981cf.setContent(html_5d21d554472a64350673bcc15e9630c0);\n",
       "            \n",
       "        \n",
       "\n",
       "        circle_marker_af2029b1a286ddc8203a64a156f43613.bindPopup(popup_b030559fbd303be1aeb0f92f450981cf)\n",
       "        ;\n",
       "\n",
       "        \n",
       "    \n",
       "    \n",
       "            var circle_marker_d566b1fc9ea88c94c8fa916b3308d380 = L.circleMarker(\n",
       "                [26.8206, 30.8025],\n",
       "                {&quot;bubblingMouseEvents&quot;: true, &quot;color&quot;: &quot;red&quot;, &quot;dashArray&quot;: null, &quot;dashOffset&quot;: null, &quot;fill&quot;: true, &quot;fillColor&quot;: &quot;black&quot;, &quot;fillOpacity&quot;: 0.7, &quot;fillRule&quot;: &quot;evenodd&quot;, &quot;lineCap&quot;: &quot;round&quot;, &quot;lineJoin&quot;: &quot;round&quot;, &quot;opacity&quot;: 1.0, &quot;radius&quot;: 10.816653826391969, &quot;stroke&quot;: true, &quot;weight&quot;: 3}\n",
       "            ).addTo(map_872c175f5dec8ff2914d27a1f6935452);\n",
       "        \n",
       "    \n",
       "        var popup_b6b1e5d0887b6a387567ad75112b4569 = L.popup({\n",
       "  &quot;maxWidth&quot;: &quot;100%&quot;,\n",
       "  &quot;autoClose&quot;: null,\n",
       "  &quot;closeOnClick&quot;: null,\n",
       "});\n",
       "\n",
       "        \n",
       "            \n",
       "                var html_09a25508c42f85394fedbd179bf22021 = $(`&lt;div id=&quot;html_09a25508c42f85394fedbd179bf22021&quot; style=&quot;width: 100.0%; height: 100.0%;&quot;&gt;Egypt: 117 contents&lt;/div&gt;`)[0];\n",
       "                popup_b6b1e5d0887b6a387567ad75112b4569.setContent(html_09a25508c42f85394fedbd179bf22021);\n",
       "            \n",
       "        \n",
       "\n",
       "        circle_marker_d566b1fc9ea88c94c8fa916b3308d380.bindPopup(popup_b6b1e5d0887b6a387567ad75112b4569)\n",
       "        ;\n",
       "\n",
       "        \n",
       "    \n",
       "    \n",
       "            var circle_marker_7ce198d13a073233fda3ea51a60a46b7 = L.circleMarker(\n",
       "                [38.9637, 35.2433],\n",
       "                {&quot;bubblingMouseEvents&quot;: true, &quot;color&quot;: &quot;red&quot;, &quot;dashArray&quot;: null, &quot;dashOffset&quot;: null, &quot;fill&quot;: true, &quot;fillColor&quot;: &quot;black&quot;, &quot;fillOpacity&quot;: 0.7, &quot;fillRule&quot;: &quot;evenodd&quot;, &quot;lineCap&quot;: &quot;round&quot;, &quot;lineJoin&quot;: &quot;round&quot;, &quot;opacity&quot;: 1.0, &quot;radius&quot;: 10.63014581273465, &quot;stroke&quot;: true, &quot;weight&quot;: 3}\n",
       "            ).addTo(map_872c175f5dec8ff2914d27a1f6935452);\n",
       "        \n",
       "    \n",
       "        var popup_8b32997dc5d2f1c95b5409a28523998a = L.popup({\n",
       "  &quot;maxWidth&quot;: &quot;100%&quot;,\n",
       "  &quot;autoClose&quot;: null,\n",
       "  &quot;closeOnClick&quot;: null,\n",
       "});\n",
       "\n",
       "        \n",
       "            \n",
       "                var html_5f636bf9cabd5ac3ffb3f811c81f5ef3 = $(`&lt;div id=&quot;html_5f636bf9cabd5ac3ffb3f811c81f5ef3&quot; style=&quot;width: 100.0%; height: 100.0%;&quot;&gt;Turkey: 113 contents&lt;/div&gt;`)[0];\n",
       "                popup_8b32997dc5d2f1c95b5409a28523998a.setContent(html_5f636bf9cabd5ac3ffb3f811c81f5ef3);\n",
       "            \n",
       "        \n",
       "\n",
       "        circle_marker_7ce198d13a073233fda3ea51a60a46b7.bindPopup(popup_8b32997dc5d2f1c95b5409a28523998a)\n",
       "        ;\n",
       "\n",
       "        \n",
       "    \n",
       "    \n",
       "            var circle_marker_f3f59339eefbef623ffd60dfc92da22f = L.circleMarker(\n",
       "                [22.3193, 114.1694],\n",
       "                {&quot;bubblingMouseEvents&quot;: true, &quot;color&quot;: &quot;red&quot;, &quot;dashArray&quot;: null, &quot;dashOffset&quot;: null, &quot;fill&quot;: true, &quot;fillColor&quot;: &quot;black&quot;, &quot;fillOpacity&quot;: 0.7, &quot;fillRule&quot;: &quot;evenodd&quot;, &quot;lineCap&quot;: &quot;round&quot;, &quot;lineJoin&quot;: &quot;round&quot;, &quot;opacity&quot;: 1.0, &quot;radius&quot;: 10.246950765959598, &quot;stroke&quot;: true, &quot;weight&quot;: 3}\n",
       "            ).addTo(map_872c175f5dec8ff2914d27a1f6935452);\n",
       "        \n",
       "    \n",
       "        var popup_f5cdc68a3664ad4a8838c0e2287ddab0 = L.popup({\n",
       "  &quot;maxWidth&quot;: &quot;100%&quot;,\n",
       "  &quot;autoClose&quot;: null,\n",
       "  &quot;closeOnClick&quot;: null,\n",
       "});\n",
       "\n",
       "        \n",
       "            \n",
       "                var html_f54beca4a04b10eeffdbb19e73eaa7b5 = $(`&lt;div id=&quot;html_f54beca4a04b10eeffdbb19e73eaa7b5&quot; style=&quot;width: 100.0%; height: 100.0%;&quot;&gt;Hong Kong: 105 contents&lt;/div&gt;`)[0];\n",
       "                popup_f5cdc68a3664ad4a8838c0e2287ddab0.setContent(html_f54beca4a04b10eeffdbb19e73eaa7b5);\n",
       "            \n",
       "        \n",
       "\n",
       "        circle_marker_f3f59339eefbef623ffd60dfc92da22f.bindPopup(popup_f5cdc68a3664ad4a8838c0e2287ddab0)\n",
       "        ;\n",
       "\n",
       "        \n",
       "    \n",
       "    \n",
       "            var circle_marker_cbf5e0b9e903e82ee0ec6e0c1e0ee98b = L.circleMarker(\n",
       "                [9.082, 8.6753],\n",
       "                {&quot;bubblingMouseEvents&quot;: true, &quot;color&quot;: &quot;red&quot;, &quot;dashArray&quot;: null, &quot;dashOffset&quot;: null, &quot;fill&quot;: true, &quot;fillColor&quot;: &quot;black&quot;, &quot;fillOpacity&quot;: 0.7, &quot;fillRule&quot;: &quot;evenodd&quot;, &quot;lineCap&quot;: &quot;round&quot;, &quot;lineJoin&quot;: &quot;round&quot;, &quot;opacity&quot;: 1.0, &quot;radius&quot;: 10.14889156509222, &quot;stroke&quot;: true, &quot;weight&quot;: 3}\n",
       "            ).addTo(map_872c175f5dec8ff2914d27a1f6935452);\n",
       "        \n",
       "    \n",
       "        var popup_b5542beb1257fbadada0421c9933c85a = L.popup({\n",
       "  &quot;maxWidth&quot;: &quot;100%&quot;,\n",
       "  &quot;autoClose&quot;: null,\n",
       "  &quot;closeOnClick&quot;: null,\n",
       "});\n",
       "\n",
       "        \n",
       "            \n",
       "                var html_77184e9c7bdee9a43879e262a3254874 = $(`&lt;div id=&quot;html_77184e9c7bdee9a43879e262a3254874&quot; style=&quot;width: 100.0%; height: 100.0%;&quot;&gt;Nigeria: 103 contents&lt;/div&gt;`)[0];\n",
       "                popup_b5542beb1257fbadada0421c9933c85a.setContent(html_77184e9c7bdee9a43879e262a3254874);\n",
       "            \n",
       "        \n",
       "\n",
       "        circle_marker_cbf5e0b9e903e82ee0ec6e0c1e0ee98b.bindPopup(popup_b5542beb1257fbadada0421c9933c85a)\n",
       "        ;\n",
       "\n",
       "        \n",
       "    \n",
       "    \n",
       "            var circle_marker_78033073aed0c3d9aa3a7acb8bc120b7 = L.circleMarker(\n",
       "                [41.8719, 12.5674],\n",
       "                {&quot;bubblingMouseEvents&quot;: true, &quot;color&quot;: &quot;red&quot;, &quot;dashArray&quot;: null, &quot;dashOffset&quot;: null, &quot;fill&quot;: true, &quot;fillColor&quot;: &quot;black&quot;, &quot;fillOpacity&quot;: 0.7, &quot;fillRule&quot;: &quot;evenodd&quot;, &quot;lineCap&quot;: &quot;round&quot;, &quot;lineJoin&quot;: &quot;round&quot;, &quot;opacity&quot;: 1.0, &quot;radius&quot;: 9.9498743710662, &quot;stroke&quot;: true, &quot;weight&quot;: 3}\n",
       "            ).addTo(map_872c175f5dec8ff2914d27a1f6935452);\n",
       "        \n",
       "    \n",
       "        var popup_d33620bc5824bcd5b15ae31e35239536 = L.popup({\n",
       "  &quot;maxWidth&quot;: &quot;100%&quot;,\n",
       "  &quot;autoClose&quot;: null,\n",
       "  &quot;closeOnClick&quot;: null,\n",
       "});\n",
       "\n",
       "        \n",
       "            \n",
       "                var html_05aa3aa595d01c8dd42ce11539b31869 = $(`&lt;div id=&quot;html_05aa3aa595d01c8dd42ce11539b31869&quot; style=&quot;width: 100.0%; height: 100.0%;&quot;&gt;Italy: 99 contents&lt;/div&gt;`)[0];\n",
       "                popup_d33620bc5824bcd5b15ae31e35239536.setContent(html_05aa3aa595d01c8dd42ce11539b31869);\n",
       "            \n",
       "        \n",
       "\n",
       "        circle_marker_78033073aed0c3d9aa3a7acb8bc120b7.bindPopup(popup_d33620bc5824bcd5b15ae31e35239536)\n",
       "        ;\n",
       "\n",
       "        \n",
       "    \n",
       "    \n",
       "            var circle_marker_0a98bd98fa38a45d36667ddfcdf38163 = L.circleMarker(\n",
       "                [-14.235, -51.9253],\n",
       "                {&quot;bubblingMouseEvents&quot;: true, &quot;color&quot;: &quot;red&quot;, &quot;dashArray&quot;: null, &quot;dashOffset&quot;: null, &quot;fill&quot;: true, &quot;fillColor&quot;: &quot;black&quot;, &quot;fillOpacity&quot;: 0.7, &quot;fillRule&quot;: &quot;evenodd&quot;, &quot;lineCap&quot;: &quot;round&quot;, &quot;lineJoin&quot;: &quot;round&quot;, &quot;opacity&quot;: 1.0, &quot;radius&quot;: 9.848857801796104, &quot;stroke&quot;: true, &quot;weight&quot;: 3}\n",
       "            ).addTo(map_872c175f5dec8ff2914d27a1f6935452);\n",
       "        \n",
       "    \n",
       "        var popup_4cd0b1f53c3f9b6a40059d3afba4fc4e = L.popup({\n",
       "  &quot;maxWidth&quot;: &quot;100%&quot;,\n",
       "  &quot;autoClose&quot;: null,\n",
       "  &quot;closeOnClick&quot;: null,\n",
       "});\n",
       "\n",
       "        \n",
       "            \n",
       "                var html_509cd95bedcfc5113ba07474af3ab12d = $(`&lt;div id=&quot;html_509cd95bedcfc5113ba07474af3ab12d&quot; style=&quot;width: 100.0%; height: 100.0%;&quot;&gt;Brazil: 97 contents&lt;/div&gt;`)[0];\n",
       "                popup_4cd0b1f53c3f9b6a40059d3afba4fc4e.setContent(html_509cd95bedcfc5113ba07474af3ab12d);\n",
       "            \n",
       "        \n",
       "\n",
       "        circle_marker_0a98bd98fa38a45d36667ddfcdf38163.bindPopup(popup_4cd0b1f53c3f9b6a40059d3afba4fc4e)\n",
       "        ;\n",
       "\n",
       "        \n",
       "    \n",
       "    \n",
       "            var circle_marker_f9b746cfc961819fe9aaf5a5100faacf = L.circleMarker(\n",
       "                [-38.4161, -63.6167],\n",
       "                {&quot;bubblingMouseEvents&quot;: true, &quot;color&quot;: &quot;red&quot;, &quot;dashArray&quot;: null, &quot;dashOffset&quot;: null, &quot;fill&quot;: true, &quot;fillColor&quot;: &quot;black&quot;, &quot;fillOpacity&quot;: 0.7, &quot;fillRule&quot;: &quot;evenodd&quot;, &quot;lineCap&quot;: &quot;round&quot;, &quot;lineJoin&quot;: &quot;round&quot;, &quot;opacity&quot;: 1.0, &quot;radius&quot;: 9.539392014169456, &quot;stroke&quot;: true, &quot;weight&quot;: 3}\n",
       "            ).addTo(map_872c175f5dec8ff2914d27a1f6935452);\n",
       "        \n",
       "    \n",
       "        var popup_c60bdf873f4fab5f59d1f9c103322f13 = L.popup({\n",
       "  &quot;maxWidth&quot;: &quot;100%&quot;,\n",
       "  &quot;autoClose&quot;: null,\n",
       "  &quot;closeOnClick&quot;: null,\n",
       "});\n",
       "\n",
       "        \n",
       "            \n",
       "                var html_9eb513b6b90e5144bb402ea416a7dcfa = $(`&lt;div id=&quot;html_9eb513b6b90e5144bb402ea416a7dcfa&quot; style=&quot;width: 100.0%; height: 100.0%;&quot;&gt;Argentina: 91 contents&lt;/div&gt;`)[0];\n",
       "                popup_c60bdf873f4fab5f59d1f9c103322f13.setContent(html_9eb513b6b90e5144bb402ea416a7dcfa);\n",
       "            \n",
       "        \n",
       "\n",
       "        circle_marker_f9b746cfc961819fe9aaf5a5100faacf.bindPopup(popup_c60bdf873f4fab5f59d1f9c103322f13)\n",
       "        ;\n",
       "\n",
       "        \n",
       "    \n",
       "    \n",
       "            var circle_marker_9a4fcfdfccde602d01ea32e71bb2e669 = L.circleMarker(\n",
       "                [-0.7893, 113.9213],\n",
       "                {&quot;bubblingMouseEvents&quot;: true, &quot;color&quot;: &quot;red&quot;, &quot;dashArray&quot;: null, &quot;dashOffset&quot;: null, &quot;fill&quot;: true, &quot;fillColor&quot;: &quot;black&quot;, &quot;fillOpacity&quot;: 0.7, &quot;fillRule&quot;: &quot;evenodd&quot;, &quot;lineCap&quot;: &quot;round&quot;, &quot;lineJoin&quot;: &quot;round&quot;, &quot;opacity&quot;: 1.0, &quot;radius&quot;: 9.486832980505138, &quot;stroke&quot;: true, &quot;weight&quot;: 3}\n",
       "            ).addTo(map_872c175f5dec8ff2914d27a1f6935452);\n",
       "        \n",
       "    \n",
       "        var popup_47335a14a6f380ffe621abe9862d6cc2 = L.popup({\n",
       "  &quot;maxWidth&quot;: &quot;100%&quot;,\n",
       "  &quot;autoClose&quot;: null,\n",
       "  &quot;closeOnClick&quot;: null,\n",
       "});\n",
       "\n",
       "        \n",
       "            \n",
       "                var html_a913430de6b910c1b2284d291f630646 = $(`&lt;div id=&quot;html_a913430de6b910c1b2284d291f630646&quot; style=&quot;width: 100.0%; height: 100.0%;&quot;&gt;Indonesia: 90 contents&lt;/div&gt;`)[0];\n",
       "                popup_47335a14a6f380ffe621abe9862d6cc2.setContent(html_a913430de6b910c1b2284d291f630646);\n",
       "            \n",
       "        \n",
       "\n",
       "        circle_marker_9a4fcfdfccde602d01ea32e71bb2e669.bindPopup(popup_47335a14a6f380ffe621abe9862d6cc2)\n",
       "        ;\n",
       "\n",
       "        \n",
       "    \n",
       "    \n",
       "            var circle_marker_851a413743c8ebff11e47e7d4643c5d8 = L.circleMarker(\n",
       "                [50.5039, 4.4699],\n",
       "                {&quot;bubblingMouseEvents&quot;: true, &quot;color&quot;: &quot;red&quot;, &quot;dashArray&quot;: null, &quot;dashOffset&quot;: null, &quot;fill&quot;: true, &quot;fillColor&quot;: &quot;black&quot;, &quot;fillOpacity&quot;: 0.7, &quot;fillRule&quot;: &quot;evenodd&quot;, &quot;lineCap&quot;: &quot;round&quot;, &quot;lineJoin&quot;: &quot;round&quot;, &quot;opacity&quot;: 1.0, &quot;radius&quot;: 9.486832980505138, &quot;stroke&quot;: true, &quot;weight&quot;: 3}\n",
       "            ).addTo(map_872c175f5dec8ff2914d27a1f6935452);\n",
       "        \n",
       "    \n",
       "        var popup_60caad0da0082de24d376c494d24741c = L.popup({\n",
       "  &quot;maxWidth&quot;: &quot;100%&quot;,\n",
       "  &quot;autoClose&quot;: null,\n",
       "  &quot;closeOnClick&quot;: null,\n",
       "});\n",
       "\n",
       "        \n",
       "            \n",
       "                var html_ac7cdd3d33a89ba5084bef30e52183f8 = $(`&lt;div id=&quot;html_ac7cdd3d33a89ba5084bef30e52183f8&quot; style=&quot;width: 100.0%; height: 100.0%;&quot;&gt;Belgium: 90 contents&lt;/div&gt;`)[0];\n",
       "                popup_60caad0da0082de24d376c494d24741c.setContent(html_ac7cdd3d33a89ba5084bef30e52183f8);\n",
       "            \n",
       "        \n",
       "\n",
       "        circle_marker_851a413743c8ebff11e47e7d4643c5d8.bindPopup(popup_60caad0da0082de24d376c494d24741c)\n",
       "        ;\n",
       "\n",
       "        \n",
       "    \n",
       "    \n",
       "            var circle_marker_52177ca8585126e969586083ff434dad = L.circleMarker(\n",
       "                [23.6978, 120.9605],\n",
       "                {&quot;bubblingMouseEvents&quot;: true, &quot;color&quot;: &quot;red&quot;, &quot;dashArray&quot;: null, &quot;dashOffset&quot;: null, &quot;fill&quot;: true, &quot;fillColor&quot;: &quot;black&quot;, &quot;fillOpacity&quot;: 0.7, &quot;fillRule&quot;: &quot;evenodd&quot;, &quot;lineCap&quot;: &quot;round&quot;, &quot;lineJoin&quot;: &quot;round&quot;, &quot;opacity&quot;: 1.0, &quot;radius&quot;: 9.433981132056603, &quot;stroke&quot;: true, &quot;weight&quot;: 3}\n",
       "            ).addTo(map_872c175f5dec8ff2914d27a1f6935452);\n",
       "        \n",
       "    \n",
       "        var popup_aa5ae4fafe4e84c54c106edb55b462ed = L.popup({\n",
       "  &quot;maxWidth&quot;: &quot;100%&quot;,\n",
       "  &quot;autoClose&quot;: null,\n",
       "  &quot;closeOnClick&quot;: null,\n",
       "});\n",
       "\n",
       "        \n",
       "            \n",
       "                var html_14673d039c6dd48912677e272e0eb190 = $(`&lt;div id=&quot;html_14673d039c6dd48912677e272e0eb190&quot; style=&quot;width: 100.0%; height: 100.0%;&quot;&gt;Taiwan: 89 contents&lt;/div&gt;`)[0];\n",
       "                popup_aa5ae4fafe4e84c54c106edb55b462ed.setContent(html_14673d039c6dd48912677e272e0eb190);\n",
       "            \n",
       "        \n",
       "\n",
       "        circle_marker_52177ca8585126e969586083ff434dad.bindPopup(popup_aa5ae4fafe4e84c54c106edb55b462ed)\n",
       "        ;\n",
       "\n",
       "        \n",
       "    \n",
       "    \n",
       "            var circle_marker_1fae15b0683b8ac0dedcd87b9ff4bdd6 = L.circleMarker(\n",
       "                [12.8797, 121.774],\n",
       "                {&quot;bubblingMouseEvents&quot;: true, &quot;color&quot;: &quot;red&quot;, &quot;dashArray&quot;: null, &quot;dashOffset&quot;: null, &quot;fill&quot;: true, &quot;fillColor&quot;: &quot;black&quot;, &quot;fillOpacity&quot;: 0.7, &quot;fillRule&quot;: &quot;evenodd&quot;, &quot;lineCap&quot;: &quot;round&quot;, &quot;lineJoin&quot;: &quot;round&quot;, &quot;opacity&quot;: 1.0, &quot;radius&quot;: 9.1104335791443, &quot;stroke&quot;: true, &quot;weight&quot;: 3}\n",
       "            ).addTo(map_872c175f5dec8ff2914d27a1f6935452);\n",
       "        \n",
       "    \n",
       "        var popup_03e66a9a56b777fd962fb5c9f70ee6cf = L.popup({\n",
       "  &quot;maxWidth&quot;: &quot;100%&quot;,\n",
       "  &quot;autoClose&quot;: null,\n",
       "  &quot;closeOnClick&quot;: null,\n",
       "});\n",
       "\n",
       "        \n",
       "            \n",
       "                var html_f0f98317c37dc36fb489676cbf140c11 = $(`&lt;div id=&quot;html_f0f98317c37dc36fb489676cbf140c11&quot; style=&quot;width: 100.0%; height: 100.0%;&quot;&gt;Philippines: 83 contents&lt;/div&gt;`)[0];\n",
       "                popup_03e66a9a56b777fd962fb5c9f70ee6cf.setContent(html_f0f98317c37dc36fb489676cbf140c11);\n",
       "            \n",
       "        \n",
       "\n",
       "        circle_marker_1fae15b0683b8ac0dedcd87b9ff4bdd6.bindPopup(popup_03e66a9a56b777fd962fb5c9f70ee6cf)\n",
       "        ;\n",
       "\n",
       "        \n",
       "    \n",
       "    \n",
       "            var circle_marker_cf63eee532a7980eb9af3332467025ce = L.circleMarker(\n",
       "                [15.87, 100.9925],\n",
       "                {&quot;bubblingMouseEvents&quot;: true, &quot;color&quot;: &quot;red&quot;, &quot;dashArray&quot;: null, &quot;dashOffset&quot;: null, &quot;fill&quot;: true, &quot;fillColor&quot;: &quot;black&quot;, &quot;fillOpacity&quot;: 0.7, &quot;fillRule&quot;: &quot;evenodd&quot;, &quot;lineCap&quot;: &quot;round&quot;, &quot;lineJoin&quot;: &quot;round&quot;, &quot;opacity&quot;: 1.0, &quot;radius&quot;: 8.366600265340756, &quot;stroke&quot;: true, &quot;weight&quot;: 3}\n",
       "            ).addTo(map_872c175f5dec8ff2914d27a1f6935452);\n",
       "        \n",
       "    \n",
       "        var popup_b55b1198c1b9afca468aaa3b7a36ca14 = L.popup({\n",
       "  &quot;maxWidth&quot;: &quot;100%&quot;,\n",
       "  &quot;autoClose&quot;: null,\n",
       "  &quot;closeOnClick&quot;: null,\n",
       "});\n",
       "\n",
       "        \n",
       "            \n",
       "                var html_8c20911bed58775a8dcff164fd6cba41 = $(`&lt;div id=&quot;html_8c20911bed58775a8dcff164fd6cba41&quot; style=&quot;width: 100.0%; height: 100.0%;&quot;&gt;Thailand: 70 contents&lt;/div&gt;`)[0];\n",
       "                popup_b55b1198c1b9afca468aaa3b7a36ca14.setContent(html_8c20911bed58775a8dcff164fd6cba41);\n",
       "            \n",
       "        \n",
       "\n",
       "        circle_marker_cf63eee532a7980eb9af3332467025ce.bindPopup(popup_b55b1198c1b9afca468aaa3b7a36ca14)\n",
       "        ;\n",
       "\n",
       "        \n",
       "    \n",
       "    \n",
       "            var circle_marker_5c46cc65301d664715aa6f48f705d7ec = L.circleMarker(\n",
       "                [-30.5595, 22.9375],\n",
       "                {&quot;bubblingMouseEvents&quot;: true, &quot;color&quot;: &quot;red&quot;, &quot;dashArray&quot;: null, &quot;dashOffset&quot;: null, &quot;fill&quot;: true, &quot;fillColor&quot;: &quot;black&quot;, &quot;fillOpacity&quot;: 0.7, &quot;fillRule&quot;: &quot;evenodd&quot;, &quot;lineCap&quot;: &quot;round&quot;, &quot;lineJoin&quot;: &quot;round&quot;, &quot;opacity&quot;: 1.0, &quot;radius&quot;: 7.874007874011811, &quot;stroke&quot;: true, &quot;weight&quot;: 3}\n",
       "            ).addTo(map_872c175f5dec8ff2914d27a1f6935452);\n",
       "        \n",
       "    \n",
       "        var popup_2758c589e5109e792653f1cda3ec8ae5 = L.popup({\n",
       "  &quot;maxWidth&quot;: &quot;100%&quot;,\n",
       "  &quot;autoClose&quot;: null,\n",
       "  &quot;closeOnClick&quot;: null,\n",
       "});\n",
       "\n",
       "        \n",
       "            \n",
       "                var html_c16c55f6e5944989daa794800f4327c0 = $(`&lt;div id=&quot;html_c16c55f6e5944989daa794800f4327c0&quot; style=&quot;width: 100.0%; height: 100.0%;&quot;&gt;South Africa: 62 contents&lt;/div&gt;`)[0];\n",
       "                popup_2758c589e5109e792653f1cda3ec8ae5.setContent(html_c16c55f6e5944989daa794800f4327c0);\n",
       "            \n",
       "        \n",
       "\n",
       "        circle_marker_5c46cc65301d664715aa6f48f705d7ec.bindPopup(popup_2758c589e5109e792653f1cda3ec8ae5)\n",
       "        ;\n",
       "\n",
       "        \n",
       "    \n",
       "    \n",
       "            var circle_marker_ad8a1130d4b4997c104458a2983370e3 = L.circleMarker(\n",
       "                [4.5709, -74.2973],\n",
       "                {&quot;bubblingMouseEvents&quot;: true, &quot;color&quot;: &quot;red&quot;, &quot;dashArray&quot;: null, &quot;dashOffset&quot;: null, &quot;fill&quot;: true, &quot;fillColor&quot;: &quot;black&quot;, &quot;fillOpacity&quot;: 0.7, &quot;fillRule&quot;: &quot;evenodd&quot;, &quot;lineCap&quot;: &quot;round&quot;, &quot;lineJoin&quot;: &quot;round&quot;, &quot;opacity&quot;: 1.0, &quot;radius&quot;: 7.211102550927978, &quot;stroke&quot;: true, &quot;weight&quot;: 3}\n",
       "            ).addTo(map_872c175f5dec8ff2914d27a1f6935452);\n",
       "        \n",
       "    \n",
       "        var popup_e838d3349e250cb5a2c55fd3dcf299fe = L.popup({\n",
       "  &quot;maxWidth&quot;: &quot;100%&quot;,\n",
       "  &quot;autoClose&quot;: null,\n",
       "  &quot;closeOnClick&quot;: null,\n",
       "});\n",
       "\n",
       "        \n",
       "            \n",
       "                var html_748b253e2a793d1e5ae53ea9e8784e58 = $(`&lt;div id=&quot;html_748b253e2a793d1e5ae53ea9e8784e58&quot; style=&quot;width: 100.0%; height: 100.0%;&quot;&gt;Colombia: 52 contents&lt;/div&gt;`)[0];\n",
       "                popup_e838d3349e250cb5a2c55fd3dcf299fe.setContent(html_748b253e2a793d1e5ae53ea9e8784e58);\n",
       "            \n",
       "        \n",
       "\n",
       "        circle_marker_ad8a1130d4b4997c104458a2983370e3.bindPopup(popup_e838d3349e250cb5a2c55fd3dcf299fe)\n",
       "        ;\n",
       "\n",
       "        \n",
       "    \n",
       "    \n",
       "            var circle_marker_22e5eb2f54f3fa5be08364bf3362f7d7 = L.circleMarker(\n",
       "                [52.1326, 5.2913],\n",
       "                {&quot;bubblingMouseEvents&quot;: true, &quot;color&quot;: &quot;red&quot;, &quot;dashArray&quot;: null, &quot;dashOffset&quot;: null, &quot;fill&quot;: true, &quot;fillColor&quot;: &quot;black&quot;, &quot;fillOpacity&quot;: 0.7, &quot;fillRule&quot;: &quot;evenodd&quot;, &quot;lineCap&quot;: &quot;round&quot;, &quot;lineJoin&quot;: &quot;round&quot;, &quot;opacity&quot;: 1.0, &quot;radius&quot;: 7.0710678118654755, &quot;stroke&quot;: true, &quot;weight&quot;: 3}\n",
       "            ).addTo(map_872c175f5dec8ff2914d27a1f6935452);\n",
       "        \n",
       "    \n",
       "        var popup_9145ce61ef7864dbbeecd6c669eb0e0e = L.popup({\n",
       "  &quot;maxWidth&quot;: &quot;100%&quot;,\n",
       "  &quot;autoClose&quot;: null,\n",
       "  &quot;closeOnClick&quot;: null,\n",
       "});\n",
       "\n",
       "        \n",
       "            \n",
       "                var html_255b86e959b4fd328c035e8de70ae6c3 = $(`&lt;div id=&quot;html_255b86e959b4fd328c035e8de70ae6c3&quot; style=&quot;width: 100.0%; height: 100.0%;&quot;&gt;Netherlands: 50 contents&lt;/div&gt;`)[0];\n",
       "                popup_9145ce61ef7864dbbeecd6c669eb0e0e.setContent(html_255b86e959b4fd328c035e8de70ae6c3);\n",
       "            \n",
       "        \n",
       "\n",
       "        circle_marker_22e5eb2f54f3fa5be08364bf3362f7d7.bindPopup(popup_9145ce61ef7864dbbeecd6c669eb0e0e)\n",
       "        ;\n",
       "\n",
       "        \n",
       "    \n",
       "    \n",
       "            var circle_marker_e31ce252bf8814a1e2fca4f789859310 = L.circleMarker(\n",
       "                [56.2639, 9.5018],\n",
       "                {&quot;bubblingMouseEvents&quot;: true, &quot;color&quot;: &quot;red&quot;, &quot;dashArray&quot;: null, &quot;dashOffset&quot;: null, &quot;fill&quot;: true, &quot;fillColor&quot;: &quot;black&quot;, &quot;fillOpacity&quot;: 0.7, &quot;fillRule&quot;: &quot;evenodd&quot;, &quot;lineCap&quot;: &quot;round&quot;, &quot;lineJoin&quot;: &quot;round&quot;, &quot;opacity&quot;: 1.0, &quot;radius&quot;: 6.928203230275509, &quot;stroke&quot;: true, &quot;weight&quot;: 3}\n",
       "            ).addTo(map_872c175f5dec8ff2914d27a1f6935452);\n",
       "        \n",
       "    \n",
       "        var popup_a722b5e0a2f80dc2e1f3005a2a8700b2 = L.popup({\n",
       "  &quot;maxWidth&quot;: &quot;100%&quot;,\n",
       "  &quot;autoClose&quot;: null,\n",
       "  &quot;closeOnClick&quot;: null,\n",
       "});\n",
       "\n",
       "        \n",
       "            \n",
       "                var html_aa62ace95d8726672f070582f1f6cbf2 = $(`&lt;div id=&quot;html_aa62ace95d8726672f070582f1f6cbf2&quot; style=&quot;width: 100.0%; height: 100.0%;&quot;&gt;Denmark: 48 contents&lt;/div&gt;`)[0];\n",
       "                popup_a722b5e0a2f80dc2e1f3005a2a8700b2.setContent(html_aa62ace95d8726672f070582f1f6cbf2);\n",
       "            \n",
       "        \n",
       "\n",
       "        circle_marker_e31ce252bf8814a1e2fca4f789859310.bindPopup(popup_a722b5e0a2f80dc2e1f3005a2a8700b2)\n",
       "        ;\n",
       "\n",
       "        \n",
       "    \n",
       "    \n",
       "            var circle_marker_d814c71f9896b1f54a58d0dadb6eb06c = L.circleMarker(\n",
       "                [53.4129, -8.2439],\n",
       "                {&quot;bubblingMouseEvents&quot;: true, &quot;color&quot;: &quot;red&quot;, &quot;dashArray&quot;: null, &quot;dashOffset&quot;: null, &quot;fill&quot;: true, &quot;fillColor&quot;: &quot;black&quot;, &quot;fillOpacity&quot;: 0.7, &quot;fillRule&quot;: &quot;evenodd&quot;, &quot;lineCap&quot;: &quot;round&quot;, &quot;lineJoin&quot;: &quot;round&quot;, &quot;opacity&quot;: 1.0, &quot;radius&quot;: 6.782329983125268, &quot;stroke&quot;: true, &quot;weight&quot;: 3}\n",
       "            ).addTo(map_872c175f5dec8ff2914d27a1f6935452);\n",
       "        \n",
       "    \n",
       "        var popup_04d0e975670bcaa15d01b60d0ed5dfcb = L.popup({\n",
       "  &quot;maxWidth&quot;: &quot;100%&quot;,\n",
       "  &quot;autoClose&quot;: null,\n",
       "  &quot;closeOnClick&quot;: null,\n",
       "});\n",
       "\n",
       "        \n",
       "            \n",
       "                var html_efcf80d3e76856fa7cd199543b6e1a5c = $(`&lt;div id=&quot;html_efcf80d3e76856fa7cd199543b6e1a5c&quot; style=&quot;width: 100.0%; height: 100.0%;&quot;&gt;Ireland: 46 contents&lt;/div&gt;`)[0];\n",
       "                popup_04d0e975670bcaa15d01b60d0ed5dfcb.setContent(html_efcf80d3e76856fa7cd199543b6e1a5c);\n",
       "            \n",
       "        \n",
       "\n",
       "        circle_marker_d814c71f9896b1f54a58d0dadb6eb06c.bindPopup(popup_04d0e975670bcaa15d01b60d0ed5dfcb)\n",
       "        ;\n",
       "\n",
       "        \n",
       "    \n",
       "    \n",
       "            var circle_marker_e174b73ccbd14baadf8d0220db4a4241 = L.circleMarker(\n",
       "                [60.1282, 18.6435],\n",
       "                {&quot;bubblingMouseEvents&quot;: true, &quot;color&quot;: &quot;red&quot;, &quot;dashArray&quot;: null, &quot;dashOffset&quot;: null, &quot;fill&quot;: true, &quot;fillColor&quot;: &quot;black&quot;, &quot;fillOpacity&quot;: 0.7, &quot;fillRule&quot;: &quot;evenodd&quot;, &quot;lineCap&quot;: &quot;round&quot;, &quot;lineJoin&quot;: &quot;round&quot;, &quot;opacity&quot;: 1.0, &quot;radius&quot;: 6.48074069840786, &quot;stroke&quot;: true, &quot;weight&quot;: 3}\n",
       "            ).addTo(map_872c175f5dec8ff2914d27a1f6935452);\n",
       "        \n",
       "    \n",
       "        var popup_051a31ccbbc84f1a7d936b69c329b76e = L.popup({\n",
       "  &quot;maxWidth&quot;: &quot;100%&quot;,\n",
       "  &quot;autoClose&quot;: null,\n",
       "  &quot;closeOnClick&quot;: null,\n",
       "});\n",
       "\n",
       "        \n",
       "            \n",
       "                var html_6adc8941c48979943fcc125b775fa81d = $(`&lt;div id=&quot;html_6adc8941c48979943fcc125b775fa81d&quot; style=&quot;width: 100.0%; height: 100.0%;&quot;&gt;Sweden: 42 contents&lt;/div&gt;`)[0];\n",
       "                popup_051a31ccbbc84f1a7d936b69c329b76e.setContent(html_6adc8941c48979943fcc125b775fa81d);\n",
       "            \n",
       "        \n",
       "\n",
       "        circle_marker_e174b73ccbd14baadf8d0220db4a4241.bindPopup(popup_051a31ccbbc84f1a7d936b69c329b76e)\n",
       "        ;\n",
       "\n",
       "        \n",
       "    \n",
       "    \n",
       "            var circle_marker_3688b9bd3a1205c49258772b96a37524 = L.circleMarker(\n",
       "                [1.3521, 103.8198],\n",
       "                {&quot;bubblingMouseEvents&quot;: true, &quot;color&quot;: &quot;red&quot;, &quot;dashArray&quot;: null, &quot;dashOffset&quot;: null, &quot;fill&quot;: true, &quot;fillColor&quot;: &quot;black&quot;, &quot;fillOpacity&quot;: 0.7, &quot;fillRule&quot;: &quot;evenodd&quot;, &quot;lineCap&quot;: &quot;round&quot;, &quot;lineJoin&quot;: &quot;round&quot;, &quot;opacity&quot;: 1.0, &quot;radius&quot;: 6.4031242374328485, &quot;stroke&quot;: true, &quot;weight&quot;: 3}\n",
       "            ).addTo(map_872c175f5dec8ff2914d27a1f6935452);\n",
       "        \n",
       "    \n",
       "        var popup_5fe3d4017a2a388056771ce5d002e42a = L.popup({\n",
       "  &quot;maxWidth&quot;: &quot;100%&quot;,\n",
       "  &quot;autoClose&quot;: null,\n",
       "  &quot;closeOnClick&quot;: null,\n",
       "});\n",
       "\n",
       "        \n",
       "            \n",
       "                var html_a832072476d2909b3ac5f924380e2e37 = $(`&lt;div id=&quot;html_a832072476d2909b3ac5f924380e2e37&quot; style=&quot;width: 100.0%; height: 100.0%;&quot;&gt;Singapore: 41 contents&lt;/div&gt;`)[0];\n",
       "                popup_5fe3d4017a2a388056771ce5d002e42a.setContent(html_a832072476d2909b3ac5f924380e2e37);\n",
       "            \n",
       "        \n",
       "\n",
       "        circle_marker_3688b9bd3a1205c49258772b96a37524.bindPopup(popup_5fe3d4017a2a388056771ce5d002e42a)\n",
       "        ;\n",
       "\n",
       "        \n",
       "    \n",
       "    \n",
       "            var circle_marker_4eabdb9e4573aaae86d057427b22b94c = L.circleMarker(\n",
       "                [51.9194, 19.1451],\n",
       "                {&quot;bubblingMouseEvents&quot;: true, &quot;color&quot;: &quot;red&quot;, &quot;dashArray&quot;: null, &quot;dashOffset&quot;: null, &quot;fill&quot;: true, &quot;fillColor&quot;: &quot;black&quot;, &quot;fillOpacity&quot;: 0.7, &quot;fillRule&quot;: &quot;evenodd&quot;, &quot;lineCap&quot;: &quot;round&quot;, &quot;lineJoin&quot;: &quot;round&quot;, &quot;opacity&quot;: 1.0, &quot;radius&quot;: 6.324555320336759, &quot;stroke&quot;: true, &quot;weight&quot;: 3}\n",
       "            ).addTo(map_872c175f5dec8ff2914d27a1f6935452);\n",
       "        \n",
       "    \n",
       "        var popup_7282be56e7bbd35a6f24f8ee8ed2c8cd = L.popup({\n",
       "  &quot;maxWidth&quot;: &quot;100%&quot;,\n",
       "  &quot;autoClose&quot;: null,\n",
       "  &quot;closeOnClick&quot;: null,\n",
       "});\n",
       "\n",
       "        \n",
       "            \n",
       "                var html_3bbabd9819021ebafb3c80c8fde44985 = $(`&lt;div id=&quot;html_3bbabd9819021ebafb3c80c8fde44985&quot; style=&quot;width: 100.0%; height: 100.0%;&quot;&gt;Poland: 40 contents&lt;/div&gt;`)[0];\n",
       "                popup_7282be56e7bbd35a6f24f8ee8ed2c8cd.setContent(html_3bbabd9819021ebafb3c80c8fde44985);\n",
       "            \n",
       "        \n",
       "\n",
       "        circle_marker_4eabdb9e4573aaae86d057427b22b94c.bindPopup(popup_7282be56e7bbd35a6f24f8ee8ed2c8cd)\n",
       "        ;\n",
       "\n",
       "        \n",
       "    \n",
       "    \n",
       "            var circle_marker_ed884746e2a0fac39c6e0b34bfad966b = L.circleMarker(\n",
       "                [23.4241, 53.8478],\n",
       "                {&quot;bubblingMouseEvents&quot;: true, &quot;color&quot;: &quot;red&quot;, &quot;dashArray&quot;: null, &quot;dashOffset&quot;: null, &quot;fill&quot;: true, &quot;fillColor&quot;: &quot;black&quot;, &quot;fillOpacity&quot;: 0.7, &quot;fillRule&quot;: &quot;evenodd&quot;, &quot;lineCap&quot;: &quot;round&quot;, &quot;lineJoin&quot;: &quot;round&quot;, &quot;opacity&quot;: 1.0, &quot;radius&quot;: 6.082762530298219, &quot;stroke&quot;: true, &quot;weight&quot;: 3}\n",
       "            ).addTo(map_872c175f5dec8ff2914d27a1f6935452);\n",
       "        \n",
       "    \n",
       "        var popup_1dfbe3bdf2f48061a0e05fd4a61f9174 = L.popup({\n",
       "  &quot;maxWidth&quot;: &quot;100%&quot;,\n",
       "  &quot;autoClose&quot;: null,\n",
       "  &quot;closeOnClick&quot;: null,\n",
       "});\n",
       "\n",
       "        \n",
       "            \n",
       "                var html_ac61fc6d64d3ef441577979fca6ed913 = $(`&lt;div id=&quot;html_ac61fc6d64d3ef441577979fca6ed913&quot; style=&quot;width: 100.0%; height: 100.0%;&quot;&gt;United Arab Emirates: 37 contents&lt;/div&gt;`)[0];\n",
       "                popup_1dfbe3bdf2f48061a0e05fd4a61f9174.setContent(html_ac61fc6d64d3ef441577979fca6ed913);\n",
       "            \n",
       "        \n",
       "\n",
       "        circle_marker_ed884746e2a0fac39c6e0b34bfad966b.bindPopup(popup_1dfbe3bdf2f48061a0e05fd4a61f9174)\n",
       "        ;\n",
       "\n",
       "        \n",
       "    \n",
       "    \n",
       "            var circle_marker_9fcd1a0065f7eeb1c54bd0307c6e2f4e = L.circleMarker(\n",
       "                [-40.9006, 174.886],\n",
       "                {&quot;bubblingMouseEvents&quot;: true, &quot;color&quot;: &quot;red&quot;, &quot;dashArray&quot;: null, &quot;dashOffset&quot;: null, &quot;fill&quot;: true, &quot;fillColor&quot;: &quot;black&quot;, &quot;fillOpacity&quot;: 0.7, &quot;fillRule&quot;: &quot;evenodd&quot;, &quot;lineCap&quot;: &quot;round&quot;, &quot;lineJoin&quot;: &quot;round&quot;, &quot;opacity&quot;: 1.0, &quot;radius&quot;: 5.744562646538029, &quot;stroke&quot;: true, &quot;weight&quot;: 3}\n",
       "            ).addTo(map_872c175f5dec8ff2914d27a1f6935452);\n",
       "        \n",
       "    \n",
       "        var popup_f977c6c6f783a8a7e5c1068be9b7ead0 = L.popup({\n",
       "  &quot;maxWidth&quot;: &quot;100%&quot;,\n",
       "  &quot;autoClose&quot;: null,\n",
       "  &quot;closeOnClick&quot;: null,\n",
       "});\n",
       "\n",
       "        \n",
       "            \n",
       "                var html_d4eb3d1156df26d0679374c4c4393f4c = $(`&lt;div id=&quot;html_d4eb3d1156df26d0679374c4c4393f4c&quot; style=&quot;width: 100.0%; height: 100.0%;&quot;&gt;New Zealand: 33 contents&lt;/div&gt;`)[0];\n",
       "                popup_f977c6c6f783a8a7e5c1068be9b7ead0.setContent(html_d4eb3d1156df26d0679374c4c4393f4c);\n",
       "            \n",
       "        \n",
       "\n",
       "        circle_marker_9fcd1a0065f7eeb1c54bd0307c6e2f4e.bindPopup(popup_f977c6c6f783a8a7e5c1068be9b7ead0)\n",
       "        ;\n",
       "\n",
       "        \n",
       "    \n",
       "    \n",
       "            var circle_marker_95a6d6e8d851a1e9ebea87962c1f352a = L.circleMarker(\n",
       "                [33.8547, 35.8623],\n",
       "                {&quot;bubblingMouseEvents&quot;: true, &quot;color&quot;: &quot;red&quot;, &quot;dashArray&quot;: null, &quot;dashOffset&quot;: null, &quot;fill&quot;: true, &quot;fillColor&quot;: &quot;black&quot;, &quot;fillOpacity&quot;: 0.7, &quot;fillRule&quot;: &quot;evenodd&quot;, &quot;lineCap&quot;: &quot;round&quot;, &quot;lineJoin&quot;: &quot;round&quot;, &quot;opacity&quot;: 1.0, &quot;radius&quot;: 5.5677643628300215, &quot;stroke&quot;: true, &quot;weight&quot;: 3}\n",
       "            ).addTo(map_872c175f5dec8ff2914d27a1f6935452);\n",
       "        \n",
       "    \n",
       "        var popup_3e78c4cdaa6a046e5d75047f25822cef = L.popup({\n",
       "  &quot;maxWidth&quot;: &quot;100%&quot;,\n",
       "  &quot;autoClose&quot;: null,\n",
       "  &quot;closeOnClick&quot;: null,\n",
       "});\n",
       "\n",
       "        \n",
       "            \n",
       "                var html_d785d8e994df6ca0ee3a64e57e9f82c2 = $(`&lt;div id=&quot;html_d785d8e994df6ca0ee3a64e57e9f82c2&quot; style=&quot;width: 100.0%; height: 100.0%;&quot;&gt;Lebanon: 31 contents&lt;/div&gt;`)[0];\n",
       "                popup_3e78c4cdaa6a046e5d75047f25822cef.setContent(html_d785d8e994df6ca0ee3a64e57e9f82c2);\n",
       "            \n",
       "        \n",
       "\n",
       "        circle_marker_95a6d6e8d851a1e9ebea87962c1f352a.bindPopup(popup_3e78c4cdaa6a046e5d75047f25822cef)\n",
       "        ;\n",
       "\n",
       "        \n",
       "    \n",
       "    \n",
       "            var circle_marker_ebc51448b06698ee1856f668f6c51cfe = L.circleMarker(\n",
       "                [60.472, 8.4689],\n",
       "                {&quot;bubblingMouseEvents&quot;: true, &quot;color&quot;: &quot;red&quot;, &quot;dashArray&quot;: null, &quot;dashOffset&quot;: null, &quot;fill&quot;: true, &quot;fillColor&quot;: &quot;black&quot;, &quot;fillOpacity&quot;: 0.7, &quot;fillRule&quot;: &quot;evenodd&quot;, &quot;lineCap&quot;: &quot;round&quot;, &quot;lineJoin&quot;: &quot;round&quot;, &quot;opacity&quot;: 1.0, &quot;radius&quot;: 5.477225575051661, &quot;stroke&quot;: true, &quot;weight&quot;: 3}\n",
       "            ).addTo(map_872c175f5dec8ff2914d27a1f6935452);\n",
       "        \n",
       "    \n",
       "        var popup_699249aab969fb0d4a210a873a86194d = L.popup({\n",
       "  &quot;maxWidth&quot;: &quot;100%&quot;,\n",
       "  &quot;autoClose&quot;: null,\n",
       "  &quot;closeOnClick&quot;: null,\n",
       "});\n",
       "\n",
       "        \n",
       "            \n",
       "                var html_37fb7a8c77e4706a39531bf98822db5e = $(`&lt;div id=&quot;html_37fb7a8c77e4706a39531bf98822db5e&quot; style=&quot;width: 100.0%; height: 100.0%;&quot;&gt;Norway: 30 contents&lt;/div&gt;`)[0];\n",
       "                popup_699249aab969fb0d4a210a873a86194d.setContent(html_37fb7a8c77e4706a39531bf98822db5e);\n",
       "            \n",
       "        \n",
       "\n",
       "        circle_marker_ebc51448b06698ee1856f668f6c51cfe.bindPopup(popup_699249aab969fb0d4a210a873a86194d)\n",
       "        ;\n",
       "\n",
       "        \n",
       "    \n",
       "    \n",
       "            var circle_marker_c5cf336828c3273da9d2d791593d6536 = L.circleMarker(\n",
       "                [31.0461, 34.8516],\n",
       "                {&quot;bubblingMouseEvents&quot;: true, &quot;color&quot;: &quot;red&quot;, &quot;dashArray&quot;: null, &quot;dashOffset&quot;: null, &quot;fill&quot;: true, &quot;fillColor&quot;: &quot;black&quot;, &quot;fillOpacity&quot;: 0.7, &quot;fillRule&quot;: &quot;evenodd&quot;, &quot;lineCap&quot;: &quot;round&quot;, &quot;lineJoin&quot;: &quot;round&quot;, &quot;opacity&quot;: 1.0, &quot;radius&quot;: 5.477225575051661, &quot;stroke&quot;: true, &quot;weight&quot;: 3}\n",
       "            ).addTo(map_872c175f5dec8ff2914d27a1f6935452);\n",
       "        \n",
       "    \n",
       "        var popup_8c79ba4f9c9e13a571a8e79cd47725f6 = L.popup({\n",
       "  &quot;maxWidth&quot;: &quot;100%&quot;,\n",
       "  &quot;autoClose&quot;: null,\n",
       "  &quot;closeOnClick&quot;: null,\n",
       "});\n",
       "\n",
       "        \n",
       "            \n",
       "                var html_454b284ebe1d508996751812d60f427d = $(`&lt;div id=&quot;html_454b284ebe1d508996751812d60f427d&quot; style=&quot;width: 100.0%; height: 100.0%;&quot;&gt;Israel: 30 contents&lt;/div&gt;`)[0];\n",
       "                popup_8c79ba4f9c9e13a571a8e79cd47725f6.setContent(html_454b284ebe1d508996751812d60f427d);\n",
       "            \n",
       "        \n",
       "\n",
       "        circle_marker_c5cf336828c3273da9d2d791593d6536.bindPopup(popup_8c79ba4f9c9e13a571a8e79cd47725f6)\n",
       "        ;\n",
       "\n",
       "        \n",
       "    \n",
       "    \n",
       "            var circle_marker_efe83638bc8b92f18b0f1d9fd07096cc = L.circleMarker(\n",
       "                [-35.6751, -71.543],\n",
       "                {&quot;bubblingMouseEvents&quot;: true, &quot;color&quot;: &quot;red&quot;, &quot;dashArray&quot;: null, &quot;dashOffset&quot;: null, &quot;fill&quot;: true, &quot;fillColor&quot;: &quot;black&quot;, &quot;fillOpacity&quot;: 0.7, &quot;fillRule&quot;: &quot;evenodd&quot;, &quot;lineCap&quot;: &quot;round&quot;, &quot;lineJoin&quot;: &quot;round&quot;, &quot;opacity&quot;: 1.0, &quot;radius&quot;: 5.385164807134504, &quot;stroke&quot;: true, &quot;weight&quot;: 3}\n",
       "            ).addTo(map_872c175f5dec8ff2914d27a1f6935452);\n",
       "        \n",
       "    \n",
       "        var popup_0cd563364e89928fe3257ff6e6229b4a = L.popup({\n",
       "  &quot;maxWidth&quot;: &quot;100%&quot;,\n",
       "  &quot;autoClose&quot;: null,\n",
       "  &quot;closeOnClick&quot;: null,\n",
       "});\n",
       "\n",
       "        \n",
       "            \n",
       "                var html_841a9a4485128111c855defe9e7daef6 = $(`&lt;div id=&quot;html_841a9a4485128111c855defe9e7daef6&quot; style=&quot;width: 100.0%; height: 100.0%;&quot;&gt;Chile: 29 contents&lt;/div&gt;`)[0];\n",
       "                popup_0cd563364e89928fe3257ff6e6229b4a.setContent(html_841a9a4485128111c855defe9e7daef6);\n",
       "            \n",
       "        \n",
       "\n",
       "        circle_marker_efe83638bc8b92f18b0f1d9fd07096cc.bindPopup(popup_0cd563364e89928fe3257ff6e6229b4a)\n",
       "        ;\n",
       "\n",
       "        \n",
       "    \n",
       "    \n",
       "            var circle_marker_aa0b0bab935c06b1ed2522719c61889f = L.circleMarker(\n",
       "                [61.524, 105.3188],\n",
       "                {&quot;bubblingMouseEvents&quot;: true, &quot;color&quot;: &quot;red&quot;, &quot;dashArray&quot;: null, &quot;dashOffset&quot;: null, &quot;fill&quot;: true, &quot;fillColor&quot;: &quot;black&quot;, &quot;fillOpacity&quot;: 0.7, &quot;fillRule&quot;: &quot;evenodd&quot;, &quot;lineCap&quot;: &quot;round&quot;, &quot;lineJoin&quot;: &quot;round&quot;, &quot;opacity&quot;: 1.0, &quot;radius&quot;: 5.196152422706632, &quot;stroke&quot;: true, &quot;weight&quot;: 3}\n",
       "            ).addTo(map_872c175f5dec8ff2914d27a1f6935452);\n",
       "        \n",
       "    \n",
       "        var popup_1ed0357e91b19964843b66998801490a = L.popup({\n",
       "  &quot;maxWidth&quot;: &quot;100%&quot;,\n",
       "  &quot;autoClose&quot;: null,\n",
       "  &quot;closeOnClick&quot;: null,\n",
       "});\n",
       "\n",
       "        \n",
       "            \n",
       "                var html_d9c9e23d2088d850fc01a559318a1b27 = $(`&lt;div id=&quot;html_d9c9e23d2088d850fc01a559318a1b27&quot; style=&quot;width: 100.0%; height: 100.0%;&quot;&gt;Russia: 27 contents&lt;/div&gt;`)[0];\n",
       "                popup_1ed0357e91b19964843b66998801490a.setContent(html_d9c9e23d2088d850fc01a559318a1b27);\n",
       "            \n",
       "        \n",
       "\n",
       "        circle_marker_aa0b0bab935c06b1ed2522719c61889f.bindPopup(popup_1ed0357e91b19964843b66998801490a)\n",
       "        ;\n",
       "\n",
       "        \n",
       "    \n",
       "    \n",
       "            var circle_marker_2af550fd441091e0bd0a586c8fff2e78 = L.circleMarker(\n",
       "                [4.2105, 101.9758],\n",
       "                {&quot;bubblingMouseEvents&quot;: true, &quot;color&quot;: &quot;red&quot;, &quot;dashArray&quot;: null, &quot;dashOffset&quot;: null, &quot;fill&quot;: true, &quot;fillColor&quot;: &quot;black&quot;, &quot;fillOpacity&quot;: 0.7, &quot;fillRule&quot;: &quot;evenodd&quot;, &quot;lineCap&quot;: &quot;round&quot;, &quot;lineJoin&quot;: &quot;round&quot;, &quot;opacity&quot;: 1.0, &quot;radius&quot;: 5.0990195135927845, &quot;stroke&quot;: true, &quot;weight&quot;: 3}\n",
       "            ).addTo(map_872c175f5dec8ff2914d27a1f6935452);\n",
       "        \n",
       "    \n",
       "        var popup_c7b7a9e2ae9aa7f3a15f805d5f9a703e = L.popup({\n",
       "  &quot;maxWidth&quot;: &quot;100%&quot;,\n",
       "  &quot;autoClose&quot;: null,\n",
       "  &quot;closeOnClick&quot;: null,\n",
       "});\n",
       "\n",
       "        \n",
       "            \n",
       "                var html_5c35d34dd5128a486117271afdeab193 = $(`&lt;div id=&quot;html_5c35d34dd5128a486117271afdeab193&quot; style=&quot;width: 100.0%; height: 100.0%;&quot;&gt;Malaysia: 26 contents&lt;/div&gt;`)[0];\n",
       "                popup_c7b7a9e2ae9aa7f3a15f805d5f9a703e.setContent(html_5c35d34dd5128a486117271afdeab193);\n",
       "            \n",
       "        \n",
       "\n",
       "        circle_marker_2af550fd441091e0bd0a586c8fff2e78.bindPopup(popup_c7b7a9e2ae9aa7f3a15f805d5f9a703e)\n",
       "        ;\n",
       "\n",
       "        \n",
       "    \n",
       "    \n",
       "            var circle_marker_7d24ad38c913527d505596f9761a8429 = L.circleMarker(\n",
       "                [30.3753, 69.3451],\n",
       "                {&quot;bubblingMouseEvents&quot;: true, &quot;color&quot;: &quot;red&quot;, &quot;dashArray&quot;: null, &quot;dashOffset&quot;: null, &quot;fill&quot;: true, &quot;fillColor&quot;: &quot;black&quot;, &quot;fillOpacity&quot;: 0.7, &quot;fillRule&quot;: &quot;evenodd&quot;, &quot;lineCap&quot;: &quot;round&quot;, &quot;lineJoin&quot;: &quot;round&quot;, &quot;opacity&quot;: 1.0, &quot;radius&quot;: 4.898979485566356, &quot;stroke&quot;: true, &quot;weight&quot;: 3}\n",
       "            ).addTo(map_872c175f5dec8ff2914d27a1f6935452);\n",
       "        \n",
       "    \n",
       "        var popup_5e227028d2f8950663dd5170b4079d7f = L.popup({\n",
       "  &quot;maxWidth&quot;: &quot;100%&quot;,\n",
       "  &quot;autoClose&quot;: null,\n",
       "  &quot;closeOnClick&quot;: null,\n",
       "});\n",
       "\n",
       "        \n",
       "            \n",
       "                var html_231dae62bd140eb51231a24eb0d2cc73 = $(`&lt;div id=&quot;html_231dae62bd140eb51231a24eb0d2cc73&quot; style=&quot;width: 100.0%; height: 100.0%;&quot;&gt;Pakistan: 24 contents&lt;/div&gt;`)[0];\n",
       "                popup_5e227028d2f8950663dd5170b4079d7f.setContent(html_231dae62bd140eb51231a24eb0d2cc73);\n",
       "            \n",
       "        \n",
       "\n",
       "        circle_marker_7d24ad38c913527d505596f9761a8429.bindPopup(popup_5e227028d2f8950663dd5170b4079d7f)\n",
       "        ;\n",
       "\n",
       "        \n",
       "    \n",
       "    \n",
       "            var circle_marker_fa247aa4ce563cf47e9067ddd5002f80 = L.circleMarker(\n",
       "                [49.8175, 15.473],\n",
       "                {&quot;bubblingMouseEvents&quot;: true, &quot;color&quot;: &quot;red&quot;, &quot;dashArray&quot;: null, &quot;dashOffset&quot;: null, &quot;fill&quot;: true, &quot;fillColor&quot;: &quot;black&quot;, &quot;fillOpacity&quot;: 0.7, &quot;fillRule&quot;: &quot;evenodd&quot;, &quot;lineCap&quot;: &quot;round&quot;, &quot;lineJoin&quot;: &quot;round&quot;, &quot;opacity&quot;: 1.0, &quot;radius&quot;: 4.69041575982343, &quot;stroke&quot;: true, &quot;weight&quot;: 3}\n",
       "            ).addTo(map_872c175f5dec8ff2914d27a1f6935452);\n",
       "        \n",
       "    \n",
       "        var popup_269ac14d25622eb47bda07a8d83c7f39 = L.popup({\n",
       "  &quot;maxWidth&quot;: &quot;100%&quot;,\n",
       "  &quot;autoClose&quot;: null,\n",
       "  &quot;closeOnClick&quot;: null,\n",
       "});\n",
       "\n",
       "        \n",
       "            \n",
       "                var html_7122cf762cf00cf948a99e1f3c3c25a1 = $(`&lt;div id=&quot;html_7122cf762cf00cf948a99e1f3c3c25a1&quot; style=&quot;width: 100.0%; height: 100.0%;&quot;&gt;Czech Republic: 22 contents&lt;/div&gt;`)[0];\n",
       "                popup_269ac14d25622eb47bda07a8d83c7f39.setContent(html_7122cf762cf00cf948a99e1f3c3c25a1);\n",
       "            \n",
       "        \n",
       "\n",
       "        circle_marker_fa247aa4ce563cf47e9067ddd5002f80.bindPopup(popup_269ac14d25622eb47bda07a8d83c7f39)\n",
       "        ;\n",
       "\n",
       "        \n",
       "    \n",
       "    \n",
       "            var circle_marker_cb5455b610fcf2547863b47ca2ca5dd3 = L.circleMarker(\n",
       "                [46.8182, 8.2275],\n",
       "                {&quot;bubblingMouseEvents&quot;: true, &quot;color&quot;: &quot;red&quot;, &quot;dashArray&quot;: null, &quot;dashOffset&quot;: null, &quot;fill&quot;: true, &quot;fillColor&quot;: &quot;black&quot;, &quot;fillOpacity&quot;: 0.7, &quot;fillRule&quot;: &quot;evenodd&quot;, &quot;lineCap&quot;: &quot;round&quot;, &quot;lineJoin&quot;: &quot;round&quot;, &quot;opacity&quot;: 1.0, &quot;radius&quot;: 4.358898943540674, &quot;stroke&quot;: true, &quot;weight&quot;: 3}\n",
       "            ).addTo(map_872c175f5dec8ff2914d27a1f6935452);\n",
       "        \n",
       "    \n",
       "        var popup_00a6d08b2d6046b1b86013a6dc7cb35e = L.popup({\n",
       "  &quot;maxWidth&quot;: &quot;100%&quot;,\n",
       "  &quot;autoClose&quot;: null,\n",
       "  &quot;closeOnClick&quot;: null,\n",
       "});\n",
       "\n",
       "        \n",
       "            \n",
       "                var html_7d4e234bc55a74d17b90b279cd09d3a5 = $(`&lt;div id=&quot;html_7d4e234bc55a74d17b90b279cd09d3a5&quot; style=&quot;width: 100.0%; height: 100.0%;&quot;&gt;Switzerland: 19 contents&lt;/div&gt;`)[0];\n",
       "                popup_00a6d08b2d6046b1b86013a6dc7cb35e.setContent(html_7d4e234bc55a74d17b90b279cd09d3a5);\n",
       "            \n",
       "        \n",
       "\n",
       "        circle_marker_cb5455b610fcf2547863b47ca2ca5dd3.bindPopup(popup_00a6d08b2d6046b1b86013a6dc7cb35e)\n",
       "        ;\n",
       "\n",
       "        \n",
       "    \n",
       "    \n",
       "            var circle_marker_e2fdb9389f6cb0c4f2108d795fad2e4f = L.circleMarker(\n",
       "                [-32.5228, -55.7658],\n",
       "                {&quot;bubblingMouseEvents&quot;: true, &quot;color&quot;: &quot;red&quot;, &quot;dashArray&quot;: null, &quot;dashOffset&quot;: null, &quot;fill&quot;: true, &quot;fillColor&quot;: &quot;black&quot;, &quot;fillOpacity&quot;: 0.7, &quot;fillRule&quot;: &quot;evenodd&quot;, &quot;lineCap&quot;: &quot;round&quot;, &quot;lineJoin&quot;: &quot;round&quot;, &quot;opacity&quot;: 1.0, &quot;radius&quot;: 3.7416573867739413, &quot;stroke&quot;: true, &quot;weight&quot;: 3}\n",
       "            ).addTo(map_872c175f5dec8ff2914d27a1f6935452);\n",
       "        \n",
       "    \n",
       "        var popup_7d407028abc3019a0e71b96cb445dcca = L.popup({\n",
       "  &quot;maxWidth&quot;: &quot;100%&quot;,\n",
       "  &quot;autoClose&quot;: null,\n",
       "  &quot;closeOnClick&quot;: null,\n",
       "});\n",
       "\n",
       "        \n",
       "            \n",
       "                var html_2bab04f568fb1315387d52cbb4d4215b = $(`&lt;div id=&quot;html_2bab04f568fb1315387d52cbb4d4215b&quot; style=&quot;width: 100.0%; height: 100.0%;&quot;&gt;Uruguay: 14 contents&lt;/div&gt;`)[0];\n",
       "                popup_7d407028abc3019a0e71b96cb445dcca.setContent(html_2bab04f568fb1315387d52cbb4d4215b);\n",
       "            \n",
       "        \n",
       "\n",
       "        circle_marker_e2fdb9389f6cb0c4f2108d795fad2e4f.bindPopup(popup_7d407028abc3019a0e71b96cb445dcca)\n",
       "        ;\n",
       "\n",
       "        \n",
       "    \n",
       "    \n",
       "            var circle_marker_cd2700df2c8e29709a8d481820ee39d7 = L.circleMarker(\n",
       "                [45.9432, 24.9668],\n",
       "                {&quot;bubblingMouseEvents&quot;: true, &quot;color&quot;: &quot;red&quot;, &quot;dashArray&quot;: null, &quot;dashOffset&quot;: null, &quot;fill&quot;: true, &quot;fillColor&quot;: &quot;black&quot;, &quot;fillOpacity&quot;: 0.7, &quot;fillRule&quot;: &quot;evenodd&quot;, &quot;lineCap&quot;: &quot;round&quot;, &quot;lineJoin&quot;: &quot;round&quot;, &quot;opacity&quot;: 1.0, &quot;radius&quot;: 3.7416573867739413, &quot;stroke&quot;: true, &quot;weight&quot;: 3}\n",
       "            ).addTo(map_872c175f5dec8ff2914d27a1f6935452);\n",
       "        \n",
       "    \n",
       "        var popup_c203310ca89c62b6e0ad06c44135242b = L.popup({\n",
       "  &quot;maxWidth&quot;: &quot;100%&quot;,\n",
       "  &quot;autoClose&quot;: null,\n",
       "  &quot;closeOnClick&quot;: null,\n",
       "});\n",
       "\n",
       "        \n",
       "            \n",
       "                var html_ba89811a65221cec9c192b00447d03f6 = $(`&lt;div id=&quot;html_ba89811a65221cec9c192b00447d03f6&quot; style=&quot;width: 100.0%; height: 100.0%;&quot;&gt;Romania: 14 contents&lt;/div&gt;`)[0];\n",
       "                popup_c203310ca89c62b6e0ad06c44135242b.setContent(html_ba89811a65221cec9c192b00447d03f6);\n",
       "            \n",
       "        \n",
       "\n",
       "        circle_marker_cd2700df2c8e29709a8d481820ee39d7.bindPopup(popup_c203310ca89c62b6e0ad06c44135242b)\n",
       "        ;\n",
       "\n",
       "        \n",
       "    \n",
       "    \n",
       "            var circle_marker_56601b0ae7eef9be96e33ba666b541e3 = L.circleMarker(\n",
       "                [23.8859, 45.0792],\n",
       "                {&quot;bubblingMouseEvents&quot;: true, &quot;color&quot;: &quot;red&quot;, &quot;dashArray&quot;: null, &quot;dashOffset&quot;: null, &quot;fill&quot;: true, &quot;fillColor&quot;: &quot;black&quot;, &quot;fillOpacity&quot;: 0.7, &quot;fillRule&quot;: &quot;evenodd&quot;, &quot;lineCap&quot;: &quot;round&quot;, &quot;lineJoin&quot;: &quot;round&quot;, &quot;opacity&quot;: 1.0, &quot;radius&quot;: 3.605551275463989, &quot;stroke&quot;: true, &quot;weight&quot;: 3}\n",
       "            ).addTo(map_872c175f5dec8ff2914d27a1f6935452);\n",
       "        \n",
       "    \n",
       "        var popup_3ce4a8cb654db7d0e018a807843c9907 = L.popup({\n",
       "  &quot;maxWidth&quot;: &quot;100%&quot;,\n",
       "  &quot;autoClose&quot;: null,\n",
       "  &quot;closeOnClick&quot;: null,\n",
       "});\n",
       "\n",
       "        \n",
       "            \n",
       "                var html_66ffb1677fe88a2910dcf8a0fcd25497 = $(`&lt;div id=&quot;html_66ffb1677fe88a2910dcf8a0fcd25497&quot; style=&quot;width: 100.0%; height: 100.0%;&quot;&gt;Saudi Arabia: 13 contents&lt;/div&gt;`)[0];\n",
       "                popup_3ce4a8cb654db7d0e018a807843c9907.setContent(html_66ffb1677fe88a2910dcf8a0fcd25497);\n",
       "            \n",
       "        \n",
       "\n",
       "        circle_marker_56601b0ae7eef9be96e33ba666b541e3.bindPopup(popup_3ce4a8cb654db7d0e018a807843c9907)\n",
       "        ;\n",
       "\n",
       "        \n",
       "    \n",
       "    \n",
       "            var circle_marker_5f55222df66dd53431cc9bd062973635 = L.circleMarker(\n",
       "                [47.5162, 14.5501],\n",
       "                {&quot;bubblingMouseEvents&quot;: true, &quot;color&quot;: &quot;red&quot;, &quot;dashArray&quot;: null, &quot;dashOffset&quot;: null, &quot;fill&quot;: true, &quot;fillColor&quot;: &quot;black&quot;, &quot;fillOpacity&quot;: 0.7, &quot;fillRule&quot;: &quot;evenodd&quot;, &quot;lineCap&quot;: &quot;round&quot;, &quot;lineJoin&quot;: &quot;round&quot;, &quot;opacity&quot;: 1.0, &quot;radius&quot;: 3.4641016151377544, &quot;stroke&quot;: true, &quot;weight&quot;: 3}\n",
       "            ).addTo(map_872c175f5dec8ff2914d27a1f6935452);\n",
       "        \n",
       "    \n",
       "        var popup_1a18e99a092bad31e50cf3feb5446b83 = L.popup({\n",
       "  &quot;maxWidth&quot;: &quot;100%&quot;,\n",
       "  &quot;autoClose&quot;: null,\n",
       "  &quot;closeOnClick&quot;: null,\n",
       "});\n",
       "\n",
       "        \n",
       "            \n",
       "                var html_0be1b832ff99576f4bc7ab9f9348c0d3 = $(`&lt;div id=&quot;html_0be1b832ff99576f4bc7ab9f9348c0d3&quot; style=&quot;width: 100.0%; height: 100.0%;&quot;&gt;Austria: 12 contents&lt;/div&gt;`)[0];\n",
       "                popup_1a18e99a092bad31e50cf3feb5446b83.setContent(html_0be1b832ff99576f4bc7ab9f9348c0d3);\n",
       "            \n",
       "        \n",
       "\n",
       "        circle_marker_5f55222df66dd53431cc9bd062973635.bindPopup(popup_1a18e99a092bad31e50cf3feb5446b83)\n",
       "        ;\n",
       "\n",
       "        \n",
       "    \n",
       "    \n",
       "            var circle_marker_a7399580d779a418791f55fb44e2943c = L.circleMarker(\n",
       "                [49.8153, 6.1296],\n",
       "                {&quot;bubblingMouseEvents&quot;: true, &quot;color&quot;: &quot;red&quot;, &quot;dashArray&quot;: null, &quot;dashOffset&quot;: null, &quot;fill&quot;: true, &quot;fillColor&quot;: &quot;black&quot;, &quot;fillOpacity&quot;: 0.7, &quot;fillRule&quot;: &quot;evenodd&quot;, &quot;lineCap&quot;: &quot;round&quot;, &quot;lineJoin&quot;: &quot;round&quot;, &quot;opacity&quot;: 1.0, &quot;radius&quot;: 3.4641016151377544, &quot;stroke&quot;: true, &quot;weight&quot;: 3}\n",
       "            ).addTo(map_872c175f5dec8ff2914d27a1f6935452);\n",
       "        \n",
       "    \n",
       "        var popup_0b0f0ca5be4a623e885d161c1cb84a95 = L.popup({\n",
       "  &quot;maxWidth&quot;: &quot;100%&quot;,\n",
       "  &quot;autoClose&quot;: null,\n",
       "  &quot;closeOnClick&quot;: null,\n",
       "});\n",
       "\n",
       "        \n",
       "            \n",
       "                var html_7bf8585e43b640ad292bcd9e7b47f297 = $(`&lt;div id=&quot;html_7bf8585e43b640ad292bcd9e7b47f297&quot; style=&quot;width: 100.0%; height: 100.0%;&quot;&gt;Luxembourg: 12 contents&lt;/div&gt;`)[0];\n",
       "                popup_0b0f0ca5be4a623e885d161c1cb84a95.setContent(html_7bf8585e43b640ad292bcd9e7b47f297);\n",
       "            \n",
       "        \n",
       "\n",
       "        circle_marker_a7399580d779a418791f55fb44e2943c.bindPopup(popup_0b0f0ca5be4a623e885d161c1cb84a95)\n",
       "        ;\n",
       "\n",
       "        \n",
       "    \n",
       "    \n",
       "            var circle_marker_ac02c0bf377665e5675a259e429ec7ce = L.circleMarker(\n",
       "                [47.1625, 19.5033],\n",
       "                {&quot;bubblingMouseEvents&quot;: true, &quot;color&quot;: &quot;red&quot;, &quot;dashArray&quot;: null, &quot;dashOffset&quot;: null, &quot;fill&quot;: true, &quot;fillColor&quot;: &quot;black&quot;, &quot;fillOpacity&quot;: 0.7, &quot;fillRule&quot;: &quot;evenodd&quot;, &quot;lineCap&quot;: &quot;round&quot;, &quot;lineJoin&quot;: &quot;round&quot;, &quot;opacity&quot;: 1.0, &quot;radius&quot;: 3.3166247903554, &quot;stroke&quot;: true, &quot;weight&quot;: 3}\n",
       "            ).addTo(map_872c175f5dec8ff2914d27a1f6935452);\n",
       "        \n",
       "    \n",
       "        var popup_6e14117b8ea076b2e66a5e4f26377cf1 = L.popup({\n",
       "  &quot;maxWidth&quot;: &quot;100%&quot;,\n",
       "  &quot;autoClose&quot;: null,\n",
       "  &quot;closeOnClick&quot;: null,\n",
       "});\n",
       "\n",
       "        \n",
       "            \n",
       "                var html_b0efbfbb09b8148daa314b0ce75d9542 = $(`&lt;div id=&quot;html_b0efbfbb09b8148daa314b0ce75d9542&quot; style=&quot;width: 100.0%; height: 100.0%;&quot;&gt;Hungary: 11 contents&lt;/div&gt;`)[0];\n",
       "                popup_6e14117b8ea076b2e66a5e4f26377cf1.setContent(html_b0efbfbb09b8148daa314b0ce75d9542);\n",
       "            \n",
       "        \n",
       "\n",
       "        circle_marker_ac02c0bf377665e5675a259e429ec7ce.bindPopup(popup_6e14117b8ea076b2e66a5e4f26377cf1)\n",
       "        ;\n",
       "\n",
       "        \n",
       "    \n",
       "    \n",
       "            var circle_marker_9c047168e511b7acd1ff22ad95dd3462 = L.circleMarker(\n",
       "                [39.0742, 21.8243],\n",
       "                {&quot;bubblingMouseEvents&quot;: true, &quot;color&quot;: &quot;red&quot;, &quot;dashArray&quot;: null, &quot;dashOffset&quot;: null, &quot;fill&quot;: true, &quot;fillColor&quot;: &quot;black&quot;, &quot;fillOpacity&quot;: 0.7, &quot;fillRule&quot;: &quot;evenodd&quot;, &quot;lineCap&quot;: &quot;round&quot;, &quot;lineJoin&quot;: &quot;round&quot;, &quot;opacity&quot;: 1.0, &quot;radius&quot;: 3.3166247903554, &quot;stroke&quot;: true, &quot;weight&quot;: 3}\n",
       "            ).addTo(map_872c175f5dec8ff2914d27a1f6935452);\n",
       "        \n",
       "    \n",
       "        var popup_61b8a6b464dd62fb839a416b327f0027 = L.popup({\n",
       "  &quot;maxWidth&quot;: &quot;100%&quot;,\n",
       "  &quot;autoClose&quot;: null,\n",
       "  &quot;closeOnClick&quot;: null,\n",
       "});\n",
       "\n",
       "        \n",
       "            \n",
       "                var html_d4e49792e321e628b85c93f06daf0cf0 = $(`&lt;div id=&quot;html_d4e49792e321e628b85c93f06daf0cf0&quot; style=&quot;width: 100.0%; height: 100.0%;&quot;&gt;Greece: 11 contents&lt;/div&gt;`)[0];\n",
       "                popup_61b8a6b464dd62fb839a416b327f0027.setContent(html_d4e49792e321e628b85c93f06daf0cf0);\n",
       "            \n",
       "        \n",
       "\n",
       "        circle_marker_9c047168e511b7acd1ff22ad95dd3462.bindPopup(popup_61b8a6b464dd62fb839a416b327f0027)\n",
       "        ;\n",
       "\n",
       "        \n",
       "    \n",
       "    \n",
       "            var circle_marker_f2b97425c4ef9ffe76112552c83cf5d6 = L.circleMarker(\n",
       "                [64.9631, -19.0208],\n",
       "                {&quot;bubblingMouseEvents&quot;: true, &quot;color&quot;: &quot;red&quot;, &quot;dashArray&quot;: null, &quot;dashOffset&quot;: null, &quot;fill&quot;: true, &quot;fillColor&quot;: &quot;black&quot;, &quot;fillOpacity&quot;: 0.7, &quot;fillRule&quot;: &quot;evenodd&quot;, &quot;lineCap&quot;: &quot;round&quot;, &quot;lineJoin&quot;: &quot;round&quot;, &quot;opacity&quot;: 1.0, &quot;radius&quot;: 3.3166247903554, &quot;stroke&quot;: true, &quot;weight&quot;: 3}\n",
       "            ).addTo(map_872c175f5dec8ff2914d27a1f6935452);\n",
       "        \n",
       "    \n",
       "        var popup_c73706accf2de32e510d2e89c8cf7430 = L.popup({\n",
       "  &quot;maxWidth&quot;: &quot;100%&quot;,\n",
       "  &quot;autoClose&quot;: null,\n",
       "  &quot;closeOnClick&quot;: null,\n",
       "});\n",
       "\n",
       "        \n",
       "            \n",
       "                var html_826a5e547044368325ddcd78ca6790dd = $(`&lt;div id=&quot;html_826a5e547044368325ddcd78ca6790dd&quot; style=&quot;width: 100.0%; height: 100.0%;&quot;&gt;Iceland: 11 contents&lt;/div&gt;`)[0];\n",
       "                popup_c73706accf2de32e510d2e89c8cf7430.setContent(html_826a5e547044368325ddcd78ca6790dd);\n",
       "            \n",
       "        \n",
       "\n",
       "        circle_marker_f2b97425c4ef9ffe76112552c83cf5d6.bindPopup(popup_c73706accf2de32e510d2e89c8cf7430)\n",
       "        ;\n",
       "\n",
       "        \n",
       "    \n",
       "    \n",
       "            var circle_marker_1c85dae8c03996f907f238359a22d83e = L.circleMarker(\n",
       "                [61.9241, 25.7482],\n",
       "                {&quot;bubblingMouseEvents&quot;: true, &quot;color&quot;: &quot;red&quot;, &quot;dashArray&quot;: null, &quot;dashOffset&quot;: null, &quot;fill&quot;: true, &quot;fillColor&quot;: &quot;black&quot;, &quot;fillOpacity&quot;: 0.7, &quot;fillRule&quot;: &quot;evenodd&quot;, &quot;lineCap&quot;: &quot;round&quot;, &quot;lineJoin&quot;: &quot;round&quot;, &quot;opacity&quot;: 1.0, &quot;radius&quot;: 3.3166247903554, &quot;stroke&quot;: true, &quot;weight&quot;: 3}\n",
       "            ).addTo(map_872c175f5dec8ff2914d27a1f6935452);\n",
       "        \n",
       "    \n",
       "        var popup_a7926e49b9b586b242b9f3de504986fb = L.popup({\n",
       "  &quot;maxWidth&quot;: &quot;100%&quot;,\n",
       "  &quot;autoClose&quot;: null,\n",
       "  &quot;closeOnClick&quot;: null,\n",
       "});\n",
       "\n",
       "        \n",
       "            \n",
       "                var html_d2cf35fb64eaf3633f1619fb310a3ec7 = $(`&lt;div id=&quot;html_d2cf35fb64eaf3633f1619fb310a3ec7&quot; style=&quot;width: 100.0%; height: 100.0%;&quot;&gt;Finland: 11 contents&lt;/div&gt;`)[0];\n",
       "                popup_a7926e49b9b586b242b9f3de504986fb.setContent(html_d2cf35fb64eaf3633f1619fb310a3ec7);\n",
       "            \n",
       "        \n",
       "\n",
       "        circle_marker_1c85dae8c03996f907f238359a22d83e.bindPopup(popup_a7926e49b9b586b242b9f3de504986fb)\n",
       "        ;\n",
       "\n",
       "        \n",
       "    \n",
       "    \n",
       "            var circle_marker_e20242803ed81a38326cace1eaa01641 = L.circleMarker(\n",
       "                [-9.19, -75.0152],\n",
       "                {&quot;bubblingMouseEvents&quot;: true, &quot;color&quot;: &quot;red&quot;, &quot;dashArray&quot;: null, &quot;dashOffset&quot;: null, &quot;fill&quot;: true, &quot;fillColor&quot;: &quot;black&quot;, &quot;fillOpacity&quot;: 0.7, &quot;fillRule&quot;: &quot;evenodd&quot;, &quot;lineCap&quot;: &quot;round&quot;, &quot;lineJoin&quot;: &quot;round&quot;, &quot;opacity&quot;: 1.0, &quot;radius&quot;: 3.1622776601683795, &quot;stroke&quot;: true, &quot;weight&quot;: 3}\n",
       "            ).addTo(map_872c175f5dec8ff2914d27a1f6935452);\n",
       "        \n",
       "    \n",
       "        var popup_adf5144d782e3f6d2fd747a186287bb2 = L.popup({\n",
       "  &quot;maxWidth&quot;: &quot;100%&quot;,\n",
       "  &quot;autoClose&quot;: null,\n",
       "  &quot;closeOnClick&quot;: null,\n",
       "});\n",
       "\n",
       "        \n",
       "            \n",
       "                var html_4d2ec00904b7826583d48571a1148fdb = $(`&lt;div id=&quot;html_4d2ec00904b7826583d48571a1148fdb&quot; style=&quot;width: 100.0%; height: 100.0%;&quot;&gt;Peru: 10 contents&lt;/div&gt;`)[0];\n",
       "                popup_adf5144d782e3f6d2fd747a186287bb2.setContent(html_4d2ec00904b7826583d48571a1148fdb);\n",
       "            \n",
       "        \n",
       "\n",
       "        circle_marker_e20242803ed81a38326cace1eaa01641.bindPopup(popup_adf5144d782e3f6d2fd747a186287bb2)\n",
       "        ;\n",
       "\n",
       "        \n",
       "    \n",
       "    \n",
       "            var circle_marker_1cf87c04df9b30ec6b9c8db8c7a9f54c = L.circleMarker(\n",
       "                [25.3548, 51.1839],\n",
       "                {&quot;bubblingMouseEvents&quot;: true, &quot;color&quot;: &quot;red&quot;, &quot;dashArray&quot;: null, &quot;dashOffset&quot;: null, &quot;fill&quot;: true, &quot;fillColor&quot;: &quot;black&quot;, &quot;fillOpacity&quot;: 0.7, &quot;fillRule&quot;: &quot;evenodd&quot;, &quot;lineCap&quot;: &quot;round&quot;, &quot;lineJoin&quot;: &quot;round&quot;, &quot;opacity&quot;: 1.0, &quot;radius&quot;: 3.1622776601683795, &quot;stroke&quot;: true, &quot;weight&quot;: 3}\n",
       "            ).addTo(map_872c175f5dec8ff2914d27a1f6935452);\n",
       "        \n",
       "    \n",
       "        var popup_6347ad1155867ef4033ef6b6d43b7698 = L.popup({\n",
       "  &quot;maxWidth&quot;: &quot;100%&quot;,\n",
       "  &quot;autoClose&quot;: null,\n",
       "  &quot;closeOnClick&quot;: null,\n",
       "});\n",
       "\n",
       "        \n",
       "            \n",
       "                var html_cb09aa002a3fefa069134e436d1738bf = $(`&lt;div id=&quot;html_cb09aa002a3fefa069134e436d1738bf&quot; style=&quot;width: 100.0%; height: 100.0%;&quot;&gt;Qatar: 10 contents&lt;/div&gt;`)[0];\n",
       "                popup_6347ad1155867ef4033ef6b6d43b7698.setContent(html_cb09aa002a3fefa069134e436d1738bf);\n",
       "            \n",
       "        \n",
       "\n",
       "        circle_marker_1cf87c04df9b30ec6b9c8db8c7a9f54c.bindPopup(popup_6347ad1155867ef4033ef6b6d43b7698)\n",
       "        ;\n",
       "\n",
       "        \n",
       "    \n",
       "    \n",
       "            var circle_marker_5de8e28368e162e4a261e7309e225ec6 = L.circleMarker(\n",
       "                [42.7339, 25.4858],\n",
       "                {&quot;bubblingMouseEvents&quot;: true, &quot;color&quot;: &quot;red&quot;, &quot;dashArray&quot;: null, &quot;dashOffset&quot;: null, &quot;fill&quot;: true, &quot;fillColor&quot;: &quot;black&quot;, &quot;fillOpacity&quot;: 0.7, &quot;fillRule&quot;: &quot;evenodd&quot;, &quot;lineCap&quot;: &quot;round&quot;, &quot;lineJoin&quot;: &quot;round&quot;, &quot;opacity&quot;: 1.0, &quot;radius&quot;: 3.1622776601683795, &quot;stroke&quot;: true, &quot;weight&quot;: 3}\n",
       "            ).addTo(map_872c175f5dec8ff2914d27a1f6935452);\n",
       "        \n",
       "    \n",
       "        var popup_b9e6edc80a3da275e8f772c36148c697 = L.popup({\n",
       "  &quot;maxWidth&quot;: &quot;100%&quot;,\n",
       "  &quot;autoClose&quot;: null,\n",
       "  &quot;closeOnClick&quot;: null,\n",
       "});\n",
       "\n",
       "        \n",
       "            \n",
       "                var html_b1824e5dd780405e2fb862c8477b5ab4 = $(`&lt;div id=&quot;html_b1824e5dd780405e2fb862c8477b5ab4&quot; style=&quot;width: 100.0%; height: 100.0%;&quot;&gt;Bulgaria: 10 contents&lt;/div&gt;`)[0];\n",
       "                popup_b9e6edc80a3da275e8f772c36148c697.setContent(html_b1824e5dd780405e2fb862c8477b5ab4);\n",
       "            \n",
       "        \n",
       "\n",
       "        circle_marker_5de8e28368e162e4a261e7309e225ec6.bindPopup(popup_b9e6edc80a3da275e8f772c36148c697)\n",
       "        ;\n",
       "\n",
       "        \n",
       "    \n",
       "    \n",
       "            var circle_marker_4a8a15bd07fcf71f63eb7fcc2c0be359 = L.circleMarker(\n",
       "                [30.5852, 36.2384],\n",
       "                {&quot;bubblingMouseEvents&quot;: true, &quot;color&quot;: &quot;red&quot;, &quot;dashArray&quot;: null, &quot;dashOffset&quot;: null, &quot;fill&quot;: true, &quot;fillColor&quot;: &quot;black&quot;, &quot;fillOpacity&quot;: 0.7, &quot;fillRule&quot;: &quot;evenodd&quot;, &quot;lineCap&quot;: &quot;round&quot;, &quot;lineJoin&quot;: &quot;round&quot;, &quot;opacity&quot;: 1.0, &quot;radius&quot;: 3.0, &quot;stroke&quot;: true, &quot;weight&quot;: 3}\n",
       "            ).addTo(map_872c175f5dec8ff2914d27a1f6935452);\n",
       "        \n",
       "    \n",
       "        var popup_d67888ca6033d77432a673174e3d1306 = L.popup({\n",
       "  &quot;maxWidth&quot;: &quot;100%&quot;,\n",
       "  &quot;autoClose&quot;: null,\n",
       "  &quot;closeOnClick&quot;: null,\n",
       "});\n",
       "\n",
       "        \n",
       "            \n",
       "                var html_59471817ea55dbcfcc87d46b59058154 = $(`&lt;div id=&quot;html_59471817ea55dbcfcc87d46b59058154&quot; style=&quot;width: 100.0%; height: 100.0%;&quot;&gt;Jordan: 9 contents&lt;/div&gt;`)[0];\n",
       "                popup_d67888ca6033d77432a673174e3d1306.setContent(html_59471817ea55dbcfcc87d46b59058154);\n",
       "            \n",
       "        \n",
       "\n",
       "        circle_marker_4a8a15bd07fcf71f63eb7fcc2c0be359.bindPopup(popup_d67888ca6033d77432a673174e3d1306)\n",
       "        ;\n",
       "\n",
       "        \n",
       "    \n",
       "    \n",
       "            var circle_marker_0d57b37fb846664b8e808b29bdc538c4 = L.circleMarker(\n",
       "                [29.3117, 47.4818],\n",
       "                {&quot;bubblingMouseEvents&quot;: true, &quot;color&quot;: &quot;red&quot;, &quot;dashArray&quot;: null, &quot;dashOffset&quot;: null, &quot;fill&quot;: true, &quot;fillColor&quot;: &quot;black&quot;, &quot;fillOpacity&quot;: 0.7, &quot;fillRule&quot;: &quot;evenodd&quot;, &quot;lineCap&quot;: &quot;round&quot;, &quot;lineJoin&quot;: &quot;round&quot;, &quot;opacity&quot;: 1.0, &quot;radius&quot;: 2.8284271247461903, &quot;stroke&quot;: true, &quot;weight&quot;: 3}\n",
       "            ).addTo(map_872c175f5dec8ff2914d27a1f6935452);\n",
       "        \n",
       "    \n",
       "        var popup_2c84574fb76a8add24559781074769cc = L.popup({\n",
       "  &quot;maxWidth&quot;: &quot;100%&quot;,\n",
       "  &quot;autoClose&quot;: null,\n",
       "  &quot;closeOnClick&quot;: null,\n",
       "});\n",
       "\n",
       "        \n",
       "            \n",
       "                var html_bccab49c39105d9c39240a34f44a3695 = $(`&lt;div id=&quot;html_bccab49c39105d9c39240a34f44a3695&quot; style=&quot;width: 100.0%; height: 100.0%;&quot;&gt;Kuwait: 8 contents&lt;/div&gt;`)[0];\n",
       "                popup_2c84574fb76a8add24559781074769cc.setContent(html_bccab49c39105d9c39240a34f44a3695);\n",
       "            \n",
       "        \n",
       "\n",
       "        circle_marker_0d57b37fb846664b8e808b29bdc538c4.bindPopup(popup_2c84574fb76a8add24559781074769cc)\n",
       "        ;\n",
       "\n",
       "        \n",
       "    \n",
       "    \n",
       "            var circle_marker_151ade9f23cb33ab963afd6d08a12f56 = L.circleMarker(\n",
       "                [14.0583, 108.2772],\n",
       "                {&quot;bubblingMouseEvents&quot;: true, &quot;color&quot;: &quot;red&quot;, &quot;dashArray&quot;: null, &quot;dashOffset&quot;: null, &quot;fill&quot;: true, &quot;fillColor&quot;: &quot;black&quot;, &quot;fillOpacity&quot;: 0.7, &quot;fillRule&quot;: &quot;evenodd&quot;, &quot;lineCap&quot;: &quot;round&quot;, &quot;lineJoin&quot;: &quot;round&quot;, &quot;opacity&quot;: 1.0, &quot;radius&quot;: 2.6457513110645907, &quot;stroke&quot;: true, &quot;weight&quot;: 3}\n",
       "            ).addTo(map_872c175f5dec8ff2914d27a1f6935452);\n",
       "        \n",
       "    \n",
       "        var popup_7cf83377784340299cafadec0eacf6e1 = L.popup({\n",
       "  &quot;maxWidth&quot;: &quot;100%&quot;,\n",
       "  &quot;autoClose&quot;: null,\n",
       "  &quot;closeOnClick&quot;: null,\n",
       "});\n",
       "\n",
       "        \n",
       "            \n",
       "                var html_7bc11f6c189f97f99826337c8787081f = $(`&lt;div id=&quot;html_7bc11f6c189f97f99826337c8787081f&quot; style=&quot;width: 100.0%; height: 100.0%;&quot;&gt;Vietnam: 7 contents&lt;/div&gt;`)[0];\n",
       "                popup_7cf83377784340299cafadec0eacf6e1.setContent(html_7bc11f6c189f97f99826337c8787081f);\n",
       "            \n",
       "        \n",
       "\n",
       "        circle_marker_151ade9f23cb33ab963afd6d08a12f56.bindPopup(popup_7cf83377784340299cafadec0eacf6e1)\n",
       "        ;\n",
       "\n",
       "        \n",
       "    \n",
       "    \n",
       "            var circle_marker_ce9dd7a48833facf26ba819bc4da0e36 = L.circleMarker(\n",
       "                [44.0165, 21.0059],\n",
       "                {&quot;bubblingMouseEvents&quot;: true, &quot;color&quot;: &quot;red&quot;, &quot;dashArray&quot;: null, &quot;dashOffset&quot;: null, &quot;fill&quot;: true, &quot;fillColor&quot;: &quot;black&quot;, &quot;fillOpacity&quot;: 0.7, &quot;fillRule&quot;: &quot;evenodd&quot;, &quot;lineCap&quot;: &quot;round&quot;, &quot;lineJoin&quot;: &quot;round&quot;, &quot;opacity&quot;: 1.0, &quot;radius&quot;: 2.6457513110645907, &quot;stroke&quot;: true, &quot;weight&quot;: 3}\n",
       "            ).addTo(map_872c175f5dec8ff2914d27a1f6935452);\n",
       "        \n",
       "    \n",
       "        var popup_3ad1249c99ba10aceb40e5d557358d66 = L.popup({\n",
       "  &quot;maxWidth&quot;: &quot;100%&quot;,\n",
       "  &quot;autoClose&quot;: null,\n",
       "  &quot;closeOnClick&quot;: null,\n",
       "});\n",
       "\n",
       "        \n",
       "            \n",
       "                var html_2fa8e94d439cf7f00fea26b1e36239f6 = $(`&lt;div id=&quot;html_2fa8e94d439cf7f00fea26b1e36239f6&quot; style=&quot;width: 100.0%; height: 100.0%;&quot;&gt;Serbia: 7 contents&lt;/div&gt;`)[0];\n",
       "                popup_3ad1249c99ba10aceb40e5d557358d66.setContent(html_2fa8e94d439cf7f00fea26b1e36239f6);\n",
       "            \n",
       "        \n",
       "\n",
       "        circle_marker_ce9dd7a48833facf26ba819bc4da0e36.bindPopup(popup_3ad1249c99ba10aceb40e5d557358d66)\n",
       "        ;\n",
       "\n",
       "        \n",
       "    \n",
       "    \n",
       "            var circle_marker_0ed0457d0a1856d774245fc83c9ab995 = L.circleMarker(\n",
       "                [31.7917, -7.0926],\n",
       "                {&quot;bubblingMouseEvents&quot;: true, &quot;color&quot;: &quot;red&quot;, &quot;dashArray&quot;: null, &quot;dashOffset&quot;: null, &quot;fill&quot;: true, &quot;fillColor&quot;: &quot;black&quot;, &quot;fillOpacity&quot;: 0.7, &quot;fillRule&quot;: &quot;evenodd&quot;, &quot;lineCap&quot;: &quot;round&quot;, &quot;lineJoin&quot;: &quot;round&quot;, &quot;opacity&quot;: 1.0, &quot;radius&quot;: 2.449489742783178, &quot;stroke&quot;: true, &quot;weight&quot;: 3}\n",
       "            ).addTo(map_872c175f5dec8ff2914d27a1f6935452);\n",
       "        \n",
       "    \n",
       "        var popup_a37ef09ef21f788af684d9109d6c8ea1 = L.popup({\n",
       "  &quot;maxWidth&quot;: &quot;100%&quot;,\n",
       "  &quot;autoClose&quot;: null,\n",
       "  &quot;closeOnClick&quot;: null,\n",
       "});\n",
       "\n",
       "        \n",
       "            \n",
       "                var html_d0b52bd1df1bb0cce7397e108057f34a = $(`&lt;div id=&quot;html_d0b52bd1df1bb0cce7397e108057f34a&quot; style=&quot;width: 100.0%; height: 100.0%;&quot;&gt;Morocco: 6 contents&lt;/div&gt;`)[0];\n",
       "                popup_a37ef09ef21f788af684d9109d6c8ea1.setContent(html_d0b52bd1df1bb0cce7397e108057f34a);\n",
       "            \n",
       "        \n",
       "\n",
       "        circle_marker_0ed0457d0a1856d774245fc83c9ab995.bindPopup(popup_a37ef09ef21f788af684d9109d6c8ea1)\n",
       "        ;\n",
       "\n",
       "        \n",
       "    \n",
       "    \n",
       "            var circle_marker_8022d587e92cfa522f04365dcb4b77bc = L.circleMarker(\n",
       "                [-1.286389, 36.817223],\n",
       "                {&quot;bubblingMouseEvents&quot;: true, &quot;color&quot;: &quot;red&quot;, &quot;dashArray&quot;: null, &quot;dashOffset&quot;: null, &quot;fill&quot;: true, &quot;fillColor&quot;: &quot;black&quot;, &quot;fillOpacity&quot;: 0.7, &quot;fillRule&quot;: &quot;evenodd&quot;, &quot;lineCap&quot;: &quot;round&quot;, &quot;lineJoin&quot;: &quot;round&quot;, &quot;opacity&quot;: 1.0, &quot;radius&quot;: 2.449489742783178, &quot;stroke&quot;: true, &quot;weight&quot;: 3}\n",
       "            ).addTo(map_872c175f5dec8ff2914d27a1f6935452);\n",
       "        \n",
       "    \n",
       "        var popup_ea561da05b4a4586dbbcd0365f0bb93e = L.popup({\n",
       "  &quot;maxWidth&quot;: &quot;100%&quot;,\n",
       "  &quot;autoClose&quot;: null,\n",
       "  &quot;closeOnClick&quot;: null,\n",
       "});\n",
       "\n",
       "        \n",
       "            \n",
       "                var html_a76dc63729b9e6ac15a4e42541c456b0 = $(`&lt;div id=&quot;html_a76dc63729b9e6ac15a4e42541c456b0&quot; style=&quot;width: 100.0%; height: 100.0%;&quot;&gt;Kenya: 6 contents&lt;/div&gt;`)[0];\n",
       "                popup_ea561da05b4a4586dbbcd0365f0bb93e.setContent(html_a76dc63729b9e6ac15a4e42541c456b0);\n",
       "            \n",
       "        \n",
       "\n",
       "        circle_marker_8022d587e92cfa522f04365dcb4b77bc.bindPopup(popup_ea561da05b4a4586dbbcd0365f0bb93e)\n",
       "        ;\n",
       "\n",
       "        \n",
       "    \n",
       "    \n",
       "            var circle_marker_4f0f36bb5ca8a725cbaa67d282083850 = L.circleMarker(\n",
       "                [39.3999, -8.2245],\n",
       "                {&quot;bubblingMouseEvents&quot;: true, &quot;color&quot;: &quot;red&quot;, &quot;dashArray&quot;: null, &quot;dashOffset&quot;: null, &quot;fill&quot;: true, &quot;fillColor&quot;: &quot;black&quot;, &quot;fillOpacity&quot;: 0.7, &quot;fillRule&quot;: &quot;evenodd&quot;, &quot;lineCap&quot;: &quot;round&quot;, &quot;lineJoin&quot;: &quot;round&quot;, &quot;opacity&quot;: 1.0, &quot;radius&quot;: 2.449489742783178, &quot;stroke&quot;: true, &quot;weight&quot;: 3}\n",
       "            ).addTo(map_872c175f5dec8ff2914d27a1f6935452);\n",
       "        \n",
       "    \n",
       "        var popup_86d89b459bc2b8eacbfbc34dbca17d30 = L.popup({\n",
       "  &quot;maxWidth&quot;: &quot;100%&quot;,\n",
       "  &quot;autoClose&quot;: null,\n",
       "  &quot;closeOnClick&quot;: null,\n",
       "});\n",
       "\n",
       "        \n",
       "            \n",
       "                var html_df136931c5a9d87d6f58b9000df19f11 = $(`&lt;div id=&quot;html_df136931c5a9d87d6f58b9000df19f11&quot; style=&quot;width: 100.0%; height: 100.0%;&quot;&gt;Portugal: 6 contents&lt;/div&gt;`)[0];\n",
       "                popup_86d89b459bc2b8eacbfbc34dbca17d30.setContent(html_df136931c5a9d87d6f58b9000df19f11);\n",
       "            \n",
       "        \n",
       "\n",
       "        circle_marker_4f0f36bb5ca8a725cbaa67d282083850.bindPopup(popup_86d89b459bc2b8eacbfbc34dbca17d30)\n",
       "        ;\n",
       "\n",
       "        \n",
       "    \n",
       "    \n",
       "            var circle_marker_4e0ad9763e3b9123a5359890b6189945 = L.circleMarker(\n",
       "                [12.5657, 104.991],\n",
       "                {&quot;bubblingMouseEvents&quot;: true, &quot;color&quot;: &quot;red&quot;, &quot;dashArray&quot;: null, &quot;dashOffset&quot;: null, &quot;fill&quot;: true, &quot;fillColor&quot;: &quot;black&quot;, &quot;fillOpacity&quot;: 0.7, &quot;fillRule&quot;: &quot;evenodd&quot;, &quot;lineCap&quot;: &quot;round&quot;, &quot;lineJoin&quot;: &quot;round&quot;, &quot;opacity&quot;: 1.0, &quot;radius&quot;: 2.23606797749979, &quot;stroke&quot;: true, &quot;weight&quot;: 3}\n",
       "            ).addTo(map_872c175f5dec8ff2914d27a1f6935452);\n",
       "        \n",
       "    \n",
       "        var popup_c9ff2ce15ee49d842354c5a2d4fba64f = L.popup({\n",
       "  &quot;maxWidth&quot;: &quot;100%&quot;,\n",
       "  &quot;autoClose&quot;: null,\n",
       "  &quot;closeOnClick&quot;: null,\n",
       "});\n",
       "\n",
       "        \n",
       "            \n",
       "                var html_ee24665b6c53c222f96a09f364e8516d = $(`&lt;div id=&quot;html_ee24665b6c53c222f96a09f364e8516d&quot; style=&quot;width: 100.0%; height: 100.0%;&quot;&gt;Cambodia: 5 contents&lt;/div&gt;`)[0];\n",
       "                popup_c9ff2ce15ee49d842354c5a2d4fba64f.setContent(html_ee24665b6c53c222f96a09f364e8516d);\n",
       "            \n",
       "        \n",
       "\n",
       "        circle_marker_4e0ad9763e3b9123a5359890b6189945.bindPopup(popup_c9ff2ce15ee49d842354c5a2d4fba64f)\n",
       "        ;\n",
       "\n",
       "        \n",
       "    \n",
       "    \n",
       "            var circle_marker_77ff25f5d1882dd221bb9d3e085eeb16 = L.circleMarker(\n",
       "                [7.9465, -1.0232],\n",
       "                {&quot;bubblingMouseEvents&quot;: true, &quot;color&quot;: &quot;red&quot;, &quot;dashArray&quot;: null, &quot;dashOffset&quot;: null, &quot;fill&quot;: true, &quot;fillColor&quot;: &quot;black&quot;, &quot;fillOpacity&quot;: 0.7, &quot;fillRule&quot;: &quot;evenodd&quot;, &quot;lineCap&quot;: &quot;round&quot;, &quot;lineJoin&quot;: &quot;round&quot;, &quot;opacity&quot;: 1.0, &quot;radius&quot;: 2.23606797749979, &quot;stroke&quot;: true, &quot;weight&quot;: 3}\n",
       "            ).addTo(map_872c175f5dec8ff2914d27a1f6935452);\n",
       "        \n",
       "    \n",
       "        var popup_008dba887fc5067984a9dd49a7cf09d2 = L.popup({\n",
       "  &quot;maxWidth&quot;: &quot;100%&quot;,\n",
       "  &quot;autoClose&quot;: null,\n",
       "  &quot;closeOnClick&quot;: null,\n",
       "});\n",
       "\n",
       "        \n",
       "            \n",
       "                var html_e247dbe3e1493eb084793f9d91ae8207 = $(`&lt;div id=&quot;html_e247dbe3e1493eb084793f9d91ae8207&quot; style=&quot;width: 100.0%; height: 100.0%;&quot;&gt;Ghana: 5 contents&lt;/div&gt;`)[0];\n",
       "                popup_008dba887fc5067984a9dd49a7cf09d2.setContent(html_e247dbe3e1493eb084793f9d91ae8207);\n",
       "            \n",
       "        \n",
       "\n",
       "        circle_marker_77ff25f5d1882dd221bb9d3e085eeb16.bindPopup(popup_008dba887fc5067984a9dd49a7cf09d2)\n",
       "        ;\n",
       "\n",
       "        \n",
       "    \n",
       "    \n",
       "            var circle_marker_8138a43f4bff682618a016a96ba05265 = L.circleMarker(\n",
       "                [6.4238, -66.5897],\n",
       "                {&quot;bubblingMouseEvents&quot;: true, &quot;color&quot;: &quot;red&quot;, &quot;dashArray&quot;: null, &quot;dashOffset&quot;: null, &quot;fill&quot;: true, &quot;fillColor&quot;: &quot;black&quot;, &quot;fillOpacity&quot;: 0.7, &quot;fillRule&quot;: &quot;evenodd&quot;, &quot;lineCap&quot;: &quot;round&quot;, &quot;lineJoin&quot;: &quot;round&quot;, &quot;opacity&quot;: 1.0, &quot;radius&quot;: 2.0, &quot;stroke&quot;: true, &quot;weight&quot;: 3}\n",
       "            ).addTo(map_872c175f5dec8ff2914d27a1f6935452);\n",
       "        \n",
       "    \n",
       "        var popup_7a49aafa80291a9f848a1fb8702d9d97 = L.popup({\n",
       "  &quot;maxWidth&quot;: &quot;100%&quot;,\n",
       "  &quot;autoClose&quot;: null,\n",
       "  &quot;closeOnClick&quot;: null,\n",
       "});\n",
       "\n",
       "        \n",
       "            \n",
       "                var html_01f9fb5e4c2a52d87e78d599b1d6584e = $(`&lt;div id=&quot;html_01f9fb5e4c2a52d87e78d599b1d6584e&quot; style=&quot;width: 100.0%; height: 100.0%;&quot;&gt;Venezuela: 4 contents&lt;/div&gt;`)[0];\n",
       "                popup_7a49aafa80291a9f848a1fb8702d9d97.setContent(html_01f9fb5e4c2a52d87e78d599b1d6584e);\n",
       "            \n",
       "        \n",
       "\n",
       "        circle_marker_8138a43f4bff682618a016a96ba05265.bindPopup(popup_7a49aafa80291a9f848a1fb8702d9d97)\n",
       "        ;\n",
       "\n",
       "        \n",
       "    \n",
       "    \n",
       "            var circle_marker_7ef22f5964fc618ccdb07bb406067056 = L.circleMarker(\n",
       "                [32.4279, 53.688],\n",
       "                {&quot;bubblingMouseEvents&quot;: true, &quot;color&quot;: &quot;red&quot;, &quot;dashArray&quot;: null, &quot;dashOffset&quot;: null, &quot;fill&quot;: true, &quot;fillColor&quot;: &quot;black&quot;, &quot;fillOpacity&quot;: 0.7, &quot;fillRule&quot;: &quot;evenodd&quot;, &quot;lineCap&quot;: &quot;round&quot;, &quot;lineJoin&quot;: &quot;round&quot;, &quot;opacity&quot;: 1.0, &quot;radius&quot;: 2.0, &quot;stroke&quot;: true, &quot;weight&quot;: 3}\n",
       "            ).addTo(map_872c175f5dec8ff2914d27a1f6935452);\n",
       "        \n",
       "    \n",
       "        var popup_a803d31630a680705fadbcaddc0e9542 = L.popup({\n",
       "  &quot;maxWidth&quot;: &quot;100%&quot;,\n",
       "  &quot;autoClose&quot;: null,\n",
       "  &quot;closeOnClick&quot;: null,\n",
       "});\n",
       "\n",
       "        \n",
       "            \n",
       "                var html_3fbae19d3bd402d176bc5fa3caf756a5 = $(`&lt;div id=&quot;html_3fbae19d3bd402d176bc5fa3caf756a5&quot; style=&quot;width: 100.0%; height: 100.0%;&quot;&gt;Iran: 4 contents&lt;/div&gt;`)[0];\n",
       "                popup_a803d31630a680705fadbcaddc0e9542.setContent(html_3fbae19d3bd402d176bc5fa3caf756a5);\n",
       "            \n",
       "        \n",
       "\n",
       "        circle_marker_7ef22f5964fc618ccdb07bb406067056.bindPopup(popup_a803d31630a680705fadbcaddc0e9542)\n",
       "        ;\n",
       "\n",
       "        \n",
       "    \n",
       "    \n",
       "            var circle_marker_9d077dac2d77bf77457ff3dabd9fd94b = L.circleMarker(\n",
       "                [23.685, 90.3563],\n",
       "                {&quot;bubblingMouseEvents&quot;: true, &quot;color&quot;: &quot;red&quot;, &quot;dashArray&quot;: null, &quot;dashOffset&quot;: null, &quot;fill&quot;: true, &quot;fillColor&quot;: &quot;black&quot;, &quot;fillOpacity&quot;: 0.7, &quot;fillRule&quot;: &quot;evenodd&quot;, &quot;lineCap&quot;: &quot;round&quot;, &quot;lineJoin&quot;: &quot;round&quot;, &quot;opacity&quot;: 1.0, &quot;radius&quot;: 2.0, &quot;stroke&quot;: true, &quot;weight&quot;: 3}\n",
       "            ).addTo(map_872c175f5dec8ff2914d27a1f6935452);\n",
       "        \n",
       "    \n",
       "        var popup_4018e3004479c2e25997966bbe4238ef = L.popup({\n",
       "  &quot;maxWidth&quot;: &quot;100%&quot;,\n",
       "  &quot;autoClose&quot;: null,\n",
       "  &quot;closeOnClick&quot;: null,\n",
       "});\n",
       "\n",
       "        \n",
       "            \n",
       "                var html_b7b48f4914e9af2f6ea2cb5f09e5690a = $(`&lt;div id=&quot;html_b7b48f4914e9af2f6ea2cb5f09e5690a&quot; style=&quot;width: 100.0%; height: 100.0%;&quot;&gt;Bangladesh: 4 contents&lt;/div&gt;`)[0];\n",
       "                popup_4018e3004479c2e25997966bbe4238ef.setContent(html_b7b48f4914e9af2f6ea2cb5f09e5690a);\n",
       "            \n",
       "        \n",
       "\n",
       "        circle_marker_9d077dac2d77bf77457ff3dabd9fd94b.bindPopup(popup_4018e3004479c2e25997966bbe4238ef)\n",
       "        ;\n",
       "\n",
       "        \n",
       "    \n",
       "    \n",
       "            var circle_marker_1f9393d80b84cef8b266ed0715d992c9 = L.circleMarker(\n",
       "                [45.1, 15.2],\n",
       "                {&quot;bubblingMouseEvents&quot;: true, &quot;color&quot;: &quot;red&quot;, &quot;dashArray&quot;: null, &quot;dashOffset&quot;: null, &quot;fill&quot;: true, &quot;fillColor&quot;: &quot;black&quot;, &quot;fillOpacity&quot;: 0.7, &quot;fillRule&quot;: &quot;evenodd&quot;, &quot;lineCap&quot;: &quot;round&quot;, &quot;lineJoin&quot;: &quot;round&quot;, &quot;opacity&quot;: 1.0, &quot;radius&quot;: 2.0, &quot;stroke&quot;: true, &quot;weight&quot;: 3}\n",
       "            ).addTo(map_872c175f5dec8ff2914d27a1f6935452);\n",
       "        \n",
       "    \n",
       "        var popup_6a263ab0a9ac04f38f0ad0d8f0c4f3c1 = L.popup({\n",
       "  &quot;maxWidth&quot;: &quot;100%&quot;,\n",
       "  &quot;autoClose&quot;: null,\n",
       "  &quot;closeOnClick&quot;: null,\n",
       "});\n",
       "\n",
       "        \n",
       "            \n",
       "                var html_69ec083b124b287cc1012ece31a5413d = $(`&lt;div id=&quot;html_69ec083b124b287cc1012ece31a5413d&quot; style=&quot;width: 100.0%; height: 100.0%;&quot;&gt;Croatia: 4 contents&lt;/div&gt;`)[0];\n",
       "                popup_6a263ab0a9ac04f38f0ad0d8f0c4f3c1.setContent(html_69ec083b124b287cc1012ece31a5413d);\n",
       "            \n",
       "        \n",
       "\n",
       "        circle_marker_1f9393d80b84cef8b266ed0715d992c9.bindPopup(popup_6a263ab0a9ac04f38f0ad0d8f0c4f3c1)\n",
       "        ;\n",
       "\n",
       "        \n",
       "    \n",
       "    \n",
       "            var circle_marker_e5ca78dc5ffb54476d9f6ea125798303 = L.circleMarker(\n",
       "                [48.3794, 31.1656],\n",
       "                {&quot;bubblingMouseEvents&quot;: true, &quot;color&quot;: &quot;red&quot;, &quot;dashArray&quot;: null, &quot;dashOffset&quot;: null, &quot;fill&quot;: true, &quot;fillColor&quot;: &quot;black&quot;, &quot;fillOpacity&quot;: 0.7, &quot;fillRule&quot;: &quot;evenodd&quot;, &quot;lineCap&quot;: &quot;round&quot;, &quot;lineJoin&quot;: &quot;round&quot;, &quot;opacity&quot;: 1.0, &quot;radius&quot;: 1.7320508075688772, &quot;stroke&quot;: true, &quot;weight&quot;: 3}\n",
       "            ).addTo(map_872c175f5dec8ff2914d27a1f6935452);\n",
       "        \n",
       "    \n",
       "        var popup_f3e71a29b619b6a8e458d8bc82a24967 = L.popup({\n",
       "  &quot;maxWidth&quot;: &quot;100%&quot;,\n",
       "  &quot;autoClose&quot;: null,\n",
       "  &quot;closeOnClick&quot;: null,\n",
       "});\n",
       "\n",
       "        \n",
       "            \n",
       "                var html_926d04d098ae1b3b69bfc1c040156050 = $(`&lt;div id=&quot;html_926d04d098ae1b3b69bfc1c040156050&quot; style=&quot;width: 100.0%; height: 100.0%;&quot;&gt;Ukraine: 3 contents&lt;/div&gt;`)[0];\n",
       "                popup_f3e71a29b619b6a8e458d8bc82a24967.setContent(html_926d04d098ae1b3b69bfc1c040156050);\n",
       "            \n",
       "        \n",
       "\n",
       "        circle_marker_e5ca78dc5ffb54476d9f6ea125798303.bindPopup(popup_f3e71a29b619b6a8e458d8bc82a24967)\n",
       "        ;\n",
       "\n",
       "        \n",
       "    \n",
       "    \n",
       "            var circle_marker_83df2c66c5e79d0b1efe47ca7f3f89f0 = L.circleMarker(\n",
       "                [35.9375, 14.3754],\n",
       "                {&quot;bubblingMouseEvents&quot;: true, &quot;color&quot;: &quot;red&quot;, &quot;dashArray&quot;: null, &quot;dashOffset&quot;: null, &quot;fill&quot;: true, &quot;fillColor&quot;: &quot;black&quot;, &quot;fillOpacity&quot;: 0.7, &quot;fillRule&quot;: &quot;evenodd&quot;, &quot;lineCap&quot;: &quot;round&quot;, &quot;lineJoin&quot;: &quot;round&quot;, &quot;opacity&quot;: 1.0, &quot;radius&quot;: 1.7320508075688772, &quot;stroke&quot;: true, &quot;weight&quot;: 3}\n",
       "            ).addTo(map_872c175f5dec8ff2914d27a1f6935452);\n",
       "        \n",
       "    \n",
       "        var popup_809e2d185fcb51b07baa7fd1fe8f6769 = L.popup({\n",
       "  &quot;maxWidth&quot;: &quot;100%&quot;,\n",
       "  &quot;autoClose&quot;: null,\n",
       "  &quot;closeOnClick&quot;: null,\n",
       "});\n",
       "\n",
       "        \n",
       "            \n",
       "                var html_06c609702ade1e0e57a1b94d64f80e73 = $(`&lt;div id=&quot;html_06c609702ade1e0e57a1b94d64f80e73&quot; style=&quot;width: 100.0%; height: 100.0%;&quot;&gt;Malta: 3 contents&lt;/div&gt;`)[0];\n",
       "                popup_809e2d185fcb51b07baa7fd1fe8f6769.setContent(html_06c609702ade1e0e57a1b94d64f80e73);\n",
       "            \n",
       "        \n",
       "\n",
       "        circle_marker_83df2c66c5e79d0b1efe47ca7f3f89f0.bindPopup(popup_809e2d185fcb51b07baa7fd1fe8f6769)\n",
       "        ;\n",
       "\n",
       "        \n",
       "    \n",
       "    \n",
       "            var circle_marker_4ad85dbaa33bafae09fe8e7064d699cf = L.circleMarker(\n",
       "                [34.8021, 38.9968],\n",
       "                {&quot;bubblingMouseEvents&quot;: true, &quot;color&quot;: &quot;red&quot;, &quot;dashArray&quot;: null, &quot;dashOffset&quot;: null, &quot;fill&quot;: true, &quot;fillColor&quot;: &quot;black&quot;, &quot;fillOpacity&quot;: 0.7, &quot;fillRule&quot;: &quot;evenodd&quot;, &quot;lineCap&quot;: &quot;round&quot;, &quot;lineJoin&quot;: &quot;round&quot;, &quot;opacity&quot;: 1.0, &quot;radius&quot;: 1.7320508075688772, &quot;stroke&quot;: true, &quot;weight&quot;: 3}\n",
       "            ).addTo(map_872c175f5dec8ff2914d27a1f6935452);\n",
       "        \n",
       "    \n",
       "        var popup_c4bfc6bb4171004e6c769ea565e1ac82 = L.popup({\n",
       "  &quot;maxWidth&quot;: &quot;100%&quot;,\n",
       "  &quot;autoClose&quot;: null,\n",
       "  &quot;closeOnClick&quot;: null,\n",
       "});\n",
       "\n",
       "        \n",
       "            \n",
       "                var html_6a61ff891803ef26764aaf55c7f81284 = $(`&lt;div id=&quot;html_6a61ff891803ef26764aaf55c7f81284&quot; style=&quot;width: 100.0%; height: 100.0%;&quot;&gt;Syria: 3 contents&lt;/div&gt;`)[0];\n",
       "                popup_c4bfc6bb4171004e6c769ea565e1ac82.setContent(html_6a61ff891803ef26764aaf55c7f81284);\n",
       "            \n",
       "        \n",
       "\n",
       "        circle_marker_4ad85dbaa33bafae09fe8e7064d699cf.bindPopup(popup_c4bfc6bb4171004e6c769ea565e1ac82)\n",
       "        ;\n",
       "\n",
       "        \n",
       "    \n",
       "    \n",
       "            var circle_marker_9235e540befaa253c382d5f3919cdc83 = L.circleMarker(\n",
       "                [28.0339, 1.6596],\n",
       "                {&quot;bubblingMouseEvents&quot;: true, &quot;color&quot;: &quot;red&quot;, &quot;dashArray&quot;: null, &quot;dashOffset&quot;: null, &quot;fill&quot;: true, &quot;fillColor&quot;: &quot;black&quot;, &quot;fillOpacity&quot;: 0.7, &quot;fillRule&quot;: &quot;evenodd&quot;, &quot;lineCap&quot;: &quot;round&quot;, &quot;lineJoin&quot;: &quot;round&quot;, &quot;opacity&quot;: 1.0, &quot;radius&quot;: 1.7320508075688772, &quot;stroke&quot;: true, &quot;weight&quot;: 3}\n",
       "            ).addTo(map_872c175f5dec8ff2914d27a1f6935452);\n",
       "        \n",
       "    \n",
       "        var popup_6339ce71780bd05851fc2cb50b46520e = L.popup({\n",
       "  &quot;maxWidth&quot;: &quot;100%&quot;,\n",
       "  &quot;autoClose&quot;: null,\n",
       "  &quot;closeOnClick&quot;: null,\n",
       "});\n",
       "\n",
       "        \n",
       "            \n",
       "                var html_c6b45a3c3312c0b78dfd174e29daef7d = $(`&lt;div id=&quot;html_c6b45a3c3312c0b78dfd174e29daef7d&quot; style=&quot;width: 100.0%; height: 100.0%;&quot;&gt;Algeria: 3 contents&lt;/div&gt;`)[0];\n",
       "                popup_6339ce71780bd05851fc2cb50b46520e.setContent(html_c6b45a3c3312c0b78dfd174e29daef7d);\n",
       "            \n",
       "        \n",
       "\n",
       "        circle_marker_9235e540befaa253c382d5f3919cdc83.bindPopup(popup_6339ce71780bd05851fc2cb50b46520e)\n",
       "        ;\n",
       "\n",
       "        \n",
       "    \n",
       "    \n",
       "            var circle_marker_0d90fb818dfadff498dd996228b5965e = L.circleMarker(\n",
       "                [46.1512, 14.9955],\n",
       "                {&quot;bubblingMouseEvents&quot;: true, &quot;color&quot;: &quot;red&quot;, &quot;dashArray&quot;: null, &quot;dashOffset&quot;: null, &quot;fill&quot;: true, &quot;fillColor&quot;: &quot;black&quot;, &quot;fillOpacity&quot;: 0.7, &quot;fillRule&quot;: &quot;evenodd&quot;, &quot;lineCap&quot;: &quot;round&quot;, &quot;lineJoin&quot;: &quot;round&quot;, &quot;opacity&quot;: 1.0, &quot;radius&quot;: 1.7320508075688772, &quot;stroke&quot;: true, &quot;weight&quot;: 3}\n",
       "            ).addTo(map_872c175f5dec8ff2914d27a1f6935452);\n",
       "        \n",
       "    \n",
       "        var popup_cbee0d2ae47f5d639b8bd07f9aaa75ee = L.popup({\n",
       "  &quot;maxWidth&quot;: &quot;100%&quot;,\n",
       "  &quot;autoClose&quot;: null,\n",
       "  &quot;closeOnClick&quot;: null,\n",
       "});\n",
       "\n",
       "        \n",
       "            \n",
       "                var html_26508885eea86cbbeca247cad90da306 = $(`&lt;div id=&quot;html_26508885eea86cbbeca247cad90da306&quot; style=&quot;width: 100.0%; height: 100.0%;&quot;&gt;Slovenia: 3 contents&lt;/div&gt;`)[0];\n",
       "                popup_cbee0d2ae47f5d639b8bd07f9aaa75ee.setContent(html_26508885eea86cbbeca247cad90da306);\n",
       "            \n",
       "        \n",
       "\n",
       "        circle_marker_0d90fb818dfadff498dd996228b5965e.bindPopup(popup_cbee0d2ae47f5d639b8bd07f9aaa75ee)\n",
       "        ;\n",
       "\n",
       "        \n",
       "    \n",
       "    \n",
       "            var circle_marker_6ed00e457339300bbea8ccdeba5e5891 = L.circleMarker(\n",
       "                [14.4974, -14.4524],\n",
       "                {&quot;bubblingMouseEvents&quot;: true, &quot;color&quot;: &quot;red&quot;, &quot;dashArray&quot;: null, &quot;dashOffset&quot;: null, &quot;fill&quot;: true, &quot;fillColor&quot;: &quot;black&quot;, &quot;fillOpacity&quot;: 0.7, &quot;fillRule&quot;: &quot;evenodd&quot;, &quot;lineCap&quot;: &quot;round&quot;, &quot;lineJoin&quot;: &quot;round&quot;, &quot;opacity&quot;: 1.0, &quot;radius&quot;: 1.7320508075688772, &quot;stroke&quot;: true, &quot;weight&quot;: 3}\n",
       "            ).addTo(map_872c175f5dec8ff2914d27a1f6935452);\n",
       "        \n",
       "    \n",
       "        var popup_7efa376c480e724e63c82256c7bc6552 = L.popup({\n",
       "  &quot;maxWidth&quot;: &quot;100%&quot;,\n",
       "  &quot;autoClose&quot;: null,\n",
       "  &quot;closeOnClick&quot;: null,\n",
       "});\n",
       "\n",
       "        \n",
       "            \n",
       "                var html_ec45984709c6e2923e6d3fee339a8973 = $(`&lt;div id=&quot;html_ec45984709c6e2923e6d3fee339a8973&quot; style=&quot;width: 100.0%; height: 100.0%;&quot;&gt;Senegal: 3 contents&lt;/div&gt;`)[0];\n",
       "                popup_7efa376c480e724e63c82256c7bc6552.setContent(html_ec45984709c6e2923e6d3fee339a8973);\n",
       "            \n",
       "        \n",
       "\n",
       "        circle_marker_6ed00e457339300bbea8ccdeba5e5891.bindPopup(popup_7efa376c480e724e63c82256c7bc6552)\n",
       "        ;\n",
       "\n",
       "        \n",
       "    \n",
       "    \n",
       "            var circle_marker_61a275782196f1793bbbce7607531220 = L.circleMarker(\n",
       "                [-19.0154, 29.1549],\n",
       "                {&quot;bubblingMouseEvents&quot;: true, &quot;color&quot;: &quot;red&quot;, &quot;dashArray&quot;: null, &quot;dashOffset&quot;: null, &quot;fill&quot;: true, &quot;fillColor&quot;: &quot;black&quot;, &quot;fillOpacity&quot;: 0.7, &quot;fillRule&quot;: &quot;evenodd&quot;, &quot;lineCap&quot;: &quot;round&quot;, &quot;lineJoin&quot;: &quot;round&quot;, &quot;opacity&quot;: 1.0, &quot;radius&quot;: 1.7320508075688772, &quot;stroke&quot;: true, &quot;weight&quot;: 3}\n",
       "            ).addTo(map_872c175f5dec8ff2914d27a1f6935452);\n",
       "        \n",
       "    \n",
       "        var popup_53d626a979aa19805d6000479575697a = L.popup({\n",
       "  &quot;maxWidth&quot;: &quot;100%&quot;,\n",
       "  &quot;autoClose&quot;: null,\n",
       "  &quot;closeOnClick&quot;: null,\n",
       "});\n",
       "\n",
       "        \n",
       "            \n",
       "                var html_579c916bf26a8a1fe5c45ce89384d6a3 = $(`&lt;div id=&quot;html_579c916bf26a8a1fe5c45ce89384d6a3&quot; style=&quot;width: 100.0%; height: 100.0%;&quot;&gt;Zimbabwe: 3 contents&lt;/div&gt;`)[0];\n",
       "                popup_53d626a979aa19805d6000479575697a.setContent(html_579c916bf26a8a1fe5c45ce89384d6a3);\n",
       "            \n",
       "        \n",
       "\n",
       "        circle_marker_61a275782196f1793bbbce7607531220.bindPopup(popup_53d626a979aa19805d6000479575697a)\n",
       "        ;\n",
       "\n",
       "        \n",
       "    \n",
       "    \n",
       "            var circle_marker_a41d672ee3e1c23241f0a86cfb1ea7d1 = L.circleMarker(\n",
       "                [42.3154, 43.3569],\n",
       "                {&quot;bubblingMouseEvents&quot;: true, &quot;color&quot;: &quot;red&quot;, &quot;dashArray&quot;: null, &quot;dashOffset&quot;: null, &quot;fill&quot;: true, &quot;fillColor&quot;: &quot;black&quot;, &quot;fillOpacity&quot;: 0.7, &quot;fillRule&quot;: &quot;evenodd&quot;, &quot;lineCap&quot;: &quot;round&quot;, &quot;lineJoin&quot;: &quot;round&quot;, &quot;opacity&quot;: 1.0, &quot;radius&quot;: 1.4142135623730951, &quot;stroke&quot;: true, &quot;weight&quot;: 3}\n",
       "            ).addTo(map_872c175f5dec8ff2914d27a1f6935452);\n",
       "        \n",
       "    \n",
       "        var popup_a5c743362087f600a643c42013ea06ed = L.popup({\n",
       "  &quot;maxWidth&quot;: &quot;100%&quot;,\n",
       "  &quot;autoClose&quot;: null,\n",
       "  &quot;closeOnClick&quot;: null,\n",
       "});\n",
       "\n",
       "        \n",
       "            \n",
       "                var html_c189b71412899ef94f57e18997cd392a = $(`&lt;div id=&quot;html_c189b71412899ef94f57e18997cd392a&quot; style=&quot;width: 100.0%; height: 100.0%;&quot;&gt;Georgia: 2 contents&lt;/div&gt;`)[0];\n",
       "                popup_a5c743362087f600a643c42013ea06ed.setContent(html_c189b71412899ef94f57e18997cd392a);\n",
       "            \n",
       "        \n",
       "\n",
       "        circle_marker_a41d672ee3e1c23241f0a86cfb1ea7d1.bindPopup(popup_a5c743362087f600a643c42013ea06ed)\n",
       "        ;\n",
       "\n",
       "        \n",
       "    \n",
       "    \n",
       "            var circle_marker_272e9409dd370cde92a82dd55fbf2e77 = L.circleMarker(\n",
       "                [33.2232, 43.6793],\n",
       "                {&quot;bubblingMouseEvents&quot;: true, &quot;color&quot;: &quot;red&quot;, &quot;dashArray&quot;: null, &quot;dashOffset&quot;: null, &quot;fill&quot;: true, &quot;fillColor&quot;: &quot;black&quot;, &quot;fillOpacity&quot;: 0.7, &quot;fillRule&quot;: &quot;evenodd&quot;, &quot;lineCap&quot;: &quot;round&quot;, &quot;lineJoin&quot;: &quot;round&quot;, &quot;opacity&quot;: 1.0, &quot;radius&quot;: 1.4142135623730951, &quot;stroke&quot;: true, &quot;weight&quot;: 3}\n",
       "            ).addTo(map_872c175f5dec8ff2914d27a1f6935452);\n",
       "        \n",
       "    \n",
       "        var popup_636bd18484f62d84a9927a41ce303032 = L.popup({\n",
       "  &quot;maxWidth&quot;: &quot;100%&quot;,\n",
       "  &quot;autoClose&quot;: null,\n",
       "  &quot;closeOnClick&quot;: null,\n",
       "});\n",
       "\n",
       "        \n",
       "            \n",
       "                var html_7ecb63e478fdc27d07f808ddce3fe35a = $(`&lt;div id=&quot;html_7ecb63e478fdc27d07f808ddce3fe35a&quot; style=&quot;width: 100.0%; height: 100.0%;&quot;&gt;Iraq: 2 contents&lt;/div&gt;`)[0];\n",
       "                popup_636bd18484f62d84a9927a41ce303032.setContent(html_7ecb63e478fdc27d07f808ddce3fe35a);\n",
       "            \n",
       "        \n",
       "\n",
       "        circle_marker_272e9409dd370cde92a82dd55fbf2e77.bindPopup(popup_636bd18484f62d84a9927a41ce303032)\n",
       "        ;\n",
       "\n",
       "        \n",
       "    \n",
       "    \n",
       "            var circle_marker_7f72554dc07ac06086bbd147486f1d6c = L.circleMarker(\n",
       "                [15.7835, -90.2308],\n",
       "                {&quot;bubblingMouseEvents&quot;: true, &quot;color&quot;: &quot;red&quot;, &quot;dashArray&quot;: null, &quot;dashOffset&quot;: null, &quot;fill&quot;: true, &quot;fillColor&quot;: &quot;black&quot;, &quot;fillOpacity&quot;: 0.7, &quot;fillRule&quot;: &quot;evenodd&quot;, &quot;lineCap&quot;: &quot;round&quot;, &quot;lineJoin&quot;: &quot;round&quot;, &quot;opacity&quot;: 1.0, &quot;radius&quot;: 1.4142135623730951, &quot;stroke&quot;: true, &quot;weight&quot;: 3}\n",
       "            ).addTo(map_872c175f5dec8ff2914d27a1f6935452);\n",
       "        \n",
       "    \n",
       "        var popup_4f740fe2b40a98a567c0f1a56c07ebce = L.popup({\n",
       "  &quot;maxWidth&quot;: &quot;100%&quot;,\n",
       "  &quot;autoClose&quot;: null,\n",
       "  &quot;closeOnClick&quot;: null,\n",
       "});\n",
       "\n",
       "        \n",
       "            \n",
       "                var html_a27df8d19d716a1f2790657b514fba71 = $(`&lt;div id=&quot;html_a27df8d19d716a1f2790657b514fba71&quot; style=&quot;width: 100.0%; height: 100.0%;&quot;&gt;Guatemala: 2 contents&lt;/div&gt;`)[0];\n",
       "                popup_4f740fe2b40a98a567c0f1a56c07ebce.setContent(html_a27df8d19d716a1f2790657b514fba71);\n",
       "            \n",
       "        \n",
       "\n",
       "        circle_marker_7f72554dc07ac06086bbd147486f1d6c.bindPopup(popup_4f740fe2b40a98a567c0f1a56c07ebce)\n",
       "        ;\n",
       "\n",
       "        \n",
       "    \n",
       "    \n",
       "            var circle_marker_0060bbce2d8efd6d8cf1dcb515f1b0a3 = L.circleMarker(\n",
       "                [28.3949, 84.124],\n",
       "                {&quot;bubblingMouseEvents&quot;: true, &quot;color&quot;: &quot;red&quot;, &quot;dashArray&quot;: null, &quot;dashOffset&quot;: null, &quot;fill&quot;: true, &quot;fillColor&quot;: &quot;black&quot;, &quot;fillOpacity&quot;: 0.7, &quot;fillRule&quot;: &quot;evenodd&quot;, &quot;lineCap&quot;: &quot;round&quot;, &quot;lineJoin&quot;: &quot;round&quot;, &quot;opacity&quot;: 1.0, &quot;radius&quot;: 1.4142135623730951, &quot;stroke&quot;: true, &quot;weight&quot;: 3}\n",
       "            ).addTo(map_872c175f5dec8ff2914d27a1f6935452);\n",
       "        \n",
       "    \n",
       "        var popup_038c3bad7a3576191092d29e18cee1b9 = L.popup({\n",
       "  &quot;maxWidth&quot;: &quot;100%&quot;,\n",
       "  &quot;autoClose&quot;: null,\n",
       "  &quot;closeOnClick&quot;: null,\n",
       "});\n",
       "\n",
       "        \n",
       "            \n",
       "                var html_a7e536a8f9fd2157b19d1597af0034b2 = $(`&lt;div id=&quot;html_a7e536a8f9fd2157b19d1597af0034b2&quot; style=&quot;width: 100.0%; height: 100.0%;&quot;&gt;Nepal: 2 contents&lt;/div&gt;`)[0];\n",
       "                popup_038c3bad7a3576191092d29e18cee1b9.setContent(html_a7e536a8f9fd2157b19d1597af0034b2);\n",
       "            \n",
       "        \n",
       "\n",
       "        circle_marker_0060bbce2d8efd6d8cf1dcb515f1b0a3.bindPopup(popup_038c3bad7a3576191092d29e18cee1b9)\n",
       "        ;\n",
       "\n",
       "        \n",
       "    \n",
       "    \n",
       "            var circle_marker_6eb9f43bd59ecf234c81d9df1eea8070 = L.circleMarker(\n",
       "                [-22.9576, 18.4904],\n",
       "                {&quot;bubblingMouseEvents&quot;: true, &quot;color&quot;: &quot;red&quot;, &quot;dashArray&quot;: null, &quot;dashOffset&quot;: null, &quot;fill&quot;: true, &quot;fillColor&quot;: &quot;black&quot;, &quot;fillOpacity&quot;: 0.7, &quot;fillRule&quot;: &quot;evenodd&quot;, &quot;lineCap&quot;: &quot;round&quot;, &quot;lineJoin&quot;: &quot;round&quot;, &quot;opacity&quot;: 1.0, &quot;radius&quot;: 1.4142135623730951, &quot;stroke&quot;: true, &quot;weight&quot;: 3}\n",
       "            ).addTo(map_872c175f5dec8ff2914d27a1f6935452);\n",
       "        \n",
       "    \n",
       "        var popup_835273dce81b77198b53591c3d4ad32a = L.popup({\n",
       "  &quot;maxWidth&quot;: &quot;100%&quot;,\n",
       "  &quot;autoClose&quot;: null,\n",
       "  &quot;closeOnClick&quot;: null,\n",
       "});\n",
       "\n",
       "        \n",
       "            \n",
       "                var html_7a3273d7eb70ba40c5871a5b788c1aa1 = $(`&lt;div id=&quot;html_7a3273d7eb70ba40c5871a5b788c1aa1&quot; style=&quot;width: 100.0%; height: 100.0%;&quot;&gt;Namibia: 2 contents&lt;/div&gt;`)[0];\n",
       "                popup_835273dce81b77198b53591c3d4ad32a.setContent(html_7a3273d7eb70ba40c5871a5b788c1aa1);\n",
       "            \n",
       "        \n",
       "\n",
       "        circle_marker_6eb9f43bd59ecf234c81d9df1eea8070.bindPopup(popup_835273dce81b77198b53591c3d4ad32a)\n",
       "        ;\n",
       "\n",
       "        \n",
       "    \n",
       "    \n",
       "            var circle_marker_94bb9a7dc2ba946a97d3f36d6a3741d3 = L.circleMarker(\n",
       "                [-20.3484, 57.5522],\n",
       "                {&quot;bubblingMouseEvents&quot;: true, &quot;color&quot;: &quot;red&quot;, &quot;dashArray&quot;: null, &quot;dashOffset&quot;: null, &quot;fill&quot;: true, &quot;fillColor&quot;: &quot;black&quot;, &quot;fillOpacity&quot;: 0.7, &quot;fillRule&quot;: &quot;evenodd&quot;, &quot;lineCap&quot;: &quot;round&quot;, &quot;lineJoin&quot;: &quot;round&quot;, &quot;opacity&quot;: 1.0, &quot;radius&quot;: 1.4142135623730951, &quot;stroke&quot;: true, &quot;weight&quot;: 3}\n",
       "            ).addTo(map_872c175f5dec8ff2914d27a1f6935452);\n",
       "        \n",
       "    \n",
       "        var popup_4348857b175bbee4d3c73f0fc22fe4dc = L.popup({\n",
       "  &quot;maxWidth&quot;: &quot;100%&quot;,\n",
       "  &quot;autoClose&quot;: null,\n",
       "  &quot;closeOnClick&quot;: null,\n",
       "});\n",
       "\n",
       "        \n",
       "            \n",
       "                var html_ee8bf835fb4f73722a15836a83736995 = $(`&lt;div id=&quot;html_ee8bf835fb4f73722a15836a83736995&quot; style=&quot;width: 100.0%; height: 100.0%;&quot;&gt;Mauritius: 2 contents&lt;/div&gt;`)[0];\n",
       "                popup_4348857b175bbee4d3c73f0fc22fe4dc.setContent(html_ee8bf835fb4f73722a15836a83736995);\n",
       "            \n",
       "        \n",
       "\n",
       "        circle_marker_94bb9a7dc2ba946a97d3f36d6a3741d3.bindPopup(popup_4348857b175bbee4d3c73f0fc22fe4dc)\n",
       "        ;\n",
       "\n",
       "        \n",
       "    \n",
       "    \n",
       "            var circle_marker_c9e8da21c5f56469501827da11807f77 = L.circleMarker(\n",
       "                [19.3133, -81.2546],\n",
       "                {&quot;bubblingMouseEvents&quot;: true, &quot;color&quot;: &quot;red&quot;, &quot;dashArray&quot;: null, &quot;dashOffset&quot;: null, &quot;fill&quot;: true, &quot;fillColor&quot;: &quot;black&quot;, &quot;fillOpacity&quot;: 0.7, &quot;fillRule&quot;: &quot;evenodd&quot;, &quot;lineCap&quot;: &quot;round&quot;, &quot;lineJoin&quot;: &quot;round&quot;, &quot;opacity&quot;: 1.0, &quot;radius&quot;: 1.4142135623730951, &quot;stroke&quot;: true, &quot;weight&quot;: 3}\n",
       "            ).addTo(map_872c175f5dec8ff2914d27a1f6935452);\n",
       "        \n",
       "    \n",
       "        var popup_782bd441850e1967d0ffbe5d722f037f = L.popup({\n",
       "  &quot;maxWidth&quot;: &quot;100%&quot;,\n",
       "  &quot;autoClose&quot;: null,\n",
       "  &quot;closeOnClick&quot;: null,\n",
       "});\n",
       "\n",
       "        \n",
       "            \n",
       "                var html_98bb062d3d94d71ef9ef0a18cf232011 = $(`&lt;div id=&quot;html_98bb062d3d94d71ef9ef0a18cf232011&quot; style=&quot;width: 100.0%; height: 100.0%;&quot;&gt;Cayman Islands: 2 contents&lt;/div&gt;`)[0];\n",
       "                popup_782bd441850e1967d0ffbe5d722f037f.setContent(html_98bb062d3d94d71ef9ef0a18cf232011);\n",
       "            \n",
       "        \n",
       "\n",
       "        circle_marker_c9e8da21c5f56469501827da11807f77.bindPopup(popup_782bd441850e1967d0ffbe5d722f037f)\n",
       "        ;\n",
       "\n",
       "        \n",
       "    \n",
       "    \n",
       "            var circle_marker_288ca57ee5a5f04d01b2a7c6deec72b4 = L.circleMarker(\n",
       "                [-11.2027, 17.8739],\n",
       "                {&quot;bubblingMouseEvents&quot;: true, &quot;color&quot;: &quot;red&quot;, &quot;dashArray&quot;: null, &quot;dashOffset&quot;: null, &quot;fill&quot;: true, &quot;fillColor&quot;: &quot;black&quot;, &quot;fillOpacity&quot;: 0.7, &quot;fillRule&quot;: &quot;evenodd&quot;, &quot;lineCap&quot;: &quot;round&quot;, &quot;lineJoin&quot;: &quot;round&quot;, &quot;opacity&quot;: 1.0, &quot;radius&quot;: 1.0, &quot;stroke&quot;: true, &quot;weight&quot;: 3}\n",
       "            ).addTo(map_872c175f5dec8ff2914d27a1f6935452);\n",
       "        \n",
       "    \n",
       "        var popup_524c98adf8026c914c328e74809b4d17 = L.popup({\n",
       "  &quot;maxWidth&quot;: &quot;100%&quot;,\n",
       "  &quot;autoClose&quot;: null,\n",
       "  &quot;closeOnClick&quot;: null,\n",
       "});\n",
       "\n",
       "        \n",
       "            \n",
       "                var html_716e34150529594f0347783cd192db0a = $(`&lt;div id=&quot;html_716e34150529594f0347783cd192db0a&quot; style=&quot;width: 100.0%; height: 100.0%;&quot;&gt;Angola: 1 contents&lt;/div&gt;`)[0];\n",
       "                popup_524c98adf8026c914c328e74809b4d17.setContent(html_716e34150529594f0347783cd192db0a);\n",
       "            \n",
       "        \n",
       "\n",
       "        circle_marker_288ca57ee5a5f04d01b2a7c6deec72b4.bindPopup(popup_524c98adf8026c914c328e74809b4d17)\n",
       "        ;\n",
       "\n",
       "        \n",
       "    \n",
       "    \n",
       "            var circle_marker_5893cfd55a738195442b5f46eebed914 = L.circleMarker(\n",
       "                [41.1533, 20.1683],\n",
       "                {&quot;bubblingMouseEvents&quot;: true, &quot;color&quot;: &quot;red&quot;, &quot;dashArray&quot;: null, &quot;dashOffset&quot;: null, &quot;fill&quot;: true, &quot;fillColor&quot;: &quot;black&quot;, &quot;fillOpacity&quot;: 0.7, &quot;fillRule&quot;: &quot;evenodd&quot;, &quot;lineCap&quot;: &quot;round&quot;, &quot;lineJoin&quot;: &quot;round&quot;, &quot;opacity&quot;: 1.0, &quot;radius&quot;: 1.0, &quot;stroke&quot;: true, &quot;weight&quot;: 3}\n",
       "            ).addTo(map_872c175f5dec8ff2914d27a1f6935452);\n",
       "        \n",
       "    \n",
       "        var popup_c8c874ba00894ef5d2378ff95d36fc92 = L.popup({\n",
       "  &quot;maxWidth&quot;: &quot;100%&quot;,\n",
       "  &quot;autoClose&quot;: null,\n",
       "  &quot;closeOnClick&quot;: null,\n",
       "});\n",
       "\n",
       "        \n",
       "            \n",
       "                var html_ffd994ee5a484d8901a852d0b0270241 = $(`&lt;div id=&quot;html_ffd994ee5a484d8901a852d0b0270241&quot; style=&quot;width: 100.0%; height: 100.0%;&quot;&gt;Albania: 1 contents&lt;/div&gt;`)[0];\n",
       "                popup_c8c874ba00894ef5d2378ff95d36fc92.setContent(html_ffd994ee5a484d8901a852d0b0270241);\n",
       "            \n",
       "        \n",
       "\n",
       "        circle_marker_5893cfd55a738195442b5f46eebed914.bindPopup(popup_c8c874ba00894ef5d2378ff95d36fc92)\n",
       "        ;\n",
       "\n",
       "        \n",
       "    \n",
       "    \n",
       "            var circle_marker_1137250894eab1402cff2987b4da59cd = L.circleMarker(\n",
       "                [33.9391, 67.71],\n",
       "                {&quot;bubblingMouseEvents&quot;: true, &quot;color&quot;: &quot;red&quot;, &quot;dashArray&quot;: null, &quot;dashOffset&quot;: null, &quot;fill&quot;: true, &quot;fillColor&quot;: &quot;black&quot;, &quot;fillOpacity&quot;: 0.7, &quot;fillRule&quot;: &quot;evenodd&quot;, &quot;lineCap&quot;: &quot;round&quot;, &quot;lineJoin&quot;: &quot;round&quot;, &quot;opacity&quot;: 1.0, &quot;radius&quot;: 1.0, &quot;stroke&quot;: true, &quot;weight&quot;: 3}\n",
       "            ).addTo(map_872c175f5dec8ff2914d27a1f6935452);\n",
       "        \n",
       "    \n",
       "        var popup_257f3ae75fbe95a13bdd7bd5b0149daf = L.popup({\n",
       "  &quot;maxWidth&quot;: &quot;100%&quot;,\n",
       "  &quot;autoClose&quot;: null,\n",
       "  &quot;closeOnClick&quot;: null,\n",
       "});\n",
       "\n",
       "        \n",
       "            \n",
       "                var html_9427afc3f9cca898788b82eff1699fbc = $(`&lt;div id=&quot;html_9427afc3f9cca898788b82eff1699fbc&quot; style=&quot;width: 100.0%; height: 100.0%;&quot;&gt;Afghanistan: 1 contents&lt;/div&gt;`)[0];\n",
       "                popup_257f3ae75fbe95a13bdd7bd5b0149daf.setContent(html_9427afc3f9cca898788b82eff1699fbc);\n",
       "            \n",
       "        \n",
       "\n",
       "        circle_marker_1137250894eab1402cff2987b4da59cd.bindPopup(popup_257f3ae75fbe95a13bdd7bd5b0149daf)\n",
       "        ;\n",
       "\n",
       "        \n",
       "    \n",
       "    \n",
       "            var circle_marker_0eada69f9d205ad9355dc8685445d054 = L.circleMarker(\n",
       "                [-22.3285, 24.6849],\n",
       "                {&quot;bubblingMouseEvents&quot;: true, &quot;color&quot;: &quot;red&quot;, &quot;dashArray&quot;: null, &quot;dashOffset&quot;: null, &quot;fill&quot;: true, &quot;fillColor&quot;: &quot;black&quot;, &quot;fillOpacity&quot;: 0.7, &quot;fillRule&quot;: &quot;evenodd&quot;, &quot;lineCap&quot;: &quot;round&quot;, &quot;lineJoin&quot;: &quot;round&quot;, &quot;opacity&quot;: 1.0, &quot;radius&quot;: 1.0, &quot;stroke&quot;: true, &quot;weight&quot;: 3}\n",
       "            ).addTo(map_872c175f5dec8ff2914d27a1f6935452);\n",
       "        \n",
       "    \n",
       "        var popup_28d3223fa2a77b7c8386027e124c0012 = L.popup({\n",
       "  &quot;maxWidth&quot;: &quot;100%&quot;,\n",
       "  &quot;autoClose&quot;: null,\n",
       "  &quot;closeOnClick&quot;: null,\n",
       "});\n",
       "\n",
       "        \n",
       "            \n",
       "                var html_e2138f22ae6c2ebafc09621f4a594282 = $(`&lt;div id=&quot;html_e2138f22ae6c2ebafc09621f4a594282&quot; style=&quot;width: 100.0%; height: 100.0%;&quot;&gt;Botswana: 1 contents&lt;/div&gt;`)[0];\n",
       "                popup_28d3223fa2a77b7c8386027e124c0012.setContent(html_e2138f22ae6c2ebafc09621f4a594282);\n",
       "            \n",
       "        \n",
       "\n",
       "        circle_marker_0eada69f9d205ad9355dc8685445d054.bindPopup(popup_28d3223fa2a77b7c8386027e124c0012)\n",
       "        ;\n",
       "\n",
       "        \n",
       "    \n",
       "    \n",
       "            var circle_marker_be3c041314ee8edf535ec1e0996f7e53 = L.circleMarker(\n",
       "                [25.0343, -77.3963],\n",
       "                {&quot;bubblingMouseEvents&quot;: true, &quot;color&quot;: &quot;red&quot;, &quot;dashArray&quot;: null, &quot;dashOffset&quot;: null, &quot;fill&quot;: true, &quot;fillColor&quot;: &quot;black&quot;, &quot;fillOpacity&quot;: 0.7, &quot;fillRule&quot;: &quot;evenodd&quot;, &quot;lineCap&quot;: &quot;round&quot;, &quot;lineJoin&quot;: &quot;round&quot;, &quot;opacity&quot;: 1.0, &quot;radius&quot;: 1.0, &quot;stroke&quot;: true, &quot;weight&quot;: 3}\n",
       "            ).addTo(map_872c175f5dec8ff2914d27a1f6935452);\n",
       "        \n",
       "    \n",
       "        var popup_5007279b3c9a1446eac9750b1b92a950 = L.popup({\n",
       "  &quot;maxWidth&quot;: &quot;100%&quot;,\n",
       "  &quot;autoClose&quot;: null,\n",
       "  &quot;closeOnClick&quot;: null,\n",
       "});\n",
       "\n",
       "        \n",
       "            \n",
       "                var html_bdd89e5ef88acd7bdfcbafd1e1cab36b = $(`&lt;div id=&quot;html_bdd89e5ef88acd7bdfcbafd1e1cab36b&quot; style=&quot;width: 100.0%; height: 100.0%;&quot;&gt;Bahamas: 1 contents&lt;/div&gt;`)[0];\n",
       "                popup_5007279b3c9a1446eac9750b1b92a950.setContent(html_bdd89e5ef88acd7bdfcbafd1e1cab36b);\n",
       "            \n",
       "        \n",
       "\n",
       "        circle_marker_be3c041314ee8edf535ec1e0996f7e53.bindPopup(popup_5007279b3c9a1446eac9750b1b92a950)\n",
       "        ;\n",
       "\n",
       "        \n",
       "    \n",
       "    \n",
       "            var circle_marker_7c9b2c302d1c34c8dec21db21ce7509b = L.circleMarker(\n",
       "                [40.1431, 47.5769],\n",
       "                {&quot;bubblingMouseEvents&quot;: true, &quot;color&quot;: &quot;red&quot;, &quot;dashArray&quot;: null, &quot;dashOffset&quot;: null, &quot;fill&quot;: true, &quot;fillColor&quot;: &quot;black&quot;, &quot;fillOpacity&quot;: 0.7, &quot;fillRule&quot;: &quot;evenodd&quot;, &quot;lineCap&quot;: &quot;round&quot;, &quot;lineJoin&quot;: &quot;round&quot;, &quot;opacity&quot;: 1.0, &quot;radius&quot;: 1.0, &quot;stroke&quot;: true, &quot;weight&quot;: 3}\n",
       "            ).addTo(map_872c175f5dec8ff2914d27a1f6935452);\n",
       "        \n",
       "    \n",
       "        var popup_40ace9b5ba32c7feee72ea9ece6d4bf5 = L.popup({\n",
       "  &quot;maxWidth&quot;: &quot;100%&quot;,\n",
       "  &quot;autoClose&quot;: null,\n",
       "  &quot;closeOnClick&quot;: null,\n",
       "});\n",
       "\n",
       "        \n",
       "            \n",
       "                var html_6b5b30d39d38690efef3f90ae133f954 = $(`&lt;div id=&quot;html_6b5b30d39d38690efef3f90ae133f954&quot; style=&quot;width: 100.0%; height: 100.0%;&quot;&gt;Azerbaijan: 1 contents&lt;/div&gt;`)[0];\n",
       "                popup_40ace9b5ba32c7feee72ea9ece6d4bf5.setContent(html_6b5b30d39d38690efef3f90ae133f954);\n",
       "            \n",
       "        \n",
       "\n",
       "        circle_marker_7c9b2c302d1c34c8dec21db21ce7509b.bindPopup(popup_40ace9b5ba32c7feee72ea9ece6d4bf5)\n",
       "        ;\n",
       "\n",
       "        \n",
       "    \n",
       "    \n",
       "            var circle_marker_2db51eedeb2bf9bf9792a442549927fa = L.circleMarker(\n",
       "                [40.0691, 45.0382],\n",
       "                {&quot;bubblingMouseEvents&quot;: true, &quot;color&quot;: &quot;red&quot;, &quot;dashArray&quot;: null, &quot;dashOffset&quot;: null, &quot;fill&quot;: true, &quot;fillColor&quot;: &quot;black&quot;, &quot;fillOpacity&quot;: 0.7, &quot;fillRule&quot;: &quot;evenodd&quot;, &quot;lineCap&quot;: &quot;round&quot;, &quot;lineJoin&quot;: &quot;round&quot;, &quot;opacity&quot;: 1.0, &quot;radius&quot;: 1.0, &quot;stroke&quot;: true, &quot;weight&quot;: 3}\n",
       "            ).addTo(map_872c175f5dec8ff2914d27a1f6935452);\n",
       "        \n",
       "    \n",
       "        var popup_9d6bdc5ba68c731cc941f731af774a38 = L.popup({\n",
       "  &quot;maxWidth&quot;: &quot;100%&quot;,\n",
       "  &quot;autoClose&quot;: null,\n",
       "  &quot;closeOnClick&quot;: null,\n",
       "});\n",
       "\n",
       "        \n",
       "            \n",
       "                var html_2be0d64c258ea536c9bf3bea26d30995 = $(`&lt;div id=&quot;html_2be0d64c258ea536c9bf3bea26d30995&quot; style=&quot;width: 100.0%; height: 100.0%;&quot;&gt;Armenia: 1 contents&lt;/div&gt;`)[0];\n",
       "                popup_9d6bdc5ba68c731cc941f731af774a38.setContent(html_2be0d64c258ea536c9bf3bea26d30995);\n",
       "            \n",
       "        \n",
       "\n",
       "        circle_marker_2db51eedeb2bf9bf9792a442549927fa.bindPopup(popup_9d6bdc5ba68c731cc941f731af774a38)\n",
       "        ;\n",
       "\n",
       "        \n",
       "    \n",
       "    \n",
       "            var circle_marker_d145bbf9101a09891549223a0bc8f828 = L.circleMarker(\n",
       "                [35.1264, 33.4299],\n",
       "                {&quot;bubblingMouseEvents&quot;: true, &quot;color&quot;: &quot;red&quot;, &quot;dashArray&quot;: null, &quot;dashOffset&quot;: null, &quot;fill&quot;: true, &quot;fillColor&quot;: &quot;black&quot;, &quot;fillOpacity&quot;: 0.7, &quot;fillRule&quot;: &quot;evenodd&quot;, &quot;lineCap&quot;: &quot;round&quot;, &quot;lineJoin&quot;: &quot;round&quot;, &quot;opacity&quot;: 1.0, &quot;radius&quot;: 1.0, &quot;stroke&quot;: true, &quot;weight&quot;: 3}\n",
       "            ).addTo(map_872c175f5dec8ff2914d27a1f6935452);\n",
       "        \n",
       "    \n",
       "        var popup_90f2cbd2c8af7d1ba4e95c9bab7fd329 = L.popup({\n",
       "  &quot;maxWidth&quot;: &quot;100%&quot;,\n",
       "  &quot;autoClose&quot;: null,\n",
       "  &quot;closeOnClick&quot;: null,\n",
       "});\n",
       "\n",
       "        \n",
       "            \n",
       "                var html_3abee2df773518238b4bd7cbb27d018a = $(`&lt;div id=&quot;html_3abee2df773518238b4bd7cbb27d018a&quot; style=&quot;width: 100.0%; height: 100.0%;&quot;&gt;Cyprus: 1 contents&lt;/div&gt;`)[0];\n",
       "                popup_90f2cbd2c8af7d1ba4e95c9bab7fd329.setContent(html_3abee2df773518238b4bd7cbb27d018a);\n",
       "            \n",
       "        \n",
       "\n",
       "        circle_marker_d145bbf9101a09891549223a0bc8f828.bindPopup(popup_90f2cbd2c8af7d1ba4e95c9bab7fd329)\n",
       "        ;\n",
       "\n",
       "        \n",
       "    \n",
       "    \n",
       "            var circle_marker_60db58d6e6275af2fd8c8978a766f844 = L.circleMarker(\n",
       "                [55.1694, 23.8813],\n",
       "                {&quot;bubblingMouseEvents&quot;: true, &quot;color&quot;: &quot;red&quot;, &quot;dashArray&quot;: null, &quot;dashOffset&quot;: null, &quot;fill&quot;: true, &quot;fillColor&quot;: &quot;black&quot;, &quot;fillOpacity&quot;: 0.7, &quot;fillRule&quot;: &quot;evenodd&quot;, &quot;lineCap&quot;: &quot;round&quot;, &quot;lineJoin&quot;: &quot;round&quot;, &quot;opacity&quot;: 1.0, &quot;radius&quot;: 1.0, &quot;stroke&quot;: true, &quot;weight&quot;: 3}\n",
       "            ).addTo(map_872c175f5dec8ff2914d27a1f6935452);\n",
       "        \n",
       "    \n",
       "        var popup_7cb9fcf27c1a70635971d24dd374d36f = L.popup({\n",
       "  &quot;maxWidth&quot;: &quot;100%&quot;,\n",
       "  &quot;autoClose&quot;: null,\n",
       "  &quot;closeOnClick&quot;: null,\n",
       "});\n",
       "\n",
       "        \n",
       "            \n",
       "                var html_4b8df9dbb07c9dd1202d05d07794fffc = $(`&lt;div id=&quot;html_4b8df9dbb07c9dd1202d05d07794fffc&quot; style=&quot;width: 100.0%; height: 100.0%;&quot;&gt;Lithuania: 1 contents&lt;/div&gt;`)[0];\n",
       "                popup_7cb9fcf27c1a70635971d24dd374d36f.setContent(html_4b8df9dbb07c9dd1202d05d07794fffc);\n",
       "            \n",
       "        \n",
       "\n",
       "        circle_marker_60db58d6e6275af2fd8c8978a766f844.bindPopup(popup_7cb9fcf27c1a70635971d24dd374d36f)\n",
       "        ;\n",
       "\n",
       "        \n",
       "    \n",
       "    \n",
       "            var circle_marker_8974d8ec534f33a2ba533cda198705ac = L.circleMarker(\n",
       "                [56.8796, 24.6032],\n",
       "                {&quot;bubblingMouseEvents&quot;: true, &quot;color&quot;: &quot;red&quot;, &quot;dashArray&quot;: null, &quot;dashOffset&quot;: null, &quot;fill&quot;: true, &quot;fillColor&quot;: &quot;black&quot;, &quot;fillOpacity&quot;: 0.7, &quot;fillRule&quot;: &quot;evenodd&quot;, &quot;lineCap&quot;: &quot;round&quot;, &quot;lineJoin&quot;: &quot;round&quot;, &quot;opacity&quot;: 1.0, &quot;radius&quot;: 1.0, &quot;stroke&quot;: true, &quot;weight&quot;: 3}\n",
       "            ).addTo(map_872c175f5dec8ff2914d27a1f6935452);\n",
       "        \n",
       "    \n",
       "        var popup_64ea9164041c5c71456c9587f63bc6b6 = L.popup({\n",
       "  &quot;maxWidth&quot;: &quot;100%&quot;,\n",
       "  &quot;autoClose&quot;: null,\n",
       "  &quot;closeOnClick&quot;: null,\n",
       "});\n",
       "\n",
       "        \n",
       "            \n",
       "                var html_fe19109e46972de44fc09852fa74593a = $(`&lt;div id=&quot;html_fe19109e46972de44fc09852fa74593a&quot; style=&quot;width: 100.0%; height: 100.0%;&quot;&gt;Latvia: 1 contents&lt;/div&gt;`)[0];\n",
       "                popup_64ea9164041c5c71456c9587f63bc6b6.setContent(html_fe19109e46972de44fc09852fa74593a);\n",
       "            \n",
       "        \n",
       "\n",
       "        circle_marker_8974d8ec534f33a2ba533cda198705ac.bindPopup(popup_64ea9164041c5c71456c9587f63bc6b6)\n",
       "        ;\n",
       "\n",
       "        \n",
       "    \n",
       "    \n",
       "            var circle_marker_806cffdb5744585238bf77a526b0df8b = L.circleMarker(\n",
       "                [48.0196, 66.9237],\n",
       "                {&quot;bubblingMouseEvents&quot;: true, &quot;color&quot;: &quot;red&quot;, &quot;dashArray&quot;: null, &quot;dashOffset&quot;: null, &quot;fill&quot;: true, &quot;fillColor&quot;: &quot;black&quot;, &quot;fillOpacity&quot;: 0.7, &quot;fillRule&quot;: &quot;evenodd&quot;, &quot;lineCap&quot;: &quot;round&quot;, &quot;lineJoin&quot;: &quot;round&quot;, &quot;opacity&quot;: 1.0, &quot;radius&quot;: 1.0, &quot;stroke&quot;: true, &quot;weight&quot;: 3}\n",
       "            ).addTo(map_872c175f5dec8ff2914d27a1f6935452);\n",
       "        \n",
       "    \n",
       "        var popup_b524bd7c3c3f4ebc2751a156d3fd3d24 = L.popup({\n",
       "  &quot;maxWidth&quot;: &quot;100%&quot;,\n",
       "  &quot;autoClose&quot;: null,\n",
       "  &quot;closeOnClick&quot;: null,\n",
       "});\n",
       "\n",
       "        \n",
       "            \n",
       "                var html_97e8fa290b3dc94538e6d36b326666c1 = $(`&lt;div id=&quot;html_97e8fa290b3dc94538e6d36b326666c1&quot; style=&quot;width: 100.0%; height: 100.0%;&quot;&gt;Kazakhstan: 1 contents&lt;/div&gt;`)[0];\n",
       "                popup_b524bd7c3c3f4ebc2751a156d3fd3d24.setContent(html_97e8fa290b3dc94538e6d36b326666c1);\n",
       "            \n",
       "        \n",
       "\n",
       "        circle_marker_806cffdb5744585238bf77a526b0df8b.bindPopup(popup_b524bd7c3c3f4ebc2751a156d3fd3d24)\n",
       "        ;\n",
       "\n",
       "        \n",
       "    \n",
       "    \n",
       "            var circle_marker_37f6571bf74d1b8e537489c13fe3d014 = L.circleMarker(\n",
       "                [18.1096, -77.2975],\n",
       "                {&quot;bubblingMouseEvents&quot;: true, &quot;color&quot;: &quot;red&quot;, &quot;dashArray&quot;: null, &quot;dashOffset&quot;: null, &quot;fill&quot;: true, &quot;fillColor&quot;: &quot;black&quot;, &quot;fillOpacity&quot;: 0.7, &quot;fillRule&quot;: &quot;evenodd&quot;, &quot;lineCap&quot;: &quot;round&quot;, &quot;lineJoin&quot;: &quot;round&quot;, &quot;opacity&quot;: 1.0, &quot;radius&quot;: 1.0, &quot;stroke&quot;: true, &quot;weight&quot;: 3}\n",
       "            ).addTo(map_872c175f5dec8ff2914d27a1f6935452);\n",
       "        \n",
       "    \n",
       "        var popup_2cbca8f8ead2098a7b130f06a989a62c = L.popup({\n",
       "  &quot;maxWidth&quot;: &quot;100%&quot;,\n",
       "  &quot;autoClose&quot;: null,\n",
       "  &quot;closeOnClick&quot;: null,\n",
       "});\n",
       "\n",
       "        \n",
       "            \n",
       "                var html_cc5a75ae03a97027b4f7b02efcc39ac8 = $(`&lt;div id=&quot;html_cc5a75ae03a97027b4f7b02efcc39ac8&quot; style=&quot;width: 100.0%; height: 100.0%;&quot;&gt;Jamaica: 1 contents&lt;/div&gt;`)[0];\n",
       "                popup_2cbca8f8ead2098a7b130f06a989a62c.setContent(html_cc5a75ae03a97027b4f7b02efcc39ac8);\n",
       "            \n",
       "        \n",
       "\n",
       "        circle_marker_37f6571bf74d1b8e537489c13fe3d014.bindPopup(popup_2cbca8f8ead2098a7b130f06a989a62c)\n",
       "        ;\n",
       "\n",
       "        \n",
       "    \n",
       "    \n",
       "            var circle_marker_686ed995a6c7a86c74cd23568c75bb13 = L.circleMarker(\n",
       "                [-23.4425, -58.4438],\n",
       "                {&quot;bubblingMouseEvents&quot;: true, &quot;color&quot;: &quot;red&quot;, &quot;dashArray&quot;: null, &quot;dashOffset&quot;: null, &quot;fill&quot;: true, &quot;fillColor&quot;: &quot;black&quot;, &quot;fillOpacity&quot;: 0.7, &quot;fillRule&quot;: &quot;evenodd&quot;, &quot;lineCap&quot;: &quot;round&quot;, &quot;lineJoin&quot;: &quot;round&quot;, &quot;opacity&quot;: 1.0, &quot;radius&quot;: 1.0, &quot;stroke&quot;: true, &quot;weight&quot;: 3}\n",
       "            ).addTo(map_872c175f5dec8ff2914d27a1f6935452);\n",
       "        \n",
       "    \n",
       "        var popup_32258df2d11081606ec3d332593c2917 = L.popup({\n",
       "  &quot;maxWidth&quot;: &quot;100%&quot;,\n",
       "  &quot;autoClose&quot;: null,\n",
       "  &quot;closeOnClick&quot;: null,\n",
       "});\n",
       "\n",
       "        \n",
       "            \n",
       "                var html_941ef93f5682fad3c2f124b9ed4b4ebe = $(`&lt;div id=&quot;html_941ef93f5682fad3c2f124b9ed4b4ebe&quot; style=&quot;width: 100.0%; height: 100.0%;&quot;&gt;Paraguay: 1 contents&lt;/div&gt;`)[0];\n",
       "                popup_32258df2d11081606ec3d332593c2917.setContent(html_941ef93f5682fad3c2f124b9ed4b4ebe);\n",
       "            \n",
       "        \n",
       "\n",
       "        circle_marker_686ed995a6c7a86c74cd23568c75bb13.bindPopup(popup_32258df2d11081606ec3d332593c2917)\n",
       "        ;\n",
       "\n",
       "        \n",
       "    \n",
       "    \n",
       "            var circle_marker_8abcd9972f4835b3a6d1da3bea2fca6a = L.circleMarker(\n",
       "                [31.9522, 35.2332],\n",
       "                {&quot;bubblingMouseEvents&quot;: true, &quot;color&quot;: &quot;red&quot;, &quot;dashArray&quot;: null, &quot;dashOffset&quot;: null, &quot;fill&quot;: true, &quot;fillColor&quot;: &quot;black&quot;, &quot;fillOpacity&quot;: 0.7, &quot;fillRule&quot;: &quot;evenodd&quot;, &quot;lineCap&quot;: &quot;round&quot;, &quot;lineJoin&quot;: &quot;round&quot;, &quot;opacity&quot;: 1.0, &quot;radius&quot;: 1.0, &quot;stroke&quot;: true, &quot;weight&quot;: 3}\n",
       "            ).addTo(map_872c175f5dec8ff2914d27a1f6935452);\n",
       "        \n",
       "    \n",
       "        var popup_4da028ab45a1eeec7f7c5e9839677bd7 = L.popup({\n",
       "  &quot;maxWidth&quot;: &quot;100%&quot;,\n",
       "  &quot;autoClose&quot;: null,\n",
       "  &quot;closeOnClick&quot;: null,\n",
       "});\n",
       "\n",
       "        \n",
       "            \n",
       "                var html_d9edae7bb2aebc231983949e470bd813 = $(`&lt;div id=&quot;html_d9edae7bb2aebc231983949e470bd813&quot; style=&quot;width: 100.0%; height: 100.0%;&quot;&gt;Palestine: 1 contents&lt;/div&gt;`)[0];\n",
       "                popup_4da028ab45a1eeec7f7c5e9839677bd7.setContent(html_d9edae7bb2aebc231983949e470bd813);\n",
       "            \n",
       "        \n",
       "\n",
       "        circle_marker_8abcd9972f4835b3a6d1da3bea2fca6a.bindPopup(popup_4da028ab45a1eeec7f7c5e9839677bd7)\n",
       "        ;\n",
       "\n",
       "        \n",
       "    \n",
       "    \n",
       "            tile_layer_97958eaed2a027cc97421d2d6a6e62f4.addTo(map_872c175f5dec8ff2914d27a1f6935452);\n",
       "        \n",
       "&lt;/script&gt;\n",
       "&lt;/html&gt;\" style=\"position:absolute;width:100%;height:100%;left:0;top:0;border:none !important;\" allowfullscreen webkitallowfullscreen mozallowfullscreen></iframe></div></div>"
      ],
      "text/plain": [
       "<folium.folium.Map at 0x208d6763440>"
      ]
     },
     "execution_count": 31,
     "metadata": {},
     "output_type": "execute_result"
    }
   ],
   "source": [
    "# Convert to DataFrame for easier manipulation\n",
    "country_data = pd.DataFrame(list(country_content.items()), columns=[\"Country\", \"Content_Count\"])\n",
    "\n",
    "# Initialize a map centered globally\n",
    "world_map = folium.Map(location=[20, 0], zoom_start=2)\n",
    "\n",
    "# Loop through the country_data DataFrame\n",
    "for index, row in country_data.iterrows():\n",
    "    country = row['Country']\n",
    "    count = row['Content_Count']\n",
    "    \n",
    "    # Get the coordinates from the dictionary\n",
    "    coords = country_coords.get(country, None)\n",
    "    \n",
    "    # Only add circles for valid coordinates\n",
    "    if coords and coords != [0, 0]:\n",
    "        folium.CircleMarker(\n",
    "            location=coords,\n",
    "            radius=count ** 0.5,  # Scale circle size by count\n",
    "            color=\"red\",  # Circle outline color\n",
    "            fill=True,\n",
    "            fill_color=\"black\",  # Circle fill color\n",
    "            fill_opacity=0.7,\n",
    "            popup=f\"{country}: {count} contents\",  # Popup with country and content count\n",
    "        ).add_to(world_map)\n",
    "\n",
    "#Save the map \n",
    "world_map.save(\"country_content_map.html\")\n",
    "#Display the map\n",
    "world_map"
   ]
  },
  {
   "cell_type": "markdown",
   "id": "f36ae3ef",
   "metadata": {},
   "source": [
    "##\tAre there specific times of the year when more content is added?"
   ]
  },
  {
   "cell_type": "markdown",
   "id": "6de616af",
   "metadata": {},
   "source": [
    "### **Are There Specific Times of the Year When More Content Is Added?**\n",
    "📅 **Trend Analysis of Netflix Content Addition by Month**  \n",
    "Using the dataset, we analyzed the number of shows and movies added to Netflix by month to determine if there are seasonal trends.\n",
    "\n",
    "**Key Findings:**\n",
    "- **July** is the peak month for Netflix content additions, with **827** titles added.\n",
    "- **December** follows closely with **812** titles, while **September** comes in third with **769**.\n",
    "- The months with the fewest additions are **February** with **562** and **May** with **632** titles added.\n",
    "\n",
    "The month-wise distribution indicates that content addition is higher during the mid-to-late part of the year (July to December), which may reflect seasonal content releases or business strategies.\n"
   ]
  },
  {
   "cell_type": "code",
   "execution_count": 32,
   "id": "44b9bbbe",
   "metadata": {},
   "outputs": [],
   "source": [
    "monthly_added_content = df.groupby(\"month_added\").count().\\\n",
    "                            sort_values(by=\"show_id\", ascending=False)[[\"show_id\"]].\\\n",
    "                            reset_index()\n"
   ]
  },
  {
   "cell_type": "code",
   "execution_count": 33,
   "id": "1a815187",
   "metadata": {},
   "outputs": [
    {
     "data": {
      "application/vnd.plotly.v1+json": {
       "config": {
        "plotlyServerURL": "https://plot.ly"
       },
       "data": [
        {
         "alignmentgroup": "True",
         "hovertemplate": "month_added=%{x}<br>show_id=%{y}<extra></extra>",
         "legendgroup": "",
         "marker": {
          "color": "#221F1F",
          "pattern": {
           "shape": ""
          }
         },
         "name": "",
         "offsetgroup": "",
         "orientation": "v",
         "showlegend": false,
         "textposition": "auto",
         "texttemplate": "%{y}",
         "type": "bar",
         "x": [
          "July",
          "December",
          "September",
          "April",
          "October",
          "August",
          "March",
          "January",
          "June",
          "November",
          "May",
          "February"
         ],
         "xaxis": "x",
         "y": [
          827,
          812,
          769,
          763,
          760,
          754,
          741,
          737,
          728,
          705,
          632,
          562
         ],
         "yaxis": "y"
        }
       ],
       "layout": {
        "barmode": "relative",
        "legend": {
         "tracegroupgap": 0
        },
        "template": {
         "data": {
          "bar": [
           {
            "error_x": {
             "color": "#2a3f5f"
            },
            "error_y": {
             "color": "#2a3f5f"
            },
            "marker": {
             "line": {
              "color": "#E5ECF6",
              "width": 0.5
             },
             "pattern": {
              "fillmode": "overlay",
              "size": 10,
              "solidity": 0.2
             }
            },
            "type": "bar"
           }
          ],
          "barpolar": [
           {
            "marker": {
             "line": {
              "color": "#E5ECF6",
              "width": 0.5
             },
             "pattern": {
              "fillmode": "overlay",
              "size": 10,
              "solidity": 0.2
             }
            },
            "type": "barpolar"
           }
          ],
          "carpet": [
           {
            "aaxis": {
             "endlinecolor": "#2a3f5f",
             "gridcolor": "white",
             "linecolor": "white",
             "minorgridcolor": "white",
             "startlinecolor": "#2a3f5f"
            },
            "baxis": {
             "endlinecolor": "#2a3f5f",
             "gridcolor": "white",
             "linecolor": "white",
             "minorgridcolor": "white",
             "startlinecolor": "#2a3f5f"
            },
            "type": "carpet"
           }
          ],
          "choropleth": [
           {
            "colorbar": {
             "outlinewidth": 0,
             "ticks": ""
            },
            "type": "choropleth"
           }
          ],
          "contour": [
           {
            "colorbar": {
             "outlinewidth": 0,
             "ticks": ""
            },
            "colorscale": [
             [
              0,
              "#0d0887"
             ],
             [
              0.1111111111111111,
              "#46039f"
             ],
             [
              0.2222222222222222,
              "#7201a8"
             ],
             [
              0.3333333333333333,
              "#9c179e"
             ],
             [
              0.4444444444444444,
              "#bd3786"
             ],
             [
              0.5555555555555556,
              "#d8576b"
             ],
             [
              0.6666666666666666,
              "#ed7953"
             ],
             [
              0.7777777777777778,
              "#fb9f3a"
             ],
             [
              0.8888888888888888,
              "#fdca26"
             ],
             [
              1,
              "#f0f921"
             ]
            ],
            "type": "contour"
           }
          ],
          "contourcarpet": [
           {
            "colorbar": {
             "outlinewidth": 0,
             "ticks": ""
            },
            "type": "contourcarpet"
           }
          ],
          "heatmap": [
           {
            "colorbar": {
             "outlinewidth": 0,
             "ticks": ""
            },
            "colorscale": [
             [
              0,
              "#0d0887"
             ],
             [
              0.1111111111111111,
              "#46039f"
             ],
             [
              0.2222222222222222,
              "#7201a8"
             ],
             [
              0.3333333333333333,
              "#9c179e"
             ],
             [
              0.4444444444444444,
              "#bd3786"
             ],
             [
              0.5555555555555556,
              "#d8576b"
             ],
             [
              0.6666666666666666,
              "#ed7953"
             ],
             [
              0.7777777777777778,
              "#fb9f3a"
             ],
             [
              0.8888888888888888,
              "#fdca26"
             ],
             [
              1,
              "#f0f921"
             ]
            ],
            "type": "heatmap"
           }
          ],
          "heatmapgl": [
           {
            "colorbar": {
             "outlinewidth": 0,
             "ticks": ""
            },
            "colorscale": [
             [
              0,
              "#0d0887"
             ],
             [
              0.1111111111111111,
              "#46039f"
             ],
             [
              0.2222222222222222,
              "#7201a8"
             ],
             [
              0.3333333333333333,
              "#9c179e"
             ],
             [
              0.4444444444444444,
              "#bd3786"
             ],
             [
              0.5555555555555556,
              "#d8576b"
             ],
             [
              0.6666666666666666,
              "#ed7953"
             ],
             [
              0.7777777777777778,
              "#fb9f3a"
             ],
             [
              0.8888888888888888,
              "#fdca26"
             ],
             [
              1,
              "#f0f921"
             ]
            ],
            "type": "heatmapgl"
           }
          ],
          "histogram": [
           {
            "marker": {
             "pattern": {
              "fillmode": "overlay",
              "size": 10,
              "solidity": 0.2
             }
            },
            "type": "histogram"
           }
          ],
          "histogram2d": [
           {
            "colorbar": {
             "outlinewidth": 0,
             "ticks": ""
            },
            "colorscale": [
             [
              0,
              "#0d0887"
             ],
             [
              0.1111111111111111,
              "#46039f"
             ],
             [
              0.2222222222222222,
              "#7201a8"
             ],
             [
              0.3333333333333333,
              "#9c179e"
             ],
             [
              0.4444444444444444,
              "#bd3786"
             ],
             [
              0.5555555555555556,
              "#d8576b"
             ],
             [
              0.6666666666666666,
              "#ed7953"
             ],
             [
              0.7777777777777778,
              "#fb9f3a"
             ],
             [
              0.8888888888888888,
              "#fdca26"
             ],
             [
              1,
              "#f0f921"
             ]
            ],
            "type": "histogram2d"
           }
          ],
          "histogram2dcontour": [
           {
            "colorbar": {
             "outlinewidth": 0,
             "ticks": ""
            },
            "colorscale": [
             [
              0,
              "#0d0887"
             ],
             [
              0.1111111111111111,
              "#46039f"
             ],
             [
              0.2222222222222222,
              "#7201a8"
             ],
             [
              0.3333333333333333,
              "#9c179e"
             ],
             [
              0.4444444444444444,
              "#bd3786"
             ],
             [
              0.5555555555555556,
              "#d8576b"
             ],
             [
              0.6666666666666666,
              "#ed7953"
             ],
             [
              0.7777777777777778,
              "#fb9f3a"
             ],
             [
              0.8888888888888888,
              "#fdca26"
             ],
             [
              1,
              "#f0f921"
             ]
            ],
            "type": "histogram2dcontour"
           }
          ],
          "mesh3d": [
           {
            "colorbar": {
             "outlinewidth": 0,
             "ticks": ""
            },
            "type": "mesh3d"
           }
          ],
          "parcoords": [
           {
            "line": {
             "colorbar": {
              "outlinewidth": 0,
              "ticks": ""
             }
            },
            "type": "parcoords"
           }
          ],
          "pie": [
           {
            "automargin": true,
            "type": "pie"
           }
          ],
          "scatter": [
           {
            "fillpattern": {
             "fillmode": "overlay",
             "size": 10,
             "solidity": 0.2
            },
            "type": "scatter"
           }
          ],
          "scatter3d": [
           {
            "line": {
             "colorbar": {
              "outlinewidth": 0,
              "ticks": ""
             }
            },
            "marker": {
             "colorbar": {
              "outlinewidth": 0,
              "ticks": ""
             }
            },
            "type": "scatter3d"
           }
          ],
          "scattercarpet": [
           {
            "marker": {
             "colorbar": {
              "outlinewidth": 0,
              "ticks": ""
             }
            },
            "type": "scattercarpet"
           }
          ],
          "scattergeo": [
           {
            "marker": {
             "colorbar": {
              "outlinewidth": 0,
              "ticks": ""
             }
            },
            "type": "scattergeo"
           }
          ],
          "scattergl": [
           {
            "marker": {
             "colorbar": {
              "outlinewidth": 0,
              "ticks": ""
             }
            },
            "type": "scattergl"
           }
          ],
          "scattermapbox": [
           {
            "marker": {
             "colorbar": {
              "outlinewidth": 0,
              "ticks": ""
             }
            },
            "type": "scattermapbox"
           }
          ],
          "scatterpolar": [
           {
            "marker": {
             "colorbar": {
              "outlinewidth": 0,
              "ticks": ""
             }
            },
            "type": "scatterpolar"
           }
          ],
          "scatterpolargl": [
           {
            "marker": {
             "colorbar": {
              "outlinewidth": 0,
              "ticks": ""
             }
            },
            "type": "scatterpolargl"
           }
          ],
          "scatterternary": [
           {
            "marker": {
             "colorbar": {
              "outlinewidth": 0,
              "ticks": ""
             }
            },
            "type": "scatterternary"
           }
          ],
          "surface": [
           {
            "colorbar": {
             "outlinewidth": 0,
             "ticks": ""
            },
            "colorscale": [
             [
              0,
              "#0d0887"
             ],
             [
              0.1111111111111111,
              "#46039f"
             ],
             [
              0.2222222222222222,
              "#7201a8"
             ],
             [
              0.3333333333333333,
              "#9c179e"
             ],
             [
              0.4444444444444444,
              "#bd3786"
             ],
             [
              0.5555555555555556,
              "#d8576b"
             ],
             [
              0.6666666666666666,
              "#ed7953"
             ],
             [
              0.7777777777777778,
              "#fb9f3a"
             ],
             [
              0.8888888888888888,
              "#fdca26"
             ],
             [
              1,
              "#f0f921"
             ]
            ],
            "type": "surface"
           }
          ],
          "table": [
           {
            "cells": {
             "fill": {
              "color": "#EBF0F8"
             },
             "line": {
              "color": "white"
             }
            },
            "header": {
             "fill": {
              "color": "#C8D4E3"
             },
             "line": {
              "color": "white"
             }
            },
            "type": "table"
           }
          ]
         },
         "layout": {
          "annotationdefaults": {
           "arrowcolor": "#2a3f5f",
           "arrowhead": 0,
           "arrowwidth": 1
          },
          "autotypenumbers": "strict",
          "coloraxis": {
           "colorbar": {
            "outlinewidth": 0,
            "ticks": ""
           }
          },
          "colorscale": {
           "diverging": [
            [
             0,
             "#8e0152"
            ],
            [
             0.1,
             "#c51b7d"
            ],
            [
             0.2,
             "#de77ae"
            ],
            [
             0.3,
             "#f1b6da"
            ],
            [
             0.4,
             "#fde0ef"
            ],
            [
             0.5,
             "#f7f7f7"
            ],
            [
             0.6,
             "#e6f5d0"
            ],
            [
             0.7,
             "#b8e186"
            ],
            [
             0.8,
             "#7fbc41"
            ],
            [
             0.9,
             "#4d9221"
            ],
            [
             1,
             "#276419"
            ]
           ],
           "sequential": [
            [
             0,
             "#0d0887"
            ],
            [
             0.1111111111111111,
             "#46039f"
            ],
            [
             0.2222222222222222,
             "#7201a8"
            ],
            [
             0.3333333333333333,
             "#9c179e"
            ],
            [
             0.4444444444444444,
             "#bd3786"
            ],
            [
             0.5555555555555556,
             "#d8576b"
            ],
            [
             0.6666666666666666,
             "#ed7953"
            ],
            [
             0.7777777777777778,
             "#fb9f3a"
            ],
            [
             0.8888888888888888,
             "#fdca26"
            ],
            [
             1,
             "#f0f921"
            ]
           ],
           "sequentialminus": [
            [
             0,
             "#0d0887"
            ],
            [
             0.1111111111111111,
             "#46039f"
            ],
            [
             0.2222222222222222,
             "#7201a8"
            ],
            [
             0.3333333333333333,
             "#9c179e"
            ],
            [
             0.4444444444444444,
             "#bd3786"
            ],
            [
             0.5555555555555556,
             "#d8576b"
            ],
            [
             0.6666666666666666,
             "#ed7953"
            ],
            [
             0.7777777777777778,
             "#fb9f3a"
            ],
            [
             0.8888888888888888,
             "#fdca26"
            ],
            [
             1,
             "#f0f921"
            ]
           ]
          },
          "colorway": [
           "#636efa",
           "#EF553B",
           "#00cc96",
           "#ab63fa",
           "#FFA15A",
           "#19d3f3",
           "#FF6692",
           "#B6E880",
           "#FF97FF",
           "#FECB52"
          ],
          "font": {
           "color": "#2a3f5f"
          },
          "geo": {
           "bgcolor": "white",
           "lakecolor": "white",
           "landcolor": "#E5ECF6",
           "showlakes": true,
           "showland": true,
           "subunitcolor": "white"
          },
          "hoverlabel": {
           "align": "left"
          },
          "hovermode": "closest",
          "mapbox": {
           "style": "light"
          },
          "paper_bgcolor": "white",
          "plot_bgcolor": "#E5ECF6",
          "polar": {
           "angularaxis": {
            "gridcolor": "white",
            "linecolor": "white",
            "ticks": ""
           },
           "bgcolor": "#E5ECF6",
           "radialaxis": {
            "gridcolor": "white",
            "linecolor": "white",
            "ticks": ""
           }
          },
          "scene": {
           "xaxis": {
            "backgroundcolor": "#E5ECF6",
            "gridcolor": "white",
            "gridwidth": 2,
            "linecolor": "white",
            "showbackground": true,
            "ticks": "",
            "zerolinecolor": "white"
           },
           "yaxis": {
            "backgroundcolor": "#E5ECF6",
            "gridcolor": "white",
            "gridwidth": 2,
            "linecolor": "white",
            "showbackground": true,
            "ticks": "",
            "zerolinecolor": "white"
           },
           "zaxis": {
            "backgroundcolor": "#E5ECF6",
            "gridcolor": "white",
            "gridwidth": 2,
            "linecolor": "white",
            "showbackground": true,
            "ticks": "",
            "zerolinecolor": "white"
           }
          },
          "shapedefaults": {
           "line": {
            "color": "#2a3f5f"
           }
          },
          "ternary": {
           "aaxis": {
            "gridcolor": "white",
            "linecolor": "white",
            "ticks": ""
           },
           "baxis": {
            "gridcolor": "white",
            "linecolor": "white",
            "ticks": ""
           },
           "bgcolor": "#E5ECF6",
           "caxis": {
            "gridcolor": "white",
            "linecolor": "white",
            "ticks": ""
           }
          },
          "title": {
           "x": 0.05
          },
          "xaxis": {
           "automargin": true,
           "gridcolor": "white",
           "linecolor": "white",
           "ticks": "",
           "title": {
            "standoff": 15
           },
           "zerolinecolor": "white",
           "zerolinewidth": 2
          },
          "yaxis": {
           "automargin": true,
           "gridcolor": "white",
           "linecolor": "white",
           "ticks": "",
           "title": {
            "standoff": 15
           },
           "zerolinecolor": "white",
           "zerolinewidth": 2
          }
         }
        },
        "title": {
         "font": {
          "color": "#E50914",
          "size": 24
         },
         "text": "Number of added content per Month"
        },
        "xaxis": {
         "anchor": "y",
         "domain": [
          0,
          1
         ],
         "title": {
          "text": "Month"
         }
        },
        "yaxis": {
         "anchor": "x",
         "domain": [
          0,
          1
         ],
         "title": {
          "text": "Total content"
         }
        }
       }
      }
     },
     "metadata": {},
     "output_type": "display_data"
    }
   ],
   "source": [
    "\n",
    "fig = px.bar(\n",
    "    data_frame=monthly_added_content,\n",
    "    x=\"month_added\",\n",
    "    y=\"show_id\",\n",
    "    title=\"Number of added content per Month\",\n",
    "    text_auto=True,\n",
    "    color_discrete_sequence=['#221F1F']\n",
    ")\n",
    "\n",
    "\n",
    "# Customizing labels\n",
    "fig.update_layout(\n",
    "    xaxis_title=\"Month\",  # Update X-axis label\n",
    "    yaxis_title=\"Total content\",  # Update Y-axis label\n",
    "    title_font=dict(size=24, color=\"#E50914\")  \n",
    ")\n",
    "\n",
    "# Show the figure\n",
    "fig.show()"
   ]
  }
 ],
 "metadata": {
  "kernelspec": {
   "display_name": "backup_base",
   "language": "python",
   "name": "python3"
  },
  "language_info": {
   "codemirror_mode": {
    "name": "ipython",
    "version": 3
   },
   "file_extension": ".py",
   "mimetype": "text/x-python",
   "name": "python",
   "nbconvert_exporter": "python",
   "pygments_lexer": "ipython3",
   "version": "3.12.3"
  }
 },
 "nbformat": 4,
 "nbformat_minor": 5
}

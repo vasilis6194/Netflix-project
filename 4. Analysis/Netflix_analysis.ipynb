{
 "cells": [
  {
   "cell_type": "markdown",
   "id": "5f10808d",
   "metadata": {},
   "source": [
    "# 📊 **Netflix Content Analysis** 🔍\n",
    "### **Comprehensive Exploration of Content Trends, Categories, and Global Distribution**\n",
    "\n",
    "This report delves into the **distribution of content by type**, **geographical production trends**, **seasonal patterns**, and more, using Netflix's vast library of movies and TV shows. We analyze various aspects, from the **growth in new content over the years** to the **dominant genres** and **countries of origin**, and even explore the impact of **TMDB ratings**.\n",
    "\n",
    "✨ Key Insights:\n",
    "- The evolution of Netflix’s content library from 2008 to 2021.\n",
    "- Global distribution of movies and TV shows across different countries 🌍.\n",
    "- Trend analysis of content addition over the years 📈.\n",
    "- Detailed breakdown of **top categories** and their popularity.\n",
    "\n",
    "Let’s dive into the data and uncover the fascinating insights behind Netflix’s expansive content library! 🚀\n"
   ]
  },
  {
   "cell_type": "code",
   "execution_count": 136,
   "id": "c90ec879",
   "metadata": {},
   "outputs": [],
   "source": [
    "import numpy as np\n",
    "import pandas as pd\n",
    "import plotly.express as px\n",
    "import matplotlib.pyplot as plt\n",
    "import folium\n",
    "import requests\n",
    "import json\n",
    "from country_coords import country_coords"
   ]
  },
  {
   "cell_type": "code",
   "execution_count": 86,
   "id": "76547626",
   "metadata": {},
   "outputs": [],
   "source": [
    "df = pd.read_csv(\"cleaned_netflix.csv\")"
   ]
  },
  {
   "cell_type": "code",
   "execution_count": 87,
   "id": "90681157",
   "metadata": {},
   "outputs": [
    {
     "data": {
      "text/html": [
       "<div>\n",
       "<style scoped>\n",
       "    .dataframe tbody tr th:only-of-type {\n",
       "        vertical-align: middle;\n",
       "    }\n",
       "\n",
       "    .dataframe tbody tr th {\n",
       "        vertical-align: top;\n",
       "    }\n",
       "\n",
       "    .dataframe thead th {\n",
       "        text-align: right;\n",
       "    }\n",
       "</style>\n",
       "<table border=\"1\" class=\"dataframe\">\n",
       "  <thead>\n",
       "    <tr style=\"text-align: right;\">\n",
       "      <th></th>\n",
       "      <th>Unnamed: 0</th>\n",
       "      <th>show_id</th>\n",
       "      <th>type</th>\n",
       "      <th>title</th>\n",
       "      <th>director</th>\n",
       "      <th>cast</th>\n",
       "      <th>country</th>\n",
       "      <th>date_added</th>\n",
       "      <th>release_year</th>\n",
       "      <th>rating</th>\n",
       "      <th>duration</th>\n",
       "      <th>listed_in</th>\n",
       "      <th>description</th>\n",
       "      <th>year_added</th>\n",
       "      <th>month_added</th>\n",
       "    </tr>\n",
       "  </thead>\n",
       "  <tbody>\n",
       "    <tr>\n",
       "      <th>0</th>\n",
       "      <td>0</td>\n",
       "      <td>s1</td>\n",
       "      <td>Movie</td>\n",
       "      <td>Dick Johnson Is Dead</td>\n",
       "      <td>Kirsten Johnson</td>\n",
       "      <td>Not Available</td>\n",
       "      <td>United States</td>\n",
       "      <td>2021-09-25</td>\n",
       "      <td>2020</td>\n",
       "      <td>PG-13</td>\n",
       "      <td>90 min</td>\n",
       "      <td>Documentaries</td>\n",
       "      <td>As her father nears the end of his life, filmm...</td>\n",
       "      <td>2021</td>\n",
       "      <td>September</td>\n",
       "    </tr>\n",
       "    <tr>\n",
       "      <th>1</th>\n",
       "      <td>1</td>\n",
       "      <td>s2</td>\n",
       "      <td>TV Show</td>\n",
       "      <td>Blood &amp; Water</td>\n",
       "      <td>Unknown</td>\n",
       "      <td>Ama Qamata, Khosi Ngema, Gail Mabalane, Thaban...</td>\n",
       "      <td>South Africa</td>\n",
       "      <td>2021-09-24</td>\n",
       "      <td>2021</td>\n",
       "      <td>TV-MA</td>\n",
       "      <td>2 Seasons</td>\n",
       "      <td>International TV Shows, TV Dramas, TV Mysteries</td>\n",
       "      <td>After crossing paths at a party, a Cape Town t...</td>\n",
       "      <td>2021</td>\n",
       "      <td>September</td>\n",
       "    </tr>\n",
       "  </tbody>\n",
       "</table>\n",
       "</div>"
      ],
      "text/plain": [
       "   Unnamed: 0 show_id     type                 title         director  \\\n",
       "0           0      s1    Movie  Dick Johnson Is Dead  Kirsten Johnson   \n",
       "1           1      s2  TV Show         Blood & Water          Unknown   \n",
       "\n",
       "                                                cast        country  \\\n",
       "0                                      Not Available  United States   \n",
       "1  Ama Qamata, Khosi Ngema, Gail Mabalane, Thaban...   South Africa   \n",
       "\n",
       "   date_added  release_year rating   duration  \\\n",
       "0  2021-09-25          2020  PG-13     90 min   \n",
       "1  2021-09-24          2021  TV-MA  2 Seasons   \n",
       "\n",
       "                                         listed_in  \\\n",
       "0                                    Documentaries   \n",
       "1  International TV Shows, TV Dramas, TV Mysteries   \n",
       "\n",
       "                                         description  year_added month_added  \n",
       "0  As her father nears the end of his life, filmm...        2021   September  \n",
       "1  After crossing paths at a party, a Cape Town t...        2021   September  "
      ]
     },
     "execution_count": 87,
     "metadata": {},
     "output_type": "execute_result"
    }
   ],
   "source": [
    "df.head(2)"
   ]
  },
  {
   "cell_type": "code",
   "execution_count": 88,
   "id": "89b8e8ee",
   "metadata": {},
   "outputs": [],
   "source": [
    "df.drop(columns=\"Unnamed: 0\", inplace=True)"
   ]
  },
  {
   "cell_type": "code",
   "execution_count": 170,
   "id": "59322628",
   "metadata": {},
   "outputs": [
    {
     "data": {
      "text/html": [
       "<div>\n",
       "<style scoped>\n",
       "    .dataframe tbody tr th:only-of-type {\n",
       "        vertical-align: middle;\n",
       "    }\n",
       "\n",
       "    .dataframe tbody tr th {\n",
       "        vertical-align: top;\n",
       "    }\n",
       "\n",
       "    .dataframe thead th {\n",
       "        text-align: right;\n",
       "    }\n",
       "</style>\n",
       "<table border=\"1\" class=\"dataframe\">\n",
       "  <thead>\n",
       "    <tr style=\"text-align: right;\">\n",
       "      <th></th>\n",
       "      <th>show_id</th>\n",
       "      <th>type</th>\n",
       "      <th>title</th>\n",
       "      <th>director</th>\n",
       "      <th>cast</th>\n",
       "      <th>country</th>\n",
       "      <th>date_added</th>\n",
       "      <th>release_year</th>\n",
       "      <th>rating</th>\n",
       "      <th>duration</th>\n",
       "      <th>listed_in</th>\n",
       "      <th>description</th>\n",
       "      <th>year_added</th>\n",
       "      <th>month_added</th>\n",
       "    </tr>\n",
       "  </thead>\n",
       "  <tbody>\n",
       "    <tr>\n",
       "      <th>0</th>\n",
       "      <td>s1</td>\n",
       "      <td>Movie</td>\n",
       "      <td>Dick Johnson Is Dead</td>\n",
       "      <td>Kirsten Johnson</td>\n",
       "      <td>Not Available</td>\n",
       "      <td>United States</td>\n",
       "      <td>2021-09-25</td>\n",
       "      <td>2020</td>\n",
       "      <td>PG-13</td>\n",
       "      <td>90 min</td>\n",
       "      <td>Documentaries</td>\n",
       "      <td>As her father nears the end of his life, filmm...</td>\n",
       "      <td>2021</td>\n",
       "      <td>September</td>\n",
       "    </tr>\n",
       "    <tr>\n",
       "      <th>1</th>\n",
       "      <td>s2</td>\n",
       "      <td>TV Show</td>\n",
       "      <td>Blood &amp; Water</td>\n",
       "      <td>Unknown</td>\n",
       "      <td>Ama Qamata, Khosi Ngema, Gail Mabalane, Thaban...</td>\n",
       "      <td>South Africa</td>\n",
       "      <td>2021-09-24</td>\n",
       "      <td>2021</td>\n",
       "      <td>TV-MA</td>\n",
       "      <td>2 Seasons</td>\n",
       "      <td>International TV Shows, TV Dramas, TV Mysteries</td>\n",
       "      <td>After crossing paths at a party, a Cape Town t...</td>\n",
       "      <td>2021</td>\n",
       "      <td>September</td>\n",
       "    </tr>\n",
       "  </tbody>\n",
       "</table>\n",
       "</div>"
      ],
      "text/plain": [
       "  show_id     type                 title         director  \\\n",
       "0      s1    Movie  Dick Johnson Is Dead  Kirsten Johnson   \n",
       "1      s2  TV Show         Blood & Water          Unknown   \n",
       "\n",
       "                                                cast        country  \\\n",
       "0                                      Not Available  United States   \n",
       "1  Ama Qamata, Khosi Ngema, Gail Mabalane, Thaban...   South Africa   \n",
       "\n",
       "  date_added  release_year rating   duration  \\\n",
       "0 2021-09-25          2020  PG-13     90 min   \n",
       "1 2021-09-24          2021  TV-MA  2 Seasons   \n",
       "\n",
       "                                         listed_in  \\\n",
       "0                                    Documentaries   \n",
       "1  International TV Shows, TV Dramas, TV Mysteries   \n",
       "\n",
       "                                         description  year_added month_added  \n",
       "0  As her father nears the end of his life, filmm...        2021   September  \n",
       "1  After crossing paths at a party, a Cape Town t...        2021   September  "
      ]
     },
     "execution_count": 170,
     "metadata": {},
     "output_type": "execute_result"
    }
   ],
   "source": [
    "df.head(2)"
   ]
  },
  {
   "cell_type": "code",
   "execution_count": 142,
   "id": "6554a89a",
   "metadata": {},
   "outputs": [],
   "source": [
    "# Convert column to datetime\n",
    "df[\"date_added\"] = pd.to_datetime(df[\"date_added\"])"
   ]
  },
  {
   "cell_type": "code",
   "execution_count": 148,
   "id": "5914f2b7",
   "metadata": {},
   "outputs": [],
   "source": [
    "# Create month_added column\n",
    "df[\"month_added\"] = df[\"date_added\"].dt.month"
   ]
  },
  {
   "cell_type": "code",
   "execution_count": 149,
   "id": "183fc302",
   "metadata": {},
   "outputs": [],
   "source": [
    "months_dict = {\n",
    "    1: \"January\",\n",
    "    2: \"February\",\n",
    "    3: \"March\",\n",
    "    4: \"April\",\n",
    "    5: \"May\",\n",
    "    6: \"June\",\n",
    "    7: \"July\",\n",
    "    8: \"August\",\n",
    "    9: \"September\",\n",
    "    10: \"October\",\n",
    "    11: \"November\",\n",
    "    12: \"December\"\n",
    "}\n"
   ]
  },
  {
   "cell_type": "code",
   "execution_count": 150,
   "id": "74dff7cc",
   "metadata": {},
   "outputs": [],
   "source": [
    "df[\"month_added\"] = df[\"month_added\"].map(months_dict)"
   ]
  },
  {
   "cell_type": "markdown",
   "id": "80cd8353",
   "metadata": {},
   "source": [
    "# Distribution of Content by Type (Movies vs. TV Shows) 🎬📺\n",
    "\n",
    "In this analysis, we explored the distribution of content available on Netflix. We focused on **Movies** and **TV Shows** to see how they are represented in the dataset.\n",
    "\n",
    "The data reveals:\n",
    "- A **majority of content** is in the form of **Movies**.\n",
    "- The **TV Shows** count, while substantial, is significantly lower than movies.\n",
    "  \n",
    "This provides insights into the content focus on the platform.\n",
    "\n",
    "## Key Findings:\n",
    "- **Movies:** 70% of the content\n",
    "- **TV Shows:** 30% of the content\n"
   ]
  },
  {
   "cell_type": "markdown",
   "id": "fd18ff67",
   "metadata": {},
   "source": [
    "## Movies vs TV Shows"
   ]
  },
  {
   "cell_type": "code",
   "execution_count": 90,
   "id": "3ce2489b",
   "metadata": {},
   "outputs": [
    {
     "data": {
      "text/html": [
       "<div>\n",
       "<style scoped>\n",
       "    .dataframe tbody tr th:only-of-type {\n",
       "        vertical-align: middle;\n",
       "    }\n",
       "\n",
       "    .dataframe tbody tr th {\n",
       "        vertical-align: top;\n",
       "    }\n",
       "\n",
       "    .dataframe thead th {\n",
       "        text-align: right;\n",
       "    }\n",
       "</style>\n",
       "<table border=\"1\" class=\"dataframe\">\n",
       "  <thead>\n",
       "    <tr style=\"text-align: right;\">\n",
       "      <th></th>\n",
       "      <th>type</th>\n",
       "      <th>show_id</th>\n",
       "    </tr>\n",
       "  </thead>\n",
       "  <tbody>\n",
       "    <tr>\n",
       "      <th>0</th>\n",
       "      <td>Movie</td>\n",
       "      <td>6126</td>\n",
       "    </tr>\n",
       "    <tr>\n",
       "      <th>1</th>\n",
       "      <td>TV Show</td>\n",
       "      <td>2664</td>\n",
       "    </tr>\n",
       "  </tbody>\n",
       "</table>\n",
       "</div>"
      ],
      "text/plain": [
       "      type  show_id\n",
       "0    Movie     6126\n",
       "1  TV Show     2664"
      ]
     },
     "execution_count": 90,
     "metadata": {},
     "output_type": "execute_result"
    }
   ],
   "source": [
    "movies_vs_shows = df.groupby(\"type\").count()[[\"show_id\"]].reset_index()\n",
    "movies_vs_shows"
   ]
  },
  {
   "cell_type": "code",
   "execution_count": 91,
   "id": "38cf1735",
   "metadata": {},
   "outputs": [
    {
     "data": {
      "application/vnd.plotly.v1+json": {
       "config": {
        "plotlyServerURL": "https://plot.ly"
       },
       "data": [
        {
         "alignmentgroup": "True",
         "hovertemplate": "type=%{x}<br>show_id=%{text}<extra></extra>",
         "legendgroup": "Movie",
         "marker": {
          "color": "#E50914",
          "pattern": {
           "shape": ""
          }
         },
         "name": "Movie",
         "offsetgroup": "Movie",
         "orientation": "v",
         "showlegend": true,
         "text": [
          6126
         ],
         "textposition": "auto",
         "type": "bar",
         "x": [
          "Movie"
         ],
         "xaxis": "x",
         "y": [
          6126
         ],
         "yaxis": "y"
        },
        {
         "alignmentgroup": "True",
         "hovertemplate": "type=%{x}<br>show_id=%{text}<extra></extra>",
         "legendgroup": "TV Show",
         "marker": {
          "color": "#221F1F",
          "pattern": {
           "shape": ""
          }
         },
         "name": "TV Show",
         "offsetgroup": "TV Show",
         "orientation": "v",
         "showlegend": true,
         "text": [
          2664
         ],
         "textposition": "auto",
         "type": "bar",
         "x": [
          "TV Show"
         ],
         "xaxis": "x",
         "y": [
          2664
         ],
         "yaxis": "y"
        }
       ],
       "layout": {
        "barmode": "relative",
        "legend": {
         "title": {
          "text": "type"
         },
         "tracegroupgap": 0
        },
        "template": {
         "data": {
          "bar": [
           {
            "error_x": {
             "color": "#2a3f5f"
            },
            "error_y": {
             "color": "#2a3f5f"
            },
            "marker": {
             "line": {
              "color": "#E5ECF6",
              "width": 0.5
             },
             "pattern": {
              "fillmode": "overlay",
              "size": 10,
              "solidity": 0.2
             }
            },
            "type": "bar"
           }
          ],
          "barpolar": [
           {
            "marker": {
             "line": {
              "color": "#E5ECF6",
              "width": 0.5
             },
             "pattern": {
              "fillmode": "overlay",
              "size": 10,
              "solidity": 0.2
             }
            },
            "type": "barpolar"
           }
          ],
          "carpet": [
           {
            "aaxis": {
             "endlinecolor": "#2a3f5f",
             "gridcolor": "white",
             "linecolor": "white",
             "minorgridcolor": "white",
             "startlinecolor": "#2a3f5f"
            },
            "baxis": {
             "endlinecolor": "#2a3f5f",
             "gridcolor": "white",
             "linecolor": "white",
             "minorgridcolor": "white",
             "startlinecolor": "#2a3f5f"
            },
            "type": "carpet"
           }
          ],
          "choropleth": [
           {
            "colorbar": {
             "outlinewidth": 0,
             "ticks": ""
            },
            "type": "choropleth"
           }
          ],
          "contour": [
           {
            "colorbar": {
             "outlinewidth": 0,
             "ticks": ""
            },
            "colorscale": [
             [
              0,
              "#0d0887"
             ],
             [
              0.1111111111111111,
              "#46039f"
             ],
             [
              0.2222222222222222,
              "#7201a8"
             ],
             [
              0.3333333333333333,
              "#9c179e"
             ],
             [
              0.4444444444444444,
              "#bd3786"
             ],
             [
              0.5555555555555556,
              "#d8576b"
             ],
             [
              0.6666666666666666,
              "#ed7953"
             ],
             [
              0.7777777777777778,
              "#fb9f3a"
             ],
             [
              0.8888888888888888,
              "#fdca26"
             ],
             [
              1,
              "#f0f921"
             ]
            ],
            "type": "contour"
           }
          ],
          "contourcarpet": [
           {
            "colorbar": {
             "outlinewidth": 0,
             "ticks": ""
            },
            "type": "contourcarpet"
           }
          ],
          "heatmap": [
           {
            "colorbar": {
             "outlinewidth": 0,
             "ticks": ""
            },
            "colorscale": [
             [
              0,
              "#0d0887"
             ],
             [
              0.1111111111111111,
              "#46039f"
             ],
             [
              0.2222222222222222,
              "#7201a8"
             ],
             [
              0.3333333333333333,
              "#9c179e"
             ],
             [
              0.4444444444444444,
              "#bd3786"
             ],
             [
              0.5555555555555556,
              "#d8576b"
             ],
             [
              0.6666666666666666,
              "#ed7953"
             ],
             [
              0.7777777777777778,
              "#fb9f3a"
             ],
             [
              0.8888888888888888,
              "#fdca26"
             ],
             [
              1,
              "#f0f921"
             ]
            ],
            "type": "heatmap"
           }
          ],
          "heatmapgl": [
           {
            "colorbar": {
             "outlinewidth": 0,
             "ticks": ""
            },
            "colorscale": [
             [
              0,
              "#0d0887"
             ],
             [
              0.1111111111111111,
              "#46039f"
             ],
             [
              0.2222222222222222,
              "#7201a8"
             ],
             [
              0.3333333333333333,
              "#9c179e"
             ],
             [
              0.4444444444444444,
              "#bd3786"
             ],
             [
              0.5555555555555556,
              "#d8576b"
             ],
             [
              0.6666666666666666,
              "#ed7953"
             ],
             [
              0.7777777777777778,
              "#fb9f3a"
             ],
             [
              0.8888888888888888,
              "#fdca26"
             ],
             [
              1,
              "#f0f921"
             ]
            ],
            "type": "heatmapgl"
           }
          ],
          "histogram": [
           {
            "marker": {
             "pattern": {
              "fillmode": "overlay",
              "size": 10,
              "solidity": 0.2
             }
            },
            "type": "histogram"
           }
          ],
          "histogram2d": [
           {
            "colorbar": {
             "outlinewidth": 0,
             "ticks": ""
            },
            "colorscale": [
             [
              0,
              "#0d0887"
             ],
             [
              0.1111111111111111,
              "#46039f"
             ],
             [
              0.2222222222222222,
              "#7201a8"
             ],
             [
              0.3333333333333333,
              "#9c179e"
             ],
             [
              0.4444444444444444,
              "#bd3786"
             ],
             [
              0.5555555555555556,
              "#d8576b"
             ],
             [
              0.6666666666666666,
              "#ed7953"
             ],
             [
              0.7777777777777778,
              "#fb9f3a"
             ],
             [
              0.8888888888888888,
              "#fdca26"
             ],
             [
              1,
              "#f0f921"
             ]
            ],
            "type": "histogram2d"
           }
          ],
          "histogram2dcontour": [
           {
            "colorbar": {
             "outlinewidth": 0,
             "ticks": ""
            },
            "colorscale": [
             [
              0,
              "#0d0887"
             ],
             [
              0.1111111111111111,
              "#46039f"
             ],
             [
              0.2222222222222222,
              "#7201a8"
             ],
             [
              0.3333333333333333,
              "#9c179e"
             ],
             [
              0.4444444444444444,
              "#bd3786"
             ],
             [
              0.5555555555555556,
              "#d8576b"
             ],
             [
              0.6666666666666666,
              "#ed7953"
             ],
             [
              0.7777777777777778,
              "#fb9f3a"
             ],
             [
              0.8888888888888888,
              "#fdca26"
             ],
             [
              1,
              "#f0f921"
             ]
            ],
            "type": "histogram2dcontour"
           }
          ],
          "mesh3d": [
           {
            "colorbar": {
             "outlinewidth": 0,
             "ticks": ""
            },
            "type": "mesh3d"
           }
          ],
          "parcoords": [
           {
            "line": {
             "colorbar": {
              "outlinewidth": 0,
              "ticks": ""
             }
            },
            "type": "parcoords"
           }
          ],
          "pie": [
           {
            "automargin": true,
            "type": "pie"
           }
          ],
          "scatter": [
           {
            "fillpattern": {
             "fillmode": "overlay",
             "size": 10,
             "solidity": 0.2
            },
            "type": "scatter"
           }
          ],
          "scatter3d": [
           {
            "line": {
             "colorbar": {
              "outlinewidth": 0,
              "ticks": ""
             }
            },
            "marker": {
             "colorbar": {
              "outlinewidth": 0,
              "ticks": ""
             }
            },
            "type": "scatter3d"
           }
          ],
          "scattercarpet": [
           {
            "marker": {
             "colorbar": {
              "outlinewidth": 0,
              "ticks": ""
             }
            },
            "type": "scattercarpet"
           }
          ],
          "scattergeo": [
           {
            "marker": {
             "colorbar": {
              "outlinewidth": 0,
              "ticks": ""
             }
            },
            "type": "scattergeo"
           }
          ],
          "scattergl": [
           {
            "marker": {
             "colorbar": {
              "outlinewidth": 0,
              "ticks": ""
             }
            },
            "type": "scattergl"
           }
          ],
          "scattermapbox": [
           {
            "marker": {
             "colorbar": {
              "outlinewidth": 0,
              "ticks": ""
             }
            },
            "type": "scattermapbox"
           }
          ],
          "scatterpolar": [
           {
            "marker": {
             "colorbar": {
              "outlinewidth": 0,
              "ticks": ""
             }
            },
            "type": "scatterpolar"
           }
          ],
          "scatterpolargl": [
           {
            "marker": {
             "colorbar": {
              "outlinewidth": 0,
              "ticks": ""
             }
            },
            "type": "scatterpolargl"
           }
          ],
          "scatterternary": [
           {
            "marker": {
             "colorbar": {
              "outlinewidth": 0,
              "ticks": ""
             }
            },
            "type": "scatterternary"
           }
          ],
          "surface": [
           {
            "colorbar": {
             "outlinewidth": 0,
             "ticks": ""
            },
            "colorscale": [
             [
              0,
              "#0d0887"
             ],
             [
              0.1111111111111111,
              "#46039f"
             ],
             [
              0.2222222222222222,
              "#7201a8"
             ],
             [
              0.3333333333333333,
              "#9c179e"
             ],
             [
              0.4444444444444444,
              "#bd3786"
             ],
             [
              0.5555555555555556,
              "#d8576b"
             ],
             [
              0.6666666666666666,
              "#ed7953"
             ],
             [
              0.7777777777777778,
              "#fb9f3a"
             ],
             [
              0.8888888888888888,
              "#fdca26"
             ],
             [
              1,
              "#f0f921"
             ]
            ],
            "type": "surface"
           }
          ],
          "table": [
           {
            "cells": {
             "fill": {
              "color": "#EBF0F8"
             },
             "line": {
              "color": "white"
             }
            },
            "header": {
             "fill": {
              "color": "#C8D4E3"
             },
             "line": {
              "color": "white"
             }
            },
            "type": "table"
           }
          ]
         },
         "layout": {
          "annotationdefaults": {
           "arrowcolor": "#2a3f5f",
           "arrowhead": 0,
           "arrowwidth": 1
          },
          "autotypenumbers": "strict",
          "coloraxis": {
           "colorbar": {
            "outlinewidth": 0,
            "ticks": ""
           }
          },
          "colorscale": {
           "diverging": [
            [
             0,
             "#8e0152"
            ],
            [
             0.1,
             "#c51b7d"
            ],
            [
             0.2,
             "#de77ae"
            ],
            [
             0.3,
             "#f1b6da"
            ],
            [
             0.4,
             "#fde0ef"
            ],
            [
             0.5,
             "#f7f7f7"
            ],
            [
             0.6,
             "#e6f5d0"
            ],
            [
             0.7,
             "#b8e186"
            ],
            [
             0.8,
             "#7fbc41"
            ],
            [
             0.9,
             "#4d9221"
            ],
            [
             1,
             "#276419"
            ]
           ],
           "sequential": [
            [
             0,
             "#0d0887"
            ],
            [
             0.1111111111111111,
             "#46039f"
            ],
            [
             0.2222222222222222,
             "#7201a8"
            ],
            [
             0.3333333333333333,
             "#9c179e"
            ],
            [
             0.4444444444444444,
             "#bd3786"
            ],
            [
             0.5555555555555556,
             "#d8576b"
            ],
            [
             0.6666666666666666,
             "#ed7953"
            ],
            [
             0.7777777777777778,
             "#fb9f3a"
            ],
            [
             0.8888888888888888,
             "#fdca26"
            ],
            [
             1,
             "#f0f921"
            ]
           ],
           "sequentialminus": [
            [
             0,
             "#0d0887"
            ],
            [
             0.1111111111111111,
             "#46039f"
            ],
            [
             0.2222222222222222,
             "#7201a8"
            ],
            [
             0.3333333333333333,
             "#9c179e"
            ],
            [
             0.4444444444444444,
             "#bd3786"
            ],
            [
             0.5555555555555556,
             "#d8576b"
            ],
            [
             0.6666666666666666,
             "#ed7953"
            ],
            [
             0.7777777777777778,
             "#fb9f3a"
            ],
            [
             0.8888888888888888,
             "#fdca26"
            ],
            [
             1,
             "#f0f921"
            ]
           ]
          },
          "colorway": [
           "#636efa",
           "#EF553B",
           "#00cc96",
           "#ab63fa",
           "#FFA15A",
           "#19d3f3",
           "#FF6692",
           "#B6E880",
           "#FF97FF",
           "#FECB52"
          ],
          "font": {
           "color": "#2a3f5f"
          },
          "geo": {
           "bgcolor": "white",
           "lakecolor": "white",
           "landcolor": "#E5ECF6",
           "showlakes": true,
           "showland": true,
           "subunitcolor": "white"
          },
          "hoverlabel": {
           "align": "left"
          },
          "hovermode": "closest",
          "mapbox": {
           "style": "light"
          },
          "paper_bgcolor": "white",
          "plot_bgcolor": "#E5ECF6",
          "polar": {
           "angularaxis": {
            "gridcolor": "white",
            "linecolor": "white",
            "ticks": ""
           },
           "bgcolor": "#E5ECF6",
           "radialaxis": {
            "gridcolor": "white",
            "linecolor": "white",
            "ticks": ""
           }
          },
          "scene": {
           "xaxis": {
            "backgroundcolor": "#E5ECF6",
            "gridcolor": "white",
            "gridwidth": 2,
            "linecolor": "white",
            "showbackground": true,
            "ticks": "",
            "zerolinecolor": "white"
           },
           "yaxis": {
            "backgroundcolor": "#E5ECF6",
            "gridcolor": "white",
            "gridwidth": 2,
            "linecolor": "white",
            "showbackground": true,
            "ticks": "",
            "zerolinecolor": "white"
           },
           "zaxis": {
            "backgroundcolor": "#E5ECF6",
            "gridcolor": "white",
            "gridwidth": 2,
            "linecolor": "white",
            "showbackground": true,
            "ticks": "",
            "zerolinecolor": "white"
           }
          },
          "shapedefaults": {
           "line": {
            "color": "#2a3f5f"
           }
          },
          "ternary": {
           "aaxis": {
            "gridcolor": "white",
            "linecolor": "white",
            "ticks": ""
           },
           "baxis": {
            "gridcolor": "white",
            "linecolor": "white",
            "ticks": ""
           },
           "bgcolor": "#E5ECF6",
           "caxis": {
            "gridcolor": "white",
            "linecolor": "white",
            "ticks": ""
           }
          },
          "title": {
           "x": 0.05
          },
          "xaxis": {
           "automargin": true,
           "gridcolor": "white",
           "linecolor": "white",
           "ticks": "",
           "title": {
            "standoff": 15
           },
           "zerolinecolor": "white",
           "zerolinewidth": 2
          },
          "yaxis": {
           "automargin": true,
           "gridcolor": "white",
           "linecolor": "white",
           "ticks": "",
           "title": {
            "standoff": 15
           },
           "zerolinecolor": "white",
           "zerolinewidth": 2
          }
         }
        },
        "title": {
         "font": {
          "color": "#E50914",
          "size": 24
         },
         "text": "Distribution of Netflix Content"
        },
        "xaxis": {
         "anchor": "y",
         "categoryarray": [
          "Movie",
          "TV Show"
         ],
         "categoryorder": "array",
         "domain": [
          0,
          1
         ],
         "title": {
          "text": "Type of Content"
         }
        },
        "yaxis": {
         "anchor": "x",
         "domain": [
          0,
          1
         ],
         "title": {
          "text": "Number of Shows"
         }
        }
       }
      },
      "text/html": [
       "<div>                            <div id=\"59c4dba3-9f18-45c4-a44e-9cb64d2d2340\" class=\"plotly-graph-div\" style=\"height:525px; width:100%;\"></div>            <script type=\"text/javascript\">                require([\"plotly\"], function(Plotly) {                    window.PLOTLYENV=window.PLOTLYENV || {};                                    if (document.getElementById(\"59c4dba3-9f18-45c4-a44e-9cb64d2d2340\")) {                    Plotly.newPlot(                        \"59c4dba3-9f18-45c4-a44e-9cb64d2d2340\",                        [{\"alignmentgroup\":\"True\",\"hovertemplate\":\"type=%{x}\\u003cbr\\u003eshow_id=%{text}\\u003cextra\\u003e\\u003c\\u002fextra\\u003e\",\"legendgroup\":\"Movie\",\"marker\":{\"color\":\"#E50914\",\"pattern\":{\"shape\":\"\"}},\"name\":\"Movie\",\"offsetgroup\":\"Movie\",\"orientation\":\"v\",\"showlegend\":true,\"text\":[6126.0],\"textposition\":\"auto\",\"x\":[\"Movie\"],\"xaxis\":\"x\",\"y\":[6126],\"yaxis\":\"y\",\"type\":\"bar\"},{\"alignmentgroup\":\"True\",\"hovertemplate\":\"type=%{x}\\u003cbr\\u003eshow_id=%{text}\\u003cextra\\u003e\\u003c\\u002fextra\\u003e\",\"legendgroup\":\"TV Show\",\"marker\":{\"color\":\"#221F1F\",\"pattern\":{\"shape\":\"\"}},\"name\":\"TV Show\",\"offsetgroup\":\"TV Show\",\"orientation\":\"v\",\"showlegend\":true,\"text\":[2664.0],\"textposition\":\"auto\",\"x\":[\"TV Show\"],\"xaxis\":\"x\",\"y\":[2664],\"yaxis\":\"y\",\"type\":\"bar\"}],                        {\"template\":{\"data\":{\"histogram2dcontour\":[{\"type\":\"histogram2dcontour\",\"colorbar\":{\"outlinewidth\":0,\"ticks\":\"\"},\"colorscale\":[[0.0,\"#0d0887\"],[0.1111111111111111,\"#46039f\"],[0.2222222222222222,\"#7201a8\"],[0.3333333333333333,\"#9c179e\"],[0.4444444444444444,\"#bd3786\"],[0.5555555555555556,\"#d8576b\"],[0.6666666666666666,\"#ed7953\"],[0.7777777777777778,\"#fb9f3a\"],[0.8888888888888888,\"#fdca26\"],[1.0,\"#f0f921\"]]}],\"choropleth\":[{\"type\":\"choropleth\",\"colorbar\":{\"outlinewidth\":0,\"ticks\":\"\"}}],\"histogram2d\":[{\"type\":\"histogram2d\",\"colorbar\":{\"outlinewidth\":0,\"ticks\":\"\"},\"colorscale\":[[0.0,\"#0d0887\"],[0.1111111111111111,\"#46039f\"],[0.2222222222222222,\"#7201a8\"],[0.3333333333333333,\"#9c179e\"],[0.4444444444444444,\"#bd3786\"],[0.5555555555555556,\"#d8576b\"],[0.6666666666666666,\"#ed7953\"],[0.7777777777777778,\"#fb9f3a\"],[0.8888888888888888,\"#fdca26\"],[1.0,\"#f0f921\"]]}],\"heatmap\":[{\"type\":\"heatmap\",\"colorbar\":{\"outlinewidth\":0,\"ticks\":\"\"},\"colorscale\":[[0.0,\"#0d0887\"],[0.1111111111111111,\"#46039f\"],[0.2222222222222222,\"#7201a8\"],[0.3333333333333333,\"#9c179e\"],[0.4444444444444444,\"#bd3786\"],[0.5555555555555556,\"#d8576b\"],[0.6666666666666666,\"#ed7953\"],[0.7777777777777778,\"#fb9f3a\"],[0.8888888888888888,\"#fdca26\"],[1.0,\"#f0f921\"]]}],\"heatmapgl\":[{\"type\":\"heatmapgl\",\"colorbar\":{\"outlinewidth\":0,\"ticks\":\"\"},\"colorscale\":[[0.0,\"#0d0887\"],[0.1111111111111111,\"#46039f\"],[0.2222222222222222,\"#7201a8\"],[0.3333333333333333,\"#9c179e\"],[0.4444444444444444,\"#bd3786\"],[0.5555555555555556,\"#d8576b\"],[0.6666666666666666,\"#ed7953\"],[0.7777777777777778,\"#fb9f3a\"],[0.8888888888888888,\"#fdca26\"],[1.0,\"#f0f921\"]]}],\"contourcarpet\":[{\"type\":\"contourcarpet\",\"colorbar\":{\"outlinewidth\":0,\"ticks\":\"\"}}],\"contour\":[{\"type\":\"contour\",\"colorbar\":{\"outlinewidth\":0,\"ticks\":\"\"},\"colorscale\":[[0.0,\"#0d0887\"],[0.1111111111111111,\"#46039f\"],[0.2222222222222222,\"#7201a8\"],[0.3333333333333333,\"#9c179e\"],[0.4444444444444444,\"#bd3786\"],[0.5555555555555556,\"#d8576b\"],[0.6666666666666666,\"#ed7953\"],[0.7777777777777778,\"#fb9f3a\"],[0.8888888888888888,\"#fdca26\"],[1.0,\"#f0f921\"]]}],\"surface\":[{\"type\":\"surface\",\"colorbar\":{\"outlinewidth\":0,\"ticks\":\"\"},\"colorscale\":[[0.0,\"#0d0887\"],[0.1111111111111111,\"#46039f\"],[0.2222222222222222,\"#7201a8\"],[0.3333333333333333,\"#9c179e\"],[0.4444444444444444,\"#bd3786\"],[0.5555555555555556,\"#d8576b\"],[0.6666666666666666,\"#ed7953\"],[0.7777777777777778,\"#fb9f3a\"],[0.8888888888888888,\"#fdca26\"],[1.0,\"#f0f921\"]]}],\"mesh3d\":[{\"type\":\"mesh3d\",\"colorbar\":{\"outlinewidth\":0,\"ticks\":\"\"}}],\"scatter\":[{\"fillpattern\":{\"fillmode\":\"overlay\",\"size\":10,\"solidity\":0.2},\"type\":\"scatter\"}],\"parcoords\":[{\"type\":\"parcoords\",\"line\":{\"colorbar\":{\"outlinewidth\":0,\"ticks\":\"\"}}}],\"scatterpolargl\":[{\"type\":\"scatterpolargl\",\"marker\":{\"colorbar\":{\"outlinewidth\":0,\"ticks\":\"\"}}}],\"bar\":[{\"error_x\":{\"color\":\"#2a3f5f\"},\"error_y\":{\"color\":\"#2a3f5f\"},\"marker\":{\"line\":{\"color\":\"#E5ECF6\",\"width\":0.5},\"pattern\":{\"fillmode\":\"overlay\",\"size\":10,\"solidity\":0.2}},\"type\":\"bar\"}],\"scattergeo\":[{\"type\":\"scattergeo\",\"marker\":{\"colorbar\":{\"outlinewidth\":0,\"ticks\":\"\"}}}],\"scatterpolar\":[{\"type\":\"scatterpolar\",\"marker\":{\"colorbar\":{\"outlinewidth\":0,\"ticks\":\"\"}}}],\"histogram\":[{\"marker\":{\"pattern\":{\"fillmode\":\"overlay\",\"size\":10,\"solidity\":0.2}},\"type\":\"histogram\"}],\"scattergl\":[{\"type\":\"scattergl\",\"marker\":{\"colorbar\":{\"outlinewidth\":0,\"ticks\":\"\"}}}],\"scatter3d\":[{\"type\":\"scatter3d\",\"line\":{\"colorbar\":{\"outlinewidth\":0,\"ticks\":\"\"}},\"marker\":{\"colorbar\":{\"outlinewidth\":0,\"ticks\":\"\"}}}],\"scattermapbox\":[{\"type\":\"scattermapbox\",\"marker\":{\"colorbar\":{\"outlinewidth\":0,\"ticks\":\"\"}}}],\"scatterternary\":[{\"type\":\"scatterternary\",\"marker\":{\"colorbar\":{\"outlinewidth\":0,\"ticks\":\"\"}}}],\"scattercarpet\":[{\"type\":\"scattercarpet\",\"marker\":{\"colorbar\":{\"outlinewidth\":0,\"ticks\":\"\"}}}],\"carpet\":[{\"aaxis\":{\"endlinecolor\":\"#2a3f5f\",\"gridcolor\":\"white\",\"linecolor\":\"white\",\"minorgridcolor\":\"white\",\"startlinecolor\":\"#2a3f5f\"},\"baxis\":{\"endlinecolor\":\"#2a3f5f\",\"gridcolor\":\"white\",\"linecolor\":\"white\",\"minorgridcolor\":\"white\",\"startlinecolor\":\"#2a3f5f\"},\"type\":\"carpet\"}],\"table\":[{\"cells\":{\"fill\":{\"color\":\"#EBF0F8\"},\"line\":{\"color\":\"white\"}},\"header\":{\"fill\":{\"color\":\"#C8D4E3\"},\"line\":{\"color\":\"white\"}},\"type\":\"table\"}],\"barpolar\":[{\"marker\":{\"line\":{\"color\":\"#E5ECF6\",\"width\":0.5},\"pattern\":{\"fillmode\":\"overlay\",\"size\":10,\"solidity\":0.2}},\"type\":\"barpolar\"}],\"pie\":[{\"automargin\":true,\"type\":\"pie\"}]},\"layout\":{\"autotypenumbers\":\"strict\",\"colorway\":[\"#636efa\",\"#EF553B\",\"#00cc96\",\"#ab63fa\",\"#FFA15A\",\"#19d3f3\",\"#FF6692\",\"#B6E880\",\"#FF97FF\",\"#FECB52\"],\"font\":{\"color\":\"#2a3f5f\"},\"hovermode\":\"closest\",\"hoverlabel\":{\"align\":\"left\"},\"paper_bgcolor\":\"white\",\"plot_bgcolor\":\"#E5ECF6\",\"polar\":{\"bgcolor\":\"#E5ECF6\",\"angularaxis\":{\"gridcolor\":\"white\",\"linecolor\":\"white\",\"ticks\":\"\"},\"radialaxis\":{\"gridcolor\":\"white\",\"linecolor\":\"white\",\"ticks\":\"\"}},\"ternary\":{\"bgcolor\":\"#E5ECF6\",\"aaxis\":{\"gridcolor\":\"white\",\"linecolor\":\"white\",\"ticks\":\"\"},\"baxis\":{\"gridcolor\":\"white\",\"linecolor\":\"white\",\"ticks\":\"\"},\"caxis\":{\"gridcolor\":\"white\",\"linecolor\":\"white\",\"ticks\":\"\"}},\"coloraxis\":{\"colorbar\":{\"outlinewidth\":0,\"ticks\":\"\"}},\"colorscale\":{\"sequential\":[[0.0,\"#0d0887\"],[0.1111111111111111,\"#46039f\"],[0.2222222222222222,\"#7201a8\"],[0.3333333333333333,\"#9c179e\"],[0.4444444444444444,\"#bd3786\"],[0.5555555555555556,\"#d8576b\"],[0.6666666666666666,\"#ed7953\"],[0.7777777777777778,\"#fb9f3a\"],[0.8888888888888888,\"#fdca26\"],[1.0,\"#f0f921\"]],\"sequentialminus\":[[0.0,\"#0d0887\"],[0.1111111111111111,\"#46039f\"],[0.2222222222222222,\"#7201a8\"],[0.3333333333333333,\"#9c179e\"],[0.4444444444444444,\"#bd3786\"],[0.5555555555555556,\"#d8576b\"],[0.6666666666666666,\"#ed7953\"],[0.7777777777777778,\"#fb9f3a\"],[0.8888888888888888,\"#fdca26\"],[1.0,\"#f0f921\"]],\"diverging\":[[0,\"#8e0152\"],[0.1,\"#c51b7d\"],[0.2,\"#de77ae\"],[0.3,\"#f1b6da\"],[0.4,\"#fde0ef\"],[0.5,\"#f7f7f7\"],[0.6,\"#e6f5d0\"],[0.7,\"#b8e186\"],[0.8,\"#7fbc41\"],[0.9,\"#4d9221\"],[1,\"#276419\"]]},\"xaxis\":{\"gridcolor\":\"white\",\"linecolor\":\"white\",\"ticks\":\"\",\"title\":{\"standoff\":15},\"zerolinecolor\":\"white\",\"automargin\":true,\"zerolinewidth\":2},\"yaxis\":{\"gridcolor\":\"white\",\"linecolor\":\"white\",\"ticks\":\"\",\"title\":{\"standoff\":15},\"zerolinecolor\":\"white\",\"automargin\":true,\"zerolinewidth\":2},\"scene\":{\"xaxis\":{\"backgroundcolor\":\"#E5ECF6\",\"gridcolor\":\"white\",\"linecolor\":\"white\",\"showbackground\":true,\"ticks\":\"\",\"zerolinecolor\":\"white\",\"gridwidth\":2},\"yaxis\":{\"backgroundcolor\":\"#E5ECF6\",\"gridcolor\":\"white\",\"linecolor\":\"white\",\"showbackground\":true,\"ticks\":\"\",\"zerolinecolor\":\"white\",\"gridwidth\":2},\"zaxis\":{\"backgroundcolor\":\"#E5ECF6\",\"gridcolor\":\"white\",\"linecolor\":\"white\",\"showbackground\":true,\"ticks\":\"\",\"zerolinecolor\":\"white\",\"gridwidth\":2}},\"shapedefaults\":{\"line\":{\"color\":\"#2a3f5f\"}},\"annotationdefaults\":{\"arrowcolor\":\"#2a3f5f\",\"arrowhead\":0,\"arrowwidth\":1},\"geo\":{\"bgcolor\":\"white\",\"landcolor\":\"#E5ECF6\",\"subunitcolor\":\"white\",\"showland\":true,\"showlakes\":true,\"lakecolor\":\"white\"},\"title\":{\"x\":0.05},\"mapbox\":{\"style\":\"light\"}}},\"xaxis\":{\"anchor\":\"y\",\"domain\":[0.0,1.0],\"title\":{\"text\":\"Type of Content\"},\"categoryorder\":\"array\",\"categoryarray\":[\"Movie\",\"TV Show\"]},\"yaxis\":{\"anchor\":\"x\",\"domain\":[0.0,1.0],\"title\":{\"text\":\"Number of Shows\"}},\"legend\":{\"title\":{\"text\":\"type\"},\"tracegroupgap\":0},\"title\":{\"text\":\"Distribution of Netflix Content\",\"font\":{\"size\":24,\"color\":\"#E50914\"}},\"barmode\":\"relative\"},                        {\"responsive\": true}                    ).then(function(){\n",
       "                            \n",
       "var gd = document.getElementById('59c4dba3-9f18-45c4-a44e-9cb64d2d2340');\n",
       "var x = new MutationObserver(function (mutations, observer) {{\n",
       "        var display = window.getComputedStyle(gd).display;\n",
       "        if (!display || display === 'none') {{\n",
       "            console.log([gd, 'removed!']);\n",
       "            Plotly.purge(gd);\n",
       "            observer.disconnect();\n",
       "        }}\n",
       "}});\n",
       "\n",
       "// Listen for the removal of the full notebook cells\n",
       "var notebookContainer = gd.closest('#notebook-container');\n",
       "if (notebookContainer) {{\n",
       "    x.observe(notebookContainer, {childList: true});\n",
       "}}\n",
       "\n",
       "// Listen for the clearing of the current output cell\n",
       "var outputEl = gd.closest('.output');\n",
       "if (outputEl) {{\n",
       "    x.observe(outputEl, {childList: true});\n",
       "}}\n",
       "\n",
       "                        })                };                });            </script>        </div>"
      ]
     },
     "metadata": {},
     "output_type": "display_data"
    }
   ],
   "source": [
    "fig = px.bar(\n",
    "    data_frame=movies_vs_shows,\n",
    "    x=\"type\",\n",
    "    y=\"show_id\",\n",
    "    title=\"Distribution of Netflix Content\",\n",
    "    text=\"show_id\",\n",
    "    color=\"type\", \n",
    "    color_discrete_map={\n",
    "        \"Movie\": \"#E50914\",  \n",
    "        \"TV Show\": \"#221F1F\" \n",
    "    }\n",
    ")\n",
    "\n",
    "# Customizing labels\n",
    "fig.update_layout(\n",
    "    xaxis_title=\"Type of Content\",  # Update X-axis label\n",
    "    yaxis_title=\"Number of Shows\",  # Update Y-axis label\n",
    "    title_font=dict(size=24, color=\"#E50914\")  \n",
    ")\n",
    "\n",
    "# Show the figure\n",
    "fig.show()"
   ]
  },
  {
   "cell_type": "markdown",
   "id": "ad330fc6",
   "metadata": {},
   "source": [
    "# Volume of New Content Added Over the Years 📈\n",
    "\n",
    "\n",
    "Through a **trend analysis**, we can see how the volume of new content has grown on Netflix. Based on the data, we observe a **sharp increase** in the number of shows added to Netflix, especially after 2015.\n",
    "\n",
    "## Content Added by Year:\n",
    "- **2008**: 2 shows\n",
    "- **2009**: 2 shows\n",
    "- **2010**: 1 show\n",
    "- **2011**: 13 shows\n",
    "- **2012**: 3 shows\n",
    "- **2013**: 11 shows\n",
    "- **2014**: 24 shows\n",
    "- **2015**: 82 shows\n",
    "- **2016**: 426 shows\n",
    "- **2017**: 1,185 shows\n",
    "- **2018**: 1,648 shows\n",
    "- **2019**: 2,016 shows\n",
    "- **2020**: 1,879 shows\n",
    "- **2021**: 1,498 shows\n",
    "\n",
    "### Key Insights:\n",
    "- **Pre-2015**: The volume of new content added to Netflix was **relatively low**.\n",
    "- **Post-2015**: There was a **sharp increase**, with a **peak in 2019**.\n",
    "- **2021** saw a slight drop in content addition compared to 2020, but still significantly higher than earlier years.\n",
    "\n",
    "## Trend Visualization:\n",
    "- **2015-2021**: Steady growth with a peak in **2019**.\n",
    "- **2016-2019**: Significant growth in content addition (from 426 to 2,016 shows).\n"
   ]
  },
  {
   "cell_type": "code",
   "execution_count": 92,
   "id": "a1fd56f0",
   "metadata": {},
   "outputs": [
    {
     "data": {
      "text/html": [
       "<div>\n",
       "<style scoped>\n",
       "    .dataframe tbody tr th:only-of-type {\n",
       "        vertical-align: middle;\n",
       "    }\n",
       "\n",
       "    .dataframe tbody tr th {\n",
       "        vertical-align: top;\n",
       "    }\n",
       "\n",
       "    .dataframe thead th {\n",
       "        text-align: right;\n",
       "    }\n",
       "</style>\n",
       "<table border=\"1\" class=\"dataframe\">\n",
       "  <thead>\n",
       "    <tr style=\"text-align: right;\">\n",
       "      <th></th>\n",
       "      <th>year_added</th>\n",
       "      <th>show_id</th>\n",
       "    </tr>\n",
       "  </thead>\n",
       "  <tbody>\n",
       "    <tr>\n",
       "      <th>0</th>\n",
       "      <td>2008</td>\n",
       "      <td>2</td>\n",
       "    </tr>\n",
       "    <tr>\n",
       "      <th>1</th>\n",
       "      <td>2009</td>\n",
       "      <td>2</td>\n",
       "    </tr>\n",
       "    <tr>\n",
       "      <th>2</th>\n",
       "      <td>2010</td>\n",
       "      <td>1</td>\n",
       "    </tr>\n",
       "    <tr>\n",
       "      <th>3</th>\n",
       "      <td>2011</td>\n",
       "      <td>13</td>\n",
       "    </tr>\n",
       "    <tr>\n",
       "      <th>4</th>\n",
       "      <td>2012</td>\n",
       "      <td>3</td>\n",
       "    </tr>\n",
       "    <tr>\n",
       "      <th>5</th>\n",
       "      <td>2013</td>\n",
       "      <td>11</td>\n",
       "    </tr>\n",
       "    <tr>\n",
       "      <th>6</th>\n",
       "      <td>2014</td>\n",
       "      <td>24</td>\n",
       "    </tr>\n",
       "    <tr>\n",
       "      <th>7</th>\n",
       "      <td>2015</td>\n",
       "      <td>82</td>\n",
       "    </tr>\n",
       "    <tr>\n",
       "      <th>8</th>\n",
       "      <td>2016</td>\n",
       "      <td>426</td>\n",
       "    </tr>\n",
       "    <tr>\n",
       "      <th>9</th>\n",
       "      <td>2017</td>\n",
       "      <td>1185</td>\n",
       "    </tr>\n",
       "    <tr>\n",
       "      <th>10</th>\n",
       "      <td>2018</td>\n",
       "      <td>1648</td>\n",
       "    </tr>\n",
       "    <tr>\n",
       "      <th>11</th>\n",
       "      <td>2019</td>\n",
       "      <td>2016</td>\n",
       "    </tr>\n",
       "    <tr>\n",
       "      <th>12</th>\n",
       "      <td>2020</td>\n",
       "      <td>1879</td>\n",
       "    </tr>\n",
       "    <tr>\n",
       "      <th>13</th>\n",
       "      <td>2021</td>\n",
       "      <td>1498</td>\n",
       "    </tr>\n",
       "  </tbody>\n",
       "</table>\n",
       "</div>"
      ],
      "text/plain": [
       "    year_added  show_id\n",
       "0         2008        2\n",
       "1         2009        2\n",
       "2         2010        1\n",
       "3         2011       13\n",
       "4         2012        3\n",
       "5         2013       11\n",
       "6         2014       24\n",
       "7         2015       82\n",
       "8         2016      426\n",
       "9         2017     1185\n",
       "10        2018     1648\n",
       "11        2019     2016\n",
       "12        2020     1879\n",
       "13        2021     1498"
      ]
     },
     "execution_count": 92,
     "metadata": {},
     "output_type": "execute_result"
    }
   ],
   "source": [
    "yearly_content = df.groupby(\"year_added\").count()[[\"show_id\"]].reset_index()\n",
    "yearly_content"
   ]
  },
  {
   "cell_type": "code",
   "execution_count": 93,
   "id": "c8a6d892",
   "metadata": {},
   "outputs": [
    {
     "data": {
      "application/vnd.plotly.v1+json": {
       "config": {
        "plotlyServerURL": "https://plot.ly"
       },
       "data": [
        {
         "hovertemplate": "year_added=%{x}<br>show_id=%{y}<extra></extra>",
         "legendgroup": "",
         "line": {
          "color": "#E50914",
          "dash": "solid",
          "width": 3
         },
         "marker": {
          "symbol": "circle"
         },
         "mode": "lines",
         "name": "",
         "orientation": "v",
         "showlegend": false,
         "type": "scatter",
         "x": [
          2008,
          2009,
          2010,
          2011,
          2012,
          2013,
          2014,
          2015,
          2016,
          2017,
          2018,
          2019,
          2020,
          2021
         ],
         "xaxis": "x",
         "y": [
          2,
          2,
          1,
          13,
          3,
          11,
          24,
          82,
          426,
          1185,
          1648,
          2016,
          1879,
          1498
         ],
         "yaxis": "y"
        }
       ],
       "layout": {
        "legend": {
         "tracegroupgap": 0
        },
        "template": {
         "data": {
          "bar": [
           {
            "error_x": {
             "color": "#2a3f5f"
            },
            "error_y": {
             "color": "#2a3f5f"
            },
            "marker": {
             "line": {
              "color": "#E5ECF6",
              "width": 0.5
             },
             "pattern": {
              "fillmode": "overlay",
              "size": 10,
              "solidity": 0.2
             }
            },
            "type": "bar"
           }
          ],
          "barpolar": [
           {
            "marker": {
             "line": {
              "color": "#E5ECF6",
              "width": 0.5
             },
             "pattern": {
              "fillmode": "overlay",
              "size": 10,
              "solidity": 0.2
             }
            },
            "type": "barpolar"
           }
          ],
          "carpet": [
           {
            "aaxis": {
             "endlinecolor": "#2a3f5f",
             "gridcolor": "white",
             "linecolor": "white",
             "minorgridcolor": "white",
             "startlinecolor": "#2a3f5f"
            },
            "baxis": {
             "endlinecolor": "#2a3f5f",
             "gridcolor": "white",
             "linecolor": "white",
             "minorgridcolor": "white",
             "startlinecolor": "#2a3f5f"
            },
            "type": "carpet"
           }
          ],
          "choropleth": [
           {
            "colorbar": {
             "outlinewidth": 0,
             "ticks": ""
            },
            "type": "choropleth"
           }
          ],
          "contour": [
           {
            "colorbar": {
             "outlinewidth": 0,
             "ticks": ""
            },
            "colorscale": [
             [
              0,
              "#0d0887"
             ],
             [
              0.1111111111111111,
              "#46039f"
             ],
             [
              0.2222222222222222,
              "#7201a8"
             ],
             [
              0.3333333333333333,
              "#9c179e"
             ],
             [
              0.4444444444444444,
              "#bd3786"
             ],
             [
              0.5555555555555556,
              "#d8576b"
             ],
             [
              0.6666666666666666,
              "#ed7953"
             ],
             [
              0.7777777777777778,
              "#fb9f3a"
             ],
             [
              0.8888888888888888,
              "#fdca26"
             ],
             [
              1,
              "#f0f921"
             ]
            ],
            "type": "contour"
           }
          ],
          "contourcarpet": [
           {
            "colorbar": {
             "outlinewidth": 0,
             "ticks": ""
            },
            "type": "contourcarpet"
           }
          ],
          "heatmap": [
           {
            "colorbar": {
             "outlinewidth": 0,
             "ticks": ""
            },
            "colorscale": [
             [
              0,
              "#0d0887"
             ],
             [
              0.1111111111111111,
              "#46039f"
             ],
             [
              0.2222222222222222,
              "#7201a8"
             ],
             [
              0.3333333333333333,
              "#9c179e"
             ],
             [
              0.4444444444444444,
              "#bd3786"
             ],
             [
              0.5555555555555556,
              "#d8576b"
             ],
             [
              0.6666666666666666,
              "#ed7953"
             ],
             [
              0.7777777777777778,
              "#fb9f3a"
             ],
             [
              0.8888888888888888,
              "#fdca26"
             ],
             [
              1,
              "#f0f921"
             ]
            ],
            "type": "heatmap"
           }
          ],
          "heatmapgl": [
           {
            "colorbar": {
             "outlinewidth": 0,
             "ticks": ""
            },
            "colorscale": [
             [
              0,
              "#0d0887"
             ],
             [
              0.1111111111111111,
              "#46039f"
             ],
             [
              0.2222222222222222,
              "#7201a8"
             ],
             [
              0.3333333333333333,
              "#9c179e"
             ],
             [
              0.4444444444444444,
              "#bd3786"
             ],
             [
              0.5555555555555556,
              "#d8576b"
             ],
             [
              0.6666666666666666,
              "#ed7953"
             ],
             [
              0.7777777777777778,
              "#fb9f3a"
             ],
             [
              0.8888888888888888,
              "#fdca26"
             ],
             [
              1,
              "#f0f921"
             ]
            ],
            "type": "heatmapgl"
           }
          ],
          "histogram": [
           {
            "marker": {
             "pattern": {
              "fillmode": "overlay",
              "size": 10,
              "solidity": 0.2
             }
            },
            "type": "histogram"
           }
          ],
          "histogram2d": [
           {
            "colorbar": {
             "outlinewidth": 0,
             "ticks": ""
            },
            "colorscale": [
             [
              0,
              "#0d0887"
             ],
             [
              0.1111111111111111,
              "#46039f"
             ],
             [
              0.2222222222222222,
              "#7201a8"
             ],
             [
              0.3333333333333333,
              "#9c179e"
             ],
             [
              0.4444444444444444,
              "#bd3786"
             ],
             [
              0.5555555555555556,
              "#d8576b"
             ],
             [
              0.6666666666666666,
              "#ed7953"
             ],
             [
              0.7777777777777778,
              "#fb9f3a"
             ],
             [
              0.8888888888888888,
              "#fdca26"
             ],
             [
              1,
              "#f0f921"
             ]
            ],
            "type": "histogram2d"
           }
          ],
          "histogram2dcontour": [
           {
            "colorbar": {
             "outlinewidth": 0,
             "ticks": ""
            },
            "colorscale": [
             [
              0,
              "#0d0887"
             ],
             [
              0.1111111111111111,
              "#46039f"
             ],
             [
              0.2222222222222222,
              "#7201a8"
             ],
             [
              0.3333333333333333,
              "#9c179e"
             ],
             [
              0.4444444444444444,
              "#bd3786"
             ],
             [
              0.5555555555555556,
              "#d8576b"
             ],
             [
              0.6666666666666666,
              "#ed7953"
             ],
             [
              0.7777777777777778,
              "#fb9f3a"
             ],
             [
              0.8888888888888888,
              "#fdca26"
             ],
             [
              1,
              "#f0f921"
             ]
            ],
            "type": "histogram2dcontour"
           }
          ],
          "mesh3d": [
           {
            "colorbar": {
             "outlinewidth": 0,
             "ticks": ""
            },
            "type": "mesh3d"
           }
          ],
          "parcoords": [
           {
            "line": {
             "colorbar": {
              "outlinewidth": 0,
              "ticks": ""
             }
            },
            "type": "parcoords"
           }
          ],
          "pie": [
           {
            "automargin": true,
            "type": "pie"
           }
          ],
          "scatter": [
           {
            "fillpattern": {
             "fillmode": "overlay",
             "size": 10,
             "solidity": 0.2
            },
            "type": "scatter"
           }
          ],
          "scatter3d": [
           {
            "line": {
             "colorbar": {
              "outlinewidth": 0,
              "ticks": ""
             }
            },
            "marker": {
             "colorbar": {
              "outlinewidth": 0,
              "ticks": ""
             }
            },
            "type": "scatter3d"
           }
          ],
          "scattercarpet": [
           {
            "marker": {
             "colorbar": {
              "outlinewidth": 0,
              "ticks": ""
             }
            },
            "type": "scattercarpet"
           }
          ],
          "scattergeo": [
           {
            "marker": {
             "colorbar": {
              "outlinewidth": 0,
              "ticks": ""
             }
            },
            "type": "scattergeo"
           }
          ],
          "scattergl": [
           {
            "marker": {
             "colorbar": {
              "outlinewidth": 0,
              "ticks": ""
             }
            },
            "type": "scattergl"
           }
          ],
          "scattermapbox": [
           {
            "marker": {
             "colorbar": {
              "outlinewidth": 0,
              "ticks": ""
             }
            },
            "type": "scattermapbox"
           }
          ],
          "scatterpolar": [
           {
            "marker": {
             "colorbar": {
              "outlinewidth": 0,
              "ticks": ""
             }
            },
            "type": "scatterpolar"
           }
          ],
          "scatterpolargl": [
           {
            "marker": {
             "colorbar": {
              "outlinewidth": 0,
              "ticks": ""
             }
            },
            "type": "scatterpolargl"
           }
          ],
          "scatterternary": [
           {
            "marker": {
             "colorbar": {
              "outlinewidth": 0,
              "ticks": ""
             }
            },
            "type": "scatterternary"
           }
          ],
          "surface": [
           {
            "colorbar": {
             "outlinewidth": 0,
             "ticks": ""
            },
            "colorscale": [
             [
              0,
              "#0d0887"
             ],
             [
              0.1111111111111111,
              "#46039f"
             ],
             [
              0.2222222222222222,
              "#7201a8"
             ],
             [
              0.3333333333333333,
              "#9c179e"
             ],
             [
              0.4444444444444444,
              "#bd3786"
             ],
             [
              0.5555555555555556,
              "#d8576b"
             ],
             [
              0.6666666666666666,
              "#ed7953"
             ],
             [
              0.7777777777777778,
              "#fb9f3a"
             ],
             [
              0.8888888888888888,
              "#fdca26"
             ],
             [
              1,
              "#f0f921"
             ]
            ],
            "type": "surface"
           }
          ],
          "table": [
           {
            "cells": {
             "fill": {
              "color": "#EBF0F8"
             },
             "line": {
              "color": "white"
             }
            },
            "header": {
             "fill": {
              "color": "#C8D4E3"
             },
             "line": {
              "color": "white"
             }
            },
            "type": "table"
           }
          ]
         },
         "layout": {
          "annotationdefaults": {
           "arrowcolor": "#2a3f5f",
           "arrowhead": 0,
           "arrowwidth": 1
          },
          "autotypenumbers": "strict",
          "coloraxis": {
           "colorbar": {
            "outlinewidth": 0,
            "ticks": ""
           }
          },
          "colorscale": {
           "diverging": [
            [
             0,
             "#8e0152"
            ],
            [
             0.1,
             "#c51b7d"
            ],
            [
             0.2,
             "#de77ae"
            ],
            [
             0.3,
             "#f1b6da"
            ],
            [
             0.4,
             "#fde0ef"
            ],
            [
             0.5,
             "#f7f7f7"
            ],
            [
             0.6,
             "#e6f5d0"
            ],
            [
             0.7,
             "#b8e186"
            ],
            [
             0.8,
             "#7fbc41"
            ],
            [
             0.9,
             "#4d9221"
            ],
            [
             1,
             "#276419"
            ]
           ],
           "sequential": [
            [
             0,
             "#0d0887"
            ],
            [
             0.1111111111111111,
             "#46039f"
            ],
            [
             0.2222222222222222,
             "#7201a8"
            ],
            [
             0.3333333333333333,
             "#9c179e"
            ],
            [
             0.4444444444444444,
             "#bd3786"
            ],
            [
             0.5555555555555556,
             "#d8576b"
            ],
            [
             0.6666666666666666,
             "#ed7953"
            ],
            [
             0.7777777777777778,
             "#fb9f3a"
            ],
            [
             0.8888888888888888,
             "#fdca26"
            ],
            [
             1,
             "#f0f921"
            ]
           ],
           "sequentialminus": [
            [
             0,
             "#0d0887"
            ],
            [
             0.1111111111111111,
             "#46039f"
            ],
            [
             0.2222222222222222,
             "#7201a8"
            ],
            [
             0.3333333333333333,
             "#9c179e"
            ],
            [
             0.4444444444444444,
             "#bd3786"
            ],
            [
             0.5555555555555556,
             "#d8576b"
            ],
            [
             0.6666666666666666,
             "#ed7953"
            ],
            [
             0.7777777777777778,
             "#fb9f3a"
            ],
            [
             0.8888888888888888,
             "#fdca26"
            ],
            [
             1,
             "#f0f921"
            ]
           ]
          },
          "colorway": [
           "#636efa",
           "#EF553B",
           "#00cc96",
           "#ab63fa",
           "#FFA15A",
           "#19d3f3",
           "#FF6692",
           "#B6E880",
           "#FF97FF",
           "#FECB52"
          ],
          "font": {
           "color": "#2a3f5f"
          },
          "geo": {
           "bgcolor": "white",
           "lakecolor": "white",
           "landcolor": "#E5ECF6",
           "showlakes": true,
           "showland": true,
           "subunitcolor": "white"
          },
          "hoverlabel": {
           "align": "left"
          },
          "hovermode": "closest",
          "mapbox": {
           "style": "light"
          },
          "paper_bgcolor": "white",
          "plot_bgcolor": "#E5ECF6",
          "polar": {
           "angularaxis": {
            "gridcolor": "white",
            "linecolor": "white",
            "ticks": ""
           },
           "bgcolor": "#E5ECF6",
           "radialaxis": {
            "gridcolor": "white",
            "linecolor": "white",
            "ticks": ""
           }
          },
          "scene": {
           "xaxis": {
            "backgroundcolor": "#E5ECF6",
            "gridcolor": "white",
            "gridwidth": 2,
            "linecolor": "white",
            "showbackground": true,
            "ticks": "",
            "zerolinecolor": "white"
           },
           "yaxis": {
            "backgroundcolor": "#E5ECF6",
            "gridcolor": "white",
            "gridwidth": 2,
            "linecolor": "white",
            "showbackground": true,
            "ticks": "",
            "zerolinecolor": "white"
           },
           "zaxis": {
            "backgroundcolor": "#E5ECF6",
            "gridcolor": "white",
            "gridwidth": 2,
            "linecolor": "white",
            "showbackground": true,
            "ticks": "",
            "zerolinecolor": "white"
           }
          },
          "shapedefaults": {
           "line": {
            "color": "#2a3f5f"
           }
          },
          "ternary": {
           "aaxis": {
            "gridcolor": "white",
            "linecolor": "white",
            "ticks": ""
           },
           "baxis": {
            "gridcolor": "white",
            "linecolor": "white",
            "ticks": ""
           },
           "bgcolor": "#E5ECF6",
           "caxis": {
            "gridcolor": "white",
            "linecolor": "white",
            "ticks": ""
           }
          },
          "title": {
           "x": 0.05
          },
          "xaxis": {
           "automargin": true,
           "gridcolor": "white",
           "linecolor": "white",
           "ticks": "",
           "title": {
            "standoff": 15
           },
           "zerolinecolor": "white",
           "zerolinewidth": 2
          },
          "yaxis": {
           "automargin": true,
           "gridcolor": "white",
           "linecolor": "white",
           "ticks": "",
           "title": {
            "standoff": 15
           },
           "zerolinecolor": "white",
           "zerolinewidth": 2
          }
         }
        },
        "title": {
         "font": {
          "color": "#E50914",
          "size": 24
         },
         "text": "Volume of new content over the years"
        },
        "xaxis": {
         "anchor": "y",
         "domain": [
          0,
          1
         ],
         "title": {
          "text": "Year"
         }
        },
        "yaxis": {
         "anchor": "x",
         "domain": [
          0,
          1
         ],
         "title": {
          "text": "Number of Content"
         }
        }
       }
      },
      "text/html": [
       "<div>                            <div id=\"e602ab8d-ce22-484d-a9eb-94e8606d3da3\" class=\"plotly-graph-div\" style=\"height:525px; width:100%;\"></div>            <script type=\"text/javascript\">                require([\"plotly\"], function(Plotly) {                    window.PLOTLYENV=window.PLOTLYENV || {};                                    if (document.getElementById(\"e602ab8d-ce22-484d-a9eb-94e8606d3da3\")) {                    Plotly.newPlot(                        \"e602ab8d-ce22-484d-a9eb-94e8606d3da3\",                        [{\"hovertemplate\":\"year_added=%{x}\\u003cbr\\u003eshow_id=%{y}\\u003cextra\\u003e\\u003c\\u002fextra\\u003e\",\"legendgroup\":\"\",\"line\":{\"color\":\"#E50914\",\"dash\":\"solid\",\"width\":3},\"marker\":{\"symbol\":\"circle\"},\"mode\":\"lines\",\"name\":\"\",\"orientation\":\"v\",\"showlegend\":false,\"x\":[2008,2009,2010,2011,2012,2013,2014,2015,2016,2017,2018,2019,2020,2021],\"xaxis\":\"x\",\"y\":[2,2,1,13,3,11,24,82,426,1185,1648,2016,1879,1498],\"yaxis\":\"y\",\"type\":\"scatter\"}],                        {\"template\":{\"data\":{\"histogram2dcontour\":[{\"type\":\"histogram2dcontour\",\"colorbar\":{\"outlinewidth\":0,\"ticks\":\"\"},\"colorscale\":[[0.0,\"#0d0887\"],[0.1111111111111111,\"#46039f\"],[0.2222222222222222,\"#7201a8\"],[0.3333333333333333,\"#9c179e\"],[0.4444444444444444,\"#bd3786\"],[0.5555555555555556,\"#d8576b\"],[0.6666666666666666,\"#ed7953\"],[0.7777777777777778,\"#fb9f3a\"],[0.8888888888888888,\"#fdca26\"],[1.0,\"#f0f921\"]]}],\"choropleth\":[{\"type\":\"choropleth\",\"colorbar\":{\"outlinewidth\":0,\"ticks\":\"\"}}],\"histogram2d\":[{\"type\":\"histogram2d\",\"colorbar\":{\"outlinewidth\":0,\"ticks\":\"\"},\"colorscale\":[[0.0,\"#0d0887\"],[0.1111111111111111,\"#46039f\"],[0.2222222222222222,\"#7201a8\"],[0.3333333333333333,\"#9c179e\"],[0.4444444444444444,\"#bd3786\"],[0.5555555555555556,\"#d8576b\"],[0.6666666666666666,\"#ed7953\"],[0.7777777777777778,\"#fb9f3a\"],[0.8888888888888888,\"#fdca26\"],[1.0,\"#f0f921\"]]}],\"heatmap\":[{\"type\":\"heatmap\",\"colorbar\":{\"outlinewidth\":0,\"ticks\":\"\"},\"colorscale\":[[0.0,\"#0d0887\"],[0.1111111111111111,\"#46039f\"],[0.2222222222222222,\"#7201a8\"],[0.3333333333333333,\"#9c179e\"],[0.4444444444444444,\"#bd3786\"],[0.5555555555555556,\"#d8576b\"],[0.6666666666666666,\"#ed7953\"],[0.7777777777777778,\"#fb9f3a\"],[0.8888888888888888,\"#fdca26\"],[1.0,\"#f0f921\"]]}],\"heatmapgl\":[{\"type\":\"heatmapgl\",\"colorbar\":{\"outlinewidth\":0,\"ticks\":\"\"},\"colorscale\":[[0.0,\"#0d0887\"],[0.1111111111111111,\"#46039f\"],[0.2222222222222222,\"#7201a8\"],[0.3333333333333333,\"#9c179e\"],[0.4444444444444444,\"#bd3786\"],[0.5555555555555556,\"#d8576b\"],[0.6666666666666666,\"#ed7953\"],[0.7777777777777778,\"#fb9f3a\"],[0.8888888888888888,\"#fdca26\"],[1.0,\"#f0f921\"]]}],\"contourcarpet\":[{\"type\":\"contourcarpet\",\"colorbar\":{\"outlinewidth\":0,\"ticks\":\"\"}}],\"contour\":[{\"type\":\"contour\",\"colorbar\":{\"outlinewidth\":0,\"ticks\":\"\"},\"colorscale\":[[0.0,\"#0d0887\"],[0.1111111111111111,\"#46039f\"],[0.2222222222222222,\"#7201a8\"],[0.3333333333333333,\"#9c179e\"],[0.4444444444444444,\"#bd3786\"],[0.5555555555555556,\"#d8576b\"],[0.6666666666666666,\"#ed7953\"],[0.7777777777777778,\"#fb9f3a\"],[0.8888888888888888,\"#fdca26\"],[1.0,\"#f0f921\"]]}],\"surface\":[{\"type\":\"surface\",\"colorbar\":{\"outlinewidth\":0,\"ticks\":\"\"},\"colorscale\":[[0.0,\"#0d0887\"],[0.1111111111111111,\"#46039f\"],[0.2222222222222222,\"#7201a8\"],[0.3333333333333333,\"#9c179e\"],[0.4444444444444444,\"#bd3786\"],[0.5555555555555556,\"#d8576b\"],[0.6666666666666666,\"#ed7953\"],[0.7777777777777778,\"#fb9f3a\"],[0.8888888888888888,\"#fdca26\"],[1.0,\"#f0f921\"]]}],\"mesh3d\":[{\"type\":\"mesh3d\",\"colorbar\":{\"outlinewidth\":0,\"ticks\":\"\"}}],\"scatter\":[{\"fillpattern\":{\"fillmode\":\"overlay\",\"size\":10,\"solidity\":0.2},\"type\":\"scatter\"}],\"parcoords\":[{\"type\":\"parcoords\",\"line\":{\"colorbar\":{\"outlinewidth\":0,\"ticks\":\"\"}}}],\"scatterpolargl\":[{\"type\":\"scatterpolargl\",\"marker\":{\"colorbar\":{\"outlinewidth\":0,\"ticks\":\"\"}}}],\"bar\":[{\"error_x\":{\"color\":\"#2a3f5f\"},\"error_y\":{\"color\":\"#2a3f5f\"},\"marker\":{\"line\":{\"color\":\"#E5ECF6\",\"width\":0.5},\"pattern\":{\"fillmode\":\"overlay\",\"size\":10,\"solidity\":0.2}},\"type\":\"bar\"}],\"scattergeo\":[{\"type\":\"scattergeo\",\"marker\":{\"colorbar\":{\"outlinewidth\":0,\"ticks\":\"\"}}}],\"scatterpolar\":[{\"type\":\"scatterpolar\",\"marker\":{\"colorbar\":{\"outlinewidth\":0,\"ticks\":\"\"}}}],\"histogram\":[{\"marker\":{\"pattern\":{\"fillmode\":\"overlay\",\"size\":10,\"solidity\":0.2}},\"type\":\"histogram\"}],\"scattergl\":[{\"type\":\"scattergl\",\"marker\":{\"colorbar\":{\"outlinewidth\":0,\"ticks\":\"\"}}}],\"scatter3d\":[{\"type\":\"scatter3d\",\"line\":{\"colorbar\":{\"outlinewidth\":0,\"ticks\":\"\"}},\"marker\":{\"colorbar\":{\"outlinewidth\":0,\"ticks\":\"\"}}}],\"scattermapbox\":[{\"type\":\"scattermapbox\",\"marker\":{\"colorbar\":{\"outlinewidth\":0,\"ticks\":\"\"}}}],\"scatterternary\":[{\"type\":\"scatterternary\",\"marker\":{\"colorbar\":{\"outlinewidth\":0,\"ticks\":\"\"}}}],\"scattercarpet\":[{\"type\":\"scattercarpet\",\"marker\":{\"colorbar\":{\"outlinewidth\":0,\"ticks\":\"\"}}}],\"carpet\":[{\"aaxis\":{\"endlinecolor\":\"#2a3f5f\",\"gridcolor\":\"white\",\"linecolor\":\"white\",\"minorgridcolor\":\"white\",\"startlinecolor\":\"#2a3f5f\"},\"baxis\":{\"endlinecolor\":\"#2a3f5f\",\"gridcolor\":\"white\",\"linecolor\":\"white\",\"minorgridcolor\":\"white\",\"startlinecolor\":\"#2a3f5f\"},\"type\":\"carpet\"}],\"table\":[{\"cells\":{\"fill\":{\"color\":\"#EBF0F8\"},\"line\":{\"color\":\"white\"}},\"header\":{\"fill\":{\"color\":\"#C8D4E3\"},\"line\":{\"color\":\"white\"}},\"type\":\"table\"}],\"barpolar\":[{\"marker\":{\"line\":{\"color\":\"#E5ECF6\",\"width\":0.5},\"pattern\":{\"fillmode\":\"overlay\",\"size\":10,\"solidity\":0.2}},\"type\":\"barpolar\"}],\"pie\":[{\"automargin\":true,\"type\":\"pie\"}]},\"layout\":{\"autotypenumbers\":\"strict\",\"colorway\":[\"#636efa\",\"#EF553B\",\"#00cc96\",\"#ab63fa\",\"#FFA15A\",\"#19d3f3\",\"#FF6692\",\"#B6E880\",\"#FF97FF\",\"#FECB52\"],\"font\":{\"color\":\"#2a3f5f\"},\"hovermode\":\"closest\",\"hoverlabel\":{\"align\":\"left\"},\"paper_bgcolor\":\"white\",\"plot_bgcolor\":\"#E5ECF6\",\"polar\":{\"bgcolor\":\"#E5ECF6\",\"angularaxis\":{\"gridcolor\":\"white\",\"linecolor\":\"white\",\"ticks\":\"\"},\"radialaxis\":{\"gridcolor\":\"white\",\"linecolor\":\"white\",\"ticks\":\"\"}},\"ternary\":{\"bgcolor\":\"#E5ECF6\",\"aaxis\":{\"gridcolor\":\"white\",\"linecolor\":\"white\",\"ticks\":\"\"},\"baxis\":{\"gridcolor\":\"white\",\"linecolor\":\"white\",\"ticks\":\"\"},\"caxis\":{\"gridcolor\":\"white\",\"linecolor\":\"white\",\"ticks\":\"\"}},\"coloraxis\":{\"colorbar\":{\"outlinewidth\":0,\"ticks\":\"\"}},\"colorscale\":{\"sequential\":[[0.0,\"#0d0887\"],[0.1111111111111111,\"#46039f\"],[0.2222222222222222,\"#7201a8\"],[0.3333333333333333,\"#9c179e\"],[0.4444444444444444,\"#bd3786\"],[0.5555555555555556,\"#d8576b\"],[0.6666666666666666,\"#ed7953\"],[0.7777777777777778,\"#fb9f3a\"],[0.8888888888888888,\"#fdca26\"],[1.0,\"#f0f921\"]],\"sequentialminus\":[[0.0,\"#0d0887\"],[0.1111111111111111,\"#46039f\"],[0.2222222222222222,\"#7201a8\"],[0.3333333333333333,\"#9c179e\"],[0.4444444444444444,\"#bd3786\"],[0.5555555555555556,\"#d8576b\"],[0.6666666666666666,\"#ed7953\"],[0.7777777777777778,\"#fb9f3a\"],[0.8888888888888888,\"#fdca26\"],[1.0,\"#f0f921\"]],\"diverging\":[[0,\"#8e0152\"],[0.1,\"#c51b7d\"],[0.2,\"#de77ae\"],[0.3,\"#f1b6da\"],[0.4,\"#fde0ef\"],[0.5,\"#f7f7f7\"],[0.6,\"#e6f5d0\"],[0.7,\"#b8e186\"],[0.8,\"#7fbc41\"],[0.9,\"#4d9221\"],[1,\"#276419\"]]},\"xaxis\":{\"gridcolor\":\"white\",\"linecolor\":\"white\",\"ticks\":\"\",\"title\":{\"standoff\":15},\"zerolinecolor\":\"white\",\"automargin\":true,\"zerolinewidth\":2},\"yaxis\":{\"gridcolor\":\"white\",\"linecolor\":\"white\",\"ticks\":\"\",\"title\":{\"standoff\":15},\"zerolinecolor\":\"white\",\"automargin\":true,\"zerolinewidth\":2},\"scene\":{\"xaxis\":{\"backgroundcolor\":\"#E5ECF6\",\"gridcolor\":\"white\",\"linecolor\":\"white\",\"showbackground\":true,\"ticks\":\"\",\"zerolinecolor\":\"white\",\"gridwidth\":2},\"yaxis\":{\"backgroundcolor\":\"#E5ECF6\",\"gridcolor\":\"white\",\"linecolor\":\"white\",\"showbackground\":true,\"ticks\":\"\",\"zerolinecolor\":\"white\",\"gridwidth\":2},\"zaxis\":{\"backgroundcolor\":\"#E5ECF6\",\"gridcolor\":\"white\",\"linecolor\":\"white\",\"showbackground\":true,\"ticks\":\"\",\"zerolinecolor\":\"white\",\"gridwidth\":2}},\"shapedefaults\":{\"line\":{\"color\":\"#2a3f5f\"}},\"annotationdefaults\":{\"arrowcolor\":\"#2a3f5f\",\"arrowhead\":0,\"arrowwidth\":1},\"geo\":{\"bgcolor\":\"white\",\"landcolor\":\"#E5ECF6\",\"subunitcolor\":\"white\",\"showland\":true,\"showlakes\":true,\"lakecolor\":\"white\"},\"title\":{\"x\":0.05},\"mapbox\":{\"style\":\"light\"}}},\"xaxis\":{\"anchor\":\"y\",\"domain\":[0.0,1.0],\"title\":{\"text\":\"Year\"}},\"yaxis\":{\"anchor\":\"x\",\"domain\":[0.0,1.0],\"title\":{\"text\":\"Number of Content\"}},\"legend\":{\"tracegroupgap\":0},\"title\":{\"text\":\"Volume of new content over the years\",\"font\":{\"size\":24,\"color\":\"#E50914\"}}},                        {\"responsive\": true}                    ).then(function(){\n",
       "                            \n",
       "var gd = document.getElementById('e602ab8d-ce22-484d-a9eb-94e8606d3da3');\n",
       "var x = new MutationObserver(function (mutations, observer) {{\n",
       "        var display = window.getComputedStyle(gd).display;\n",
       "        if (!display || display === 'none') {{\n",
       "            console.log([gd, 'removed!']);\n",
       "            Plotly.purge(gd);\n",
       "            observer.disconnect();\n",
       "        }}\n",
       "}});\n",
       "\n",
       "// Listen for the removal of the full notebook cells\n",
       "var notebookContainer = gd.closest('#notebook-container');\n",
       "if (notebookContainer) {{\n",
       "    x.observe(notebookContainer, {childList: true});\n",
       "}}\n",
       "\n",
       "// Listen for the clearing of the current output cell\n",
       "var outputEl = gd.closest('.output');\n",
       "if (outputEl) {{\n",
       "    x.observe(outputEl, {childList: true});\n",
       "}}\n",
       "\n",
       "                        })                };                });            </script>        </div>"
      ]
     },
     "metadata": {},
     "output_type": "display_data"
    }
   ],
   "source": [
    "fig = px.line(\n",
    "    data_frame=yearly_content,\n",
    "    x=\"year_added\",\n",
    "    y=\"show_id\",\n",
    "    title=\"Volume of new content over the years\"\n",
    "    \n",
    ")\n",
    "\n",
    "fig.update_traces(\n",
    "    line_color=\"#E50914\",  # Netflix red for the line\n",
    "    line_width=3  # Optional: Set the thickness of the line\n",
    ")\n",
    "\n",
    "# Customizing labels\n",
    "fig.update_layout(\n",
    "    xaxis_title=\"Year\",  # Update X-axis label\n",
    "    yaxis_title=\"Number of Content\",  # Update Y-axis label\n",
    "    title_font=dict(size=24, color=\"#E50914\")  \n",
    ")\n",
    "\n",
    "# Show the figure\n",
    "fig.show()"
   ]
  },
  {
   "cell_type": "markdown",
   "id": "7ecc976d",
   "metadata": {},
   "source": [
    "##\tWhat are the most common  Most Common Categories in the Dataset 📊\n",
    "\n",
    "Netflix offers a wide range of content, and in this analysis, we dive into the **most common categories** within the dataset. Based on the content data, here are the top categories on Netflix.\n",
    "\n",
    "📅 **Top Categories:**\n",
    "1. **International Movies**: 2,752 titles\n",
    "2. **Dramas**: 2,426 titles\n",
    "3. **Comedies**: 1,674 titles\n",
    "4. **International TV Shows**: 1,349 titles\n",
    "5. **Documentaries**: 869 titles\n",
    "\n",
    "\n",
    "## Key Insights:\n",
    "- **International Movies** account for the largest portion of content, with a total of **2,752 titles**.\n",
    "- **Dramas** and **Comedies** are also highly represented, contributing to Netflix's broad genre variety.\n",
    "- **International TV Shows** and **Documentaries** are also significant categories, showcasing the global and educational focus of Netflix's offerings.\n",
    "\n",
    "### What This Means:\n",
    "- Netflix's library is **heavily focused on international content**, with both **International Movies** and **International TV Shows** having a prominent presence.\n",
    "- **Dramas** and **Comedies** are the core genres, which align with global preferences for storytelling.\n"
   ]
  },
  {
   "cell_type": "code",
   "execution_count": 94,
   "id": "3bc2ec4a",
   "metadata": {},
   "outputs": [
    {
     "data": {
      "text/plain": [
       "International Movies      2752\n",
       "Dramas                    2426\n",
       "Comedies                  1674\n",
       "International TV Shows    1349\n",
       "Documentaries              869\n",
       "dtype: int64"
      ]
     },
     "execution_count": 94,
     "metadata": {},
     "output_type": "execute_result"
    }
   ],
   "source": [
    "top5_categories = df['listed_in'].str.get_dummies(sep=\", \").sum().sort_values(ascending=False).head(5)\n",
    "top5_categories"
   ]
  },
  {
   "cell_type": "code",
   "execution_count": 115,
   "id": "151b0eb0",
   "metadata": {},
   "outputs": [
    {
     "data": {
      "application/vnd.plotly.v1+json": {
       "config": {
        "plotlyServerURL": "https://plot.ly"
       },
       "data": [
        {
         "alignmentgroup": "True",
         "hovertemplate": "variable=0<br>index=%{x}<br>value=%{y}<extra></extra>",
         "legendgroup": "0",
         "marker": {
          "color": "#221F1F",
          "pattern": {
           "shape": ""
          }
         },
         "name": "0",
         "offsetgroup": "0",
         "orientation": "v",
         "showlegend": true,
         "textposition": "auto",
         "texttemplate": "%{y}",
         "type": "bar",
         "x": [
          "International Movies",
          "Dramas",
          "Comedies",
          "International TV Shows",
          "Documentaries"
         ],
         "xaxis": "x",
         "y": [
          2752,
          2426,
          1674,
          1349,
          869
         ],
         "yaxis": "y"
        }
       ],
       "layout": {
        "barmode": "relative",
        "legend": {
         "title": {
          "text": "variable"
         },
         "tracegroupgap": 0
        },
        "template": {
         "data": {
          "bar": [
           {
            "error_x": {
             "color": "#2a3f5f"
            },
            "error_y": {
             "color": "#2a3f5f"
            },
            "marker": {
             "line": {
              "color": "#E5ECF6",
              "width": 0.5
             },
             "pattern": {
              "fillmode": "overlay",
              "size": 10,
              "solidity": 0.2
             }
            },
            "type": "bar"
           }
          ],
          "barpolar": [
           {
            "marker": {
             "line": {
              "color": "#E5ECF6",
              "width": 0.5
             },
             "pattern": {
              "fillmode": "overlay",
              "size": 10,
              "solidity": 0.2
             }
            },
            "type": "barpolar"
           }
          ],
          "carpet": [
           {
            "aaxis": {
             "endlinecolor": "#2a3f5f",
             "gridcolor": "white",
             "linecolor": "white",
             "minorgridcolor": "white",
             "startlinecolor": "#2a3f5f"
            },
            "baxis": {
             "endlinecolor": "#2a3f5f",
             "gridcolor": "white",
             "linecolor": "white",
             "minorgridcolor": "white",
             "startlinecolor": "#2a3f5f"
            },
            "type": "carpet"
           }
          ],
          "choropleth": [
           {
            "colorbar": {
             "outlinewidth": 0,
             "ticks": ""
            },
            "type": "choropleth"
           }
          ],
          "contour": [
           {
            "colorbar": {
             "outlinewidth": 0,
             "ticks": ""
            },
            "colorscale": [
             [
              0,
              "#0d0887"
             ],
             [
              0.1111111111111111,
              "#46039f"
             ],
             [
              0.2222222222222222,
              "#7201a8"
             ],
             [
              0.3333333333333333,
              "#9c179e"
             ],
             [
              0.4444444444444444,
              "#bd3786"
             ],
             [
              0.5555555555555556,
              "#d8576b"
             ],
             [
              0.6666666666666666,
              "#ed7953"
             ],
             [
              0.7777777777777778,
              "#fb9f3a"
             ],
             [
              0.8888888888888888,
              "#fdca26"
             ],
             [
              1,
              "#f0f921"
             ]
            ],
            "type": "contour"
           }
          ],
          "contourcarpet": [
           {
            "colorbar": {
             "outlinewidth": 0,
             "ticks": ""
            },
            "type": "contourcarpet"
           }
          ],
          "heatmap": [
           {
            "colorbar": {
             "outlinewidth": 0,
             "ticks": ""
            },
            "colorscale": [
             [
              0,
              "#0d0887"
             ],
             [
              0.1111111111111111,
              "#46039f"
             ],
             [
              0.2222222222222222,
              "#7201a8"
             ],
             [
              0.3333333333333333,
              "#9c179e"
             ],
             [
              0.4444444444444444,
              "#bd3786"
             ],
             [
              0.5555555555555556,
              "#d8576b"
             ],
             [
              0.6666666666666666,
              "#ed7953"
             ],
             [
              0.7777777777777778,
              "#fb9f3a"
             ],
             [
              0.8888888888888888,
              "#fdca26"
             ],
             [
              1,
              "#f0f921"
             ]
            ],
            "type": "heatmap"
           }
          ],
          "heatmapgl": [
           {
            "colorbar": {
             "outlinewidth": 0,
             "ticks": ""
            },
            "colorscale": [
             [
              0,
              "#0d0887"
             ],
             [
              0.1111111111111111,
              "#46039f"
             ],
             [
              0.2222222222222222,
              "#7201a8"
             ],
             [
              0.3333333333333333,
              "#9c179e"
             ],
             [
              0.4444444444444444,
              "#bd3786"
             ],
             [
              0.5555555555555556,
              "#d8576b"
             ],
             [
              0.6666666666666666,
              "#ed7953"
             ],
             [
              0.7777777777777778,
              "#fb9f3a"
             ],
             [
              0.8888888888888888,
              "#fdca26"
             ],
             [
              1,
              "#f0f921"
             ]
            ],
            "type": "heatmapgl"
           }
          ],
          "histogram": [
           {
            "marker": {
             "pattern": {
              "fillmode": "overlay",
              "size": 10,
              "solidity": 0.2
             }
            },
            "type": "histogram"
           }
          ],
          "histogram2d": [
           {
            "colorbar": {
             "outlinewidth": 0,
             "ticks": ""
            },
            "colorscale": [
             [
              0,
              "#0d0887"
             ],
             [
              0.1111111111111111,
              "#46039f"
             ],
             [
              0.2222222222222222,
              "#7201a8"
             ],
             [
              0.3333333333333333,
              "#9c179e"
             ],
             [
              0.4444444444444444,
              "#bd3786"
             ],
             [
              0.5555555555555556,
              "#d8576b"
             ],
             [
              0.6666666666666666,
              "#ed7953"
             ],
             [
              0.7777777777777778,
              "#fb9f3a"
             ],
             [
              0.8888888888888888,
              "#fdca26"
             ],
             [
              1,
              "#f0f921"
             ]
            ],
            "type": "histogram2d"
           }
          ],
          "histogram2dcontour": [
           {
            "colorbar": {
             "outlinewidth": 0,
             "ticks": ""
            },
            "colorscale": [
             [
              0,
              "#0d0887"
             ],
             [
              0.1111111111111111,
              "#46039f"
             ],
             [
              0.2222222222222222,
              "#7201a8"
             ],
             [
              0.3333333333333333,
              "#9c179e"
             ],
             [
              0.4444444444444444,
              "#bd3786"
             ],
             [
              0.5555555555555556,
              "#d8576b"
             ],
             [
              0.6666666666666666,
              "#ed7953"
             ],
             [
              0.7777777777777778,
              "#fb9f3a"
             ],
             [
              0.8888888888888888,
              "#fdca26"
             ],
             [
              1,
              "#f0f921"
             ]
            ],
            "type": "histogram2dcontour"
           }
          ],
          "mesh3d": [
           {
            "colorbar": {
             "outlinewidth": 0,
             "ticks": ""
            },
            "type": "mesh3d"
           }
          ],
          "parcoords": [
           {
            "line": {
             "colorbar": {
              "outlinewidth": 0,
              "ticks": ""
             }
            },
            "type": "parcoords"
           }
          ],
          "pie": [
           {
            "automargin": true,
            "type": "pie"
           }
          ],
          "scatter": [
           {
            "fillpattern": {
             "fillmode": "overlay",
             "size": 10,
             "solidity": 0.2
            },
            "type": "scatter"
           }
          ],
          "scatter3d": [
           {
            "line": {
             "colorbar": {
              "outlinewidth": 0,
              "ticks": ""
             }
            },
            "marker": {
             "colorbar": {
              "outlinewidth": 0,
              "ticks": ""
             }
            },
            "type": "scatter3d"
           }
          ],
          "scattercarpet": [
           {
            "marker": {
             "colorbar": {
              "outlinewidth": 0,
              "ticks": ""
             }
            },
            "type": "scattercarpet"
           }
          ],
          "scattergeo": [
           {
            "marker": {
             "colorbar": {
              "outlinewidth": 0,
              "ticks": ""
             }
            },
            "type": "scattergeo"
           }
          ],
          "scattergl": [
           {
            "marker": {
             "colorbar": {
              "outlinewidth": 0,
              "ticks": ""
             }
            },
            "type": "scattergl"
           }
          ],
          "scattermapbox": [
           {
            "marker": {
             "colorbar": {
              "outlinewidth": 0,
              "ticks": ""
             }
            },
            "type": "scattermapbox"
           }
          ],
          "scatterpolar": [
           {
            "marker": {
             "colorbar": {
              "outlinewidth": 0,
              "ticks": ""
             }
            },
            "type": "scatterpolar"
           }
          ],
          "scatterpolargl": [
           {
            "marker": {
             "colorbar": {
              "outlinewidth": 0,
              "ticks": ""
             }
            },
            "type": "scatterpolargl"
           }
          ],
          "scatterternary": [
           {
            "marker": {
             "colorbar": {
              "outlinewidth": 0,
              "ticks": ""
             }
            },
            "type": "scatterternary"
           }
          ],
          "surface": [
           {
            "colorbar": {
             "outlinewidth": 0,
             "ticks": ""
            },
            "colorscale": [
             [
              0,
              "#0d0887"
             ],
             [
              0.1111111111111111,
              "#46039f"
             ],
             [
              0.2222222222222222,
              "#7201a8"
             ],
             [
              0.3333333333333333,
              "#9c179e"
             ],
             [
              0.4444444444444444,
              "#bd3786"
             ],
             [
              0.5555555555555556,
              "#d8576b"
             ],
             [
              0.6666666666666666,
              "#ed7953"
             ],
             [
              0.7777777777777778,
              "#fb9f3a"
             ],
             [
              0.8888888888888888,
              "#fdca26"
             ],
             [
              1,
              "#f0f921"
             ]
            ],
            "type": "surface"
           }
          ],
          "table": [
           {
            "cells": {
             "fill": {
              "color": "#EBF0F8"
             },
             "line": {
              "color": "white"
             }
            },
            "header": {
             "fill": {
              "color": "#C8D4E3"
             },
             "line": {
              "color": "white"
             }
            },
            "type": "table"
           }
          ]
         },
         "layout": {
          "annotationdefaults": {
           "arrowcolor": "#2a3f5f",
           "arrowhead": 0,
           "arrowwidth": 1
          },
          "autotypenumbers": "strict",
          "coloraxis": {
           "colorbar": {
            "outlinewidth": 0,
            "ticks": ""
           }
          },
          "colorscale": {
           "diverging": [
            [
             0,
             "#8e0152"
            ],
            [
             0.1,
             "#c51b7d"
            ],
            [
             0.2,
             "#de77ae"
            ],
            [
             0.3,
             "#f1b6da"
            ],
            [
             0.4,
             "#fde0ef"
            ],
            [
             0.5,
             "#f7f7f7"
            ],
            [
             0.6,
             "#e6f5d0"
            ],
            [
             0.7,
             "#b8e186"
            ],
            [
             0.8,
             "#7fbc41"
            ],
            [
             0.9,
             "#4d9221"
            ],
            [
             1,
             "#276419"
            ]
           ],
           "sequential": [
            [
             0,
             "#0d0887"
            ],
            [
             0.1111111111111111,
             "#46039f"
            ],
            [
             0.2222222222222222,
             "#7201a8"
            ],
            [
             0.3333333333333333,
             "#9c179e"
            ],
            [
             0.4444444444444444,
             "#bd3786"
            ],
            [
             0.5555555555555556,
             "#d8576b"
            ],
            [
             0.6666666666666666,
             "#ed7953"
            ],
            [
             0.7777777777777778,
             "#fb9f3a"
            ],
            [
             0.8888888888888888,
             "#fdca26"
            ],
            [
             1,
             "#f0f921"
            ]
           ],
           "sequentialminus": [
            [
             0,
             "#0d0887"
            ],
            [
             0.1111111111111111,
             "#46039f"
            ],
            [
             0.2222222222222222,
             "#7201a8"
            ],
            [
             0.3333333333333333,
             "#9c179e"
            ],
            [
             0.4444444444444444,
             "#bd3786"
            ],
            [
             0.5555555555555556,
             "#d8576b"
            ],
            [
             0.6666666666666666,
             "#ed7953"
            ],
            [
             0.7777777777777778,
             "#fb9f3a"
            ],
            [
             0.8888888888888888,
             "#fdca26"
            ],
            [
             1,
             "#f0f921"
            ]
           ]
          },
          "colorway": [
           "#636efa",
           "#EF553B",
           "#00cc96",
           "#ab63fa",
           "#FFA15A",
           "#19d3f3",
           "#FF6692",
           "#B6E880",
           "#FF97FF",
           "#FECB52"
          ],
          "font": {
           "color": "#2a3f5f"
          },
          "geo": {
           "bgcolor": "white",
           "lakecolor": "white",
           "landcolor": "#E5ECF6",
           "showlakes": true,
           "showland": true,
           "subunitcolor": "white"
          },
          "hoverlabel": {
           "align": "left"
          },
          "hovermode": "closest",
          "mapbox": {
           "style": "light"
          },
          "paper_bgcolor": "white",
          "plot_bgcolor": "#E5ECF6",
          "polar": {
           "angularaxis": {
            "gridcolor": "white",
            "linecolor": "white",
            "ticks": ""
           },
           "bgcolor": "#E5ECF6",
           "radialaxis": {
            "gridcolor": "white",
            "linecolor": "white",
            "ticks": ""
           }
          },
          "scene": {
           "xaxis": {
            "backgroundcolor": "#E5ECF6",
            "gridcolor": "white",
            "gridwidth": 2,
            "linecolor": "white",
            "showbackground": true,
            "ticks": "",
            "zerolinecolor": "white"
           },
           "yaxis": {
            "backgroundcolor": "#E5ECF6",
            "gridcolor": "white",
            "gridwidth": 2,
            "linecolor": "white",
            "showbackground": true,
            "ticks": "",
            "zerolinecolor": "white"
           },
           "zaxis": {
            "backgroundcolor": "#E5ECF6",
            "gridcolor": "white",
            "gridwidth": 2,
            "linecolor": "white",
            "showbackground": true,
            "ticks": "",
            "zerolinecolor": "white"
           }
          },
          "shapedefaults": {
           "line": {
            "color": "#2a3f5f"
           }
          },
          "ternary": {
           "aaxis": {
            "gridcolor": "white",
            "linecolor": "white",
            "ticks": ""
           },
           "baxis": {
            "gridcolor": "white",
            "linecolor": "white",
            "ticks": ""
           },
           "bgcolor": "#E5ECF6",
           "caxis": {
            "gridcolor": "white",
            "linecolor": "white",
            "ticks": ""
           }
          },
          "title": {
           "x": 0.05
          },
          "xaxis": {
           "automargin": true,
           "gridcolor": "white",
           "linecolor": "white",
           "ticks": "",
           "title": {
            "standoff": 15
           },
           "zerolinecolor": "white",
           "zerolinewidth": 2
          },
          "yaxis": {
           "automargin": true,
           "gridcolor": "white",
           "linecolor": "white",
           "ticks": "",
           "title": {
            "standoff": 15
           },
           "zerolinecolor": "white",
           "zerolinewidth": 2
          }
         }
        },
        "title": {
         "font": {
          "color": "#E50914",
          "size": 24
         },
         "text": "Top 5 Categories"
        },
        "xaxis": {
         "anchor": "y",
         "domain": [
          0,
          1
         ],
         "title": {
          "text": "Category"
         }
        },
        "yaxis": {
         "anchor": "x",
         "domain": [
          0,
          1
         ],
         "title": {
          "text": "Number of Content"
         }
        }
       }
      },
      "text/html": [
       "<div>                            <div id=\"db6da77e-ede6-425e-a5db-fcb47cd69733\" class=\"plotly-graph-div\" style=\"height:525px; width:100%;\"></div>            <script type=\"text/javascript\">                require([\"plotly\"], function(Plotly) {                    window.PLOTLYENV=window.PLOTLYENV || {};                                    if (document.getElementById(\"db6da77e-ede6-425e-a5db-fcb47cd69733\")) {                    Plotly.newPlot(                        \"db6da77e-ede6-425e-a5db-fcb47cd69733\",                        [{\"alignmentgroup\":\"True\",\"hovertemplate\":\"variable=0\\u003cbr\\u003eindex=%{x}\\u003cbr\\u003evalue=%{y}\\u003cextra\\u003e\\u003c\\u002fextra\\u003e\",\"legendgroup\":\"0\",\"marker\":{\"color\":\"#221F1F\",\"pattern\":{\"shape\":\"\"}},\"name\":\"0\",\"offsetgroup\":\"0\",\"orientation\":\"v\",\"showlegend\":true,\"textposition\":\"auto\",\"texttemplate\":\"%{y}\",\"x\":[\"International Movies\",\"Dramas\",\"Comedies\",\"International TV Shows\",\"Documentaries\"],\"xaxis\":\"x\",\"y\":[2752,2426,1674,1349,869],\"yaxis\":\"y\",\"type\":\"bar\"}],                        {\"template\":{\"data\":{\"histogram2dcontour\":[{\"type\":\"histogram2dcontour\",\"colorbar\":{\"outlinewidth\":0,\"ticks\":\"\"},\"colorscale\":[[0.0,\"#0d0887\"],[0.1111111111111111,\"#46039f\"],[0.2222222222222222,\"#7201a8\"],[0.3333333333333333,\"#9c179e\"],[0.4444444444444444,\"#bd3786\"],[0.5555555555555556,\"#d8576b\"],[0.6666666666666666,\"#ed7953\"],[0.7777777777777778,\"#fb9f3a\"],[0.8888888888888888,\"#fdca26\"],[1.0,\"#f0f921\"]]}],\"choropleth\":[{\"type\":\"choropleth\",\"colorbar\":{\"outlinewidth\":0,\"ticks\":\"\"}}],\"histogram2d\":[{\"type\":\"histogram2d\",\"colorbar\":{\"outlinewidth\":0,\"ticks\":\"\"},\"colorscale\":[[0.0,\"#0d0887\"],[0.1111111111111111,\"#46039f\"],[0.2222222222222222,\"#7201a8\"],[0.3333333333333333,\"#9c179e\"],[0.4444444444444444,\"#bd3786\"],[0.5555555555555556,\"#d8576b\"],[0.6666666666666666,\"#ed7953\"],[0.7777777777777778,\"#fb9f3a\"],[0.8888888888888888,\"#fdca26\"],[1.0,\"#f0f921\"]]}],\"heatmap\":[{\"type\":\"heatmap\",\"colorbar\":{\"outlinewidth\":0,\"ticks\":\"\"},\"colorscale\":[[0.0,\"#0d0887\"],[0.1111111111111111,\"#46039f\"],[0.2222222222222222,\"#7201a8\"],[0.3333333333333333,\"#9c179e\"],[0.4444444444444444,\"#bd3786\"],[0.5555555555555556,\"#d8576b\"],[0.6666666666666666,\"#ed7953\"],[0.7777777777777778,\"#fb9f3a\"],[0.8888888888888888,\"#fdca26\"],[1.0,\"#f0f921\"]]}],\"heatmapgl\":[{\"type\":\"heatmapgl\",\"colorbar\":{\"outlinewidth\":0,\"ticks\":\"\"},\"colorscale\":[[0.0,\"#0d0887\"],[0.1111111111111111,\"#46039f\"],[0.2222222222222222,\"#7201a8\"],[0.3333333333333333,\"#9c179e\"],[0.4444444444444444,\"#bd3786\"],[0.5555555555555556,\"#d8576b\"],[0.6666666666666666,\"#ed7953\"],[0.7777777777777778,\"#fb9f3a\"],[0.8888888888888888,\"#fdca26\"],[1.0,\"#f0f921\"]]}],\"contourcarpet\":[{\"type\":\"contourcarpet\",\"colorbar\":{\"outlinewidth\":0,\"ticks\":\"\"}}],\"contour\":[{\"type\":\"contour\",\"colorbar\":{\"outlinewidth\":0,\"ticks\":\"\"},\"colorscale\":[[0.0,\"#0d0887\"],[0.1111111111111111,\"#46039f\"],[0.2222222222222222,\"#7201a8\"],[0.3333333333333333,\"#9c179e\"],[0.4444444444444444,\"#bd3786\"],[0.5555555555555556,\"#d8576b\"],[0.6666666666666666,\"#ed7953\"],[0.7777777777777778,\"#fb9f3a\"],[0.8888888888888888,\"#fdca26\"],[1.0,\"#f0f921\"]]}],\"surface\":[{\"type\":\"surface\",\"colorbar\":{\"outlinewidth\":0,\"ticks\":\"\"},\"colorscale\":[[0.0,\"#0d0887\"],[0.1111111111111111,\"#46039f\"],[0.2222222222222222,\"#7201a8\"],[0.3333333333333333,\"#9c179e\"],[0.4444444444444444,\"#bd3786\"],[0.5555555555555556,\"#d8576b\"],[0.6666666666666666,\"#ed7953\"],[0.7777777777777778,\"#fb9f3a\"],[0.8888888888888888,\"#fdca26\"],[1.0,\"#f0f921\"]]}],\"mesh3d\":[{\"type\":\"mesh3d\",\"colorbar\":{\"outlinewidth\":0,\"ticks\":\"\"}}],\"scatter\":[{\"fillpattern\":{\"fillmode\":\"overlay\",\"size\":10,\"solidity\":0.2},\"type\":\"scatter\"}],\"parcoords\":[{\"type\":\"parcoords\",\"line\":{\"colorbar\":{\"outlinewidth\":0,\"ticks\":\"\"}}}],\"scatterpolargl\":[{\"type\":\"scatterpolargl\",\"marker\":{\"colorbar\":{\"outlinewidth\":0,\"ticks\":\"\"}}}],\"bar\":[{\"error_x\":{\"color\":\"#2a3f5f\"},\"error_y\":{\"color\":\"#2a3f5f\"},\"marker\":{\"line\":{\"color\":\"#E5ECF6\",\"width\":0.5},\"pattern\":{\"fillmode\":\"overlay\",\"size\":10,\"solidity\":0.2}},\"type\":\"bar\"}],\"scattergeo\":[{\"type\":\"scattergeo\",\"marker\":{\"colorbar\":{\"outlinewidth\":0,\"ticks\":\"\"}}}],\"scatterpolar\":[{\"type\":\"scatterpolar\",\"marker\":{\"colorbar\":{\"outlinewidth\":0,\"ticks\":\"\"}}}],\"histogram\":[{\"marker\":{\"pattern\":{\"fillmode\":\"overlay\",\"size\":10,\"solidity\":0.2}},\"type\":\"histogram\"}],\"scattergl\":[{\"type\":\"scattergl\",\"marker\":{\"colorbar\":{\"outlinewidth\":0,\"ticks\":\"\"}}}],\"scatter3d\":[{\"type\":\"scatter3d\",\"line\":{\"colorbar\":{\"outlinewidth\":0,\"ticks\":\"\"}},\"marker\":{\"colorbar\":{\"outlinewidth\":0,\"ticks\":\"\"}}}],\"scattermapbox\":[{\"type\":\"scattermapbox\",\"marker\":{\"colorbar\":{\"outlinewidth\":0,\"ticks\":\"\"}}}],\"scatterternary\":[{\"type\":\"scatterternary\",\"marker\":{\"colorbar\":{\"outlinewidth\":0,\"ticks\":\"\"}}}],\"scattercarpet\":[{\"type\":\"scattercarpet\",\"marker\":{\"colorbar\":{\"outlinewidth\":0,\"ticks\":\"\"}}}],\"carpet\":[{\"aaxis\":{\"endlinecolor\":\"#2a3f5f\",\"gridcolor\":\"white\",\"linecolor\":\"white\",\"minorgridcolor\":\"white\",\"startlinecolor\":\"#2a3f5f\"},\"baxis\":{\"endlinecolor\":\"#2a3f5f\",\"gridcolor\":\"white\",\"linecolor\":\"white\",\"minorgridcolor\":\"white\",\"startlinecolor\":\"#2a3f5f\"},\"type\":\"carpet\"}],\"table\":[{\"cells\":{\"fill\":{\"color\":\"#EBF0F8\"},\"line\":{\"color\":\"white\"}},\"header\":{\"fill\":{\"color\":\"#C8D4E3\"},\"line\":{\"color\":\"white\"}},\"type\":\"table\"}],\"barpolar\":[{\"marker\":{\"line\":{\"color\":\"#E5ECF6\",\"width\":0.5},\"pattern\":{\"fillmode\":\"overlay\",\"size\":10,\"solidity\":0.2}},\"type\":\"barpolar\"}],\"pie\":[{\"automargin\":true,\"type\":\"pie\"}]},\"layout\":{\"autotypenumbers\":\"strict\",\"colorway\":[\"#636efa\",\"#EF553B\",\"#00cc96\",\"#ab63fa\",\"#FFA15A\",\"#19d3f3\",\"#FF6692\",\"#B6E880\",\"#FF97FF\",\"#FECB52\"],\"font\":{\"color\":\"#2a3f5f\"},\"hovermode\":\"closest\",\"hoverlabel\":{\"align\":\"left\"},\"paper_bgcolor\":\"white\",\"plot_bgcolor\":\"#E5ECF6\",\"polar\":{\"bgcolor\":\"#E5ECF6\",\"angularaxis\":{\"gridcolor\":\"white\",\"linecolor\":\"white\",\"ticks\":\"\"},\"radialaxis\":{\"gridcolor\":\"white\",\"linecolor\":\"white\",\"ticks\":\"\"}},\"ternary\":{\"bgcolor\":\"#E5ECF6\",\"aaxis\":{\"gridcolor\":\"white\",\"linecolor\":\"white\",\"ticks\":\"\"},\"baxis\":{\"gridcolor\":\"white\",\"linecolor\":\"white\",\"ticks\":\"\"},\"caxis\":{\"gridcolor\":\"white\",\"linecolor\":\"white\",\"ticks\":\"\"}},\"coloraxis\":{\"colorbar\":{\"outlinewidth\":0,\"ticks\":\"\"}},\"colorscale\":{\"sequential\":[[0.0,\"#0d0887\"],[0.1111111111111111,\"#46039f\"],[0.2222222222222222,\"#7201a8\"],[0.3333333333333333,\"#9c179e\"],[0.4444444444444444,\"#bd3786\"],[0.5555555555555556,\"#d8576b\"],[0.6666666666666666,\"#ed7953\"],[0.7777777777777778,\"#fb9f3a\"],[0.8888888888888888,\"#fdca26\"],[1.0,\"#f0f921\"]],\"sequentialminus\":[[0.0,\"#0d0887\"],[0.1111111111111111,\"#46039f\"],[0.2222222222222222,\"#7201a8\"],[0.3333333333333333,\"#9c179e\"],[0.4444444444444444,\"#bd3786\"],[0.5555555555555556,\"#d8576b\"],[0.6666666666666666,\"#ed7953\"],[0.7777777777777778,\"#fb9f3a\"],[0.8888888888888888,\"#fdca26\"],[1.0,\"#f0f921\"]],\"diverging\":[[0,\"#8e0152\"],[0.1,\"#c51b7d\"],[0.2,\"#de77ae\"],[0.3,\"#f1b6da\"],[0.4,\"#fde0ef\"],[0.5,\"#f7f7f7\"],[0.6,\"#e6f5d0\"],[0.7,\"#b8e186\"],[0.8,\"#7fbc41\"],[0.9,\"#4d9221\"],[1,\"#276419\"]]},\"xaxis\":{\"gridcolor\":\"white\",\"linecolor\":\"white\",\"ticks\":\"\",\"title\":{\"standoff\":15},\"zerolinecolor\":\"white\",\"automargin\":true,\"zerolinewidth\":2},\"yaxis\":{\"gridcolor\":\"white\",\"linecolor\":\"white\",\"ticks\":\"\",\"title\":{\"standoff\":15},\"zerolinecolor\":\"white\",\"automargin\":true,\"zerolinewidth\":2},\"scene\":{\"xaxis\":{\"backgroundcolor\":\"#E5ECF6\",\"gridcolor\":\"white\",\"linecolor\":\"white\",\"showbackground\":true,\"ticks\":\"\",\"zerolinecolor\":\"white\",\"gridwidth\":2},\"yaxis\":{\"backgroundcolor\":\"#E5ECF6\",\"gridcolor\":\"white\",\"linecolor\":\"white\",\"showbackground\":true,\"ticks\":\"\",\"zerolinecolor\":\"white\",\"gridwidth\":2},\"zaxis\":{\"backgroundcolor\":\"#E5ECF6\",\"gridcolor\":\"white\",\"linecolor\":\"white\",\"showbackground\":true,\"ticks\":\"\",\"zerolinecolor\":\"white\",\"gridwidth\":2}},\"shapedefaults\":{\"line\":{\"color\":\"#2a3f5f\"}},\"annotationdefaults\":{\"arrowcolor\":\"#2a3f5f\",\"arrowhead\":0,\"arrowwidth\":1},\"geo\":{\"bgcolor\":\"white\",\"landcolor\":\"#E5ECF6\",\"subunitcolor\":\"white\",\"showland\":true,\"showlakes\":true,\"lakecolor\":\"white\"},\"title\":{\"x\":0.05},\"mapbox\":{\"style\":\"light\"}}},\"xaxis\":{\"anchor\":\"y\",\"domain\":[0.0,1.0],\"title\":{\"text\":\"Category\"}},\"yaxis\":{\"anchor\":\"x\",\"domain\":[0.0,1.0],\"title\":{\"text\":\"Number of Content\"}},\"legend\":{\"title\":{\"text\":\"variable\"},\"tracegroupgap\":0},\"title\":{\"text\":\"Top 5 Categories\",\"font\":{\"size\":24,\"color\":\"#E50914\"}},\"barmode\":\"relative\"},                        {\"responsive\": true}                    ).then(function(){\n",
       "                            \n",
       "var gd = document.getElementById('db6da77e-ede6-425e-a5db-fcb47cd69733');\n",
       "var x = new MutationObserver(function (mutations, observer) {{\n",
       "        var display = window.getComputedStyle(gd).display;\n",
       "        if (!display || display === 'none') {{\n",
       "            console.log([gd, 'removed!']);\n",
       "            Plotly.purge(gd);\n",
       "            observer.disconnect();\n",
       "        }}\n",
       "}});\n",
       "\n",
       "// Listen for the removal of the full notebook cells\n",
       "var notebookContainer = gd.closest('#notebook-container');\n",
       "if (notebookContainer) {{\n",
       "    x.observe(notebookContainer, {childList: true});\n",
       "}}\n",
       "\n",
       "// Listen for the clearing of the current output cell\n",
       "var outputEl = gd.closest('.output');\n",
       "if (outputEl) {{\n",
       "    x.observe(outputEl, {childList: true});\n",
       "}}\n",
       "\n",
       "                        })                };                });            </script>        </div>"
      ]
     },
     "metadata": {},
     "output_type": "display_data"
    }
   ],
   "source": [
    "\n",
    "fig = px.bar(\n",
    "    data_frame=top5_categories,\n",
    "    title=\"Top 5 Categories\",\n",
    "    text_auto=True,\n",
    "    color_discrete_sequence=['#221F1F']\n",
    ")\n",
    "\n",
    "\n",
    "# Customizing labels\n",
    "fig.update_layout(\n",
    "    xaxis_title=\"Category\",  # Update X-axis label\n",
    "    yaxis_title=\"Number of Content\",  # Update Y-axis label\n",
    "    title_font=dict(size=24, color=\"#E50914\")  \n",
    ")\n",
    "\n",
    "# Show the figure\n",
    "fig.show()"
   ]
  },
  {
   "cell_type": "markdown",
   "id": "ac391784",
   "metadata": {},
   "source": [
    "## API Integration"
   ]
  },
  {
   "cell_type": "markdown",
   "id": "b89a5002",
   "metadata": {},
   "source": [
    "###  **API Integrated Analysis Using TMDB API**  \n",
    "🎥 **TMDB API Ratings Analysis**  \n",
    "By integrating **TMDB API** ratings with our dataset, we analyzed how these ratings align with Netflix's own classification.\n",
    "\n",
    "**Findings:**  \n",
    "- The highest-rated movie based on **TMDB** is **Schindler's List** with a rating of **8.566**.\n"
   ]
  },
  {
   "cell_type": "code",
   "execution_count": 96,
   "id": "2721efea",
   "metadata": {},
   "outputs": [],
   "source": [
    "API_KEY = \"e5c136f9e3702f30464c50387cc31ee4\""
   ]
  },
  {
   "cell_type": "code",
   "execution_count": 97,
   "id": "fb8af8ea",
   "metadata": {},
   "outputs": [],
   "source": [
    "#Create an empty list to hold movie data\n",
    "top_movies = []\n",
    "\n",
    "# Fetch top 200 movies (across multiple pages)\n",
    "for page in range(1, 11):  # Fetch 10 pages (each contains 20 movies, total = 200 movies)\n",
    "    url = f\"https://api.themoviedb.org/3/movie/top_rated?api_key={API_KEY}&page={page}\"\n",
    "    response = requests.get(url)\n",
    "    data = response.json()\n",
    "    \n",
    "    # Check if the response is valid\n",
    "    if response.status_code == 200:\n",
    "        for movie in data[\"results\"]:\n",
    "            top_movies.append({\n",
    "                \"movie_id\": movie[\"id\"],\n",
    "                \"title\": movie[\"title\"],\n",
    "                \"rating\": movie[\"vote_average\"],\n",
    "                \"release_date\": movie[\"release_date\"]})\n",
    "    else:\n",
    "        print(f\"Failed to fetch data for page {page}\")\n",
    "        break"
   ]
  },
  {
   "cell_type": "code",
   "execution_count": 98,
   "id": "0aeb13af",
   "metadata": {},
   "outputs": [
    {
     "data": {
      "text/html": [
       "<div>\n",
       "<style scoped>\n",
       "    .dataframe tbody tr th:only-of-type {\n",
       "        vertical-align: middle;\n",
       "    }\n",
       "\n",
       "    .dataframe tbody tr th {\n",
       "        vertical-align: top;\n",
       "    }\n",
       "\n",
       "    .dataframe thead th {\n",
       "        text-align: right;\n",
       "    }\n",
       "</style>\n",
       "<table border=\"1\" class=\"dataframe\">\n",
       "  <thead>\n",
       "    <tr style=\"text-align: right;\">\n",
       "      <th></th>\n",
       "      <th>movie_id</th>\n",
       "      <th>title</th>\n",
       "      <th>rating</th>\n",
       "      <th>release_date</th>\n",
       "    </tr>\n",
       "  </thead>\n",
       "  <tbody>\n",
       "    <tr>\n",
       "      <th>0</th>\n",
       "      <td>278</td>\n",
       "      <td>The Shawshank Redemption</td>\n",
       "      <td>8.700</td>\n",
       "      <td>1994-09-23</td>\n",
       "    </tr>\n",
       "    <tr>\n",
       "      <th>1</th>\n",
       "      <td>238</td>\n",
       "      <td>The Godfather</td>\n",
       "      <td>8.689</td>\n",
       "      <td>1972-03-14</td>\n",
       "    </tr>\n",
       "    <tr>\n",
       "      <th>2</th>\n",
       "      <td>240</td>\n",
       "      <td>The Godfather Part II</td>\n",
       "      <td>8.572</td>\n",
       "      <td>1974-12-20</td>\n",
       "    </tr>\n",
       "    <tr>\n",
       "      <th>3</th>\n",
       "      <td>424</td>\n",
       "      <td>Schindler's List</td>\n",
       "      <td>8.566</td>\n",
       "      <td>1993-12-15</td>\n",
       "    </tr>\n",
       "    <tr>\n",
       "      <th>4</th>\n",
       "      <td>389</td>\n",
       "      <td>12 Angry Men</td>\n",
       "      <td>8.500</td>\n",
       "      <td>1957-04-10</td>\n",
       "    </tr>\n",
       "  </tbody>\n",
       "</table>\n",
       "</div>"
      ],
      "text/plain": [
       "   movie_id                     title  rating release_date\n",
       "0       278  The Shawshank Redemption   8.700   1994-09-23\n",
       "1       238             The Godfather   8.689   1972-03-14\n",
       "2       240     The Godfather Part II   8.572   1974-12-20\n",
       "3       424          Schindler's List   8.566   1993-12-15\n",
       "4       389              12 Angry Men   8.500   1957-04-10"
      ]
     },
     "execution_count": 98,
     "metadata": {},
     "output_type": "execute_result"
    }
   ],
   "source": [
    "df_top_movies = pd.DataFrame(top_movies)\n",
    "df_top_movies.head()"
   ]
  },
  {
   "cell_type": "code",
   "execution_count": 99,
   "id": "d6c9d531",
   "metadata": {},
   "outputs": [],
   "source": [
    "#Merging the 2 dataframes to get only the movies that are both on Netflix and in TMDB's top-rated list\n",
    "\n",
    "merged_df=df.merge(df_top_movies,on=\"title\",how=\"right\").dropna()"
   ]
  },
  {
   "cell_type": "code",
   "execution_count": 168,
   "id": "e4379b7e",
   "metadata": {},
   "outputs": [
    {
     "data": {
      "text/html": [
       "<div>\n",
       "<style scoped>\n",
       "    .dataframe tbody tr th:only-of-type {\n",
       "        vertical-align: middle;\n",
       "    }\n",
       "\n",
       "    .dataframe tbody tr th {\n",
       "        vertical-align: top;\n",
       "    }\n",
       "\n",
       "    .dataframe thead th {\n",
       "        text-align: right;\n",
       "    }\n",
       "</style>\n",
       "<table border=\"1\" class=\"dataframe\">\n",
       "  <thead>\n",
       "    <tr style=\"text-align: right;\">\n",
       "      <th></th>\n",
       "      <th>show_id</th>\n",
       "      <th>type</th>\n",
       "      <th>title</th>\n",
       "      <th>director</th>\n",
       "      <th>cast</th>\n",
       "      <th>country</th>\n",
       "      <th>date_added</th>\n",
       "      <th>release_year</th>\n",
       "      <th>rating_x</th>\n",
       "      <th>duration</th>\n",
       "      <th>listed_in</th>\n",
       "      <th>description</th>\n",
       "      <th>year_added</th>\n",
       "      <th>month_added</th>\n",
       "      <th>movie_id</th>\n",
       "      <th>rating_y</th>\n",
       "      <th>release_date</th>\n",
       "      <th>TMDB_release_year</th>\n",
       "    </tr>\n",
       "  </thead>\n",
       "  <tbody>\n",
       "    <tr>\n",
       "      <th>3</th>\n",
       "      <td>s7958</td>\n",
       "      <td>Movie</td>\n",
       "      <td>Schindler's List</td>\n",
       "      <td>Steven Spielberg</td>\n",
       "      <td>Liam Neeson, Ben Kingsley, Ralph Fiennes, Caro...</td>\n",
       "      <td>United States</td>\n",
       "      <td>2018-04-01</td>\n",
       "      <td>1993</td>\n",
       "      <td>R</td>\n",
       "      <td>195 min</td>\n",
       "      <td>Classic Movies, Dramas</td>\n",
       "      <td>Oskar Schindler becomes an unlikely humanitari...</td>\n",
       "      <td>2018.0</td>\n",
       "      <td>April</td>\n",
       "      <td>424</td>\n",
       "      <td>8.566</td>\n",
       "      <td>1993-12-15</td>\n",
       "      <td>1993</td>\n",
       "    </tr>\n",
       "    <tr>\n",
       "      <th>10</th>\n",
       "      <td>s7803</td>\n",
       "      <td>Movie</td>\n",
       "      <td>Pulp Fiction</td>\n",
       "      <td>Quentin Tarantino</td>\n",
       "      <td>John Travolta, Samuel L. Jackson, Uma Thurman,...</td>\n",
       "      <td>United States</td>\n",
       "      <td>2019-01-01</td>\n",
       "      <td>1994</td>\n",
       "      <td>R</td>\n",
       "      <td>154 min</td>\n",
       "      <td>Classic Movies, Cult Movies, Dramas</td>\n",
       "      <td>This stylized crime caper weaves together stor...</td>\n",
       "      <td>2019.0</td>\n",
       "      <td>January</td>\n",
       "      <td>680</td>\n",
       "      <td>8.500</td>\n",
       "      <td>1994-09-10</td>\n",
       "      <td>1994</td>\n",
       "    </tr>\n",
       "    <tr>\n",
       "      <th>12</th>\n",
       "      <td>s8405</td>\n",
       "      <td>Movie</td>\n",
       "      <td>The Lord of the Rings: The Return of the King</td>\n",
       "      <td>Peter Jackson</td>\n",
       "      <td>Elijah Wood, Ian McKellen, Liv Tyler, Viggo Mo...</td>\n",
       "      <td>New Zealand, United States</td>\n",
       "      <td>2020-01-01</td>\n",
       "      <td>2003</td>\n",
       "      <td>PG-13</td>\n",
       "      <td>201 min</td>\n",
       "      <td>Action &amp; Adventure, Sci-Fi &amp; Fantasy</td>\n",
       "      <td>Aragorn is revealed as the heir to the ancient...</td>\n",
       "      <td>2020.0</td>\n",
       "      <td>January</td>\n",
       "      <td>122</td>\n",
       "      <td>8.483</td>\n",
       "      <td>2003-12-17</td>\n",
       "      <td>2003</td>\n",
       "    </tr>\n",
       "    <tr>\n",
       "      <th>18</th>\n",
       "      <td>s6881</td>\n",
       "      <td>Movie</td>\n",
       "      <td>GoodFellas</td>\n",
       "      <td>Martin Scorsese</td>\n",
       "      <td>Robert De Niro, Ray Liotta, Joe Pesci, Lorrain...</td>\n",
       "      <td>United States</td>\n",
       "      <td>2021-01-01</td>\n",
       "      <td>1990</td>\n",
       "      <td>R</td>\n",
       "      <td>145 min</td>\n",
       "      <td>Classic Movies, Dramas</td>\n",
       "      <td>Former mobster Henry Hill recounts his colorfu...</td>\n",
       "      <td>2021.0</td>\n",
       "      <td>January</td>\n",
       "      <td>769</td>\n",
       "      <td>8.456</td>\n",
       "      <td>1990-09-12</td>\n",
       "      <td>1990</td>\n",
       "    </tr>\n",
       "    <tr>\n",
       "      <th>25</th>\n",
       "      <td>s6489</td>\n",
       "      <td>Movie</td>\n",
       "      <td>City of God</td>\n",
       "      <td>Fernando Meirelles, Katia Lund</td>\n",
       "      <td>Alexandre Rodrigues, Leandro Firmino, Phellipe...</td>\n",
       "      <td>Brazil, France, Germany</td>\n",
       "      <td>2020-01-01</td>\n",
       "      <td>2002</td>\n",
       "      <td>R</td>\n",
       "      <td>130 min</td>\n",
       "      <td>Dramas, Independent Movies, International Movies</td>\n",
       "      <td>Growing up in a Rio de Janeiro slum, Rocket is...</td>\n",
       "      <td>2020.0</td>\n",
       "      <td>January</td>\n",
       "      <td>598</td>\n",
       "      <td>8.400</td>\n",
       "      <td>2002-08-30</td>\n",
       "      <td>2002</td>\n",
       "    </tr>\n",
       "    <tr>\n",
       "      <th>27</th>\n",
       "      <td>s167</td>\n",
       "      <td>Movie</td>\n",
       "      <td>Once Upon a Time in America</td>\n",
       "      <td>Sergio Leone</td>\n",
       "      <td>Robert De Niro, James Woods, Elizabeth McGover...</td>\n",
       "      <td>Italy, United States</td>\n",
       "      <td>2021-09-01</td>\n",
       "      <td>1984</td>\n",
       "      <td>R</td>\n",
       "      <td>229 min</td>\n",
       "      <td>Classic Movies, Dramas</td>\n",
       "      <td>Director Sergio Leone's sprawling crime epic f...</td>\n",
       "      <td>2021.0</td>\n",
       "      <td>September</td>\n",
       "      <td>311</td>\n",
       "      <td>8.419</td>\n",
       "      <td>1984-05-23</td>\n",
       "      <td>1984</td>\n",
       "    </tr>\n",
       "    <tr>\n",
       "      <th>33</th>\n",
       "      <td>s8406</td>\n",
       "      <td>Movie</td>\n",
       "      <td>The Lord of the Rings: The Two Towers</td>\n",
       "      <td>Peter Jackson</td>\n",
       "      <td>Elijah Wood, Ian McKellen, Liv Tyler, Viggo Mo...</td>\n",
       "      <td>New Zealand, United States</td>\n",
       "      <td>2020-01-01</td>\n",
       "      <td>2002</td>\n",
       "      <td>PG-13</td>\n",
       "      <td>179 min</td>\n",
       "      <td>Action &amp; Adventure, Sci-Fi &amp; Fantasy</td>\n",
       "      <td>Frodo and Sam head to Mordor to destroy the On...</td>\n",
       "      <td>2020.0</td>\n",
       "      <td>January</td>\n",
       "      <td>121</td>\n",
       "      <td>8.400</td>\n",
       "      <td>2002-12-18</td>\n",
       "      <td>2002</td>\n",
       "    </tr>\n",
       "    <tr>\n",
       "      <th>34</th>\n",
       "      <td>s8069</td>\n",
       "      <td>Movie</td>\n",
       "      <td>Spider-Man: Into the Spider-Verse</td>\n",
       "      <td>Peter Ramsey, Rodney Rothman, Bob Persichetti</td>\n",
       "      <td>Shameik Moore, Jake Johnson, Hailee Steinfeld,...</td>\n",
       "      <td>United States</td>\n",
       "      <td>2019-06-26</td>\n",
       "      <td>2018</td>\n",
       "      <td>PG</td>\n",
       "      <td>117 min</td>\n",
       "      <td>Action &amp; Adventure, Comedies</td>\n",
       "      <td>After being bitten by a radioactive spider, Br...</td>\n",
       "      <td>2019.0</td>\n",
       "      <td>June</td>\n",
       "      <td>324857</td>\n",
       "      <td>8.399</td>\n",
       "      <td>2018-12-06</td>\n",
       "      <td>2018</td>\n",
       "    </tr>\n",
       "    <tr>\n",
       "      <th>44</th>\n",
       "      <td>s1139</td>\n",
       "      <td>Movie</td>\n",
       "      <td>The Pianist</td>\n",
       "      <td>Roman Polański</td>\n",
       "      <td>Adrien Brody, Thomas Kretschmann, Frank Finlay...</td>\n",
       "      <td>United Kingdom, France, Poland, Germany, Unite...</td>\n",
       "      <td>2021-04-01</td>\n",
       "      <td>2002</td>\n",
       "      <td>R</td>\n",
       "      <td>149 min</td>\n",
       "      <td>Dramas, Independent Movies, International Movies</td>\n",
       "      <td>Famed Polish pianist Wladyslaw Szpilman strugg...</td>\n",
       "      <td>2021.0</td>\n",
       "      <td>April</td>\n",
       "      <td>423</td>\n",
       "      <td>8.378</td>\n",
       "      <td>2002-09-17</td>\n",
       "      <td>2002</td>\n",
       "    </tr>\n",
       "    <tr>\n",
       "      <th>47</th>\n",
       "      <td>s341</td>\n",
       "      <td>Movie</td>\n",
       "      <td>Inception</td>\n",
       "      <td>Christopher Nolan</td>\n",
       "      <td>Leonardo DiCaprio, Joseph Gordon-Levitt, Ellio...</td>\n",
       "      <td>United States, United Kingdom</td>\n",
       "      <td>2021-08-01</td>\n",
       "      <td>2010</td>\n",
       "      <td>PG-13</td>\n",
       "      <td>148 min</td>\n",
       "      <td>Action &amp; Adventure, Sci-Fi &amp; Fantasy, Thrillers</td>\n",
       "      <td>A troubled thief who extracts secrets from peo...</td>\n",
       "      <td>2021.0</td>\n",
       "      <td>August</td>\n",
       "      <td>27205</td>\n",
       "      <td>8.370</td>\n",
       "      <td>2010-07-15</td>\n",
       "      <td>2010</td>\n",
       "    </tr>\n",
       "    <tr>\n",
       "      <th>53</th>\n",
       "      <td>s6144</td>\n",
       "      <td>Movie</td>\n",
       "      <td>American History X</td>\n",
       "      <td>Tony Kaye</td>\n",
       "      <td>Edward Norton, Edward Furlong, Beverly D'Angel...</td>\n",
       "      <td>United States</td>\n",
       "      <td>2019-11-01</td>\n",
       "      <td>1998</td>\n",
       "      <td>R</td>\n",
       "      <td>119 min</td>\n",
       "      <td>Dramas</td>\n",
       "      <td>A neo-Nazi gets sent to prison for murder and ...</td>\n",
       "      <td>2019.0</td>\n",
       "      <td>November</td>\n",
       "      <td>73</td>\n",
       "      <td>8.342</td>\n",
       "      <td>1998-07-01</td>\n",
       "      <td>1998</td>\n",
       "    </tr>\n",
       "    <tr>\n",
       "      <th>68</th>\n",
       "      <td>s7660</td>\n",
       "      <td>Movie</td>\n",
       "      <td>Once Upon a Time in the West</td>\n",
       "      <td>Sergio Leone</td>\n",
       "      <td>Henry Fonda, Charles Bronson, Claudia Cardinal...</td>\n",
       "      <td>Italy, United States</td>\n",
       "      <td>2019-11-20</td>\n",
       "      <td>1968</td>\n",
       "      <td>PG-13</td>\n",
       "      <td>166 min</td>\n",
       "      <td>Action &amp; Adventure, Classic Movies, Internatio...</td>\n",
       "      <td>In this epic spaghetti Western, a flinty gunsl...</td>\n",
       "      <td>2019.0</td>\n",
       "      <td>November</td>\n",
       "      <td>335</td>\n",
       "      <td>8.289</td>\n",
       "      <td>1968-12-21</td>\n",
       "      <td>1968</td>\n",
       "    </tr>\n",
       "    <tr>\n",
       "      <th>73</th>\n",
       "      <td>s1422</td>\n",
       "      <td>Movie</td>\n",
       "      <td>The Intouchables</td>\n",
       "      <td>Olivier Nakache, Éric Toledano</td>\n",
       "      <td>François Cluzet, Omar Sy, Anne Le Ny, Audrey F...</td>\n",
       "      <td>France</td>\n",
       "      <td>2021-01-11</td>\n",
       "      <td>2011</td>\n",
       "      <td>R</td>\n",
       "      <td>112 min</td>\n",
       "      <td>Comedies, Dramas, International Movies</td>\n",
       "      <td>In need of a caregiver, a wealthy aristocrat w...</td>\n",
       "      <td>2021.0</td>\n",
       "      <td>January</td>\n",
       "      <td>77338</td>\n",
       "      <td>8.275</td>\n",
       "      <td>2011-11-02</td>\n",
       "      <td>2011</td>\n",
       "    </tr>\n",
       "    <tr>\n",
       "      <th>79</th>\n",
       "      <td>s2824</td>\n",
       "      <td>Movie</td>\n",
       "      <td>Miracle in Cell No. 7</td>\n",
       "      <td>Mehmet Ada Öztekin</td>\n",
       "      <td>Aras Bulut İynemli, Nisa Sofiya Aksongur, Deni...</td>\n",
       "      <td>Turkey</td>\n",
       "      <td>2020-03-13</td>\n",
       "      <td>2019</td>\n",
       "      <td>TV-14</td>\n",
       "      <td>132 min</td>\n",
       "      <td>Dramas, International Movies</td>\n",
       "      <td>Separated from his daughter, a father with an ...</td>\n",
       "      <td>2020.0</td>\n",
       "      <td>March</td>\n",
       "      <td>637920</td>\n",
       "      <td>8.262</td>\n",
       "      <td>2019-10-10</td>\n",
       "      <td>2019</td>\n",
       "    </tr>\n",
       "    <tr>\n",
       "      <th>89</th>\n",
       "      <td>s335</td>\n",
       "      <td>Movie</td>\n",
       "      <td>Five Feet Apart</td>\n",
       "      <td>Justin Baldoni</td>\n",
       "      <td>Haley Lu Richardson, Cole Sprouse, Moisés Aria...</td>\n",
       "      <td>United States</td>\n",
       "      <td>2021-08-01</td>\n",
       "      <td>2019</td>\n",
       "      <td>PG-13</td>\n",
       "      <td>116 min</td>\n",
       "      <td>Dramas, Romantic Movies</td>\n",
       "      <td>A teen with cystic fibrosis shakes up her dail...</td>\n",
       "      <td>2021.0</td>\n",
       "      <td>August</td>\n",
       "      <td>527641</td>\n",
       "      <td>8.246</td>\n",
       "      <td>2019-03-14</td>\n",
       "      <td>2019</td>\n",
       "    </tr>\n",
       "    <tr>\n",
       "      <th>91</th>\n",
       "      <td>s3274</td>\n",
       "      <td>Movie</td>\n",
       "      <td>Klaus</td>\n",
       "      <td>Sergio Pablos</td>\n",
       "      <td>Jason Schwartzman, J.K. Simmons, Rashida Jones...</td>\n",
       "      <td>Spain, United Kingdom</td>\n",
       "      <td>2019-11-15</td>\n",
       "      <td>2019</td>\n",
       "      <td>PG</td>\n",
       "      <td>98 min</td>\n",
       "      <td>Children &amp; Family Movies, Comedies</td>\n",
       "      <td>A selfish postman and a reclusive toymaker for...</td>\n",
       "      <td>2019.0</td>\n",
       "      <td>November</td>\n",
       "      <td>508965</td>\n",
       "      <td>8.245</td>\n",
       "      <td>2019-11-08</td>\n",
       "      <td>2019</td>\n",
       "    </tr>\n",
       "    <tr>\n",
       "      <th>93</th>\n",
       "      <td>s6201</td>\n",
       "      <td>Movie</td>\n",
       "      <td>Avengers: Infinity War</td>\n",
       "      <td>Anthony Russo, Joe Russo</td>\n",
       "      <td>Robert Downey Jr., Josh Brolin, Mark Ruffalo, ...</td>\n",
       "      <td>United States</td>\n",
       "      <td>2018-12-25</td>\n",
       "      <td>2018</td>\n",
       "      <td>PG-13</td>\n",
       "      <td>150 min</td>\n",
       "      <td>Action &amp; Adventure, Sci-Fi &amp; Fantasy</td>\n",
       "      <td>Superheroes amass to stop intergalactic sociop...</td>\n",
       "      <td>2018.0</td>\n",
       "      <td>December</td>\n",
       "      <td>299536</td>\n",
       "      <td>8.242</td>\n",
       "      <td>2018-04-25</td>\n",
       "      <td>2018</td>\n",
       "    </tr>\n",
       "    <tr>\n",
       "      <th>104</th>\n",
       "      <td>s8415</td>\n",
       "      <td>Movie</td>\n",
       "      <td>The Matrix</td>\n",
       "      <td>Lilly Wachowski, Lana Wachowski</td>\n",
       "      <td>Keanu Reeves, Laurence Fishburne, Carrie-Anne ...</td>\n",
       "      <td>United States</td>\n",
       "      <td>2019-11-01</td>\n",
       "      <td>1999</td>\n",
       "      <td>R</td>\n",
       "      <td>136 min</td>\n",
       "      <td>Action &amp; Adventure, Sci-Fi &amp; Fantasy</td>\n",
       "      <td>A computer hacker learns that what most people...</td>\n",
       "      <td>2019.0</td>\n",
       "      <td>November</td>\n",
       "      <td>603</td>\n",
       "      <td>8.219</td>\n",
       "      <td>1999-03-31</td>\n",
       "      <td>1999</td>\n",
       "    </tr>\n",
       "    <tr>\n",
       "      <th>105</th>\n",
       "      <td>s7078</td>\n",
       "      <td>Movie</td>\n",
       "      <td>Inglourious Basterds</td>\n",
       "      <td>Quentin Tarantino</td>\n",
       "      <td>Brad Pitt, Mélanie Laurent, Christoph Waltz, E...</td>\n",
       "      <td>Germany, United States</td>\n",
       "      <td>2019-07-22</td>\n",
       "      <td>2009</td>\n",
       "      <td>R</td>\n",
       "      <td>153 min</td>\n",
       "      <td>Action &amp; Adventure</td>\n",
       "      <td>A Jewish cinema owner in occupied Paris is for...</td>\n",
       "      <td>2019.0</td>\n",
       "      <td>July</td>\n",
       "      <td>16869</td>\n",
       "      <td>8.218</td>\n",
       "      <td>2009-08-02</td>\n",
       "      <td>2009</td>\n",
       "    </tr>\n",
       "    <tr>\n",
       "      <th>113</th>\n",
       "      <td>s8342</td>\n",
       "      <td>Movie</td>\n",
       "      <td>The Help</td>\n",
       "      <td>Tate Taylor</td>\n",
       "      <td>Emma Stone, Viola Davis, Bryce Dallas Howard, ...</td>\n",
       "      <td>United States</td>\n",
       "      <td>2020-06-01</td>\n",
       "      <td>2011</td>\n",
       "      <td>PG-13</td>\n",
       "      <td>147 min</td>\n",
       "      <td>Dramas</td>\n",
       "      <td>A young, white writer stirs up the status quo ...</td>\n",
       "      <td>2020.0</td>\n",
       "      <td>June</td>\n",
       "      <td>50014</td>\n",
       "      <td>8.210</td>\n",
       "      <td>2011-08-09</td>\n",
       "      <td>2011</td>\n",
       "    </tr>\n",
       "    <tr>\n",
       "      <th>117</th>\n",
       "      <td>s1359</td>\n",
       "      <td>Movie</td>\n",
       "      <td>Shutter Island</td>\n",
       "      <td>Martin Scorsese</td>\n",
       "      <td>Leonardo DiCaprio, Mark Ruffalo, Ben Kingsley,...</td>\n",
       "      <td>United States</td>\n",
       "      <td>2021-02-01</td>\n",
       "      <td>2010</td>\n",
       "      <td>R</td>\n",
       "      <td>139 min</td>\n",
       "      <td>Thrillers</td>\n",
       "      <td>A U.S. marshal's troubling visions compromise ...</td>\n",
       "      <td>2021.0</td>\n",
       "      <td>February</td>\n",
       "      <td>11324</td>\n",
       "      <td>8.203</td>\n",
       "      <td>2010-02-14</td>\n",
       "      <td>2010</td>\n",
       "    </tr>\n",
       "    <tr>\n",
       "      <th>123</th>\n",
       "      <td>s6032</td>\n",
       "      <td>Movie</td>\n",
       "      <td>A Clockwork Orange</td>\n",
       "      <td>Stanley Kubrick</td>\n",
       "      <td>Malcolm McDowell, Patrick Magee, Michael Bates...</td>\n",
       "      <td>United Kingdom, United States</td>\n",
       "      <td>2020-11-01</td>\n",
       "      <td>1971</td>\n",
       "      <td>R</td>\n",
       "      <td>137 min</td>\n",
       "      <td>Classic Movies, Cult Movies, Dramas</td>\n",
       "      <td>In this dark satire from director Stanley Kubr...</td>\n",
       "      <td>2020.0</td>\n",
       "      <td>November</td>\n",
       "      <td>185</td>\n",
       "      <td>8.192</td>\n",
       "      <td>1971-12-19</td>\n",
       "      <td>1971</td>\n",
       "    </tr>\n",
       "    <tr>\n",
       "      <th>129</th>\n",
       "      <td>s393</td>\n",
       "      <td>Movie</td>\n",
       "      <td>Django Unchained</td>\n",
       "      <td>Quentin Tarantino</td>\n",
       "      <td>Jamie Foxx, Christoph Waltz, Leonardo DiCaprio...</td>\n",
       "      <td>United States</td>\n",
       "      <td>2021-07-24</td>\n",
       "      <td>2012</td>\n",
       "      <td>R</td>\n",
       "      <td>165 min</td>\n",
       "      <td>Action &amp; Adventure, Dramas</td>\n",
       "      <td>Accompanied by a German bounty hunter, a freed...</td>\n",
       "      <td>2021.0</td>\n",
       "      <td>July</td>\n",
       "      <td>68718</td>\n",
       "      <td>8.182</td>\n",
       "      <td>2012-12-25</td>\n",
       "      <td>2012</td>\n",
       "    </tr>\n",
       "    <tr>\n",
       "      <th>136</th>\n",
       "      <td>s2715</td>\n",
       "      <td>Movie</td>\n",
       "      <td>Violet Evergarden: Eternity and the Auto Memor...</td>\n",
       "      <td>Haruka Fujita</td>\n",
       "      <td>Yui Ishikawa, Minako Kotobuki, Aoi Yuki</td>\n",
       "      <td>Japan</td>\n",
       "      <td>2020-04-02</td>\n",
       "      <td>2019</td>\n",
       "      <td>TV-PG</td>\n",
       "      <td>91 min</td>\n",
       "      <td>Anime Features, International Movies, Sci-Fi &amp;...</td>\n",
       "      <td>A lonely young woman feels trapped at her all ...</td>\n",
       "      <td>2020.0</td>\n",
       "      <td>April</td>\n",
       "      <td>610892</td>\n",
       "      <td>8.176</td>\n",
       "      <td>2019-09-06</td>\n",
       "      <td>2019</td>\n",
       "    </tr>\n",
       "    <tr>\n",
       "      <th>144</th>\n",
       "      <td>s8273</td>\n",
       "      <td>Movie</td>\n",
       "      <td>The Departed</td>\n",
       "      <td>Martin Scorsese</td>\n",
       "      <td>Leonardo DiCaprio, Matt Damon, Jack Nicholson,...</td>\n",
       "      <td>United States, Hong Kong</td>\n",
       "      <td>2021-01-01</td>\n",
       "      <td>2006</td>\n",
       "      <td>R</td>\n",
       "      <td>151 min</td>\n",
       "      <td>Dramas, Thrillers</td>\n",
       "      <td>Two rookie Boston cops are sent deep undercove...</td>\n",
       "      <td>2021.0</td>\n",
       "      <td>January</td>\n",
       "      <td>1422</td>\n",
       "      <td>8.161</td>\n",
       "      <td>2006-10-04</td>\n",
       "      <td>2006</td>\n",
       "    </tr>\n",
       "    <tr>\n",
       "      <th>181</th>\n",
       "      <td>s7327</td>\n",
       "      <td>Movie</td>\n",
       "      <td>Lock, Stock and Two Smoking Barrels</td>\n",
       "      <td>Guy Ritchie</td>\n",
       "      <td>Jason Flemyng, Dexter Fletcher, Nick Moran, Ja...</td>\n",
       "      <td>United Kingdom</td>\n",
       "      <td>2019-01-01</td>\n",
       "      <td>1998</td>\n",
       "      <td>R</td>\n",
       "      <td>108 min</td>\n",
       "      <td>Action &amp; Adventure, Comedies, Independent Movies</td>\n",
       "      <td>Hoping to make a bundle in a high-stakes poker...</td>\n",
       "      <td>2019.0</td>\n",
       "      <td>January</td>\n",
       "      <td>100</td>\n",
       "      <td>8.118</td>\n",
       "      <td>1998-08-28</td>\n",
       "      <td>1998</td>\n",
       "    </tr>\n",
       "  </tbody>\n",
       "</table>\n",
       "</div>"
      ],
      "text/plain": [
       "    show_id   type                                              title  \\\n",
       "3     s7958  Movie                                   Schindler's List   \n",
       "10    s7803  Movie                                       Pulp Fiction   \n",
       "12    s8405  Movie      The Lord of the Rings: The Return of the King   \n",
       "18    s6881  Movie                                         GoodFellas   \n",
       "25    s6489  Movie                                        City of God   \n",
       "27     s167  Movie                        Once Upon a Time in America   \n",
       "33    s8406  Movie              The Lord of the Rings: The Two Towers   \n",
       "34    s8069  Movie                  Spider-Man: Into the Spider-Verse   \n",
       "44    s1139  Movie                                        The Pianist   \n",
       "47     s341  Movie                                          Inception   \n",
       "53    s6144  Movie                                 American History X   \n",
       "68    s7660  Movie                       Once Upon a Time in the West   \n",
       "73    s1422  Movie                                   The Intouchables   \n",
       "79    s2824  Movie                              Miracle in Cell No. 7   \n",
       "89     s335  Movie                                    Five Feet Apart   \n",
       "91    s3274  Movie                                              Klaus   \n",
       "93    s6201  Movie                             Avengers: Infinity War   \n",
       "104   s8415  Movie                                         The Matrix   \n",
       "105   s7078  Movie                               Inglourious Basterds   \n",
       "113   s8342  Movie                                           The Help   \n",
       "117   s1359  Movie                                     Shutter Island   \n",
       "123   s6032  Movie                                 A Clockwork Orange   \n",
       "129    s393  Movie                                   Django Unchained   \n",
       "136   s2715  Movie  Violet Evergarden: Eternity and the Auto Memor...   \n",
       "144   s8273  Movie                                       The Departed   \n",
       "181   s7327  Movie                Lock, Stock and Two Smoking Barrels   \n",
       "\n",
       "                                          director  \\\n",
       "3                                 Steven Spielberg   \n",
       "10                               Quentin Tarantino   \n",
       "12                                   Peter Jackson   \n",
       "18                                 Martin Scorsese   \n",
       "25                  Fernando Meirelles, Katia Lund   \n",
       "27                                    Sergio Leone   \n",
       "33                                   Peter Jackson   \n",
       "34   Peter Ramsey, Rodney Rothman, Bob Persichetti   \n",
       "44                                  Roman Polański   \n",
       "47                               Christopher Nolan   \n",
       "53                                       Tony Kaye   \n",
       "68                                    Sergio Leone   \n",
       "73                  Olivier Nakache, Éric Toledano   \n",
       "79                              Mehmet Ada Öztekin   \n",
       "89                                  Justin Baldoni   \n",
       "91                                   Sergio Pablos   \n",
       "93                        Anthony Russo, Joe Russo   \n",
       "104                Lilly Wachowski, Lana Wachowski   \n",
       "105                              Quentin Tarantino   \n",
       "113                                    Tate Taylor   \n",
       "117                                Martin Scorsese   \n",
       "123                                Stanley Kubrick   \n",
       "129                              Quentin Tarantino   \n",
       "136                                  Haruka Fujita   \n",
       "144                                Martin Scorsese   \n",
       "181                                    Guy Ritchie   \n",
       "\n",
       "                                                  cast  \\\n",
       "3    Liam Neeson, Ben Kingsley, Ralph Fiennes, Caro...   \n",
       "10   John Travolta, Samuel L. Jackson, Uma Thurman,...   \n",
       "12   Elijah Wood, Ian McKellen, Liv Tyler, Viggo Mo...   \n",
       "18   Robert De Niro, Ray Liotta, Joe Pesci, Lorrain...   \n",
       "25   Alexandre Rodrigues, Leandro Firmino, Phellipe...   \n",
       "27   Robert De Niro, James Woods, Elizabeth McGover...   \n",
       "33   Elijah Wood, Ian McKellen, Liv Tyler, Viggo Mo...   \n",
       "34   Shameik Moore, Jake Johnson, Hailee Steinfeld,...   \n",
       "44   Adrien Brody, Thomas Kretschmann, Frank Finlay...   \n",
       "47   Leonardo DiCaprio, Joseph Gordon-Levitt, Ellio...   \n",
       "53   Edward Norton, Edward Furlong, Beverly D'Angel...   \n",
       "68   Henry Fonda, Charles Bronson, Claudia Cardinal...   \n",
       "73   François Cluzet, Omar Sy, Anne Le Ny, Audrey F...   \n",
       "79   Aras Bulut İynemli, Nisa Sofiya Aksongur, Deni...   \n",
       "89   Haley Lu Richardson, Cole Sprouse, Moisés Aria...   \n",
       "91   Jason Schwartzman, J.K. Simmons, Rashida Jones...   \n",
       "93   Robert Downey Jr., Josh Brolin, Mark Ruffalo, ...   \n",
       "104  Keanu Reeves, Laurence Fishburne, Carrie-Anne ...   \n",
       "105  Brad Pitt, Mélanie Laurent, Christoph Waltz, E...   \n",
       "113  Emma Stone, Viola Davis, Bryce Dallas Howard, ...   \n",
       "117  Leonardo DiCaprio, Mark Ruffalo, Ben Kingsley,...   \n",
       "123  Malcolm McDowell, Patrick Magee, Michael Bates...   \n",
       "129  Jamie Foxx, Christoph Waltz, Leonardo DiCaprio...   \n",
       "136            Yui Ishikawa, Minako Kotobuki, Aoi Yuki   \n",
       "144  Leonardo DiCaprio, Matt Damon, Jack Nicholson,...   \n",
       "181  Jason Flemyng, Dexter Fletcher, Nick Moran, Ja...   \n",
       "\n",
       "                                               country  date_added  \\\n",
       "3                                        United States  2018-04-01   \n",
       "10                                       United States  2019-01-01   \n",
       "12                          New Zealand, United States  2020-01-01   \n",
       "18                                       United States  2021-01-01   \n",
       "25                             Brazil, France, Germany  2020-01-01   \n",
       "27                                Italy, United States  2021-09-01   \n",
       "33                          New Zealand, United States  2020-01-01   \n",
       "34                                       United States  2019-06-26   \n",
       "44   United Kingdom, France, Poland, Germany, Unite...  2021-04-01   \n",
       "47                       United States, United Kingdom  2021-08-01   \n",
       "53                                       United States  2019-11-01   \n",
       "68                                Italy, United States  2019-11-20   \n",
       "73                                              France  2021-01-11   \n",
       "79                                              Turkey  2020-03-13   \n",
       "89                                       United States  2021-08-01   \n",
       "91                               Spain, United Kingdom  2019-11-15   \n",
       "93                                       United States  2018-12-25   \n",
       "104                                      United States  2019-11-01   \n",
       "105                             Germany, United States  2019-07-22   \n",
       "113                                      United States  2020-06-01   \n",
       "117                                      United States  2021-02-01   \n",
       "123                      United Kingdom, United States  2020-11-01   \n",
       "129                                      United States  2021-07-24   \n",
       "136                                              Japan  2020-04-02   \n",
       "144                           United States, Hong Kong  2021-01-01   \n",
       "181                                     United Kingdom  2019-01-01   \n",
       "\n",
       "     release_year rating_x duration  \\\n",
       "3            1993        R  195 min   \n",
       "10           1994        R  154 min   \n",
       "12           2003    PG-13  201 min   \n",
       "18           1990        R  145 min   \n",
       "25           2002        R  130 min   \n",
       "27           1984        R  229 min   \n",
       "33           2002    PG-13  179 min   \n",
       "34           2018       PG  117 min   \n",
       "44           2002        R  149 min   \n",
       "47           2010    PG-13  148 min   \n",
       "53           1998        R  119 min   \n",
       "68           1968    PG-13  166 min   \n",
       "73           2011        R  112 min   \n",
       "79           2019    TV-14  132 min   \n",
       "89           2019    PG-13  116 min   \n",
       "91           2019       PG   98 min   \n",
       "93           2018    PG-13  150 min   \n",
       "104          1999        R  136 min   \n",
       "105          2009        R  153 min   \n",
       "113          2011    PG-13  147 min   \n",
       "117          2010        R  139 min   \n",
       "123          1971        R  137 min   \n",
       "129          2012        R  165 min   \n",
       "136          2019    TV-PG   91 min   \n",
       "144          2006        R  151 min   \n",
       "181          1998        R  108 min   \n",
       "\n",
       "                                             listed_in  \\\n",
       "3                               Classic Movies, Dramas   \n",
       "10                 Classic Movies, Cult Movies, Dramas   \n",
       "12                Action & Adventure, Sci-Fi & Fantasy   \n",
       "18                              Classic Movies, Dramas   \n",
       "25    Dramas, Independent Movies, International Movies   \n",
       "27                              Classic Movies, Dramas   \n",
       "33                Action & Adventure, Sci-Fi & Fantasy   \n",
       "34                        Action & Adventure, Comedies   \n",
       "44    Dramas, Independent Movies, International Movies   \n",
       "47     Action & Adventure, Sci-Fi & Fantasy, Thrillers   \n",
       "53                                              Dramas   \n",
       "68   Action & Adventure, Classic Movies, Internatio...   \n",
       "73              Comedies, Dramas, International Movies   \n",
       "79                        Dramas, International Movies   \n",
       "89                             Dramas, Romantic Movies   \n",
       "91                  Children & Family Movies, Comedies   \n",
       "93                Action & Adventure, Sci-Fi & Fantasy   \n",
       "104               Action & Adventure, Sci-Fi & Fantasy   \n",
       "105                                 Action & Adventure   \n",
       "113                                             Dramas   \n",
       "117                                          Thrillers   \n",
       "123                Classic Movies, Cult Movies, Dramas   \n",
       "129                         Action & Adventure, Dramas   \n",
       "136  Anime Features, International Movies, Sci-Fi &...   \n",
       "144                                  Dramas, Thrillers   \n",
       "181   Action & Adventure, Comedies, Independent Movies   \n",
       "\n",
       "                                           description  year_added  \\\n",
       "3    Oskar Schindler becomes an unlikely humanitari...      2018.0   \n",
       "10   This stylized crime caper weaves together stor...      2019.0   \n",
       "12   Aragorn is revealed as the heir to the ancient...      2020.0   \n",
       "18   Former mobster Henry Hill recounts his colorfu...      2021.0   \n",
       "25   Growing up in a Rio de Janeiro slum, Rocket is...      2020.0   \n",
       "27   Director Sergio Leone's sprawling crime epic f...      2021.0   \n",
       "33   Frodo and Sam head to Mordor to destroy the On...      2020.0   \n",
       "34   After being bitten by a radioactive spider, Br...      2019.0   \n",
       "44   Famed Polish pianist Wladyslaw Szpilman strugg...      2021.0   \n",
       "47   A troubled thief who extracts secrets from peo...      2021.0   \n",
       "53   A neo-Nazi gets sent to prison for murder and ...      2019.0   \n",
       "68   In this epic spaghetti Western, a flinty gunsl...      2019.0   \n",
       "73   In need of a caregiver, a wealthy aristocrat w...      2021.0   \n",
       "79   Separated from his daughter, a father with an ...      2020.0   \n",
       "89   A teen with cystic fibrosis shakes up her dail...      2021.0   \n",
       "91   A selfish postman and a reclusive toymaker for...      2019.0   \n",
       "93   Superheroes amass to stop intergalactic sociop...      2018.0   \n",
       "104  A computer hacker learns that what most people...      2019.0   \n",
       "105  A Jewish cinema owner in occupied Paris is for...      2019.0   \n",
       "113  A young, white writer stirs up the status quo ...      2020.0   \n",
       "117  A U.S. marshal's troubling visions compromise ...      2021.0   \n",
       "123  In this dark satire from director Stanley Kubr...      2020.0   \n",
       "129  Accompanied by a German bounty hunter, a freed...      2021.0   \n",
       "136  A lonely young woman feels trapped at her all ...      2020.0   \n",
       "144  Two rookie Boston cops are sent deep undercove...      2021.0   \n",
       "181  Hoping to make a bundle in a high-stakes poker...      2019.0   \n",
       "\n",
       "    month_added  movie_id  rating_y release_date  TMDB_release_year  \n",
       "3         April       424     8.566   1993-12-15               1993  \n",
       "10      January       680     8.500   1994-09-10               1994  \n",
       "12      January       122     8.483   2003-12-17               2003  \n",
       "18      January       769     8.456   1990-09-12               1990  \n",
       "25      January       598     8.400   2002-08-30               2002  \n",
       "27    September       311     8.419   1984-05-23               1984  \n",
       "33      January       121     8.400   2002-12-18               2002  \n",
       "34         June    324857     8.399   2018-12-06               2018  \n",
       "44        April       423     8.378   2002-09-17               2002  \n",
       "47       August     27205     8.370   2010-07-15               2010  \n",
       "53     November        73     8.342   1998-07-01               1998  \n",
       "68     November       335     8.289   1968-12-21               1968  \n",
       "73      January     77338     8.275   2011-11-02               2011  \n",
       "79        March    637920     8.262   2019-10-10               2019  \n",
       "89       August    527641     8.246   2019-03-14               2019  \n",
       "91     November    508965     8.245   2019-11-08               2019  \n",
       "93     December    299536     8.242   2018-04-25               2018  \n",
       "104    November       603     8.219   1999-03-31               1999  \n",
       "105        July     16869     8.218   2009-08-02               2009  \n",
       "113        June     50014     8.210   2011-08-09               2011  \n",
       "117    February     11324     8.203   2010-02-14               2010  \n",
       "123    November       185     8.192   1971-12-19               1971  \n",
       "129        July     68718     8.182   2012-12-25               2012  \n",
       "136       April    610892     8.176   2019-09-06               2019  \n",
       "144     January      1422     8.161   2006-10-04               2006  \n",
       "181     January       100     8.118   1998-08-28               1998  "
      ]
     },
     "execution_count": 168,
     "metadata": {},
     "output_type": "execute_result"
    }
   ],
   "source": [
    "merged_df"
   ]
  },
  {
   "cell_type": "markdown",
   "id": "135c9580",
   "metadata": {},
   "source": [
    "**Some of the movies have not the same release year. This means that some movies in the 2 dataframes had the same Title , thus the merging conlcude to some mistakes. To filter these , we have to match the release years from the 2 dataframes**"
   ]
  },
  {
   "cell_type": "code",
   "execution_count": 102,
   "id": "dbcd82d3",
   "metadata": {},
   "outputs": [],
   "source": [
    "merged_df[\"release_year\"]=merged_df[\"release_year\"].astype('int')"
   ]
  },
  {
   "cell_type": "code",
   "execution_count": 104,
   "id": "3c559a97",
   "metadata": {},
   "outputs": [],
   "source": [
    "merged_df[\"release_date\"]=pd.to_datetime(merged_df[\"release_date\"])"
   ]
  },
  {
   "cell_type": "code",
   "execution_count": 105,
   "id": "43dbcd52",
   "metadata": {},
   "outputs": [],
   "source": [
    "merged_df[\"TMDB_release_year\"] = merged_df[\"release_date\"].dt.year"
   ]
  },
  {
   "cell_type": "code",
   "execution_count": 107,
   "id": "6b704553",
   "metadata": {},
   "outputs": [],
   "source": [
    "merged_df = merged_df[merged_df['TMDB_release_year'] == merged_df['release_year']]"
   ]
  },
  {
   "cell_type": "code",
   "execution_count": 109,
   "id": "b3d094fe",
   "metadata": {
    "scrolled": false
   },
   "outputs": [],
   "source": [
    "top5_movies = merged_df.head()"
   ]
  },
  {
   "cell_type": "code",
   "execution_count": 116,
   "id": "b0fab404",
   "metadata": {},
   "outputs": [
    {
     "data": {
      "application/vnd.plotly.v1+json": {
       "config": {
        "plotlyServerURL": "https://plot.ly"
       },
       "data": [
        {
         "alignmentgroup": "True",
         "hovertemplate": "title=%{x}<br>rating_y=%{y}<extra></extra>",
         "legendgroup": "",
         "marker": {
          "color": "#221F1F",
          "pattern": {
           "shape": ""
          }
         },
         "name": "",
         "offsetgroup": "",
         "orientation": "v",
         "showlegend": false,
         "textposition": "auto",
         "texttemplate": "%{y}",
         "type": "bar",
         "x": [
          "Schindler's List",
          "Pulp Fiction",
          "The Lord of the Rings: The Return of the King",
          "GoodFellas",
          "City of God"
         ],
         "xaxis": "x",
         "y": [
          8.566,
          8.5,
          8.483,
          8.456,
          8.4
         ],
         "yaxis": "y"
        }
       ],
       "layout": {
        "barmode": "relative",
        "legend": {
         "tracegroupgap": 0
        },
        "template": {
         "data": {
          "bar": [
           {
            "error_x": {
             "color": "#2a3f5f"
            },
            "error_y": {
             "color": "#2a3f5f"
            },
            "marker": {
             "line": {
              "color": "#E5ECF6",
              "width": 0.5
             },
             "pattern": {
              "fillmode": "overlay",
              "size": 10,
              "solidity": 0.2
             }
            },
            "type": "bar"
           }
          ],
          "barpolar": [
           {
            "marker": {
             "line": {
              "color": "#E5ECF6",
              "width": 0.5
             },
             "pattern": {
              "fillmode": "overlay",
              "size": 10,
              "solidity": 0.2
             }
            },
            "type": "barpolar"
           }
          ],
          "carpet": [
           {
            "aaxis": {
             "endlinecolor": "#2a3f5f",
             "gridcolor": "white",
             "linecolor": "white",
             "minorgridcolor": "white",
             "startlinecolor": "#2a3f5f"
            },
            "baxis": {
             "endlinecolor": "#2a3f5f",
             "gridcolor": "white",
             "linecolor": "white",
             "minorgridcolor": "white",
             "startlinecolor": "#2a3f5f"
            },
            "type": "carpet"
           }
          ],
          "choropleth": [
           {
            "colorbar": {
             "outlinewidth": 0,
             "ticks": ""
            },
            "type": "choropleth"
           }
          ],
          "contour": [
           {
            "colorbar": {
             "outlinewidth": 0,
             "ticks": ""
            },
            "colorscale": [
             [
              0,
              "#0d0887"
             ],
             [
              0.1111111111111111,
              "#46039f"
             ],
             [
              0.2222222222222222,
              "#7201a8"
             ],
             [
              0.3333333333333333,
              "#9c179e"
             ],
             [
              0.4444444444444444,
              "#bd3786"
             ],
             [
              0.5555555555555556,
              "#d8576b"
             ],
             [
              0.6666666666666666,
              "#ed7953"
             ],
             [
              0.7777777777777778,
              "#fb9f3a"
             ],
             [
              0.8888888888888888,
              "#fdca26"
             ],
             [
              1,
              "#f0f921"
             ]
            ],
            "type": "contour"
           }
          ],
          "contourcarpet": [
           {
            "colorbar": {
             "outlinewidth": 0,
             "ticks": ""
            },
            "type": "contourcarpet"
           }
          ],
          "heatmap": [
           {
            "colorbar": {
             "outlinewidth": 0,
             "ticks": ""
            },
            "colorscale": [
             [
              0,
              "#0d0887"
             ],
             [
              0.1111111111111111,
              "#46039f"
             ],
             [
              0.2222222222222222,
              "#7201a8"
             ],
             [
              0.3333333333333333,
              "#9c179e"
             ],
             [
              0.4444444444444444,
              "#bd3786"
             ],
             [
              0.5555555555555556,
              "#d8576b"
             ],
             [
              0.6666666666666666,
              "#ed7953"
             ],
             [
              0.7777777777777778,
              "#fb9f3a"
             ],
             [
              0.8888888888888888,
              "#fdca26"
             ],
             [
              1,
              "#f0f921"
             ]
            ],
            "type": "heatmap"
           }
          ],
          "heatmapgl": [
           {
            "colorbar": {
             "outlinewidth": 0,
             "ticks": ""
            },
            "colorscale": [
             [
              0,
              "#0d0887"
             ],
             [
              0.1111111111111111,
              "#46039f"
             ],
             [
              0.2222222222222222,
              "#7201a8"
             ],
             [
              0.3333333333333333,
              "#9c179e"
             ],
             [
              0.4444444444444444,
              "#bd3786"
             ],
             [
              0.5555555555555556,
              "#d8576b"
             ],
             [
              0.6666666666666666,
              "#ed7953"
             ],
             [
              0.7777777777777778,
              "#fb9f3a"
             ],
             [
              0.8888888888888888,
              "#fdca26"
             ],
             [
              1,
              "#f0f921"
             ]
            ],
            "type": "heatmapgl"
           }
          ],
          "histogram": [
           {
            "marker": {
             "pattern": {
              "fillmode": "overlay",
              "size": 10,
              "solidity": 0.2
             }
            },
            "type": "histogram"
           }
          ],
          "histogram2d": [
           {
            "colorbar": {
             "outlinewidth": 0,
             "ticks": ""
            },
            "colorscale": [
             [
              0,
              "#0d0887"
             ],
             [
              0.1111111111111111,
              "#46039f"
             ],
             [
              0.2222222222222222,
              "#7201a8"
             ],
             [
              0.3333333333333333,
              "#9c179e"
             ],
             [
              0.4444444444444444,
              "#bd3786"
             ],
             [
              0.5555555555555556,
              "#d8576b"
             ],
             [
              0.6666666666666666,
              "#ed7953"
             ],
             [
              0.7777777777777778,
              "#fb9f3a"
             ],
             [
              0.8888888888888888,
              "#fdca26"
             ],
             [
              1,
              "#f0f921"
             ]
            ],
            "type": "histogram2d"
           }
          ],
          "histogram2dcontour": [
           {
            "colorbar": {
             "outlinewidth": 0,
             "ticks": ""
            },
            "colorscale": [
             [
              0,
              "#0d0887"
             ],
             [
              0.1111111111111111,
              "#46039f"
             ],
             [
              0.2222222222222222,
              "#7201a8"
             ],
             [
              0.3333333333333333,
              "#9c179e"
             ],
             [
              0.4444444444444444,
              "#bd3786"
             ],
             [
              0.5555555555555556,
              "#d8576b"
             ],
             [
              0.6666666666666666,
              "#ed7953"
             ],
             [
              0.7777777777777778,
              "#fb9f3a"
             ],
             [
              0.8888888888888888,
              "#fdca26"
             ],
             [
              1,
              "#f0f921"
             ]
            ],
            "type": "histogram2dcontour"
           }
          ],
          "mesh3d": [
           {
            "colorbar": {
             "outlinewidth": 0,
             "ticks": ""
            },
            "type": "mesh3d"
           }
          ],
          "parcoords": [
           {
            "line": {
             "colorbar": {
              "outlinewidth": 0,
              "ticks": ""
             }
            },
            "type": "parcoords"
           }
          ],
          "pie": [
           {
            "automargin": true,
            "type": "pie"
           }
          ],
          "scatter": [
           {
            "fillpattern": {
             "fillmode": "overlay",
             "size": 10,
             "solidity": 0.2
            },
            "type": "scatter"
           }
          ],
          "scatter3d": [
           {
            "line": {
             "colorbar": {
              "outlinewidth": 0,
              "ticks": ""
             }
            },
            "marker": {
             "colorbar": {
              "outlinewidth": 0,
              "ticks": ""
             }
            },
            "type": "scatter3d"
           }
          ],
          "scattercarpet": [
           {
            "marker": {
             "colorbar": {
              "outlinewidth": 0,
              "ticks": ""
             }
            },
            "type": "scattercarpet"
           }
          ],
          "scattergeo": [
           {
            "marker": {
             "colorbar": {
              "outlinewidth": 0,
              "ticks": ""
             }
            },
            "type": "scattergeo"
           }
          ],
          "scattergl": [
           {
            "marker": {
             "colorbar": {
              "outlinewidth": 0,
              "ticks": ""
             }
            },
            "type": "scattergl"
           }
          ],
          "scattermapbox": [
           {
            "marker": {
             "colorbar": {
              "outlinewidth": 0,
              "ticks": ""
             }
            },
            "type": "scattermapbox"
           }
          ],
          "scatterpolar": [
           {
            "marker": {
             "colorbar": {
              "outlinewidth": 0,
              "ticks": ""
             }
            },
            "type": "scatterpolar"
           }
          ],
          "scatterpolargl": [
           {
            "marker": {
             "colorbar": {
              "outlinewidth": 0,
              "ticks": ""
             }
            },
            "type": "scatterpolargl"
           }
          ],
          "scatterternary": [
           {
            "marker": {
             "colorbar": {
              "outlinewidth": 0,
              "ticks": ""
             }
            },
            "type": "scatterternary"
           }
          ],
          "surface": [
           {
            "colorbar": {
             "outlinewidth": 0,
             "ticks": ""
            },
            "colorscale": [
             [
              0,
              "#0d0887"
             ],
             [
              0.1111111111111111,
              "#46039f"
             ],
             [
              0.2222222222222222,
              "#7201a8"
             ],
             [
              0.3333333333333333,
              "#9c179e"
             ],
             [
              0.4444444444444444,
              "#bd3786"
             ],
             [
              0.5555555555555556,
              "#d8576b"
             ],
             [
              0.6666666666666666,
              "#ed7953"
             ],
             [
              0.7777777777777778,
              "#fb9f3a"
             ],
             [
              0.8888888888888888,
              "#fdca26"
             ],
             [
              1,
              "#f0f921"
             ]
            ],
            "type": "surface"
           }
          ],
          "table": [
           {
            "cells": {
             "fill": {
              "color": "#EBF0F8"
             },
             "line": {
              "color": "white"
             }
            },
            "header": {
             "fill": {
              "color": "#C8D4E3"
             },
             "line": {
              "color": "white"
             }
            },
            "type": "table"
           }
          ]
         },
         "layout": {
          "annotationdefaults": {
           "arrowcolor": "#2a3f5f",
           "arrowhead": 0,
           "arrowwidth": 1
          },
          "autotypenumbers": "strict",
          "coloraxis": {
           "colorbar": {
            "outlinewidth": 0,
            "ticks": ""
           }
          },
          "colorscale": {
           "diverging": [
            [
             0,
             "#8e0152"
            ],
            [
             0.1,
             "#c51b7d"
            ],
            [
             0.2,
             "#de77ae"
            ],
            [
             0.3,
             "#f1b6da"
            ],
            [
             0.4,
             "#fde0ef"
            ],
            [
             0.5,
             "#f7f7f7"
            ],
            [
             0.6,
             "#e6f5d0"
            ],
            [
             0.7,
             "#b8e186"
            ],
            [
             0.8,
             "#7fbc41"
            ],
            [
             0.9,
             "#4d9221"
            ],
            [
             1,
             "#276419"
            ]
           ],
           "sequential": [
            [
             0,
             "#0d0887"
            ],
            [
             0.1111111111111111,
             "#46039f"
            ],
            [
             0.2222222222222222,
             "#7201a8"
            ],
            [
             0.3333333333333333,
             "#9c179e"
            ],
            [
             0.4444444444444444,
             "#bd3786"
            ],
            [
             0.5555555555555556,
             "#d8576b"
            ],
            [
             0.6666666666666666,
             "#ed7953"
            ],
            [
             0.7777777777777778,
             "#fb9f3a"
            ],
            [
             0.8888888888888888,
             "#fdca26"
            ],
            [
             1,
             "#f0f921"
            ]
           ],
           "sequentialminus": [
            [
             0,
             "#0d0887"
            ],
            [
             0.1111111111111111,
             "#46039f"
            ],
            [
             0.2222222222222222,
             "#7201a8"
            ],
            [
             0.3333333333333333,
             "#9c179e"
            ],
            [
             0.4444444444444444,
             "#bd3786"
            ],
            [
             0.5555555555555556,
             "#d8576b"
            ],
            [
             0.6666666666666666,
             "#ed7953"
            ],
            [
             0.7777777777777778,
             "#fb9f3a"
            ],
            [
             0.8888888888888888,
             "#fdca26"
            ],
            [
             1,
             "#f0f921"
            ]
           ]
          },
          "colorway": [
           "#636efa",
           "#EF553B",
           "#00cc96",
           "#ab63fa",
           "#FFA15A",
           "#19d3f3",
           "#FF6692",
           "#B6E880",
           "#FF97FF",
           "#FECB52"
          ],
          "font": {
           "color": "#2a3f5f"
          },
          "geo": {
           "bgcolor": "white",
           "lakecolor": "white",
           "landcolor": "#E5ECF6",
           "showlakes": true,
           "showland": true,
           "subunitcolor": "white"
          },
          "hoverlabel": {
           "align": "left"
          },
          "hovermode": "closest",
          "mapbox": {
           "style": "light"
          },
          "paper_bgcolor": "white",
          "plot_bgcolor": "#E5ECF6",
          "polar": {
           "angularaxis": {
            "gridcolor": "white",
            "linecolor": "white",
            "ticks": ""
           },
           "bgcolor": "#E5ECF6",
           "radialaxis": {
            "gridcolor": "white",
            "linecolor": "white",
            "ticks": ""
           }
          },
          "scene": {
           "xaxis": {
            "backgroundcolor": "#E5ECF6",
            "gridcolor": "white",
            "gridwidth": 2,
            "linecolor": "white",
            "showbackground": true,
            "ticks": "",
            "zerolinecolor": "white"
           },
           "yaxis": {
            "backgroundcolor": "#E5ECF6",
            "gridcolor": "white",
            "gridwidth": 2,
            "linecolor": "white",
            "showbackground": true,
            "ticks": "",
            "zerolinecolor": "white"
           },
           "zaxis": {
            "backgroundcolor": "#E5ECF6",
            "gridcolor": "white",
            "gridwidth": 2,
            "linecolor": "white",
            "showbackground": true,
            "ticks": "",
            "zerolinecolor": "white"
           }
          },
          "shapedefaults": {
           "line": {
            "color": "#2a3f5f"
           }
          },
          "ternary": {
           "aaxis": {
            "gridcolor": "white",
            "linecolor": "white",
            "ticks": ""
           },
           "baxis": {
            "gridcolor": "white",
            "linecolor": "white",
            "ticks": ""
           },
           "bgcolor": "#E5ECF6",
           "caxis": {
            "gridcolor": "white",
            "linecolor": "white",
            "ticks": ""
           }
          },
          "title": {
           "x": 0.05
          },
          "xaxis": {
           "automargin": true,
           "gridcolor": "white",
           "linecolor": "white",
           "ticks": "",
           "title": {
            "standoff": 15
           },
           "zerolinecolor": "white",
           "zerolinewidth": 2
          },
          "yaxis": {
           "automargin": true,
           "gridcolor": "white",
           "linecolor": "white",
           "ticks": "",
           "title": {
            "standoff": 15
           },
           "zerolinecolor": "white",
           "zerolinewidth": 2
          }
         }
        },
        "title": {
         "font": {
          "color": "#E50914",
          "size": 24
         },
         "text": "Top 5 Movies"
        },
        "xaxis": {
         "anchor": "y",
         "domain": [
          0,
          1
         ],
         "title": {
          "text": "Movie Title"
         }
        },
        "yaxis": {
         "anchor": "x",
         "domain": [
          0,
          1
         ],
         "title": {
          "text": "Rating"
         }
        }
       }
      },
      "text/html": [
       "<div>                            <div id=\"3a5611a6-71b4-4f66-a556-373efe8d8b5f\" class=\"plotly-graph-div\" style=\"height:525px; width:100%;\"></div>            <script type=\"text/javascript\">                require([\"plotly\"], function(Plotly) {                    window.PLOTLYENV=window.PLOTLYENV || {};                                    if (document.getElementById(\"3a5611a6-71b4-4f66-a556-373efe8d8b5f\")) {                    Plotly.newPlot(                        \"3a5611a6-71b4-4f66-a556-373efe8d8b5f\",                        [{\"alignmentgroup\":\"True\",\"hovertemplate\":\"title=%{x}\\u003cbr\\u003erating_y=%{y}\\u003cextra\\u003e\\u003c\\u002fextra\\u003e\",\"legendgroup\":\"\",\"marker\":{\"color\":\"#221F1F\",\"pattern\":{\"shape\":\"\"}},\"name\":\"\",\"offsetgroup\":\"\",\"orientation\":\"v\",\"showlegend\":false,\"textposition\":\"auto\",\"texttemplate\":\"%{y}\",\"x\":[\"Schindler's List\",\"Pulp Fiction\",\"The Lord of the Rings: The Return of the King\",\"GoodFellas\",\"City of God\"],\"xaxis\":\"x\",\"y\":[8.566,8.5,8.483,8.456,8.4],\"yaxis\":\"y\",\"type\":\"bar\"}],                        {\"template\":{\"data\":{\"histogram2dcontour\":[{\"type\":\"histogram2dcontour\",\"colorbar\":{\"outlinewidth\":0,\"ticks\":\"\"},\"colorscale\":[[0.0,\"#0d0887\"],[0.1111111111111111,\"#46039f\"],[0.2222222222222222,\"#7201a8\"],[0.3333333333333333,\"#9c179e\"],[0.4444444444444444,\"#bd3786\"],[0.5555555555555556,\"#d8576b\"],[0.6666666666666666,\"#ed7953\"],[0.7777777777777778,\"#fb9f3a\"],[0.8888888888888888,\"#fdca26\"],[1.0,\"#f0f921\"]]}],\"choropleth\":[{\"type\":\"choropleth\",\"colorbar\":{\"outlinewidth\":0,\"ticks\":\"\"}}],\"histogram2d\":[{\"type\":\"histogram2d\",\"colorbar\":{\"outlinewidth\":0,\"ticks\":\"\"},\"colorscale\":[[0.0,\"#0d0887\"],[0.1111111111111111,\"#46039f\"],[0.2222222222222222,\"#7201a8\"],[0.3333333333333333,\"#9c179e\"],[0.4444444444444444,\"#bd3786\"],[0.5555555555555556,\"#d8576b\"],[0.6666666666666666,\"#ed7953\"],[0.7777777777777778,\"#fb9f3a\"],[0.8888888888888888,\"#fdca26\"],[1.0,\"#f0f921\"]]}],\"heatmap\":[{\"type\":\"heatmap\",\"colorbar\":{\"outlinewidth\":0,\"ticks\":\"\"},\"colorscale\":[[0.0,\"#0d0887\"],[0.1111111111111111,\"#46039f\"],[0.2222222222222222,\"#7201a8\"],[0.3333333333333333,\"#9c179e\"],[0.4444444444444444,\"#bd3786\"],[0.5555555555555556,\"#d8576b\"],[0.6666666666666666,\"#ed7953\"],[0.7777777777777778,\"#fb9f3a\"],[0.8888888888888888,\"#fdca26\"],[1.0,\"#f0f921\"]]}],\"heatmapgl\":[{\"type\":\"heatmapgl\",\"colorbar\":{\"outlinewidth\":0,\"ticks\":\"\"},\"colorscale\":[[0.0,\"#0d0887\"],[0.1111111111111111,\"#46039f\"],[0.2222222222222222,\"#7201a8\"],[0.3333333333333333,\"#9c179e\"],[0.4444444444444444,\"#bd3786\"],[0.5555555555555556,\"#d8576b\"],[0.6666666666666666,\"#ed7953\"],[0.7777777777777778,\"#fb9f3a\"],[0.8888888888888888,\"#fdca26\"],[1.0,\"#f0f921\"]]}],\"contourcarpet\":[{\"type\":\"contourcarpet\",\"colorbar\":{\"outlinewidth\":0,\"ticks\":\"\"}}],\"contour\":[{\"type\":\"contour\",\"colorbar\":{\"outlinewidth\":0,\"ticks\":\"\"},\"colorscale\":[[0.0,\"#0d0887\"],[0.1111111111111111,\"#46039f\"],[0.2222222222222222,\"#7201a8\"],[0.3333333333333333,\"#9c179e\"],[0.4444444444444444,\"#bd3786\"],[0.5555555555555556,\"#d8576b\"],[0.6666666666666666,\"#ed7953\"],[0.7777777777777778,\"#fb9f3a\"],[0.8888888888888888,\"#fdca26\"],[1.0,\"#f0f921\"]]}],\"surface\":[{\"type\":\"surface\",\"colorbar\":{\"outlinewidth\":0,\"ticks\":\"\"},\"colorscale\":[[0.0,\"#0d0887\"],[0.1111111111111111,\"#46039f\"],[0.2222222222222222,\"#7201a8\"],[0.3333333333333333,\"#9c179e\"],[0.4444444444444444,\"#bd3786\"],[0.5555555555555556,\"#d8576b\"],[0.6666666666666666,\"#ed7953\"],[0.7777777777777778,\"#fb9f3a\"],[0.8888888888888888,\"#fdca26\"],[1.0,\"#f0f921\"]]}],\"mesh3d\":[{\"type\":\"mesh3d\",\"colorbar\":{\"outlinewidth\":0,\"ticks\":\"\"}}],\"scatter\":[{\"fillpattern\":{\"fillmode\":\"overlay\",\"size\":10,\"solidity\":0.2},\"type\":\"scatter\"}],\"parcoords\":[{\"type\":\"parcoords\",\"line\":{\"colorbar\":{\"outlinewidth\":0,\"ticks\":\"\"}}}],\"scatterpolargl\":[{\"type\":\"scatterpolargl\",\"marker\":{\"colorbar\":{\"outlinewidth\":0,\"ticks\":\"\"}}}],\"bar\":[{\"error_x\":{\"color\":\"#2a3f5f\"},\"error_y\":{\"color\":\"#2a3f5f\"},\"marker\":{\"line\":{\"color\":\"#E5ECF6\",\"width\":0.5},\"pattern\":{\"fillmode\":\"overlay\",\"size\":10,\"solidity\":0.2}},\"type\":\"bar\"}],\"scattergeo\":[{\"type\":\"scattergeo\",\"marker\":{\"colorbar\":{\"outlinewidth\":0,\"ticks\":\"\"}}}],\"scatterpolar\":[{\"type\":\"scatterpolar\",\"marker\":{\"colorbar\":{\"outlinewidth\":0,\"ticks\":\"\"}}}],\"histogram\":[{\"marker\":{\"pattern\":{\"fillmode\":\"overlay\",\"size\":10,\"solidity\":0.2}},\"type\":\"histogram\"}],\"scattergl\":[{\"type\":\"scattergl\",\"marker\":{\"colorbar\":{\"outlinewidth\":0,\"ticks\":\"\"}}}],\"scatter3d\":[{\"type\":\"scatter3d\",\"line\":{\"colorbar\":{\"outlinewidth\":0,\"ticks\":\"\"}},\"marker\":{\"colorbar\":{\"outlinewidth\":0,\"ticks\":\"\"}}}],\"scattermapbox\":[{\"type\":\"scattermapbox\",\"marker\":{\"colorbar\":{\"outlinewidth\":0,\"ticks\":\"\"}}}],\"scatterternary\":[{\"type\":\"scatterternary\",\"marker\":{\"colorbar\":{\"outlinewidth\":0,\"ticks\":\"\"}}}],\"scattercarpet\":[{\"type\":\"scattercarpet\",\"marker\":{\"colorbar\":{\"outlinewidth\":0,\"ticks\":\"\"}}}],\"carpet\":[{\"aaxis\":{\"endlinecolor\":\"#2a3f5f\",\"gridcolor\":\"white\",\"linecolor\":\"white\",\"minorgridcolor\":\"white\",\"startlinecolor\":\"#2a3f5f\"},\"baxis\":{\"endlinecolor\":\"#2a3f5f\",\"gridcolor\":\"white\",\"linecolor\":\"white\",\"minorgridcolor\":\"white\",\"startlinecolor\":\"#2a3f5f\"},\"type\":\"carpet\"}],\"table\":[{\"cells\":{\"fill\":{\"color\":\"#EBF0F8\"},\"line\":{\"color\":\"white\"}},\"header\":{\"fill\":{\"color\":\"#C8D4E3\"},\"line\":{\"color\":\"white\"}},\"type\":\"table\"}],\"barpolar\":[{\"marker\":{\"line\":{\"color\":\"#E5ECF6\",\"width\":0.5},\"pattern\":{\"fillmode\":\"overlay\",\"size\":10,\"solidity\":0.2}},\"type\":\"barpolar\"}],\"pie\":[{\"automargin\":true,\"type\":\"pie\"}]},\"layout\":{\"autotypenumbers\":\"strict\",\"colorway\":[\"#636efa\",\"#EF553B\",\"#00cc96\",\"#ab63fa\",\"#FFA15A\",\"#19d3f3\",\"#FF6692\",\"#B6E880\",\"#FF97FF\",\"#FECB52\"],\"font\":{\"color\":\"#2a3f5f\"},\"hovermode\":\"closest\",\"hoverlabel\":{\"align\":\"left\"},\"paper_bgcolor\":\"white\",\"plot_bgcolor\":\"#E5ECF6\",\"polar\":{\"bgcolor\":\"#E5ECF6\",\"angularaxis\":{\"gridcolor\":\"white\",\"linecolor\":\"white\",\"ticks\":\"\"},\"radialaxis\":{\"gridcolor\":\"white\",\"linecolor\":\"white\",\"ticks\":\"\"}},\"ternary\":{\"bgcolor\":\"#E5ECF6\",\"aaxis\":{\"gridcolor\":\"white\",\"linecolor\":\"white\",\"ticks\":\"\"},\"baxis\":{\"gridcolor\":\"white\",\"linecolor\":\"white\",\"ticks\":\"\"},\"caxis\":{\"gridcolor\":\"white\",\"linecolor\":\"white\",\"ticks\":\"\"}},\"coloraxis\":{\"colorbar\":{\"outlinewidth\":0,\"ticks\":\"\"}},\"colorscale\":{\"sequential\":[[0.0,\"#0d0887\"],[0.1111111111111111,\"#46039f\"],[0.2222222222222222,\"#7201a8\"],[0.3333333333333333,\"#9c179e\"],[0.4444444444444444,\"#bd3786\"],[0.5555555555555556,\"#d8576b\"],[0.6666666666666666,\"#ed7953\"],[0.7777777777777778,\"#fb9f3a\"],[0.8888888888888888,\"#fdca26\"],[1.0,\"#f0f921\"]],\"sequentialminus\":[[0.0,\"#0d0887\"],[0.1111111111111111,\"#46039f\"],[0.2222222222222222,\"#7201a8\"],[0.3333333333333333,\"#9c179e\"],[0.4444444444444444,\"#bd3786\"],[0.5555555555555556,\"#d8576b\"],[0.6666666666666666,\"#ed7953\"],[0.7777777777777778,\"#fb9f3a\"],[0.8888888888888888,\"#fdca26\"],[1.0,\"#f0f921\"]],\"diverging\":[[0,\"#8e0152\"],[0.1,\"#c51b7d\"],[0.2,\"#de77ae\"],[0.3,\"#f1b6da\"],[0.4,\"#fde0ef\"],[0.5,\"#f7f7f7\"],[0.6,\"#e6f5d0\"],[0.7,\"#b8e186\"],[0.8,\"#7fbc41\"],[0.9,\"#4d9221\"],[1,\"#276419\"]]},\"xaxis\":{\"gridcolor\":\"white\",\"linecolor\":\"white\",\"ticks\":\"\",\"title\":{\"standoff\":15},\"zerolinecolor\":\"white\",\"automargin\":true,\"zerolinewidth\":2},\"yaxis\":{\"gridcolor\":\"white\",\"linecolor\":\"white\",\"ticks\":\"\",\"title\":{\"standoff\":15},\"zerolinecolor\":\"white\",\"automargin\":true,\"zerolinewidth\":2},\"scene\":{\"xaxis\":{\"backgroundcolor\":\"#E5ECF6\",\"gridcolor\":\"white\",\"linecolor\":\"white\",\"showbackground\":true,\"ticks\":\"\",\"zerolinecolor\":\"white\",\"gridwidth\":2},\"yaxis\":{\"backgroundcolor\":\"#E5ECF6\",\"gridcolor\":\"white\",\"linecolor\":\"white\",\"showbackground\":true,\"ticks\":\"\",\"zerolinecolor\":\"white\",\"gridwidth\":2},\"zaxis\":{\"backgroundcolor\":\"#E5ECF6\",\"gridcolor\":\"white\",\"linecolor\":\"white\",\"showbackground\":true,\"ticks\":\"\",\"zerolinecolor\":\"white\",\"gridwidth\":2}},\"shapedefaults\":{\"line\":{\"color\":\"#2a3f5f\"}},\"annotationdefaults\":{\"arrowcolor\":\"#2a3f5f\",\"arrowhead\":0,\"arrowwidth\":1},\"geo\":{\"bgcolor\":\"white\",\"landcolor\":\"#E5ECF6\",\"subunitcolor\":\"white\",\"showland\":true,\"showlakes\":true,\"lakecolor\":\"white\"},\"title\":{\"x\":0.05},\"mapbox\":{\"style\":\"light\"}}},\"xaxis\":{\"anchor\":\"y\",\"domain\":[0.0,1.0],\"title\":{\"text\":\"Movie Title\"}},\"yaxis\":{\"anchor\":\"x\",\"domain\":[0.0,1.0],\"title\":{\"text\":\"Rating\"}},\"legend\":{\"tracegroupgap\":0},\"title\":{\"text\":\"Top 5 Movies\",\"font\":{\"size\":24,\"color\":\"#E50914\"}},\"barmode\":\"relative\"},                        {\"responsive\": true}                    ).then(function(){\n",
       "                            \n",
       "var gd = document.getElementById('3a5611a6-71b4-4f66-a556-373efe8d8b5f');\n",
       "var x = new MutationObserver(function (mutations, observer) {{\n",
       "        var display = window.getComputedStyle(gd).display;\n",
       "        if (!display || display === 'none') {{\n",
       "            console.log([gd, 'removed!']);\n",
       "            Plotly.purge(gd);\n",
       "            observer.disconnect();\n",
       "        }}\n",
       "}});\n",
       "\n",
       "// Listen for the removal of the full notebook cells\n",
       "var notebookContainer = gd.closest('#notebook-container');\n",
       "if (notebookContainer) {{\n",
       "    x.observe(notebookContainer, {childList: true});\n",
       "}}\n",
       "\n",
       "// Listen for the clearing of the current output cell\n",
       "var outputEl = gd.closest('.output');\n",
       "if (outputEl) {{\n",
       "    x.observe(outputEl, {childList: true});\n",
       "}}\n",
       "\n",
       "                        })                };                });            </script>        </div>"
      ]
     },
     "metadata": {},
     "output_type": "display_data"
    }
   ],
   "source": [
    "\n",
    "fig = px.bar(\n",
    "    data_frame=top5_movies,\n",
    "    x=\"title\",\n",
    "    y=\"rating_y\",\n",
    "    title=\"Top 5 Movies\",\n",
    "    text_auto=True,\n",
    "    color_discrete_sequence=['#221F1F']\n",
    ")\n",
    "\n",
    "\n",
    "# Customizing labels\n",
    "fig.update_layout(\n",
    "    xaxis_title=\"Movie Title\",  # Update X-axis label\n",
    "    yaxis_title=\"Rating\",  # Update Y-axis label\n",
    "    title_font=dict(size=24, color=\"#E50914\")  \n",
    ")\n",
    "\n",
    "# Show the figure\n",
    "fig.show()"
   ]
  },
  {
   "cell_type": "markdown",
   "id": "8b7a48f3",
   "metadata": {},
   "source": [
    "## Location-Based Analysis"
   ]
  },
  {
   "cell_type": "markdown",
   "id": "7c03acc5",
   "metadata": {},
   "source": [
    "### **Where Are Most of the Movies and TV Shows Produced? (Using Folium)**  \n",
    "🌍 **Geospatial Analysis of Movie and TV Show Production**  \n",
    "By using **Folium** and the country data, we mapped the production countries of Netflix content.\n",
    "\n",
    "**Key Findings:**\n",
    "- **United States** is by far the largest producer with **3680** titles.\n",
    "- **India** follows with **1046** titles, followed by other major producers such as **United Kingdom** (803), **Canada** (445), **France** (393), and **Japan** (316).\n",
    "\n",
    "\n",
    "The visualization shows the global distribution of Netflix content across different countries. \n"
   ]
  },
  {
   "cell_type": "code",
   "execution_count": 130,
   "id": "bfc8b1dd",
   "metadata": {},
   "outputs": [],
   "source": [
    "country_content = df['country'].str.get_dummies(sep=\", \").sum().sort_values(ascending=False)"
   ]
  },
  {
   "cell_type": "code",
   "execution_count": 139,
   "id": "6d65f87d",
   "metadata": {},
   "outputs": [
    {
     "data": {
      "text/html": [
       "<div style=\"width:100%;\"><div style=\"position:relative;width:100%;height:0;padding-bottom:60%;\"><span style=\"color:#565656\">Make this Notebook Trusted to load map: File -> Trust Notebook</span><iframe srcdoc=\"&lt;!DOCTYPE html&gt;\n",
       "&lt;html&gt;\n",
       "&lt;head&gt;\n",
       "    \n",
       "    &lt;meta http-equiv=&quot;content-type&quot; content=&quot;text/html; charset=UTF-8&quot; /&gt;\n",
       "    \n",
       "        &lt;script&gt;\n",
       "            L_NO_TOUCH = false;\n",
       "            L_DISABLE_3D = false;\n",
       "        &lt;/script&gt;\n",
       "    \n",
       "    &lt;style&gt;html, body {width: 100%;height: 100%;margin: 0;padding: 0;}&lt;/style&gt;\n",
       "    &lt;style&gt;#map {position:absolute;top:0;bottom:0;right:0;left:0;}&lt;/style&gt;\n",
       "    &lt;script src=&quot;https://cdn.jsdelivr.net/npm/leaflet@1.9.3/dist/leaflet.js&quot;&gt;&lt;/script&gt;\n",
       "    &lt;script src=&quot;https://code.jquery.com/jquery-3.7.1.min.js&quot;&gt;&lt;/script&gt;\n",
       "    &lt;script src=&quot;https://cdn.jsdelivr.net/npm/bootstrap@5.2.2/dist/js/bootstrap.bundle.min.js&quot;&gt;&lt;/script&gt;\n",
       "    &lt;script src=&quot;https://cdnjs.cloudflare.com/ajax/libs/Leaflet.awesome-markers/2.0.2/leaflet.awesome-markers.js&quot;&gt;&lt;/script&gt;\n",
       "    &lt;link rel=&quot;stylesheet&quot; href=&quot;https://cdn.jsdelivr.net/npm/leaflet@1.9.3/dist/leaflet.css&quot;/&gt;\n",
       "    &lt;link rel=&quot;stylesheet&quot; href=&quot;https://cdn.jsdelivr.net/npm/bootstrap@5.2.2/dist/css/bootstrap.min.css&quot;/&gt;\n",
       "    &lt;link rel=&quot;stylesheet&quot; href=&quot;https://netdna.bootstrapcdn.com/bootstrap/3.0.0/css/bootstrap-glyphicons.css&quot;/&gt;\n",
       "    &lt;link rel=&quot;stylesheet&quot; href=&quot;https://cdn.jsdelivr.net/npm/@fortawesome/fontawesome-free@6.2.0/css/all.min.css&quot;/&gt;\n",
       "    &lt;link rel=&quot;stylesheet&quot; href=&quot;https://cdnjs.cloudflare.com/ajax/libs/Leaflet.awesome-markers/2.0.2/leaflet.awesome-markers.css&quot;/&gt;\n",
       "    &lt;link rel=&quot;stylesheet&quot; href=&quot;https://cdn.jsdelivr.net/gh/python-visualization/folium/folium/templates/leaflet.awesome.rotate.min.css&quot;/&gt;\n",
       "    \n",
       "            &lt;meta name=&quot;viewport&quot; content=&quot;width=device-width,\n",
       "                initial-scale=1.0, maximum-scale=1.0, user-scalable=no&quot; /&gt;\n",
       "            &lt;style&gt;\n",
       "                #map_3b07ff33e33ac2836a73bdc846789b71 {\n",
       "                    position: relative;\n",
       "                    width: 100.0%;\n",
       "                    height: 100.0%;\n",
       "                    left: 0.0%;\n",
       "                    top: 0.0%;\n",
       "                }\n",
       "                .leaflet-container { font-size: 1rem; }\n",
       "            &lt;/style&gt;\n",
       "        \n",
       "&lt;/head&gt;\n",
       "&lt;body&gt;\n",
       "    \n",
       "    \n",
       "            &lt;div class=&quot;folium-map&quot; id=&quot;map_3b07ff33e33ac2836a73bdc846789b71&quot; &gt;&lt;/div&gt;\n",
       "        \n",
       "&lt;/body&gt;\n",
       "&lt;script&gt;\n",
       "    \n",
       "    \n",
       "            var map_3b07ff33e33ac2836a73bdc846789b71 = L.map(\n",
       "                &quot;map_3b07ff33e33ac2836a73bdc846789b71&quot;,\n",
       "                {\n",
       "                    center: [20.0, 0.0],\n",
       "                    crs: L.CRS.EPSG3857,\n",
       "                    ...{\n",
       "  &quot;maxBounds&quot;: null,\n",
       "  &quot;zoom&quot;: 2,\n",
       "  &quot;zoomControl&quot;: true,\n",
       "  &quot;preferCanvas&quot;: false,\n",
       "}\n",
       "\n",
       "                }\n",
       "            );\n",
       "\n",
       "            \n",
       "\n",
       "        \n",
       "    \n",
       "            var tile_layer_7882bac59a868472aa3d3098957e83cc = L.tileLayer(\n",
       "                &quot;https://tile.openstreetmap.org/{z}/{x}/{y}.png&quot;,\n",
       "                {\n",
       "  &quot;minZoom&quot;: 0,\n",
       "  &quot;maxZoom&quot;: 19,\n",
       "  &quot;maxNativeZoom&quot;: 19,\n",
       "  &quot;noWrap&quot;: false,\n",
       "  &quot;attribution&quot;: &quot;\\u0026copy; \\u003ca href=\\&quot;https://www.openstreetmap.org/copyright\\&quot;\\u003eOpenStreetMap\\u003c/a\\u003e contributors&quot;,\n",
       "  &quot;subdomains&quot;: &quot;abc&quot;,\n",
       "  &quot;detectRetina&quot;: false,\n",
       "  &quot;tms&quot;: false,\n",
       "  &quot;opacity&quot;: 1,\n",
       "}\n",
       "\n",
       "            );\n",
       "        \n",
       "    \n",
       "            tile_layer_7882bac59a868472aa3d3098957e83cc.addTo(map_3b07ff33e33ac2836a73bdc846789b71);\n",
       "        \n",
       "    \n",
       "            var circle_marker_5f8c2c89872802c9d2f8c00dc28e8b89 = L.circleMarker(\n",
       "                [37.0902, -95.7129],\n",
       "                {&quot;bubblingMouseEvents&quot;: true, &quot;color&quot;: &quot;red&quot;, &quot;dashArray&quot;: null, &quot;dashOffset&quot;: null, &quot;fill&quot;: true, &quot;fillColor&quot;: &quot;black&quot;, &quot;fillOpacity&quot;: 0.7, &quot;fillRule&quot;: &quot;evenodd&quot;, &quot;lineCap&quot;: &quot;round&quot;, &quot;lineJoin&quot;: &quot;round&quot;, &quot;opacity&quot;: 1.0, &quot;radius&quot;: 60.663003552412405, &quot;stroke&quot;: true, &quot;weight&quot;: 3}\n",
       "            ).addTo(map_3b07ff33e33ac2836a73bdc846789b71);\n",
       "        \n",
       "    \n",
       "        var popup_4dde0c979df5c23c21f530b2be9ba07f = L.popup({\n",
       "  &quot;maxWidth&quot;: &quot;100%&quot;,\n",
       "  &quot;autoClose&quot;: null,\n",
       "  &quot;closeOnClick&quot;: null,\n",
       "});\n",
       "\n",
       "        \n",
       "            \n",
       "                var html_8901eefc2fa275dfe2f389d2d9f375fc = $(`&lt;div id=&quot;html_8901eefc2fa275dfe2f389d2d9f375fc&quot; style=&quot;width: 100.0%; height: 100.0%;&quot;&gt;United States: 3680 contents&lt;/div&gt;`)[0];\n",
       "                popup_4dde0c979df5c23c21f530b2be9ba07f.setContent(html_8901eefc2fa275dfe2f389d2d9f375fc);\n",
       "            \n",
       "        \n",
       "\n",
       "        circle_marker_5f8c2c89872802c9d2f8c00dc28e8b89.bindPopup(popup_4dde0c979df5c23c21f530b2be9ba07f)\n",
       "        ;\n",
       "\n",
       "        \n",
       "    \n",
       "    \n",
       "            var circle_marker_d8ae169e88dd9f1fbc9672d7b9c8b3df = L.circleMarker(\n",
       "                [20.5937, 78.9629],\n",
       "                {&quot;bubblingMouseEvents&quot;: true, &quot;color&quot;: &quot;red&quot;, &quot;dashArray&quot;: null, &quot;dashOffset&quot;: null, &quot;fill&quot;: true, &quot;fillColor&quot;: &quot;black&quot;, &quot;fillOpacity&quot;: 0.7, &quot;fillRule&quot;: &quot;evenodd&quot;, &quot;lineCap&quot;: &quot;round&quot;, &quot;lineJoin&quot;: &quot;round&quot;, &quot;opacity&quot;: 1.0, &quot;radius&quot;: 32.341923257592455, &quot;stroke&quot;: true, &quot;weight&quot;: 3}\n",
       "            ).addTo(map_3b07ff33e33ac2836a73bdc846789b71);\n",
       "        \n",
       "    \n",
       "        var popup_5be0c5f86c8f45566929613a6d5e78be = L.popup({\n",
       "  &quot;maxWidth&quot;: &quot;100%&quot;,\n",
       "  &quot;autoClose&quot;: null,\n",
       "  &quot;closeOnClick&quot;: null,\n",
       "});\n",
       "\n",
       "        \n",
       "            \n",
       "                var html_ae204bb2bf097f17b628b197088381a7 = $(`&lt;div id=&quot;html_ae204bb2bf097f17b628b197088381a7&quot; style=&quot;width: 100.0%; height: 100.0%;&quot;&gt;India: 1046 contents&lt;/div&gt;`)[0];\n",
       "                popup_5be0c5f86c8f45566929613a6d5e78be.setContent(html_ae204bb2bf097f17b628b197088381a7);\n",
       "            \n",
       "        \n",
       "\n",
       "        circle_marker_d8ae169e88dd9f1fbc9672d7b9c8b3df.bindPopup(popup_5be0c5f86c8f45566929613a6d5e78be)\n",
       "        ;\n",
       "\n",
       "        \n",
       "    \n",
       "    \n",
       "            var circle_marker_8dfac86911b71803a8fb8515279e1ce7 = L.circleMarker(\n",
       "                [55.3781, -3.436],\n",
       "                {&quot;bubblingMouseEvents&quot;: true, &quot;color&quot;: &quot;red&quot;, &quot;dashArray&quot;: null, &quot;dashOffset&quot;: null, &quot;fill&quot;: true, &quot;fillColor&quot;: &quot;black&quot;, &quot;fillOpacity&quot;: 0.7, &quot;fillRule&quot;: &quot;evenodd&quot;, &quot;lineCap&quot;: &quot;round&quot;, &quot;lineJoin&quot;: &quot;round&quot;, &quot;opacity&quot;: 1.0, &quot;radius&quot;: 28.337254630609507, &quot;stroke&quot;: true, &quot;weight&quot;: 3}\n",
       "            ).addTo(map_3b07ff33e33ac2836a73bdc846789b71);\n",
       "        \n",
       "    \n",
       "        var popup_a30df801363a77fb670985cab5e4b5ca = L.popup({\n",
       "  &quot;maxWidth&quot;: &quot;100%&quot;,\n",
       "  &quot;autoClose&quot;: null,\n",
       "  &quot;closeOnClick&quot;: null,\n",
       "});\n",
       "\n",
       "        \n",
       "            \n",
       "                var html_fe186eed6866cac78c90a9acd80055e7 = $(`&lt;div id=&quot;html_fe186eed6866cac78c90a9acd80055e7&quot; style=&quot;width: 100.0%; height: 100.0%;&quot;&gt;United Kingdom: 803 contents&lt;/div&gt;`)[0];\n",
       "                popup_a30df801363a77fb670985cab5e4b5ca.setContent(html_fe186eed6866cac78c90a9acd80055e7);\n",
       "            \n",
       "        \n",
       "\n",
       "        circle_marker_8dfac86911b71803a8fb8515279e1ce7.bindPopup(popup_a30df801363a77fb670985cab5e4b5ca)\n",
       "        ;\n",
       "\n",
       "        \n",
       "    \n",
       "    \n",
       "            var circle_marker_7097fd0319ed8c48d5598d95f2944f40 = L.circleMarker(\n",
       "                [56.1304, -106.3468],\n",
       "                {&quot;bubblingMouseEvents&quot;: true, &quot;color&quot;: &quot;red&quot;, &quot;dashArray&quot;: null, &quot;dashOffset&quot;: null, &quot;fill&quot;: true, &quot;fillColor&quot;: &quot;black&quot;, &quot;fillOpacity&quot;: 0.7, &quot;fillRule&quot;: &quot;evenodd&quot;, &quot;lineCap&quot;: &quot;round&quot;, &quot;lineJoin&quot;: &quot;round&quot;, &quot;opacity&quot;: 1.0, &quot;radius&quot;: 21.095023109728988, &quot;stroke&quot;: true, &quot;weight&quot;: 3}\n",
       "            ).addTo(map_3b07ff33e33ac2836a73bdc846789b71);\n",
       "        \n",
       "    \n",
       "        var popup_5e41d185d25fa54732a41cb7fb17e707 = L.popup({\n",
       "  &quot;maxWidth&quot;: &quot;100%&quot;,\n",
       "  &quot;autoClose&quot;: null,\n",
       "  &quot;closeOnClick&quot;: null,\n",
       "});\n",
       "\n",
       "        \n",
       "            \n",
       "                var html_7b8e79dc4fe4123535aab46900f3de6c = $(`&lt;div id=&quot;html_7b8e79dc4fe4123535aab46900f3de6c&quot; style=&quot;width: 100.0%; height: 100.0%;&quot;&gt;Canada: 445 contents&lt;/div&gt;`)[0];\n",
       "                popup_5e41d185d25fa54732a41cb7fb17e707.setContent(html_7b8e79dc4fe4123535aab46900f3de6c);\n",
       "            \n",
       "        \n",
       "\n",
       "        circle_marker_7097fd0319ed8c48d5598d95f2944f40.bindPopup(popup_5e41d185d25fa54732a41cb7fb17e707)\n",
       "        ;\n",
       "\n",
       "        \n",
       "    \n",
       "    \n",
       "            var circle_marker_4ae6533dce1080071270b6031466b3bd = L.circleMarker(\n",
       "                [46.6034, 1.8883],\n",
       "                {&quot;bubblingMouseEvents&quot;: true, &quot;color&quot;: &quot;red&quot;, &quot;dashArray&quot;: null, &quot;dashOffset&quot;: null, &quot;fill&quot;: true, &quot;fillColor&quot;: &quot;black&quot;, &quot;fillOpacity&quot;: 0.7, &quot;fillRule&quot;: &quot;evenodd&quot;, &quot;lineCap&quot;: &quot;round&quot;, &quot;lineJoin&quot;: &quot;round&quot;, &quot;opacity&quot;: 1.0, &quot;radius&quot;: 19.82422760159901, &quot;stroke&quot;: true, &quot;weight&quot;: 3}\n",
       "            ).addTo(map_3b07ff33e33ac2836a73bdc846789b71);\n",
       "        \n",
       "    \n",
       "        var popup_0f3c23355a0341466635e8f45a69652a = L.popup({\n",
       "  &quot;maxWidth&quot;: &quot;100%&quot;,\n",
       "  &quot;autoClose&quot;: null,\n",
       "  &quot;closeOnClick&quot;: null,\n",
       "});\n",
       "\n",
       "        \n",
       "            \n",
       "                var html_e9efd39dbac575570a4b562e50b5c1c2 = $(`&lt;div id=&quot;html_e9efd39dbac575570a4b562e50b5c1c2&quot; style=&quot;width: 100.0%; height: 100.0%;&quot;&gt;France: 393 contents&lt;/div&gt;`)[0];\n",
       "                popup_0f3c23355a0341466635e8f45a69652a.setContent(html_e9efd39dbac575570a4b562e50b5c1c2);\n",
       "            \n",
       "        \n",
       "\n",
       "        circle_marker_4ae6533dce1080071270b6031466b3bd.bindPopup(popup_0f3c23355a0341466635e8f45a69652a)\n",
       "        ;\n",
       "\n",
       "        \n",
       "    \n",
       "    \n",
       "            var circle_marker_dda79d144097585e4e102362b99e733d = L.circleMarker(\n",
       "                [36.2048, 138.2529],\n",
       "                {&quot;bubblingMouseEvents&quot;: true, &quot;color&quot;: &quot;red&quot;, &quot;dashArray&quot;: null, &quot;dashOffset&quot;: null, &quot;fill&quot;: true, &quot;fillColor&quot;: &quot;black&quot;, &quot;fillOpacity&quot;: 0.7, &quot;fillRule&quot;: &quot;evenodd&quot;, &quot;lineCap&quot;: &quot;round&quot;, &quot;lineJoin&quot;: &quot;round&quot;, &quot;opacity&quot;: 1.0, &quot;radius&quot;: 17.776388834631177, &quot;stroke&quot;: true, &quot;weight&quot;: 3}\n",
       "            ).addTo(map_3b07ff33e33ac2836a73bdc846789b71);\n",
       "        \n",
       "    \n",
       "        var popup_740c28ef4fa7925619b438b328fd92ee = L.popup({\n",
       "  &quot;maxWidth&quot;: &quot;100%&quot;,\n",
       "  &quot;autoClose&quot;: null,\n",
       "  &quot;closeOnClick&quot;: null,\n",
       "});\n",
       "\n",
       "        \n",
       "            \n",
       "                var html_31a0125cd175e67ffb0c2a49df545f1a = $(`&lt;div id=&quot;html_31a0125cd175e67ffb0c2a49df545f1a&quot; style=&quot;width: 100.0%; height: 100.0%;&quot;&gt;Japan: 316 contents&lt;/div&gt;`)[0];\n",
       "                popup_740c28ef4fa7925619b438b328fd92ee.setContent(html_31a0125cd175e67ffb0c2a49df545f1a);\n",
       "            \n",
       "        \n",
       "\n",
       "        circle_marker_dda79d144097585e4e102362b99e733d.bindPopup(popup_740c28ef4fa7925619b438b328fd92ee)\n",
       "        ;\n",
       "\n",
       "        \n",
       "    \n",
       "    \n",
       "            var circle_marker_46b168119d567f97b878497ae0918bed = L.circleMarker(\n",
       "                [40.4637, -3.7492],\n",
       "                {&quot;bubblingMouseEvents&quot;: true, &quot;color&quot;: &quot;red&quot;, &quot;dashArray&quot;: null, &quot;dashOffset&quot;: null, &quot;fill&quot;: true, &quot;fillColor&quot;: &quot;black&quot;, &quot;fillOpacity&quot;: 0.7, &quot;fillRule&quot;: &quot;evenodd&quot;, &quot;lineCap&quot;: &quot;round&quot;, &quot;lineJoin&quot;: &quot;round&quot;, &quot;opacity&quot;: 1.0, &quot;radius&quot;: 15.231546211727817, &quot;stroke&quot;: true, &quot;weight&quot;: 3}\n",
       "            ).addTo(map_3b07ff33e33ac2836a73bdc846789b71);\n",
       "        \n",
       "    \n",
       "        var popup_a5541d6d923766a979b0757f6a7abcb4 = L.popup({\n",
       "  &quot;maxWidth&quot;: &quot;100%&quot;,\n",
       "  &quot;autoClose&quot;: null,\n",
       "  &quot;closeOnClick&quot;: null,\n",
       "});\n",
       "\n",
       "        \n",
       "            \n",
       "                var html_1e32797c0f30a9c61584ecf6dd4d91ff = $(`&lt;div id=&quot;html_1e32797c0f30a9c61584ecf6dd4d91ff&quot; style=&quot;width: 100.0%; height: 100.0%;&quot;&gt;Spain: 232 contents&lt;/div&gt;`)[0];\n",
       "                popup_a5541d6d923766a979b0757f6a7abcb4.setContent(html_1e32797c0f30a9c61584ecf6dd4d91ff);\n",
       "            \n",
       "        \n",
       "\n",
       "        circle_marker_46b168119d567f97b878497ae0918bed.bindPopup(popup_a5541d6d923766a979b0757f6a7abcb4)\n",
       "        ;\n",
       "\n",
       "        \n",
       "    \n",
       "    \n",
       "            var circle_marker_7c9e8e360f32ba8d262477953b52a670 = L.circleMarker(\n",
       "                [35.9078, 127.7669],\n",
       "                {&quot;bubblingMouseEvents&quot;: true, &quot;color&quot;: &quot;red&quot;, &quot;dashArray&quot;: null, &quot;dashOffset&quot;: null, &quot;fill&quot;: true, &quot;fillColor&quot;: &quot;black&quot;, &quot;fillOpacity&quot;: 0.7, &quot;fillRule&quot;: &quot;evenodd&quot;, &quot;lineCap&quot;: &quot;round&quot;, &quot;lineJoin&quot;: &quot;round&quot;, &quot;opacity&quot;: 1.0, &quot;radius&quot;: 15.198684153570664, &quot;stroke&quot;: true, &quot;weight&quot;: 3}\n",
       "            ).addTo(map_3b07ff33e33ac2836a73bdc846789b71);\n",
       "        \n",
       "    \n",
       "        var popup_a5659342925462f290e3baade8fc7f8e = L.popup({\n",
       "  &quot;maxWidth&quot;: &quot;100%&quot;,\n",
       "  &quot;autoClose&quot;: null,\n",
       "  &quot;closeOnClick&quot;: null,\n",
       "});\n",
       "\n",
       "        \n",
       "            \n",
       "                var html_1a02229fc1da55740e0a159fe5cc12d5 = $(`&lt;div id=&quot;html_1a02229fc1da55740e0a159fe5cc12d5&quot; style=&quot;width: 100.0%; height: 100.0%;&quot;&gt;South Korea: 231 contents&lt;/div&gt;`)[0];\n",
       "                popup_a5659342925462f290e3baade8fc7f8e.setContent(html_1a02229fc1da55740e0a159fe5cc12d5);\n",
       "            \n",
       "        \n",
       "\n",
       "        circle_marker_7c9e8e360f32ba8d262477953b52a670.bindPopup(popup_a5659342925462f290e3baade8fc7f8e)\n",
       "        ;\n",
       "\n",
       "        \n",
       "    \n",
       "    \n",
       "            var circle_marker_3c7a84157223712f60d7eee22a5a852e = L.circleMarker(\n",
       "                [51.1657, 10.4515],\n",
       "                {&quot;bubblingMouseEvents&quot;: true, &quot;color&quot;: &quot;red&quot;, &quot;dashArray&quot;: null, &quot;dashOffset&quot;: null, &quot;fill&quot;: true, &quot;fillColor&quot;: &quot;black&quot;, &quot;fillOpacity&quot;: 0.7, &quot;fillRule&quot;: &quot;evenodd&quot;, &quot;lineCap&quot;: &quot;round&quot;, &quot;lineJoin&quot;: &quot;round&quot;, &quot;opacity&quot;: 1.0, &quot;radius&quot;: 15.033296378372908, &quot;stroke&quot;: true, &quot;weight&quot;: 3}\n",
       "            ).addTo(map_3b07ff33e33ac2836a73bdc846789b71);\n",
       "        \n",
       "    \n",
       "        var popup_28209da23949a330d43613071474121b = L.popup({\n",
       "  &quot;maxWidth&quot;: &quot;100%&quot;,\n",
       "  &quot;autoClose&quot;: null,\n",
       "  &quot;closeOnClick&quot;: null,\n",
       "});\n",
       "\n",
       "        \n",
       "            \n",
       "                var html_a10917675b6a7ca64ec6c7d9d688b652 = $(`&lt;div id=&quot;html_a10917675b6a7ca64ec6c7d9d688b652&quot; style=&quot;width: 100.0%; height: 100.0%;&quot;&gt;Germany: 226 contents&lt;/div&gt;`)[0];\n",
       "                popup_28209da23949a330d43613071474121b.setContent(html_a10917675b6a7ca64ec6c7d9d688b652);\n",
       "            \n",
       "        \n",
       "\n",
       "        circle_marker_3c7a84157223712f60d7eee22a5a852e.bindPopup(popup_28209da23949a330d43613071474121b)\n",
       "        ;\n",
       "\n",
       "        \n",
       "    \n",
       "    \n",
       "            var circle_marker_a7b556dcb89d3384ae93eaec49818ecb = L.circleMarker(\n",
       "                [23.6345, -102.5528],\n",
       "                {&quot;bubblingMouseEvents&quot;: true, &quot;color&quot;: &quot;red&quot;, &quot;dashArray&quot;: null, &quot;dashOffset&quot;: null, &quot;fill&quot;: true, &quot;fillColor&quot;: &quot;black&quot;, &quot;fillOpacity&quot;: 0.7, &quot;fillRule&quot;: &quot;evenodd&quot;, &quot;lineCap&quot;: &quot;round&quot;, &quot;lineJoin&quot;: &quot;round&quot;, &quot;opacity&quot;: 1.0, &quot;radius&quot;: 13.0, &quot;stroke&quot;: true, &quot;weight&quot;: 3}\n",
       "            ).addTo(map_3b07ff33e33ac2836a73bdc846789b71);\n",
       "        \n",
       "    \n",
       "        var popup_acb1cdc531586a68227cbb8e967a1eb8 = L.popup({\n",
       "  &quot;maxWidth&quot;: &quot;100%&quot;,\n",
       "  &quot;autoClose&quot;: null,\n",
       "  &quot;closeOnClick&quot;: null,\n",
       "});\n",
       "\n",
       "        \n",
       "            \n",
       "                var html_ce626abedd1938ce15f26a9157109d5b = $(`&lt;div id=&quot;html_ce626abedd1938ce15f26a9157109d5b&quot; style=&quot;width: 100.0%; height: 100.0%;&quot;&gt;Mexico: 169 contents&lt;/div&gt;`)[0];\n",
       "                popup_acb1cdc531586a68227cbb8e967a1eb8.setContent(html_ce626abedd1938ce15f26a9157109d5b);\n",
       "            \n",
       "        \n",
       "\n",
       "        circle_marker_a7b556dcb89d3384ae93eaec49818ecb.bindPopup(popup_acb1cdc531586a68227cbb8e967a1eb8)\n",
       "        ;\n",
       "\n",
       "        \n",
       "    \n",
       "    \n",
       "            var circle_marker_a4b5eb17c2d55184eddabe8d41d90f1d = L.circleMarker(\n",
       "                [35.8617, 104.1954],\n",
       "                {&quot;bubblingMouseEvents&quot;: true, &quot;color&quot;: &quot;red&quot;, &quot;dashArray&quot;: null, &quot;dashOffset&quot;: null, &quot;fill&quot;: true, &quot;fillColor&quot;: &quot;black&quot;, &quot;fillOpacity&quot;: 0.7, &quot;fillRule&quot;: &quot;evenodd&quot;, &quot;lineCap&quot;: &quot;round&quot;, &quot;lineJoin&quot;: &quot;round&quot;, &quot;opacity&quot;: 1.0, &quot;radius&quot;: 12.727922061357855, &quot;stroke&quot;: true, &quot;weight&quot;: 3}\n",
       "            ).addTo(map_3b07ff33e33ac2836a73bdc846789b71);\n",
       "        \n",
       "    \n",
       "        var popup_fd126baf2238088e36ad550c7f9b2c59 = L.popup({\n",
       "  &quot;maxWidth&quot;: &quot;100%&quot;,\n",
       "  &quot;autoClose&quot;: null,\n",
       "  &quot;closeOnClick&quot;: null,\n",
       "});\n",
       "\n",
       "        \n",
       "            \n",
       "                var html_f6ac84032d7b948670834484d7ee587a = $(`&lt;div id=&quot;html_f6ac84032d7b948670834484d7ee587a&quot; style=&quot;width: 100.0%; height: 100.0%;&quot;&gt;China: 162 contents&lt;/div&gt;`)[0];\n",
       "                popup_fd126baf2238088e36ad550c7f9b2c59.setContent(html_f6ac84032d7b948670834484d7ee587a);\n",
       "            \n",
       "        \n",
       "\n",
       "        circle_marker_a4b5eb17c2d55184eddabe8d41d90f1d.bindPopup(popup_fd126baf2238088e36ad550c7f9b2c59)\n",
       "        ;\n",
       "\n",
       "        \n",
       "    \n",
       "    \n",
       "            var circle_marker_a01e6e7b30915796c20294e9f7d07ad9 = L.circleMarker(\n",
       "                [-25.2744, 133.7751],\n",
       "                {&quot;bubblingMouseEvents&quot;: true, &quot;color&quot;: &quot;red&quot;, &quot;dashArray&quot;: null, &quot;dashOffset&quot;: null, &quot;fill&quot;: true, &quot;fillColor&quot;: &quot;black&quot;, &quot;fillOpacity&quot;: 0.7, &quot;fillRule&quot;: &quot;evenodd&quot;, &quot;lineCap&quot;: &quot;round&quot;, &quot;lineJoin&quot;: &quot;round&quot;, &quot;opacity&quot;: 1.0, &quot;radius&quot;: 12.569805089976535, &quot;stroke&quot;: true, &quot;weight&quot;: 3}\n",
       "            ).addTo(map_3b07ff33e33ac2836a73bdc846789b71);\n",
       "        \n",
       "    \n",
       "        var popup_c72353313ad1888cf2366c6194022afa = L.popup({\n",
       "  &quot;maxWidth&quot;: &quot;100%&quot;,\n",
       "  &quot;autoClose&quot;: null,\n",
       "  &quot;closeOnClick&quot;: null,\n",
       "});\n",
       "\n",
       "        \n",
       "            \n",
       "                var html_f707fa9b6c2ba091ceb47921cc17a1db = $(`&lt;div id=&quot;html_f707fa9b6c2ba091ceb47921cc17a1db&quot; style=&quot;width: 100.0%; height: 100.0%;&quot;&gt;Australia: 158 contents&lt;/div&gt;`)[0];\n",
       "                popup_c72353313ad1888cf2366c6194022afa.setContent(html_f707fa9b6c2ba091ceb47921cc17a1db);\n",
       "            \n",
       "        \n",
       "\n",
       "        circle_marker_a01e6e7b30915796c20294e9f7d07ad9.bindPopup(popup_c72353313ad1888cf2366c6194022afa)\n",
       "        ;\n",
       "\n",
       "        \n",
       "    \n",
       "    \n",
       "            var circle_marker_4ab90c60932602ff694ddc7debbc97b1 = L.circleMarker(\n",
       "                [26.8206, 30.8025],\n",
       "                {&quot;bubblingMouseEvents&quot;: true, &quot;color&quot;: &quot;red&quot;, &quot;dashArray&quot;: null, &quot;dashOffset&quot;: null, &quot;fill&quot;: true, &quot;fillColor&quot;: &quot;black&quot;, &quot;fillOpacity&quot;: 0.7, &quot;fillRule&quot;: &quot;evenodd&quot;, &quot;lineCap&quot;: &quot;round&quot;, &quot;lineJoin&quot;: &quot;round&quot;, &quot;opacity&quot;: 1.0, &quot;radius&quot;: 10.816653826391969, &quot;stroke&quot;: true, &quot;weight&quot;: 3}\n",
       "            ).addTo(map_3b07ff33e33ac2836a73bdc846789b71);\n",
       "        \n",
       "    \n",
       "        var popup_ce7dd56f93989ca21d8234777564c2da = L.popup({\n",
       "  &quot;maxWidth&quot;: &quot;100%&quot;,\n",
       "  &quot;autoClose&quot;: null,\n",
       "  &quot;closeOnClick&quot;: null,\n",
       "});\n",
       "\n",
       "        \n",
       "            \n",
       "                var html_018940533407740e61c208abcea4d7e6 = $(`&lt;div id=&quot;html_018940533407740e61c208abcea4d7e6&quot; style=&quot;width: 100.0%; height: 100.0%;&quot;&gt;Egypt: 117 contents&lt;/div&gt;`)[0];\n",
       "                popup_ce7dd56f93989ca21d8234777564c2da.setContent(html_018940533407740e61c208abcea4d7e6);\n",
       "            \n",
       "        \n",
       "\n",
       "        circle_marker_4ab90c60932602ff694ddc7debbc97b1.bindPopup(popup_ce7dd56f93989ca21d8234777564c2da)\n",
       "        ;\n",
       "\n",
       "        \n",
       "    \n",
       "    \n",
       "            var circle_marker_b8a679bec1e15c3368dfc2b75f8b4602 = L.circleMarker(\n",
       "                [38.9637, 35.2433],\n",
       "                {&quot;bubblingMouseEvents&quot;: true, &quot;color&quot;: &quot;red&quot;, &quot;dashArray&quot;: null, &quot;dashOffset&quot;: null, &quot;fill&quot;: true, &quot;fillColor&quot;: &quot;black&quot;, &quot;fillOpacity&quot;: 0.7, &quot;fillRule&quot;: &quot;evenodd&quot;, &quot;lineCap&quot;: &quot;round&quot;, &quot;lineJoin&quot;: &quot;round&quot;, &quot;opacity&quot;: 1.0, &quot;radius&quot;: 10.63014581273465, &quot;stroke&quot;: true, &quot;weight&quot;: 3}\n",
       "            ).addTo(map_3b07ff33e33ac2836a73bdc846789b71);\n",
       "        \n",
       "    \n",
       "        var popup_603e642b5449410c9ec1ce0476cd94cd = L.popup({\n",
       "  &quot;maxWidth&quot;: &quot;100%&quot;,\n",
       "  &quot;autoClose&quot;: null,\n",
       "  &quot;closeOnClick&quot;: null,\n",
       "});\n",
       "\n",
       "        \n",
       "            \n",
       "                var html_c112ea71adc9bfb52e5fa05370d539ac = $(`&lt;div id=&quot;html_c112ea71adc9bfb52e5fa05370d539ac&quot; style=&quot;width: 100.0%; height: 100.0%;&quot;&gt;Turkey: 113 contents&lt;/div&gt;`)[0];\n",
       "                popup_603e642b5449410c9ec1ce0476cd94cd.setContent(html_c112ea71adc9bfb52e5fa05370d539ac);\n",
       "            \n",
       "        \n",
       "\n",
       "        circle_marker_b8a679bec1e15c3368dfc2b75f8b4602.bindPopup(popup_603e642b5449410c9ec1ce0476cd94cd)\n",
       "        ;\n",
       "\n",
       "        \n",
       "    \n",
       "    \n",
       "            var circle_marker_b391ee16925022c7857daf1fb771c8f1 = L.circleMarker(\n",
       "                [22.3193, 114.1694],\n",
       "                {&quot;bubblingMouseEvents&quot;: true, &quot;color&quot;: &quot;red&quot;, &quot;dashArray&quot;: null, &quot;dashOffset&quot;: null, &quot;fill&quot;: true, &quot;fillColor&quot;: &quot;black&quot;, &quot;fillOpacity&quot;: 0.7, &quot;fillRule&quot;: &quot;evenodd&quot;, &quot;lineCap&quot;: &quot;round&quot;, &quot;lineJoin&quot;: &quot;round&quot;, &quot;opacity&quot;: 1.0, &quot;radius&quot;: 10.246950765959598, &quot;stroke&quot;: true, &quot;weight&quot;: 3}\n",
       "            ).addTo(map_3b07ff33e33ac2836a73bdc846789b71);\n",
       "        \n",
       "    \n",
       "        var popup_8af616ad2012d06a41a7a2ad8805cacb = L.popup({\n",
       "  &quot;maxWidth&quot;: &quot;100%&quot;,\n",
       "  &quot;autoClose&quot;: null,\n",
       "  &quot;closeOnClick&quot;: null,\n",
       "});\n",
       "\n",
       "        \n",
       "            \n",
       "                var html_ad7e67e36f14bc1d9ebaef6b4b62c0c0 = $(`&lt;div id=&quot;html_ad7e67e36f14bc1d9ebaef6b4b62c0c0&quot; style=&quot;width: 100.0%; height: 100.0%;&quot;&gt;Hong Kong: 105 contents&lt;/div&gt;`)[0];\n",
       "                popup_8af616ad2012d06a41a7a2ad8805cacb.setContent(html_ad7e67e36f14bc1d9ebaef6b4b62c0c0);\n",
       "            \n",
       "        \n",
       "\n",
       "        circle_marker_b391ee16925022c7857daf1fb771c8f1.bindPopup(popup_8af616ad2012d06a41a7a2ad8805cacb)\n",
       "        ;\n",
       "\n",
       "        \n",
       "    \n",
       "    \n",
       "            var circle_marker_fa653258e24c07a605cc17225bc4ea30 = L.circleMarker(\n",
       "                [9.082, 8.6753],\n",
       "                {&quot;bubblingMouseEvents&quot;: true, &quot;color&quot;: &quot;red&quot;, &quot;dashArray&quot;: null, &quot;dashOffset&quot;: null, &quot;fill&quot;: true, &quot;fillColor&quot;: &quot;black&quot;, &quot;fillOpacity&quot;: 0.7, &quot;fillRule&quot;: &quot;evenodd&quot;, &quot;lineCap&quot;: &quot;round&quot;, &quot;lineJoin&quot;: &quot;round&quot;, &quot;opacity&quot;: 1.0, &quot;radius&quot;: 10.14889156509222, &quot;stroke&quot;: true, &quot;weight&quot;: 3}\n",
       "            ).addTo(map_3b07ff33e33ac2836a73bdc846789b71);\n",
       "        \n",
       "    \n",
       "        var popup_352999685f96944fd56401e6e5675317 = L.popup({\n",
       "  &quot;maxWidth&quot;: &quot;100%&quot;,\n",
       "  &quot;autoClose&quot;: null,\n",
       "  &quot;closeOnClick&quot;: null,\n",
       "});\n",
       "\n",
       "        \n",
       "            \n",
       "                var html_b20248dc6ae0cef38ebe8523b5061627 = $(`&lt;div id=&quot;html_b20248dc6ae0cef38ebe8523b5061627&quot; style=&quot;width: 100.0%; height: 100.0%;&quot;&gt;Nigeria: 103 contents&lt;/div&gt;`)[0];\n",
       "                popup_352999685f96944fd56401e6e5675317.setContent(html_b20248dc6ae0cef38ebe8523b5061627);\n",
       "            \n",
       "        \n",
       "\n",
       "        circle_marker_fa653258e24c07a605cc17225bc4ea30.bindPopup(popup_352999685f96944fd56401e6e5675317)\n",
       "        ;\n",
       "\n",
       "        \n",
       "    \n",
       "    \n",
       "            var circle_marker_95d276c8601619e9994db86bc2f2c424 = L.circleMarker(\n",
       "                [41.8719, 12.5674],\n",
       "                {&quot;bubblingMouseEvents&quot;: true, &quot;color&quot;: &quot;red&quot;, &quot;dashArray&quot;: null, &quot;dashOffset&quot;: null, &quot;fill&quot;: true, &quot;fillColor&quot;: &quot;black&quot;, &quot;fillOpacity&quot;: 0.7, &quot;fillRule&quot;: &quot;evenodd&quot;, &quot;lineCap&quot;: &quot;round&quot;, &quot;lineJoin&quot;: &quot;round&quot;, &quot;opacity&quot;: 1.0, &quot;radius&quot;: 9.9498743710662, &quot;stroke&quot;: true, &quot;weight&quot;: 3}\n",
       "            ).addTo(map_3b07ff33e33ac2836a73bdc846789b71);\n",
       "        \n",
       "    \n",
       "        var popup_0ac88185c47ac074e62441a68f83ae51 = L.popup({\n",
       "  &quot;maxWidth&quot;: &quot;100%&quot;,\n",
       "  &quot;autoClose&quot;: null,\n",
       "  &quot;closeOnClick&quot;: null,\n",
       "});\n",
       "\n",
       "        \n",
       "            \n",
       "                var html_634bc72bb623425950c8fe781a94e25a = $(`&lt;div id=&quot;html_634bc72bb623425950c8fe781a94e25a&quot; style=&quot;width: 100.0%; height: 100.0%;&quot;&gt;Italy: 99 contents&lt;/div&gt;`)[0];\n",
       "                popup_0ac88185c47ac074e62441a68f83ae51.setContent(html_634bc72bb623425950c8fe781a94e25a);\n",
       "            \n",
       "        \n",
       "\n",
       "        circle_marker_95d276c8601619e9994db86bc2f2c424.bindPopup(popup_0ac88185c47ac074e62441a68f83ae51)\n",
       "        ;\n",
       "\n",
       "        \n",
       "    \n",
       "    \n",
       "            var circle_marker_03f72b0f33062a8bfdc26b48ffa7448a = L.circleMarker(\n",
       "                [-14.235, -51.9253],\n",
       "                {&quot;bubblingMouseEvents&quot;: true, &quot;color&quot;: &quot;red&quot;, &quot;dashArray&quot;: null, &quot;dashOffset&quot;: null, &quot;fill&quot;: true, &quot;fillColor&quot;: &quot;black&quot;, &quot;fillOpacity&quot;: 0.7, &quot;fillRule&quot;: &quot;evenodd&quot;, &quot;lineCap&quot;: &quot;round&quot;, &quot;lineJoin&quot;: &quot;round&quot;, &quot;opacity&quot;: 1.0, &quot;radius&quot;: 9.848857801796104, &quot;stroke&quot;: true, &quot;weight&quot;: 3}\n",
       "            ).addTo(map_3b07ff33e33ac2836a73bdc846789b71);\n",
       "        \n",
       "    \n",
       "        var popup_a853a22e83f3b7b54113b407b5605d55 = L.popup({\n",
       "  &quot;maxWidth&quot;: &quot;100%&quot;,\n",
       "  &quot;autoClose&quot;: null,\n",
       "  &quot;closeOnClick&quot;: null,\n",
       "});\n",
       "\n",
       "        \n",
       "            \n",
       "                var html_a062b78e029260fa3c987f29e95854b2 = $(`&lt;div id=&quot;html_a062b78e029260fa3c987f29e95854b2&quot; style=&quot;width: 100.0%; height: 100.0%;&quot;&gt;Brazil: 97 contents&lt;/div&gt;`)[0];\n",
       "                popup_a853a22e83f3b7b54113b407b5605d55.setContent(html_a062b78e029260fa3c987f29e95854b2);\n",
       "            \n",
       "        \n",
       "\n",
       "        circle_marker_03f72b0f33062a8bfdc26b48ffa7448a.bindPopup(popup_a853a22e83f3b7b54113b407b5605d55)\n",
       "        ;\n",
       "\n",
       "        \n",
       "    \n",
       "    \n",
       "            var circle_marker_ec4b8446263f03d0a70b1865ec35d0a0 = L.circleMarker(\n",
       "                [-38.4161, -63.6167],\n",
       "                {&quot;bubblingMouseEvents&quot;: true, &quot;color&quot;: &quot;red&quot;, &quot;dashArray&quot;: null, &quot;dashOffset&quot;: null, &quot;fill&quot;: true, &quot;fillColor&quot;: &quot;black&quot;, &quot;fillOpacity&quot;: 0.7, &quot;fillRule&quot;: &quot;evenodd&quot;, &quot;lineCap&quot;: &quot;round&quot;, &quot;lineJoin&quot;: &quot;round&quot;, &quot;opacity&quot;: 1.0, &quot;radius&quot;: 9.539392014169456, &quot;stroke&quot;: true, &quot;weight&quot;: 3}\n",
       "            ).addTo(map_3b07ff33e33ac2836a73bdc846789b71);\n",
       "        \n",
       "    \n",
       "        var popup_b4b9e0cefc0642a6c5ce74d80c050a3b = L.popup({\n",
       "  &quot;maxWidth&quot;: &quot;100%&quot;,\n",
       "  &quot;autoClose&quot;: null,\n",
       "  &quot;closeOnClick&quot;: null,\n",
       "});\n",
       "\n",
       "        \n",
       "            \n",
       "                var html_f30c173e9c86c0c33bcfbf568dca8bb8 = $(`&lt;div id=&quot;html_f30c173e9c86c0c33bcfbf568dca8bb8&quot; style=&quot;width: 100.0%; height: 100.0%;&quot;&gt;Argentina: 91 contents&lt;/div&gt;`)[0];\n",
       "                popup_b4b9e0cefc0642a6c5ce74d80c050a3b.setContent(html_f30c173e9c86c0c33bcfbf568dca8bb8);\n",
       "            \n",
       "        \n",
       "\n",
       "        circle_marker_ec4b8446263f03d0a70b1865ec35d0a0.bindPopup(popup_b4b9e0cefc0642a6c5ce74d80c050a3b)\n",
       "        ;\n",
       "\n",
       "        \n",
       "    \n",
       "    \n",
       "            var circle_marker_7079f00f309009438830561a4238c03d = L.circleMarker(\n",
       "                [-0.7893, 113.9213],\n",
       "                {&quot;bubblingMouseEvents&quot;: true, &quot;color&quot;: &quot;red&quot;, &quot;dashArray&quot;: null, &quot;dashOffset&quot;: null, &quot;fill&quot;: true, &quot;fillColor&quot;: &quot;black&quot;, &quot;fillOpacity&quot;: 0.7, &quot;fillRule&quot;: &quot;evenodd&quot;, &quot;lineCap&quot;: &quot;round&quot;, &quot;lineJoin&quot;: &quot;round&quot;, &quot;opacity&quot;: 1.0, &quot;radius&quot;: 9.486832980505138, &quot;stroke&quot;: true, &quot;weight&quot;: 3}\n",
       "            ).addTo(map_3b07ff33e33ac2836a73bdc846789b71);\n",
       "        \n",
       "    \n",
       "        var popup_4b78362dde9839912191ea709bba42e0 = L.popup({\n",
       "  &quot;maxWidth&quot;: &quot;100%&quot;,\n",
       "  &quot;autoClose&quot;: null,\n",
       "  &quot;closeOnClick&quot;: null,\n",
       "});\n",
       "\n",
       "        \n",
       "            \n",
       "                var html_eea0eb46a591098dced98bbf5e7afdec = $(`&lt;div id=&quot;html_eea0eb46a591098dced98bbf5e7afdec&quot; style=&quot;width: 100.0%; height: 100.0%;&quot;&gt;Indonesia: 90 contents&lt;/div&gt;`)[0];\n",
       "                popup_4b78362dde9839912191ea709bba42e0.setContent(html_eea0eb46a591098dced98bbf5e7afdec);\n",
       "            \n",
       "        \n",
       "\n",
       "        circle_marker_7079f00f309009438830561a4238c03d.bindPopup(popup_4b78362dde9839912191ea709bba42e0)\n",
       "        ;\n",
       "\n",
       "        \n",
       "    \n",
       "    \n",
       "            var circle_marker_03ab18149381f2faefb9ef094ba9bf05 = L.circleMarker(\n",
       "                [50.5039, 4.4699],\n",
       "                {&quot;bubblingMouseEvents&quot;: true, &quot;color&quot;: &quot;red&quot;, &quot;dashArray&quot;: null, &quot;dashOffset&quot;: null, &quot;fill&quot;: true, &quot;fillColor&quot;: &quot;black&quot;, &quot;fillOpacity&quot;: 0.7, &quot;fillRule&quot;: &quot;evenodd&quot;, &quot;lineCap&quot;: &quot;round&quot;, &quot;lineJoin&quot;: &quot;round&quot;, &quot;opacity&quot;: 1.0, &quot;radius&quot;: 9.486832980505138, &quot;stroke&quot;: true, &quot;weight&quot;: 3}\n",
       "            ).addTo(map_3b07ff33e33ac2836a73bdc846789b71);\n",
       "        \n",
       "    \n",
       "        var popup_5ff0324b6b6f3e3ae2de68fc0ebc89ba = L.popup({\n",
       "  &quot;maxWidth&quot;: &quot;100%&quot;,\n",
       "  &quot;autoClose&quot;: null,\n",
       "  &quot;closeOnClick&quot;: null,\n",
       "});\n",
       "\n",
       "        \n",
       "            \n",
       "                var html_35d12b39fdea5b94a476c54d918543b6 = $(`&lt;div id=&quot;html_35d12b39fdea5b94a476c54d918543b6&quot; style=&quot;width: 100.0%; height: 100.0%;&quot;&gt;Belgium: 90 contents&lt;/div&gt;`)[0];\n",
       "                popup_5ff0324b6b6f3e3ae2de68fc0ebc89ba.setContent(html_35d12b39fdea5b94a476c54d918543b6);\n",
       "            \n",
       "        \n",
       "\n",
       "        circle_marker_03ab18149381f2faefb9ef094ba9bf05.bindPopup(popup_5ff0324b6b6f3e3ae2de68fc0ebc89ba)\n",
       "        ;\n",
       "\n",
       "        \n",
       "    \n",
       "    \n",
       "            var circle_marker_024402426103c8769e57512a9178cccd = L.circleMarker(\n",
       "                [23.6978, 120.9605],\n",
       "                {&quot;bubblingMouseEvents&quot;: true, &quot;color&quot;: &quot;red&quot;, &quot;dashArray&quot;: null, &quot;dashOffset&quot;: null, &quot;fill&quot;: true, &quot;fillColor&quot;: &quot;black&quot;, &quot;fillOpacity&quot;: 0.7, &quot;fillRule&quot;: &quot;evenodd&quot;, &quot;lineCap&quot;: &quot;round&quot;, &quot;lineJoin&quot;: &quot;round&quot;, &quot;opacity&quot;: 1.0, &quot;radius&quot;: 9.433981132056603, &quot;stroke&quot;: true, &quot;weight&quot;: 3}\n",
       "            ).addTo(map_3b07ff33e33ac2836a73bdc846789b71);\n",
       "        \n",
       "    \n",
       "        var popup_af1444a466b70aa543b1d55ead04b717 = L.popup({\n",
       "  &quot;maxWidth&quot;: &quot;100%&quot;,\n",
       "  &quot;autoClose&quot;: null,\n",
       "  &quot;closeOnClick&quot;: null,\n",
       "});\n",
       "\n",
       "        \n",
       "            \n",
       "                var html_dd4650b6d6e1b0f75d6398676829d237 = $(`&lt;div id=&quot;html_dd4650b6d6e1b0f75d6398676829d237&quot; style=&quot;width: 100.0%; height: 100.0%;&quot;&gt;Taiwan: 89 contents&lt;/div&gt;`)[0];\n",
       "                popup_af1444a466b70aa543b1d55ead04b717.setContent(html_dd4650b6d6e1b0f75d6398676829d237);\n",
       "            \n",
       "        \n",
       "\n",
       "        circle_marker_024402426103c8769e57512a9178cccd.bindPopup(popup_af1444a466b70aa543b1d55ead04b717)\n",
       "        ;\n",
       "\n",
       "        \n",
       "    \n",
       "    \n",
       "            var circle_marker_f8d60b65d9037fa9a66618888c17ccab = L.circleMarker(\n",
       "                [12.8797, 121.774],\n",
       "                {&quot;bubblingMouseEvents&quot;: true, &quot;color&quot;: &quot;red&quot;, &quot;dashArray&quot;: null, &quot;dashOffset&quot;: null, &quot;fill&quot;: true, &quot;fillColor&quot;: &quot;black&quot;, &quot;fillOpacity&quot;: 0.7, &quot;fillRule&quot;: &quot;evenodd&quot;, &quot;lineCap&quot;: &quot;round&quot;, &quot;lineJoin&quot;: &quot;round&quot;, &quot;opacity&quot;: 1.0, &quot;radius&quot;: 9.1104335791443, &quot;stroke&quot;: true, &quot;weight&quot;: 3}\n",
       "            ).addTo(map_3b07ff33e33ac2836a73bdc846789b71);\n",
       "        \n",
       "    \n",
       "        var popup_00025e3b04c703497a41f984f3289929 = L.popup({\n",
       "  &quot;maxWidth&quot;: &quot;100%&quot;,\n",
       "  &quot;autoClose&quot;: null,\n",
       "  &quot;closeOnClick&quot;: null,\n",
       "});\n",
       "\n",
       "        \n",
       "            \n",
       "                var html_4670c9898a6307afc9a87bd9889711ea = $(`&lt;div id=&quot;html_4670c9898a6307afc9a87bd9889711ea&quot; style=&quot;width: 100.0%; height: 100.0%;&quot;&gt;Philippines: 83 contents&lt;/div&gt;`)[0];\n",
       "                popup_00025e3b04c703497a41f984f3289929.setContent(html_4670c9898a6307afc9a87bd9889711ea);\n",
       "            \n",
       "        \n",
       "\n",
       "        circle_marker_f8d60b65d9037fa9a66618888c17ccab.bindPopup(popup_00025e3b04c703497a41f984f3289929)\n",
       "        ;\n",
       "\n",
       "        \n",
       "    \n",
       "    \n",
       "            var circle_marker_ee3a371a9157467000f330b7f4ac3f8f = L.circleMarker(\n",
       "                [15.87, 100.9925],\n",
       "                {&quot;bubblingMouseEvents&quot;: true, &quot;color&quot;: &quot;red&quot;, &quot;dashArray&quot;: null, &quot;dashOffset&quot;: null, &quot;fill&quot;: true, &quot;fillColor&quot;: &quot;black&quot;, &quot;fillOpacity&quot;: 0.7, &quot;fillRule&quot;: &quot;evenodd&quot;, &quot;lineCap&quot;: &quot;round&quot;, &quot;lineJoin&quot;: &quot;round&quot;, &quot;opacity&quot;: 1.0, &quot;radius&quot;: 8.366600265340756, &quot;stroke&quot;: true, &quot;weight&quot;: 3}\n",
       "            ).addTo(map_3b07ff33e33ac2836a73bdc846789b71);\n",
       "        \n",
       "    \n",
       "        var popup_f3e773b470e2dd94d7ab4fe21cdf5aa8 = L.popup({\n",
       "  &quot;maxWidth&quot;: &quot;100%&quot;,\n",
       "  &quot;autoClose&quot;: null,\n",
       "  &quot;closeOnClick&quot;: null,\n",
       "});\n",
       "\n",
       "        \n",
       "            \n",
       "                var html_d37a10edecae3e17bf172f1716131e18 = $(`&lt;div id=&quot;html_d37a10edecae3e17bf172f1716131e18&quot; style=&quot;width: 100.0%; height: 100.0%;&quot;&gt;Thailand: 70 contents&lt;/div&gt;`)[0];\n",
       "                popup_f3e773b470e2dd94d7ab4fe21cdf5aa8.setContent(html_d37a10edecae3e17bf172f1716131e18);\n",
       "            \n",
       "        \n",
       "\n",
       "        circle_marker_ee3a371a9157467000f330b7f4ac3f8f.bindPopup(popup_f3e773b470e2dd94d7ab4fe21cdf5aa8)\n",
       "        ;\n",
       "\n",
       "        \n",
       "    \n",
       "    \n",
       "            var circle_marker_99fa9899e0cc1f8abc289c4ec49212df = L.circleMarker(\n",
       "                [-30.5595, 22.9375],\n",
       "                {&quot;bubblingMouseEvents&quot;: true, &quot;color&quot;: &quot;red&quot;, &quot;dashArray&quot;: null, &quot;dashOffset&quot;: null, &quot;fill&quot;: true, &quot;fillColor&quot;: &quot;black&quot;, &quot;fillOpacity&quot;: 0.7, &quot;fillRule&quot;: &quot;evenodd&quot;, &quot;lineCap&quot;: &quot;round&quot;, &quot;lineJoin&quot;: &quot;round&quot;, &quot;opacity&quot;: 1.0, &quot;radius&quot;: 7.874007874011811, &quot;stroke&quot;: true, &quot;weight&quot;: 3}\n",
       "            ).addTo(map_3b07ff33e33ac2836a73bdc846789b71);\n",
       "        \n",
       "    \n",
       "        var popup_d8bd498d1994092141b9a8d57a93b5f3 = L.popup({\n",
       "  &quot;maxWidth&quot;: &quot;100%&quot;,\n",
       "  &quot;autoClose&quot;: null,\n",
       "  &quot;closeOnClick&quot;: null,\n",
       "});\n",
       "\n",
       "        \n",
       "            \n",
       "                var html_7e2fa0198992f8afdf5fe804c248d4cf = $(`&lt;div id=&quot;html_7e2fa0198992f8afdf5fe804c248d4cf&quot; style=&quot;width: 100.0%; height: 100.0%;&quot;&gt;South Africa: 62 contents&lt;/div&gt;`)[0];\n",
       "                popup_d8bd498d1994092141b9a8d57a93b5f3.setContent(html_7e2fa0198992f8afdf5fe804c248d4cf);\n",
       "            \n",
       "        \n",
       "\n",
       "        circle_marker_99fa9899e0cc1f8abc289c4ec49212df.bindPopup(popup_d8bd498d1994092141b9a8d57a93b5f3)\n",
       "        ;\n",
       "\n",
       "        \n",
       "    \n",
       "    \n",
       "            var circle_marker_3b2a669bb265b2ba0c080992a74a1ab6 = L.circleMarker(\n",
       "                [4.5709, -74.2973],\n",
       "                {&quot;bubblingMouseEvents&quot;: true, &quot;color&quot;: &quot;red&quot;, &quot;dashArray&quot;: null, &quot;dashOffset&quot;: null, &quot;fill&quot;: true, &quot;fillColor&quot;: &quot;black&quot;, &quot;fillOpacity&quot;: 0.7, &quot;fillRule&quot;: &quot;evenodd&quot;, &quot;lineCap&quot;: &quot;round&quot;, &quot;lineJoin&quot;: &quot;round&quot;, &quot;opacity&quot;: 1.0, &quot;radius&quot;: 7.211102550927978, &quot;stroke&quot;: true, &quot;weight&quot;: 3}\n",
       "            ).addTo(map_3b07ff33e33ac2836a73bdc846789b71);\n",
       "        \n",
       "    \n",
       "        var popup_63b0ffb7a32826ad77e454afdcc710a4 = L.popup({\n",
       "  &quot;maxWidth&quot;: &quot;100%&quot;,\n",
       "  &quot;autoClose&quot;: null,\n",
       "  &quot;closeOnClick&quot;: null,\n",
       "});\n",
       "\n",
       "        \n",
       "            \n",
       "                var html_c0a0afa27b2640cd330ed263a951d95f = $(`&lt;div id=&quot;html_c0a0afa27b2640cd330ed263a951d95f&quot; style=&quot;width: 100.0%; height: 100.0%;&quot;&gt;Colombia: 52 contents&lt;/div&gt;`)[0];\n",
       "                popup_63b0ffb7a32826ad77e454afdcc710a4.setContent(html_c0a0afa27b2640cd330ed263a951d95f);\n",
       "            \n",
       "        \n",
       "\n",
       "        circle_marker_3b2a669bb265b2ba0c080992a74a1ab6.bindPopup(popup_63b0ffb7a32826ad77e454afdcc710a4)\n",
       "        ;\n",
       "\n",
       "        \n",
       "    \n",
       "    \n",
       "            var circle_marker_a9290c36ae40e145a5c1b49b7c252627 = L.circleMarker(\n",
       "                [52.1326, 5.2913],\n",
       "                {&quot;bubblingMouseEvents&quot;: true, &quot;color&quot;: &quot;red&quot;, &quot;dashArray&quot;: null, &quot;dashOffset&quot;: null, &quot;fill&quot;: true, &quot;fillColor&quot;: &quot;black&quot;, &quot;fillOpacity&quot;: 0.7, &quot;fillRule&quot;: &quot;evenodd&quot;, &quot;lineCap&quot;: &quot;round&quot;, &quot;lineJoin&quot;: &quot;round&quot;, &quot;opacity&quot;: 1.0, &quot;radius&quot;: 7.0710678118654755, &quot;stroke&quot;: true, &quot;weight&quot;: 3}\n",
       "            ).addTo(map_3b07ff33e33ac2836a73bdc846789b71);\n",
       "        \n",
       "    \n",
       "        var popup_0c08394d73eb2c457e2f228ed75a0f50 = L.popup({\n",
       "  &quot;maxWidth&quot;: &quot;100%&quot;,\n",
       "  &quot;autoClose&quot;: null,\n",
       "  &quot;closeOnClick&quot;: null,\n",
       "});\n",
       "\n",
       "        \n",
       "            \n",
       "                var html_d9dcef524c9390bd702db165237aef4f = $(`&lt;div id=&quot;html_d9dcef524c9390bd702db165237aef4f&quot; style=&quot;width: 100.0%; height: 100.0%;&quot;&gt;Netherlands: 50 contents&lt;/div&gt;`)[0];\n",
       "                popup_0c08394d73eb2c457e2f228ed75a0f50.setContent(html_d9dcef524c9390bd702db165237aef4f);\n",
       "            \n",
       "        \n",
       "\n",
       "        circle_marker_a9290c36ae40e145a5c1b49b7c252627.bindPopup(popup_0c08394d73eb2c457e2f228ed75a0f50)\n",
       "        ;\n",
       "\n",
       "        \n",
       "    \n",
       "    \n",
       "            var circle_marker_e16b15c6f7902bfbf22b097e6254903f = L.circleMarker(\n",
       "                [56.2639, 9.5018],\n",
       "                {&quot;bubblingMouseEvents&quot;: true, &quot;color&quot;: &quot;red&quot;, &quot;dashArray&quot;: null, &quot;dashOffset&quot;: null, &quot;fill&quot;: true, &quot;fillColor&quot;: &quot;black&quot;, &quot;fillOpacity&quot;: 0.7, &quot;fillRule&quot;: &quot;evenodd&quot;, &quot;lineCap&quot;: &quot;round&quot;, &quot;lineJoin&quot;: &quot;round&quot;, &quot;opacity&quot;: 1.0, &quot;radius&quot;: 6.928203230275509, &quot;stroke&quot;: true, &quot;weight&quot;: 3}\n",
       "            ).addTo(map_3b07ff33e33ac2836a73bdc846789b71);\n",
       "        \n",
       "    \n",
       "        var popup_9a5ee96abd679bd7ea2dfdfc055410d1 = L.popup({\n",
       "  &quot;maxWidth&quot;: &quot;100%&quot;,\n",
       "  &quot;autoClose&quot;: null,\n",
       "  &quot;closeOnClick&quot;: null,\n",
       "});\n",
       "\n",
       "        \n",
       "            \n",
       "                var html_a90b89fa6faf449fbb4f9ef49e0d4aeb = $(`&lt;div id=&quot;html_a90b89fa6faf449fbb4f9ef49e0d4aeb&quot; style=&quot;width: 100.0%; height: 100.0%;&quot;&gt;Denmark: 48 contents&lt;/div&gt;`)[0];\n",
       "                popup_9a5ee96abd679bd7ea2dfdfc055410d1.setContent(html_a90b89fa6faf449fbb4f9ef49e0d4aeb);\n",
       "            \n",
       "        \n",
       "\n",
       "        circle_marker_e16b15c6f7902bfbf22b097e6254903f.bindPopup(popup_9a5ee96abd679bd7ea2dfdfc055410d1)\n",
       "        ;\n",
       "\n",
       "        \n",
       "    \n",
       "    \n",
       "            var circle_marker_19037b04d95554f34383a5f8edf70876 = L.circleMarker(\n",
       "                [53.4129, -8.2439],\n",
       "                {&quot;bubblingMouseEvents&quot;: true, &quot;color&quot;: &quot;red&quot;, &quot;dashArray&quot;: null, &quot;dashOffset&quot;: null, &quot;fill&quot;: true, &quot;fillColor&quot;: &quot;black&quot;, &quot;fillOpacity&quot;: 0.7, &quot;fillRule&quot;: &quot;evenodd&quot;, &quot;lineCap&quot;: &quot;round&quot;, &quot;lineJoin&quot;: &quot;round&quot;, &quot;opacity&quot;: 1.0, &quot;radius&quot;: 6.782329983125268, &quot;stroke&quot;: true, &quot;weight&quot;: 3}\n",
       "            ).addTo(map_3b07ff33e33ac2836a73bdc846789b71);\n",
       "        \n",
       "    \n",
       "        var popup_e2503d265beb048f47af4f41ca323438 = L.popup({\n",
       "  &quot;maxWidth&quot;: &quot;100%&quot;,\n",
       "  &quot;autoClose&quot;: null,\n",
       "  &quot;closeOnClick&quot;: null,\n",
       "});\n",
       "\n",
       "        \n",
       "            \n",
       "                var html_6da23cdc01c77298a91a356413131958 = $(`&lt;div id=&quot;html_6da23cdc01c77298a91a356413131958&quot; style=&quot;width: 100.0%; height: 100.0%;&quot;&gt;Ireland: 46 contents&lt;/div&gt;`)[0];\n",
       "                popup_e2503d265beb048f47af4f41ca323438.setContent(html_6da23cdc01c77298a91a356413131958);\n",
       "            \n",
       "        \n",
       "\n",
       "        circle_marker_19037b04d95554f34383a5f8edf70876.bindPopup(popup_e2503d265beb048f47af4f41ca323438)\n",
       "        ;\n",
       "\n",
       "        \n",
       "    \n",
       "    \n",
       "            var circle_marker_60d8d1e6cb1013473829495ebf4ed7c3 = L.circleMarker(\n",
       "                [60.1282, 18.6435],\n",
       "                {&quot;bubblingMouseEvents&quot;: true, &quot;color&quot;: &quot;red&quot;, &quot;dashArray&quot;: null, &quot;dashOffset&quot;: null, &quot;fill&quot;: true, &quot;fillColor&quot;: &quot;black&quot;, &quot;fillOpacity&quot;: 0.7, &quot;fillRule&quot;: &quot;evenodd&quot;, &quot;lineCap&quot;: &quot;round&quot;, &quot;lineJoin&quot;: &quot;round&quot;, &quot;opacity&quot;: 1.0, &quot;radius&quot;: 6.48074069840786, &quot;stroke&quot;: true, &quot;weight&quot;: 3}\n",
       "            ).addTo(map_3b07ff33e33ac2836a73bdc846789b71);\n",
       "        \n",
       "    \n",
       "        var popup_b15e7b9d3f86bc824fa8a3161dad141f = L.popup({\n",
       "  &quot;maxWidth&quot;: &quot;100%&quot;,\n",
       "  &quot;autoClose&quot;: null,\n",
       "  &quot;closeOnClick&quot;: null,\n",
       "});\n",
       "\n",
       "        \n",
       "            \n",
       "                var html_39eb4eef42e3b4f9eb88d90a780d6d1f = $(`&lt;div id=&quot;html_39eb4eef42e3b4f9eb88d90a780d6d1f&quot; style=&quot;width: 100.0%; height: 100.0%;&quot;&gt;Sweden: 42 contents&lt;/div&gt;`)[0];\n",
       "                popup_b15e7b9d3f86bc824fa8a3161dad141f.setContent(html_39eb4eef42e3b4f9eb88d90a780d6d1f);\n",
       "            \n",
       "        \n",
       "\n",
       "        circle_marker_60d8d1e6cb1013473829495ebf4ed7c3.bindPopup(popup_b15e7b9d3f86bc824fa8a3161dad141f)\n",
       "        ;\n",
       "\n",
       "        \n",
       "    \n",
       "    \n",
       "            var circle_marker_251ba20d7270c2b9244af7d25cf17df2 = L.circleMarker(\n",
       "                [1.3521, 103.8198],\n",
       "                {&quot;bubblingMouseEvents&quot;: true, &quot;color&quot;: &quot;red&quot;, &quot;dashArray&quot;: null, &quot;dashOffset&quot;: null, &quot;fill&quot;: true, &quot;fillColor&quot;: &quot;black&quot;, &quot;fillOpacity&quot;: 0.7, &quot;fillRule&quot;: &quot;evenodd&quot;, &quot;lineCap&quot;: &quot;round&quot;, &quot;lineJoin&quot;: &quot;round&quot;, &quot;opacity&quot;: 1.0, &quot;radius&quot;: 6.4031242374328485, &quot;stroke&quot;: true, &quot;weight&quot;: 3}\n",
       "            ).addTo(map_3b07ff33e33ac2836a73bdc846789b71);\n",
       "        \n",
       "    \n",
       "        var popup_14bbe4ba07eedb1dfbbb3b12823b0691 = L.popup({\n",
       "  &quot;maxWidth&quot;: &quot;100%&quot;,\n",
       "  &quot;autoClose&quot;: null,\n",
       "  &quot;closeOnClick&quot;: null,\n",
       "});\n",
       "\n",
       "        \n",
       "            \n",
       "                var html_0e9cf164e006b549a13a393f1acd42d7 = $(`&lt;div id=&quot;html_0e9cf164e006b549a13a393f1acd42d7&quot; style=&quot;width: 100.0%; height: 100.0%;&quot;&gt;Singapore: 41 contents&lt;/div&gt;`)[0];\n",
       "                popup_14bbe4ba07eedb1dfbbb3b12823b0691.setContent(html_0e9cf164e006b549a13a393f1acd42d7);\n",
       "            \n",
       "        \n",
       "\n",
       "        circle_marker_251ba20d7270c2b9244af7d25cf17df2.bindPopup(popup_14bbe4ba07eedb1dfbbb3b12823b0691)\n",
       "        ;\n",
       "\n",
       "        \n",
       "    \n",
       "    \n",
       "            var circle_marker_3182ab281cbeb978b3a4c5dcfde00f08 = L.circleMarker(\n",
       "                [51.9194, 19.1451],\n",
       "                {&quot;bubblingMouseEvents&quot;: true, &quot;color&quot;: &quot;red&quot;, &quot;dashArray&quot;: null, &quot;dashOffset&quot;: null, &quot;fill&quot;: true, &quot;fillColor&quot;: &quot;black&quot;, &quot;fillOpacity&quot;: 0.7, &quot;fillRule&quot;: &quot;evenodd&quot;, &quot;lineCap&quot;: &quot;round&quot;, &quot;lineJoin&quot;: &quot;round&quot;, &quot;opacity&quot;: 1.0, &quot;radius&quot;: 6.324555320336759, &quot;stroke&quot;: true, &quot;weight&quot;: 3}\n",
       "            ).addTo(map_3b07ff33e33ac2836a73bdc846789b71);\n",
       "        \n",
       "    \n",
       "        var popup_0c1f0e2621c80ad780e51a6cc099f712 = L.popup({\n",
       "  &quot;maxWidth&quot;: &quot;100%&quot;,\n",
       "  &quot;autoClose&quot;: null,\n",
       "  &quot;closeOnClick&quot;: null,\n",
       "});\n",
       "\n",
       "        \n",
       "            \n",
       "                var html_ea2056469ab6ec6477b0e9dc202101e7 = $(`&lt;div id=&quot;html_ea2056469ab6ec6477b0e9dc202101e7&quot; style=&quot;width: 100.0%; height: 100.0%;&quot;&gt;Poland: 40 contents&lt;/div&gt;`)[0];\n",
       "                popup_0c1f0e2621c80ad780e51a6cc099f712.setContent(html_ea2056469ab6ec6477b0e9dc202101e7);\n",
       "            \n",
       "        \n",
       "\n",
       "        circle_marker_3182ab281cbeb978b3a4c5dcfde00f08.bindPopup(popup_0c1f0e2621c80ad780e51a6cc099f712)\n",
       "        ;\n",
       "\n",
       "        \n",
       "    \n",
       "    \n",
       "            var circle_marker_80d98e2b2543f27747fc126479272e96 = L.circleMarker(\n",
       "                [23.4241, 53.8478],\n",
       "                {&quot;bubblingMouseEvents&quot;: true, &quot;color&quot;: &quot;red&quot;, &quot;dashArray&quot;: null, &quot;dashOffset&quot;: null, &quot;fill&quot;: true, &quot;fillColor&quot;: &quot;black&quot;, &quot;fillOpacity&quot;: 0.7, &quot;fillRule&quot;: &quot;evenodd&quot;, &quot;lineCap&quot;: &quot;round&quot;, &quot;lineJoin&quot;: &quot;round&quot;, &quot;opacity&quot;: 1.0, &quot;radius&quot;: 6.082762530298219, &quot;stroke&quot;: true, &quot;weight&quot;: 3}\n",
       "            ).addTo(map_3b07ff33e33ac2836a73bdc846789b71);\n",
       "        \n",
       "    \n",
       "        var popup_ad15d10f00b743261c77bf3d3fb30188 = L.popup({\n",
       "  &quot;maxWidth&quot;: &quot;100%&quot;,\n",
       "  &quot;autoClose&quot;: null,\n",
       "  &quot;closeOnClick&quot;: null,\n",
       "});\n",
       "\n",
       "        \n",
       "            \n",
       "                var html_102d552843e86c3912ac8921418f8a33 = $(`&lt;div id=&quot;html_102d552843e86c3912ac8921418f8a33&quot; style=&quot;width: 100.0%; height: 100.0%;&quot;&gt;United Arab Emirates: 37 contents&lt;/div&gt;`)[0];\n",
       "                popup_ad15d10f00b743261c77bf3d3fb30188.setContent(html_102d552843e86c3912ac8921418f8a33);\n",
       "            \n",
       "        \n",
       "\n",
       "        circle_marker_80d98e2b2543f27747fc126479272e96.bindPopup(popup_ad15d10f00b743261c77bf3d3fb30188)\n",
       "        ;\n",
       "\n",
       "        \n",
       "    \n",
       "    \n",
       "            var circle_marker_31b4abc80010159636c099657e40d8ad = L.circleMarker(\n",
       "                [-40.9006, 174.886],\n",
       "                {&quot;bubblingMouseEvents&quot;: true, &quot;color&quot;: &quot;red&quot;, &quot;dashArray&quot;: null, &quot;dashOffset&quot;: null, &quot;fill&quot;: true, &quot;fillColor&quot;: &quot;black&quot;, &quot;fillOpacity&quot;: 0.7, &quot;fillRule&quot;: &quot;evenodd&quot;, &quot;lineCap&quot;: &quot;round&quot;, &quot;lineJoin&quot;: &quot;round&quot;, &quot;opacity&quot;: 1.0, &quot;radius&quot;: 5.744562646538029, &quot;stroke&quot;: true, &quot;weight&quot;: 3}\n",
       "            ).addTo(map_3b07ff33e33ac2836a73bdc846789b71);\n",
       "        \n",
       "    \n",
       "        var popup_d0654ea0b23f592ec80bbabef07ebe1a = L.popup({\n",
       "  &quot;maxWidth&quot;: &quot;100%&quot;,\n",
       "  &quot;autoClose&quot;: null,\n",
       "  &quot;closeOnClick&quot;: null,\n",
       "});\n",
       "\n",
       "        \n",
       "            \n",
       "                var html_15df96b7027947809202fccf0c51cb3e = $(`&lt;div id=&quot;html_15df96b7027947809202fccf0c51cb3e&quot; style=&quot;width: 100.0%; height: 100.0%;&quot;&gt;New Zealand: 33 contents&lt;/div&gt;`)[0];\n",
       "                popup_d0654ea0b23f592ec80bbabef07ebe1a.setContent(html_15df96b7027947809202fccf0c51cb3e);\n",
       "            \n",
       "        \n",
       "\n",
       "        circle_marker_31b4abc80010159636c099657e40d8ad.bindPopup(popup_d0654ea0b23f592ec80bbabef07ebe1a)\n",
       "        ;\n",
       "\n",
       "        \n",
       "    \n",
       "    \n",
       "            var circle_marker_41c79d54f2ee5158c16cf13fb86ae6b8 = L.circleMarker(\n",
       "                [33.8547, 35.8623],\n",
       "                {&quot;bubblingMouseEvents&quot;: true, &quot;color&quot;: &quot;red&quot;, &quot;dashArray&quot;: null, &quot;dashOffset&quot;: null, &quot;fill&quot;: true, &quot;fillColor&quot;: &quot;black&quot;, &quot;fillOpacity&quot;: 0.7, &quot;fillRule&quot;: &quot;evenodd&quot;, &quot;lineCap&quot;: &quot;round&quot;, &quot;lineJoin&quot;: &quot;round&quot;, &quot;opacity&quot;: 1.0, &quot;radius&quot;: 5.5677643628300215, &quot;stroke&quot;: true, &quot;weight&quot;: 3}\n",
       "            ).addTo(map_3b07ff33e33ac2836a73bdc846789b71);\n",
       "        \n",
       "    \n",
       "        var popup_fbdff5766b76b3d5a089d56cca27a3c4 = L.popup({\n",
       "  &quot;maxWidth&quot;: &quot;100%&quot;,\n",
       "  &quot;autoClose&quot;: null,\n",
       "  &quot;closeOnClick&quot;: null,\n",
       "});\n",
       "\n",
       "        \n",
       "            \n",
       "                var html_23cad1a59047181b9732323c66d62902 = $(`&lt;div id=&quot;html_23cad1a59047181b9732323c66d62902&quot; style=&quot;width: 100.0%; height: 100.0%;&quot;&gt;Lebanon: 31 contents&lt;/div&gt;`)[0];\n",
       "                popup_fbdff5766b76b3d5a089d56cca27a3c4.setContent(html_23cad1a59047181b9732323c66d62902);\n",
       "            \n",
       "        \n",
       "\n",
       "        circle_marker_41c79d54f2ee5158c16cf13fb86ae6b8.bindPopup(popup_fbdff5766b76b3d5a089d56cca27a3c4)\n",
       "        ;\n",
       "\n",
       "        \n",
       "    \n",
       "    \n",
       "            var circle_marker_9d375c04f2e2c5475b088b07ec44e331 = L.circleMarker(\n",
       "                [60.472, 8.4689],\n",
       "                {&quot;bubblingMouseEvents&quot;: true, &quot;color&quot;: &quot;red&quot;, &quot;dashArray&quot;: null, &quot;dashOffset&quot;: null, &quot;fill&quot;: true, &quot;fillColor&quot;: &quot;black&quot;, &quot;fillOpacity&quot;: 0.7, &quot;fillRule&quot;: &quot;evenodd&quot;, &quot;lineCap&quot;: &quot;round&quot;, &quot;lineJoin&quot;: &quot;round&quot;, &quot;opacity&quot;: 1.0, &quot;radius&quot;: 5.477225575051661, &quot;stroke&quot;: true, &quot;weight&quot;: 3}\n",
       "            ).addTo(map_3b07ff33e33ac2836a73bdc846789b71);\n",
       "        \n",
       "    \n",
       "        var popup_59ef3511ca427e1bab687b746f52936f = L.popup({\n",
       "  &quot;maxWidth&quot;: &quot;100%&quot;,\n",
       "  &quot;autoClose&quot;: null,\n",
       "  &quot;closeOnClick&quot;: null,\n",
       "});\n",
       "\n",
       "        \n",
       "            \n",
       "                var html_45ee2857e9ab84ae2e35548603c98563 = $(`&lt;div id=&quot;html_45ee2857e9ab84ae2e35548603c98563&quot; style=&quot;width: 100.0%; height: 100.0%;&quot;&gt;Norway: 30 contents&lt;/div&gt;`)[0];\n",
       "                popup_59ef3511ca427e1bab687b746f52936f.setContent(html_45ee2857e9ab84ae2e35548603c98563);\n",
       "            \n",
       "        \n",
       "\n",
       "        circle_marker_9d375c04f2e2c5475b088b07ec44e331.bindPopup(popup_59ef3511ca427e1bab687b746f52936f)\n",
       "        ;\n",
       "\n",
       "        \n",
       "    \n",
       "    \n",
       "            var circle_marker_0fe76628508fc99e8f48ddba01955dd6 = L.circleMarker(\n",
       "                [31.0461, 34.8516],\n",
       "                {&quot;bubblingMouseEvents&quot;: true, &quot;color&quot;: &quot;red&quot;, &quot;dashArray&quot;: null, &quot;dashOffset&quot;: null, &quot;fill&quot;: true, &quot;fillColor&quot;: &quot;black&quot;, &quot;fillOpacity&quot;: 0.7, &quot;fillRule&quot;: &quot;evenodd&quot;, &quot;lineCap&quot;: &quot;round&quot;, &quot;lineJoin&quot;: &quot;round&quot;, &quot;opacity&quot;: 1.0, &quot;radius&quot;: 5.477225575051661, &quot;stroke&quot;: true, &quot;weight&quot;: 3}\n",
       "            ).addTo(map_3b07ff33e33ac2836a73bdc846789b71);\n",
       "        \n",
       "    \n",
       "        var popup_30b18614d3e95b5f89c890ed09b74ff0 = L.popup({\n",
       "  &quot;maxWidth&quot;: &quot;100%&quot;,\n",
       "  &quot;autoClose&quot;: null,\n",
       "  &quot;closeOnClick&quot;: null,\n",
       "});\n",
       "\n",
       "        \n",
       "            \n",
       "                var html_07db705a005eef0ea31d88e51299581c = $(`&lt;div id=&quot;html_07db705a005eef0ea31d88e51299581c&quot; style=&quot;width: 100.0%; height: 100.0%;&quot;&gt;Israel: 30 contents&lt;/div&gt;`)[0];\n",
       "                popup_30b18614d3e95b5f89c890ed09b74ff0.setContent(html_07db705a005eef0ea31d88e51299581c);\n",
       "            \n",
       "        \n",
       "\n",
       "        circle_marker_0fe76628508fc99e8f48ddba01955dd6.bindPopup(popup_30b18614d3e95b5f89c890ed09b74ff0)\n",
       "        ;\n",
       "\n",
       "        \n",
       "    \n",
       "    \n",
       "            var circle_marker_11c6409815f4ae625053105ebf46a121 = L.circleMarker(\n",
       "                [-35.6751, -71.543],\n",
       "                {&quot;bubblingMouseEvents&quot;: true, &quot;color&quot;: &quot;red&quot;, &quot;dashArray&quot;: null, &quot;dashOffset&quot;: null, &quot;fill&quot;: true, &quot;fillColor&quot;: &quot;black&quot;, &quot;fillOpacity&quot;: 0.7, &quot;fillRule&quot;: &quot;evenodd&quot;, &quot;lineCap&quot;: &quot;round&quot;, &quot;lineJoin&quot;: &quot;round&quot;, &quot;opacity&quot;: 1.0, &quot;radius&quot;: 5.385164807134504, &quot;stroke&quot;: true, &quot;weight&quot;: 3}\n",
       "            ).addTo(map_3b07ff33e33ac2836a73bdc846789b71);\n",
       "        \n",
       "    \n",
       "        var popup_96a521a6033e0f3eb9ddc380f48e482b = L.popup({\n",
       "  &quot;maxWidth&quot;: &quot;100%&quot;,\n",
       "  &quot;autoClose&quot;: null,\n",
       "  &quot;closeOnClick&quot;: null,\n",
       "});\n",
       "\n",
       "        \n",
       "            \n",
       "                var html_4a4e1f88d71424449017ddd6697e2201 = $(`&lt;div id=&quot;html_4a4e1f88d71424449017ddd6697e2201&quot; style=&quot;width: 100.0%; height: 100.0%;&quot;&gt;Chile: 29 contents&lt;/div&gt;`)[0];\n",
       "                popup_96a521a6033e0f3eb9ddc380f48e482b.setContent(html_4a4e1f88d71424449017ddd6697e2201);\n",
       "            \n",
       "        \n",
       "\n",
       "        circle_marker_11c6409815f4ae625053105ebf46a121.bindPopup(popup_96a521a6033e0f3eb9ddc380f48e482b)\n",
       "        ;\n",
       "\n",
       "        \n",
       "    \n",
       "    \n",
       "            var circle_marker_7045a037e4c36b74632af184e679207c = L.circleMarker(\n",
       "                [61.524, 105.3188],\n",
       "                {&quot;bubblingMouseEvents&quot;: true, &quot;color&quot;: &quot;red&quot;, &quot;dashArray&quot;: null, &quot;dashOffset&quot;: null, &quot;fill&quot;: true, &quot;fillColor&quot;: &quot;black&quot;, &quot;fillOpacity&quot;: 0.7, &quot;fillRule&quot;: &quot;evenodd&quot;, &quot;lineCap&quot;: &quot;round&quot;, &quot;lineJoin&quot;: &quot;round&quot;, &quot;opacity&quot;: 1.0, &quot;radius&quot;: 5.196152422706632, &quot;stroke&quot;: true, &quot;weight&quot;: 3}\n",
       "            ).addTo(map_3b07ff33e33ac2836a73bdc846789b71);\n",
       "        \n",
       "    \n",
       "        var popup_00e2c852520094dbd2d7c23e3ed1a15a = L.popup({\n",
       "  &quot;maxWidth&quot;: &quot;100%&quot;,\n",
       "  &quot;autoClose&quot;: null,\n",
       "  &quot;closeOnClick&quot;: null,\n",
       "});\n",
       "\n",
       "        \n",
       "            \n",
       "                var html_d55310a9a7c4b214904c4f766ab212d9 = $(`&lt;div id=&quot;html_d55310a9a7c4b214904c4f766ab212d9&quot; style=&quot;width: 100.0%; height: 100.0%;&quot;&gt;Russia: 27 contents&lt;/div&gt;`)[0];\n",
       "                popup_00e2c852520094dbd2d7c23e3ed1a15a.setContent(html_d55310a9a7c4b214904c4f766ab212d9);\n",
       "            \n",
       "        \n",
       "\n",
       "        circle_marker_7045a037e4c36b74632af184e679207c.bindPopup(popup_00e2c852520094dbd2d7c23e3ed1a15a)\n",
       "        ;\n",
       "\n",
       "        \n",
       "    \n",
       "    \n",
       "            var circle_marker_b658c531672c0998bb0fb71e31ef3b8d = L.circleMarker(\n",
       "                [4.2105, 101.9758],\n",
       "                {&quot;bubblingMouseEvents&quot;: true, &quot;color&quot;: &quot;red&quot;, &quot;dashArray&quot;: null, &quot;dashOffset&quot;: null, &quot;fill&quot;: true, &quot;fillColor&quot;: &quot;black&quot;, &quot;fillOpacity&quot;: 0.7, &quot;fillRule&quot;: &quot;evenodd&quot;, &quot;lineCap&quot;: &quot;round&quot;, &quot;lineJoin&quot;: &quot;round&quot;, &quot;opacity&quot;: 1.0, &quot;radius&quot;: 5.0990195135927845, &quot;stroke&quot;: true, &quot;weight&quot;: 3}\n",
       "            ).addTo(map_3b07ff33e33ac2836a73bdc846789b71);\n",
       "        \n",
       "    \n",
       "        var popup_89e11f4e4fb27eda5429ee76161bb523 = L.popup({\n",
       "  &quot;maxWidth&quot;: &quot;100%&quot;,\n",
       "  &quot;autoClose&quot;: null,\n",
       "  &quot;closeOnClick&quot;: null,\n",
       "});\n",
       "\n",
       "        \n",
       "            \n",
       "                var html_4ef8b78004ad5bc56f6eecde0b414271 = $(`&lt;div id=&quot;html_4ef8b78004ad5bc56f6eecde0b414271&quot; style=&quot;width: 100.0%; height: 100.0%;&quot;&gt;Malaysia: 26 contents&lt;/div&gt;`)[0];\n",
       "                popup_89e11f4e4fb27eda5429ee76161bb523.setContent(html_4ef8b78004ad5bc56f6eecde0b414271);\n",
       "            \n",
       "        \n",
       "\n",
       "        circle_marker_b658c531672c0998bb0fb71e31ef3b8d.bindPopup(popup_89e11f4e4fb27eda5429ee76161bb523)\n",
       "        ;\n",
       "\n",
       "        \n",
       "    \n",
       "    \n",
       "            var circle_marker_e83d38b51b30bfdb368d4f9589e0600d = L.circleMarker(\n",
       "                [30.3753, 69.3451],\n",
       "                {&quot;bubblingMouseEvents&quot;: true, &quot;color&quot;: &quot;red&quot;, &quot;dashArray&quot;: null, &quot;dashOffset&quot;: null, &quot;fill&quot;: true, &quot;fillColor&quot;: &quot;black&quot;, &quot;fillOpacity&quot;: 0.7, &quot;fillRule&quot;: &quot;evenodd&quot;, &quot;lineCap&quot;: &quot;round&quot;, &quot;lineJoin&quot;: &quot;round&quot;, &quot;opacity&quot;: 1.0, &quot;radius&quot;: 4.898979485566356, &quot;stroke&quot;: true, &quot;weight&quot;: 3}\n",
       "            ).addTo(map_3b07ff33e33ac2836a73bdc846789b71);\n",
       "        \n",
       "    \n",
       "        var popup_2e43f525cfdcbb29edc9f6a0867e4306 = L.popup({\n",
       "  &quot;maxWidth&quot;: &quot;100%&quot;,\n",
       "  &quot;autoClose&quot;: null,\n",
       "  &quot;closeOnClick&quot;: null,\n",
       "});\n",
       "\n",
       "        \n",
       "            \n",
       "                var html_7bcb562ec5efc97c17fbc0affc4e6dc7 = $(`&lt;div id=&quot;html_7bcb562ec5efc97c17fbc0affc4e6dc7&quot; style=&quot;width: 100.0%; height: 100.0%;&quot;&gt;Pakistan: 24 contents&lt;/div&gt;`)[0];\n",
       "                popup_2e43f525cfdcbb29edc9f6a0867e4306.setContent(html_7bcb562ec5efc97c17fbc0affc4e6dc7);\n",
       "            \n",
       "        \n",
       "\n",
       "        circle_marker_e83d38b51b30bfdb368d4f9589e0600d.bindPopup(popup_2e43f525cfdcbb29edc9f6a0867e4306)\n",
       "        ;\n",
       "\n",
       "        \n",
       "    \n",
       "    \n",
       "            var circle_marker_1cdc531429522a630497e9052ca16d49 = L.circleMarker(\n",
       "                [49.8175, 15.473],\n",
       "                {&quot;bubblingMouseEvents&quot;: true, &quot;color&quot;: &quot;red&quot;, &quot;dashArray&quot;: null, &quot;dashOffset&quot;: null, &quot;fill&quot;: true, &quot;fillColor&quot;: &quot;black&quot;, &quot;fillOpacity&quot;: 0.7, &quot;fillRule&quot;: &quot;evenodd&quot;, &quot;lineCap&quot;: &quot;round&quot;, &quot;lineJoin&quot;: &quot;round&quot;, &quot;opacity&quot;: 1.0, &quot;radius&quot;: 4.69041575982343, &quot;stroke&quot;: true, &quot;weight&quot;: 3}\n",
       "            ).addTo(map_3b07ff33e33ac2836a73bdc846789b71);\n",
       "        \n",
       "    \n",
       "        var popup_ec42bc19c98ba185c64e89432f523152 = L.popup({\n",
       "  &quot;maxWidth&quot;: &quot;100%&quot;,\n",
       "  &quot;autoClose&quot;: null,\n",
       "  &quot;closeOnClick&quot;: null,\n",
       "});\n",
       "\n",
       "        \n",
       "            \n",
       "                var html_4733d961b26f2b24c83c9a735ba89598 = $(`&lt;div id=&quot;html_4733d961b26f2b24c83c9a735ba89598&quot; style=&quot;width: 100.0%; height: 100.0%;&quot;&gt;Czech Republic: 22 contents&lt;/div&gt;`)[0];\n",
       "                popup_ec42bc19c98ba185c64e89432f523152.setContent(html_4733d961b26f2b24c83c9a735ba89598);\n",
       "            \n",
       "        \n",
       "\n",
       "        circle_marker_1cdc531429522a630497e9052ca16d49.bindPopup(popup_ec42bc19c98ba185c64e89432f523152)\n",
       "        ;\n",
       "\n",
       "        \n",
       "    \n",
       "    \n",
       "            var circle_marker_3dcae3784f96bfd98d95ec05b39242d3 = L.circleMarker(\n",
       "                [46.8182, 8.2275],\n",
       "                {&quot;bubblingMouseEvents&quot;: true, &quot;color&quot;: &quot;red&quot;, &quot;dashArray&quot;: null, &quot;dashOffset&quot;: null, &quot;fill&quot;: true, &quot;fillColor&quot;: &quot;black&quot;, &quot;fillOpacity&quot;: 0.7, &quot;fillRule&quot;: &quot;evenodd&quot;, &quot;lineCap&quot;: &quot;round&quot;, &quot;lineJoin&quot;: &quot;round&quot;, &quot;opacity&quot;: 1.0, &quot;radius&quot;: 4.358898943540674, &quot;stroke&quot;: true, &quot;weight&quot;: 3}\n",
       "            ).addTo(map_3b07ff33e33ac2836a73bdc846789b71);\n",
       "        \n",
       "    \n",
       "        var popup_f26c43c6e4e2b8802c6e675ea7b99246 = L.popup({\n",
       "  &quot;maxWidth&quot;: &quot;100%&quot;,\n",
       "  &quot;autoClose&quot;: null,\n",
       "  &quot;closeOnClick&quot;: null,\n",
       "});\n",
       "\n",
       "        \n",
       "            \n",
       "                var html_cf0a57da9aabeb6e10d788b5cb838cfe = $(`&lt;div id=&quot;html_cf0a57da9aabeb6e10d788b5cb838cfe&quot; style=&quot;width: 100.0%; height: 100.0%;&quot;&gt;Switzerland: 19 contents&lt;/div&gt;`)[0];\n",
       "                popup_f26c43c6e4e2b8802c6e675ea7b99246.setContent(html_cf0a57da9aabeb6e10d788b5cb838cfe);\n",
       "            \n",
       "        \n",
       "\n",
       "        circle_marker_3dcae3784f96bfd98d95ec05b39242d3.bindPopup(popup_f26c43c6e4e2b8802c6e675ea7b99246)\n",
       "        ;\n",
       "\n",
       "        \n",
       "    \n",
       "    \n",
       "            var circle_marker_c2d1c8e854335cd250e87c6f361ca044 = L.circleMarker(\n",
       "                [-32.5228, -55.7658],\n",
       "                {&quot;bubblingMouseEvents&quot;: true, &quot;color&quot;: &quot;red&quot;, &quot;dashArray&quot;: null, &quot;dashOffset&quot;: null, &quot;fill&quot;: true, &quot;fillColor&quot;: &quot;black&quot;, &quot;fillOpacity&quot;: 0.7, &quot;fillRule&quot;: &quot;evenodd&quot;, &quot;lineCap&quot;: &quot;round&quot;, &quot;lineJoin&quot;: &quot;round&quot;, &quot;opacity&quot;: 1.0, &quot;radius&quot;: 3.7416573867739413, &quot;stroke&quot;: true, &quot;weight&quot;: 3}\n",
       "            ).addTo(map_3b07ff33e33ac2836a73bdc846789b71);\n",
       "        \n",
       "    \n",
       "        var popup_f7fde99fb91cd284f107592c97fcbfe3 = L.popup({\n",
       "  &quot;maxWidth&quot;: &quot;100%&quot;,\n",
       "  &quot;autoClose&quot;: null,\n",
       "  &quot;closeOnClick&quot;: null,\n",
       "});\n",
       "\n",
       "        \n",
       "            \n",
       "                var html_e5a8bcab118e2da703374466c9c73182 = $(`&lt;div id=&quot;html_e5a8bcab118e2da703374466c9c73182&quot; style=&quot;width: 100.0%; height: 100.0%;&quot;&gt;Uruguay: 14 contents&lt;/div&gt;`)[0];\n",
       "                popup_f7fde99fb91cd284f107592c97fcbfe3.setContent(html_e5a8bcab118e2da703374466c9c73182);\n",
       "            \n",
       "        \n",
       "\n",
       "        circle_marker_c2d1c8e854335cd250e87c6f361ca044.bindPopup(popup_f7fde99fb91cd284f107592c97fcbfe3)\n",
       "        ;\n",
       "\n",
       "        \n",
       "    \n",
       "    \n",
       "            var circle_marker_51b150d0cbebb28eff5d91c57fd034ae = L.circleMarker(\n",
       "                [45.9432, 24.9668],\n",
       "                {&quot;bubblingMouseEvents&quot;: true, &quot;color&quot;: &quot;red&quot;, &quot;dashArray&quot;: null, &quot;dashOffset&quot;: null, &quot;fill&quot;: true, &quot;fillColor&quot;: &quot;black&quot;, &quot;fillOpacity&quot;: 0.7, &quot;fillRule&quot;: &quot;evenodd&quot;, &quot;lineCap&quot;: &quot;round&quot;, &quot;lineJoin&quot;: &quot;round&quot;, &quot;opacity&quot;: 1.0, &quot;radius&quot;: 3.7416573867739413, &quot;stroke&quot;: true, &quot;weight&quot;: 3}\n",
       "            ).addTo(map_3b07ff33e33ac2836a73bdc846789b71);\n",
       "        \n",
       "    \n",
       "        var popup_fd6ea6d92cc1c62a65f6272b47fe9ebd = L.popup({\n",
       "  &quot;maxWidth&quot;: &quot;100%&quot;,\n",
       "  &quot;autoClose&quot;: null,\n",
       "  &quot;closeOnClick&quot;: null,\n",
       "});\n",
       "\n",
       "        \n",
       "            \n",
       "                var html_709f03cf505b1cc5f315ade41462f81b = $(`&lt;div id=&quot;html_709f03cf505b1cc5f315ade41462f81b&quot; style=&quot;width: 100.0%; height: 100.0%;&quot;&gt;Romania: 14 contents&lt;/div&gt;`)[0];\n",
       "                popup_fd6ea6d92cc1c62a65f6272b47fe9ebd.setContent(html_709f03cf505b1cc5f315ade41462f81b);\n",
       "            \n",
       "        \n",
       "\n",
       "        circle_marker_51b150d0cbebb28eff5d91c57fd034ae.bindPopup(popup_fd6ea6d92cc1c62a65f6272b47fe9ebd)\n",
       "        ;\n",
       "\n",
       "        \n",
       "    \n",
       "    \n",
       "            var circle_marker_063454e3d802a4c64eecbb3f0ef23a5d = L.circleMarker(\n",
       "                [23.8859, 45.0792],\n",
       "                {&quot;bubblingMouseEvents&quot;: true, &quot;color&quot;: &quot;red&quot;, &quot;dashArray&quot;: null, &quot;dashOffset&quot;: null, &quot;fill&quot;: true, &quot;fillColor&quot;: &quot;black&quot;, &quot;fillOpacity&quot;: 0.7, &quot;fillRule&quot;: &quot;evenodd&quot;, &quot;lineCap&quot;: &quot;round&quot;, &quot;lineJoin&quot;: &quot;round&quot;, &quot;opacity&quot;: 1.0, &quot;radius&quot;: 3.605551275463989, &quot;stroke&quot;: true, &quot;weight&quot;: 3}\n",
       "            ).addTo(map_3b07ff33e33ac2836a73bdc846789b71);\n",
       "        \n",
       "    \n",
       "        var popup_a4e78fcd0995fba08db817d2af089ffb = L.popup({\n",
       "  &quot;maxWidth&quot;: &quot;100%&quot;,\n",
       "  &quot;autoClose&quot;: null,\n",
       "  &quot;closeOnClick&quot;: null,\n",
       "});\n",
       "\n",
       "        \n",
       "            \n",
       "                var html_4f1513789d1da35495d94f616ecadaf0 = $(`&lt;div id=&quot;html_4f1513789d1da35495d94f616ecadaf0&quot; style=&quot;width: 100.0%; height: 100.0%;&quot;&gt;Saudi Arabia: 13 contents&lt;/div&gt;`)[0];\n",
       "                popup_a4e78fcd0995fba08db817d2af089ffb.setContent(html_4f1513789d1da35495d94f616ecadaf0);\n",
       "            \n",
       "        \n",
       "\n",
       "        circle_marker_063454e3d802a4c64eecbb3f0ef23a5d.bindPopup(popup_a4e78fcd0995fba08db817d2af089ffb)\n",
       "        ;\n",
       "\n",
       "        \n",
       "    \n",
       "    \n",
       "            var circle_marker_2de94c9f4867881bc6eaca10f4059ace = L.circleMarker(\n",
       "                [47.5162, 14.5501],\n",
       "                {&quot;bubblingMouseEvents&quot;: true, &quot;color&quot;: &quot;red&quot;, &quot;dashArray&quot;: null, &quot;dashOffset&quot;: null, &quot;fill&quot;: true, &quot;fillColor&quot;: &quot;black&quot;, &quot;fillOpacity&quot;: 0.7, &quot;fillRule&quot;: &quot;evenodd&quot;, &quot;lineCap&quot;: &quot;round&quot;, &quot;lineJoin&quot;: &quot;round&quot;, &quot;opacity&quot;: 1.0, &quot;radius&quot;: 3.4641016151377544, &quot;stroke&quot;: true, &quot;weight&quot;: 3}\n",
       "            ).addTo(map_3b07ff33e33ac2836a73bdc846789b71);\n",
       "        \n",
       "    \n",
       "        var popup_416bbf4b521ae9f09e752214e6eb748a = L.popup({\n",
       "  &quot;maxWidth&quot;: &quot;100%&quot;,\n",
       "  &quot;autoClose&quot;: null,\n",
       "  &quot;closeOnClick&quot;: null,\n",
       "});\n",
       "\n",
       "        \n",
       "            \n",
       "                var html_d413be3f7e708504b281fc3f2f511063 = $(`&lt;div id=&quot;html_d413be3f7e708504b281fc3f2f511063&quot; style=&quot;width: 100.0%; height: 100.0%;&quot;&gt;Austria: 12 contents&lt;/div&gt;`)[0];\n",
       "                popup_416bbf4b521ae9f09e752214e6eb748a.setContent(html_d413be3f7e708504b281fc3f2f511063);\n",
       "            \n",
       "        \n",
       "\n",
       "        circle_marker_2de94c9f4867881bc6eaca10f4059ace.bindPopup(popup_416bbf4b521ae9f09e752214e6eb748a)\n",
       "        ;\n",
       "\n",
       "        \n",
       "    \n",
       "    \n",
       "            var circle_marker_60ebf7a9b1ae7dc92bdd26ea0ec579d1 = L.circleMarker(\n",
       "                [49.8153, 6.1296],\n",
       "                {&quot;bubblingMouseEvents&quot;: true, &quot;color&quot;: &quot;red&quot;, &quot;dashArray&quot;: null, &quot;dashOffset&quot;: null, &quot;fill&quot;: true, &quot;fillColor&quot;: &quot;black&quot;, &quot;fillOpacity&quot;: 0.7, &quot;fillRule&quot;: &quot;evenodd&quot;, &quot;lineCap&quot;: &quot;round&quot;, &quot;lineJoin&quot;: &quot;round&quot;, &quot;opacity&quot;: 1.0, &quot;radius&quot;: 3.4641016151377544, &quot;stroke&quot;: true, &quot;weight&quot;: 3}\n",
       "            ).addTo(map_3b07ff33e33ac2836a73bdc846789b71);\n",
       "        \n",
       "    \n",
       "        var popup_79d6b2daf5b9d82fdaa55506d8df7d7d = L.popup({\n",
       "  &quot;maxWidth&quot;: &quot;100%&quot;,\n",
       "  &quot;autoClose&quot;: null,\n",
       "  &quot;closeOnClick&quot;: null,\n",
       "});\n",
       "\n",
       "        \n",
       "            \n",
       "                var html_3f20877b24cabf6c2fc4fba15d5c1521 = $(`&lt;div id=&quot;html_3f20877b24cabf6c2fc4fba15d5c1521&quot; style=&quot;width: 100.0%; height: 100.0%;&quot;&gt;Luxembourg: 12 contents&lt;/div&gt;`)[0];\n",
       "                popup_79d6b2daf5b9d82fdaa55506d8df7d7d.setContent(html_3f20877b24cabf6c2fc4fba15d5c1521);\n",
       "            \n",
       "        \n",
       "\n",
       "        circle_marker_60ebf7a9b1ae7dc92bdd26ea0ec579d1.bindPopup(popup_79d6b2daf5b9d82fdaa55506d8df7d7d)\n",
       "        ;\n",
       "\n",
       "        \n",
       "    \n",
       "    \n",
       "            var circle_marker_871d9372669530bd16f33744514bfb53 = L.circleMarker(\n",
       "                [47.1625, 19.5033],\n",
       "                {&quot;bubblingMouseEvents&quot;: true, &quot;color&quot;: &quot;red&quot;, &quot;dashArray&quot;: null, &quot;dashOffset&quot;: null, &quot;fill&quot;: true, &quot;fillColor&quot;: &quot;black&quot;, &quot;fillOpacity&quot;: 0.7, &quot;fillRule&quot;: &quot;evenodd&quot;, &quot;lineCap&quot;: &quot;round&quot;, &quot;lineJoin&quot;: &quot;round&quot;, &quot;opacity&quot;: 1.0, &quot;radius&quot;: 3.3166247903554, &quot;stroke&quot;: true, &quot;weight&quot;: 3}\n",
       "            ).addTo(map_3b07ff33e33ac2836a73bdc846789b71);\n",
       "        \n",
       "    \n",
       "        var popup_f908bd2f9921d68dca289a9545532fbc = L.popup({\n",
       "  &quot;maxWidth&quot;: &quot;100%&quot;,\n",
       "  &quot;autoClose&quot;: null,\n",
       "  &quot;closeOnClick&quot;: null,\n",
       "});\n",
       "\n",
       "        \n",
       "            \n",
       "                var html_8760f5f092aba1197783007689b4f3fe = $(`&lt;div id=&quot;html_8760f5f092aba1197783007689b4f3fe&quot; style=&quot;width: 100.0%; height: 100.0%;&quot;&gt;Hungary: 11 contents&lt;/div&gt;`)[0];\n",
       "                popup_f908bd2f9921d68dca289a9545532fbc.setContent(html_8760f5f092aba1197783007689b4f3fe);\n",
       "            \n",
       "        \n",
       "\n",
       "        circle_marker_871d9372669530bd16f33744514bfb53.bindPopup(popup_f908bd2f9921d68dca289a9545532fbc)\n",
       "        ;\n",
       "\n",
       "        \n",
       "    \n",
       "    \n",
       "            var circle_marker_0341c8ca78d4337c3789a1f647b80fcd = L.circleMarker(\n",
       "                [39.0742, 21.8243],\n",
       "                {&quot;bubblingMouseEvents&quot;: true, &quot;color&quot;: &quot;red&quot;, &quot;dashArray&quot;: null, &quot;dashOffset&quot;: null, &quot;fill&quot;: true, &quot;fillColor&quot;: &quot;black&quot;, &quot;fillOpacity&quot;: 0.7, &quot;fillRule&quot;: &quot;evenodd&quot;, &quot;lineCap&quot;: &quot;round&quot;, &quot;lineJoin&quot;: &quot;round&quot;, &quot;opacity&quot;: 1.0, &quot;radius&quot;: 3.3166247903554, &quot;stroke&quot;: true, &quot;weight&quot;: 3}\n",
       "            ).addTo(map_3b07ff33e33ac2836a73bdc846789b71);\n",
       "        \n",
       "    \n",
       "        var popup_4ef1889df7151bf7a8c42daba23d7667 = L.popup({\n",
       "  &quot;maxWidth&quot;: &quot;100%&quot;,\n",
       "  &quot;autoClose&quot;: null,\n",
       "  &quot;closeOnClick&quot;: null,\n",
       "});\n",
       "\n",
       "        \n",
       "            \n",
       "                var html_936fff9d032f2bb0f2ce506afd03d5fa = $(`&lt;div id=&quot;html_936fff9d032f2bb0f2ce506afd03d5fa&quot; style=&quot;width: 100.0%; height: 100.0%;&quot;&gt;Greece: 11 contents&lt;/div&gt;`)[0];\n",
       "                popup_4ef1889df7151bf7a8c42daba23d7667.setContent(html_936fff9d032f2bb0f2ce506afd03d5fa);\n",
       "            \n",
       "        \n",
       "\n",
       "        circle_marker_0341c8ca78d4337c3789a1f647b80fcd.bindPopup(popup_4ef1889df7151bf7a8c42daba23d7667)\n",
       "        ;\n",
       "\n",
       "        \n",
       "    \n",
       "    \n",
       "            var circle_marker_b0ea9d70746ddbf5813bc45cb6cc736f = L.circleMarker(\n",
       "                [64.9631, -19.0208],\n",
       "                {&quot;bubblingMouseEvents&quot;: true, &quot;color&quot;: &quot;red&quot;, &quot;dashArray&quot;: null, &quot;dashOffset&quot;: null, &quot;fill&quot;: true, &quot;fillColor&quot;: &quot;black&quot;, &quot;fillOpacity&quot;: 0.7, &quot;fillRule&quot;: &quot;evenodd&quot;, &quot;lineCap&quot;: &quot;round&quot;, &quot;lineJoin&quot;: &quot;round&quot;, &quot;opacity&quot;: 1.0, &quot;radius&quot;: 3.3166247903554, &quot;stroke&quot;: true, &quot;weight&quot;: 3}\n",
       "            ).addTo(map_3b07ff33e33ac2836a73bdc846789b71);\n",
       "        \n",
       "    \n",
       "        var popup_165b7137a4c5409e4e9cdbd3f221c30b = L.popup({\n",
       "  &quot;maxWidth&quot;: &quot;100%&quot;,\n",
       "  &quot;autoClose&quot;: null,\n",
       "  &quot;closeOnClick&quot;: null,\n",
       "});\n",
       "\n",
       "        \n",
       "            \n",
       "                var html_10942ae62550f8a6807171f8d94c97b4 = $(`&lt;div id=&quot;html_10942ae62550f8a6807171f8d94c97b4&quot; style=&quot;width: 100.0%; height: 100.0%;&quot;&gt;Iceland: 11 contents&lt;/div&gt;`)[0];\n",
       "                popup_165b7137a4c5409e4e9cdbd3f221c30b.setContent(html_10942ae62550f8a6807171f8d94c97b4);\n",
       "            \n",
       "        \n",
       "\n",
       "        circle_marker_b0ea9d70746ddbf5813bc45cb6cc736f.bindPopup(popup_165b7137a4c5409e4e9cdbd3f221c30b)\n",
       "        ;\n",
       "\n",
       "        \n",
       "    \n",
       "    \n",
       "            var circle_marker_184344f49afe77d29f05d318a138d3fb = L.circleMarker(\n",
       "                [61.9241, 25.7482],\n",
       "                {&quot;bubblingMouseEvents&quot;: true, &quot;color&quot;: &quot;red&quot;, &quot;dashArray&quot;: null, &quot;dashOffset&quot;: null, &quot;fill&quot;: true, &quot;fillColor&quot;: &quot;black&quot;, &quot;fillOpacity&quot;: 0.7, &quot;fillRule&quot;: &quot;evenodd&quot;, &quot;lineCap&quot;: &quot;round&quot;, &quot;lineJoin&quot;: &quot;round&quot;, &quot;opacity&quot;: 1.0, &quot;radius&quot;: 3.3166247903554, &quot;stroke&quot;: true, &quot;weight&quot;: 3}\n",
       "            ).addTo(map_3b07ff33e33ac2836a73bdc846789b71);\n",
       "        \n",
       "    \n",
       "        var popup_680dc5a34d7ac44428821b7b4531c89f = L.popup({\n",
       "  &quot;maxWidth&quot;: &quot;100%&quot;,\n",
       "  &quot;autoClose&quot;: null,\n",
       "  &quot;closeOnClick&quot;: null,\n",
       "});\n",
       "\n",
       "        \n",
       "            \n",
       "                var html_2a78184977c2a497efda4326080a4cd9 = $(`&lt;div id=&quot;html_2a78184977c2a497efda4326080a4cd9&quot; style=&quot;width: 100.0%; height: 100.0%;&quot;&gt;Finland: 11 contents&lt;/div&gt;`)[0];\n",
       "                popup_680dc5a34d7ac44428821b7b4531c89f.setContent(html_2a78184977c2a497efda4326080a4cd9);\n",
       "            \n",
       "        \n",
       "\n",
       "        circle_marker_184344f49afe77d29f05d318a138d3fb.bindPopup(popup_680dc5a34d7ac44428821b7b4531c89f)\n",
       "        ;\n",
       "\n",
       "        \n",
       "    \n",
       "    \n",
       "            var circle_marker_f1a99e6f889405c2914a0c64d43ef6fe = L.circleMarker(\n",
       "                [-9.19, -75.0152],\n",
       "                {&quot;bubblingMouseEvents&quot;: true, &quot;color&quot;: &quot;red&quot;, &quot;dashArray&quot;: null, &quot;dashOffset&quot;: null, &quot;fill&quot;: true, &quot;fillColor&quot;: &quot;black&quot;, &quot;fillOpacity&quot;: 0.7, &quot;fillRule&quot;: &quot;evenodd&quot;, &quot;lineCap&quot;: &quot;round&quot;, &quot;lineJoin&quot;: &quot;round&quot;, &quot;opacity&quot;: 1.0, &quot;radius&quot;: 3.1622776601683795, &quot;stroke&quot;: true, &quot;weight&quot;: 3}\n",
       "            ).addTo(map_3b07ff33e33ac2836a73bdc846789b71);\n",
       "        \n",
       "    \n",
       "        var popup_10d0c21af83d47369b4ca630180508b8 = L.popup({\n",
       "  &quot;maxWidth&quot;: &quot;100%&quot;,\n",
       "  &quot;autoClose&quot;: null,\n",
       "  &quot;closeOnClick&quot;: null,\n",
       "});\n",
       "\n",
       "        \n",
       "            \n",
       "                var html_5f768b48cb26189d84521c1ad1be1df4 = $(`&lt;div id=&quot;html_5f768b48cb26189d84521c1ad1be1df4&quot; style=&quot;width: 100.0%; height: 100.0%;&quot;&gt;Peru: 10 contents&lt;/div&gt;`)[0];\n",
       "                popup_10d0c21af83d47369b4ca630180508b8.setContent(html_5f768b48cb26189d84521c1ad1be1df4);\n",
       "            \n",
       "        \n",
       "\n",
       "        circle_marker_f1a99e6f889405c2914a0c64d43ef6fe.bindPopup(popup_10d0c21af83d47369b4ca630180508b8)\n",
       "        ;\n",
       "\n",
       "        \n",
       "    \n",
       "    \n",
       "            var circle_marker_f2cf4383c5ff4e09f6d932401e3495b2 = L.circleMarker(\n",
       "                [25.3548, 51.1839],\n",
       "                {&quot;bubblingMouseEvents&quot;: true, &quot;color&quot;: &quot;red&quot;, &quot;dashArray&quot;: null, &quot;dashOffset&quot;: null, &quot;fill&quot;: true, &quot;fillColor&quot;: &quot;black&quot;, &quot;fillOpacity&quot;: 0.7, &quot;fillRule&quot;: &quot;evenodd&quot;, &quot;lineCap&quot;: &quot;round&quot;, &quot;lineJoin&quot;: &quot;round&quot;, &quot;opacity&quot;: 1.0, &quot;radius&quot;: 3.1622776601683795, &quot;stroke&quot;: true, &quot;weight&quot;: 3}\n",
       "            ).addTo(map_3b07ff33e33ac2836a73bdc846789b71);\n",
       "        \n",
       "    \n",
       "        var popup_f4100ba0ff72cfc5d0e2db7cdf01c3ee = L.popup({\n",
       "  &quot;maxWidth&quot;: &quot;100%&quot;,\n",
       "  &quot;autoClose&quot;: null,\n",
       "  &quot;closeOnClick&quot;: null,\n",
       "});\n",
       "\n",
       "        \n",
       "            \n",
       "                var html_a99b3c1ee469b85f9ab725642115ed64 = $(`&lt;div id=&quot;html_a99b3c1ee469b85f9ab725642115ed64&quot; style=&quot;width: 100.0%; height: 100.0%;&quot;&gt;Qatar: 10 contents&lt;/div&gt;`)[0];\n",
       "                popup_f4100ba0ff72cfc5d0e2db7cdf01c3ee.setContent(html_a99b3c1ee469b85f9ab725642115ed64);\n",
       "            \n",
       "        \n",
       "\n",
       "        circle_marker_f2cf4383c5ff4e09f6d932401e3495b2.bindPopup(popup_f4100ba0ff72cfc5d0e2db7cdf01c3ee)\n",
       "        ;\n",
       "\n",
       "        \n",
       "    \n",
       "    \n",
       "            var circle_marker_14c024d4dee540e40844d9cbc18835bf = L.circleMarker(\n",
       "                [42.7339, 25.4858],\n",
       "                {&quot;bubblingMouseEvents&quot;: true, &quot;color&quot;: &quot;red&quot;, &quot;dashArray&quot;: null, &quot;dashOffset&quot;: null, &quot;fill&quot;: true, &quot;fillColor&quot;: &quot;black&quot;, &quot;fillOpacity&quot;: 0.7, &quot;fillRule&quot;: &quot;evenodd&quot;, &quot;lineCap&quot;: &quot;round&quot;, &quot;lineJoin&quot;: &quot;round&quot;, &quot;opacity&quot;: 1.0, &quot;radius&quot;: 3.1622776601683795, &quot;stroke&quot;: true, &quot;weight&quot;: 3}\n",
       "            ).addTo(map_3b07ff33e33ac2836a73bdc846789b71);\n",
       "        \n",
       "    \n",
       "        var popup_9a2275eba382faa105aa0c71053df8aa = L.popup({\n",
       "  &quot;maxWidth&quot;: &quot;100%&quot;,\n",
       "  &quot;autoClose&quot;: null,\n",
       "  &quot;closeOnClick&quot;: null,\n",
       "});\n",
       "\n",
       "        \n",
       "            \n",
       "                var html_45a26efd5d45809d2757b97dc02f8a7e = $(`&lt;div id=&quot;html_45a26efd5d45809d2757b97dc02f8a7e&quot; style=&quot;width: 100.0%; height: 100.0%;&quot;&gt;Bulgaria: 10 contents&lt;/div&gt;`)[0];\n",
       "                popup_9a2275eba382faa105aa0c71053df8aa.setContent(html_45a26efd5d45809d2757b97dc02f8a7e);\n",
       "            \n",
       "        \n",
       "\n",
       "        circle_marker_14c024d4dee540e40844d9cbc18835bf.bindPopup(popup_9a2275eba382faa105aa0c71053df8aa)\n",
       "        ;\n",
       "\n",
       "        \n",
       "    \n",
       "    \n",
       "            var circle_marker_8ecd1bdd45295ac5136ff465ed0b6d89 = L.circleMarker(\n",
       "                [30.5852, 36.2384],\n",
       "                {&quot;bubblingMouseEvents&quot;: true, &quot;color&quot;: &quot;red&quot;, &quot;dashArray&quot;: null, &quot;dashOffset&quot;: null, &quot;fill&quot;: true, &quot;fillColor&quot;: &quot;black&quot;, &quot;fillOpacity&quot;: 0.7, &quot;fillRule&quot;: &quot;evenodd&quot;, &quot;lineCap&quot;: &quot;round&quot;, &quot;lineJoin&quot;: &quot;round&quot;, &quot;opacity&quot;: 1.0, &quot;radius&quot;: 3.0, &quot;stroke&quot;: true, &quot;weight&quot;: 3}\n",
       "            ).addTo(map_3b07ff33e33ac2836a73bdc846789b71);\n",
       "        \n",
       "    \n",
       "        var popup_95db6fd4b1edeec347992c1a7a452e5d = L.popup({\n",
       "  &quot;maxWidth&quot;: &quot;100%&quot;,\n",
       "  &quot;autoClose&quot;: null,\n",
       "  &quot;closeOnClick&quot;: null,\n",
       "});\n",
       "\n",
       "        \n",
       "            \n",
       "                var html_cda17b7059598a3230d5a62dbfd50212 = $(`&lt;div id=&quot;html_cda17b7059598a3230d5a62dbfd50212&quot; style=&quot;width: 100.0%; height: 100.0%;&quot;&gt;Jordan: 9 contents&lt;/div&gt;`)[0];\n",
       "                popup_95db6fd4b1edeec347992c1a7a452e5d.setContent(html_cda17b7059598a3230d5a62dbfd50212);\n",
       "            \n",
       "        \n",
       "\n",
       "        circle_marker_8ecd1bdd45295ac5136ff465ed0b6d89.bindPopup(popup_95db6fd4b1edeec347992c1a7a452e5d)\n",
       "        ;\n",
       "\n",
       "        \n",
       "    \n",
       "    \n",
       "            var circle_marker_78b86e72ac2a881f206d18dbe796c0d7 = L.circleMarker(\n",
       "                [29.3117, 47.4818],\n",
       "                {&quot;bubblingMouseEvents&quot;: true, &quot;color&quot;: &quot;red&quot;, &quot;dashArray&quot;: null, &quot;dashOffset&quot;: null, &quot;fill&quot;: true, &quot;fillColor&quot;: &quot;black&quot;, &quot;fillOpacity&quot;: 0.7, &quot;fillRule&quot;: &quot;evenodd&quot;, &quot;lineCap&quot;: &quot;round&quot;, &quot;lineJoin&quot;: &quot;round&quot;, &quot;opacity&quot;: 1.0, &quot;radius&quot;: 2.8284271247461903, &quot;stroke&quot;: true, &quot;weight&quot;: 3}\n",
       "            ).addTo(map_3b07ff33e33ac2836a73bdc846789b71);\n",
       "        \n",
       "    \n",
       "        var popup_6a279c6a69f2e9ee2648854e140cd9bd = L.popup({\n",
       "  &quot;maxWidth&quot;: &quot;100%&quot;,\n",
       "  &quot;autoClose&quot;: null,\n",
       "  &quot;closeOnClick&quot;: null,\n",
       "});\n",
       "\n",
       "        \n",
       "            \n",
       "                var html_ba6f2e34ca7f07bb7fd6b125e85d262d = $(`&lt;div id=&quot;html_ba6f2e34ca7f07bb7fd6b125e85d262d&quot; style=&quot;width: 100.0%; height: 100.0%;&quot;&gt;Kuwait: 8 contents&lt;/div&gt;`)[0];\n",
       "                popup_6a279c6a69f2e9ee2648854e140cd9bd.setContent(html_ba6f2e34ca7f07bb7fd6b125e85d262d);\n",
       "            \n",
       "        \n",
       "\n",
       "        circle_marker_78b86e72ac2a881f206d18dbe796c0d7.bindPopup(popup_6a279c6a69f2e9ee2648854e140cd9bd)\n",
       "        ;\n",
       "\n",
       "        \n",
       "    \n",
       "    \n",
       "            var circle_marker_3f5cb7eb5ec0aac0395619fb40c46307 = L.circleMarker(\n",
       "                [14.0583, 108.2772],\n",
       "                {&quot;bubblingMouseEvents&quot;: true, &quot;color&quot;: &quot;red&quot;, &quot;dashArray&quot;: null, &quot;dashOffset&quot;: null, &quot;fill&quot;: true, &quot;fillColor&quot;: &quot;black&quot;, &quot;fillOpacity&quot;: 0.7, &quot;fillRule&quot;: &quot;evenodd&quot;, &quot;lineCap&quot;: &quot;round&quot;, &quot;lineJoin&quot;: &quot;round&quot;, &quot;opacity&quot;: 1.0, &quot;radius&quot;: 2.6457513110645907, &quot;stroke&quot;: true, &quot;weight&quot;: 3}\n",
       "            ).addTo(map_3b07ff33e33ac2836a73bdc846789b71);\n",
       "        \n",
       "    \n",
       "        var popup_b8da31c0b5c087bf3b2ac2e5982929a7 = L.popup({\n",
       "  &quot;maxWidth&quot;: &quot;100%&quot;,\n",
       "  &quot;autoClose&quot;: null,\n",
       "  &quot;closeOnClick&quot;: null,\n",
       "});\n",
       "\n",
       "        \n",
       "            \n",
       "                var html_d717fb866d3fb026d9e9afb88d78ab47 = $(`&lt;div id=&quot;html_d717fb866d3fb026d9e9afb88d78ab47&quot; style=&quot;width: 100.0%; height: 100.0%;&quot;&gt;Vietnam: 7 contents&lt;/div&gt;`)[0];\n",
       "                popup_b8da31c0b5c087bf3b2ac2e5982929a7.setContent(html_d717fb866d3fb026d9e9afb88d78ab47);\n",
       "            \n",
       "        \n",
       "\n",
       "        circle_marker_3f5cb7eb5ec0aac0395619fb40c46307.bindPopup(popup_b8da31c0b5c087bf3b2ac2e5982929a7)\n",
       "        ;\n",
       "\n",
       "        \n",
       "    \n",
       "    \n",
       "            var circle_marker_373665efa1d533d85ae910d99dcdfde2 = L.circleMarker(\n",
       "                [44.0165, 21.0059],\n",
       "                {&quot;bubblingMouseEvents&quot;: true, &quot;color&quot;: &quot;red&quot;, &quot;dashArray&quot;: null, &quot;dashOffset&quot;: null, &quot;fill&quot;: true, &quot;fillColor&quot;: &quot;black&quot;, &quot;fillOpacity&quot;: 0.7, &quot;fillRule&quot;: &quot;evenodd&quot;, &quot;lineCap&quot;: &quot;round&quot;, &quot;lineJoin&quot;: &quot;round&quot;, &quot;opacity&quot;: 1.0, &quot;radius&quot;: 2.6457513110645907, &quot;stroke&quot;: true, &quot;weight&quot;: 3}\n",
       "            ).addTo(map_3b07ff33e33ac2836a73bdc846789b71);\n",
       "        \n",
       "    \n",
       "        var popup_77467d8dc5c085aa52da616ddc036c92 = L.popup({\n",
       "  &quot;maxWidth&quot;: &quot;100%&quot;,\n",
       "  &quot;autoClose&quot;: null,\n",
       "  &quot;closeOnClick&quot;: null,\n",
       "});\n",
       "\n",
       "        \n",
       "            \n",
       "                var html_85268400d283a080c48b4b8628f964b1 = $(`&lt;div id=&quot;html_85268400d283a080c48b4b8628f964b1&quot; style=&quot;width: 100.0%; height: 100.0%;&quot;&gt;Serbia: 7 contents&lt;/div&gt;`)[0];\n",
       "                popup_77467d8dc5c085aa52da616ddc036c92.setContent(html_85268400d283a080c48b4b8628f964b1);\n",
       "            \n",
       "        \n",
       "\n",
       "        circle_marker_373665efa1d533d85ae910d99dcdfde2.bindPopup(popup_77467d8dc5c085aa52da616ddc036c92)\n",
       "        ;\n",
       "\n",
       "        \n",
       "    \n",
       "    \n",
       "            var circle_marker_38d7b5d572fb7ca27487f2867857b789 = L.circleMarker(\n",
       "                [31.7917, -7.0926],\n",
       "                {&quot;bubblingMouseEvents&quot;: true, &quot;color&quot;: &quot;red&quot;, &quot;dashArray&quot;: null, &quot;dashOffset&quot;: null, &quot;fill&quot;: true, &quot;fillColor&quot;: &quot;black&quot;, &quot;fillOpacity&quot;: 0.7, &quot;fillRule&quot;: &quot;evenodd&quot;, &quot;lineCap&quot;: &quot;round&quot;, &quot;lineJoin&quot;: &quot;round&quot;, &quot;opacity&quot;: 1.0, &quot;radius&quot;: 2.449489742783178, &quot;stroke&quot;: true, &quot;weight&quot;: 3}\n",
       "            ).addTo(map_3b07ff33e33ac2836a73bdc846789b71);\n",
       "        \n",
       "    \n",
       "        var popup_3630d734b8e766cba8e14e02fddf1708 = L.popup({\n",
       "  &quot;maxWidth&quot;: &quot;100%&quot;,\n",
       "  &quot;autoClose&quot;: null,\n",
       "  &quot;closeOnClick&quot;: null,\n",
       "});\n",
       "\n",
       "        \n",
       "            \n",
       "                var html_1518faaf169274c7fac26b1204c26d39 = $(`&lt;div id=&quot;html_1518faaf169274c7fac26b1204c26d39&quot; style=&quot;width: 100.0%; height: 100.0%;&quot;&gt;Morocco: 6 contents&lt;/div&gt;`)[0];\n",
       "                popup_3630d734b8e766cba8e14e02fddf1708.setContent(html_1518faaf169274c7fac26b1204c26d39);\n",
       "            \n",
       "        \n",
       "\n",
       "        circle_marker_38d7b5d572fb7ca27487f2867857b789.bindPopup(popup_3630d734b8e766cba8e14e02fddf1708)\n",
       "        ;\n",
       "\n",
       "        \n",
       "    \n",
       "    \n",
       "            var circle_marker_05295ea93eb041e692316968e676aafa = L.circleMarker(\n",
       "                [-1.286389, 36.817223],\n",
       "                {&quot;bubblingMouseEvents&quot;: true, &quot;color&quot;: &quot;red&quot;, &quot;dashArray&quot;: null, &quot;dashOffset&quot;: null, &quot;fill&quot;: true, &quot;fillColor&quot;: &quot;black&quot;, &quot;fillOpacity&quot;: 0.7, &quot;fillRule&quot;: &quot;evenodd&quot;, &quot;lineCap&quot;: &quot;round&quot;, &quot;lineJoin&quot;: &quot;round&quot;, &quot;opacity&quot;: 1.0, &quot;radius&quot;: 2.449489742783178, &quot;stroke&quot;: true, &quot;weight&quot;: 3}\n",
       "            ).addTo(map_3b07ff33e33ac2836a73bdc846789b71);\n",
       "        \n",
       "    \n",
       "        var popup_51c3aacb23731c98b8c1875863090dc7 = L.popup({\n",
       "  &quot;maxWidth&quot;: &quot;100%&quot;,\n",
       "  &quot;autoClose&quot;: null,\n",
       "  &quot;closeOnClick&quot;: null,\n",
       "});\n",
       "\n",
       "        \n",
       "            \n",
       "                var html_aa0b444ceb8cf56816ad1fb9c56a68c4 = $(`&lt;div id=&quot;html_aa0b444ceb8cf56816ad1fb9c56a68c4&quot; style=&quot;width: 100.0%; height: 100.0%;&quot;&gt;Kenya: 6 contents&lt;/div&gt;`)[0];\n",
       "                popup_51c3aacb23731c98b8c1875863090dc7.setContent(html_aa0b444ceb8cf56816ad1fb9c56a68c4);\n",
       "            \n",
       "        \n",
       "\n",
       "        circle_marker_05295ea93eb041e692316968e676aafa.bindPopup(popup_51c3aacb23731c98b8c1875863090dc7)\n",
       "        ;\n",
       "\n",
       "        \n",
       "    \n",
       "    \n",
       "            var circle_marker_fc4d4d1846416894d2a4ae52f036057a = L.circleMarker(\n",
       "                [39.3999, -8.2245],\n",
       "                {&quot;bubblingMouseEvents&quot;: true, &quot;color&quot;: &quot;red&quot;, &quot;dashArray&quot;: null, &quot;dashOffset&quot;: null, &quot;fill&quot;: true, &quot;fillColor&quot;: &quot;black&quot;, &quot;fillOpacity&quot;: 0.7, &quot;fillRule&quot;: &quot;evenodd&quot;, &quot;lineCap&quot;: &quot;round&quot;, &quot;lineJoin&quot;: &quot;round&quot;, &quot;opacity&quot;: 1.0, &quot;radius&quot;: 2.449489742783178, &quot;stroke&quot;: true, &quot;weight&quot;: 3}\n",
       "            ).addTo(map_3b07ff33e33ac2836a73bdc846789b71);\n",
       "        \n",
       "    \n",
       "        var popup_d35261e792aedbc49317106674de62be = L.popup({\n",
       "  &quot;maxWidth&quot;: &quot;100%&quot;,\n",
       "  &quot;autoClose&quot;: null,\n",
       "  &quot;closeOnClick&quot;: null,\n",
       "});\n",
       "\n",
       "        \n",
       "            \n",
       "                var html_7eb495525ca4ce93201701e9684d7eed = $(`&lt;div id=&quot;html_7eb495525ca4ce93201701e9684d7eed&quot; style=&quot;width: 100.0%; height: 100.0%;&quot;&gt;Portugal: 6 contents&lt;/div&gt;`)[0];\n",
       "                popup_d35261e792aedbc49317106674de62be.setContent(html_7eb495525ca4ce93201701e9684d7eed);\n",
       "            \n",
       "        \n",
       "\n",
       "        circle_marker_fc4d4d1846416894d2a4ae52f036057a.bindPopup(popup_d35261e792aedbc49317106674de62be)\n",
       "        ;\n",
       "\n",
       "        \n",
       "    \n",
       "    \n",
       "            var circle_marker_c3fc0cd9cd17f8a1e981e5375ac10781 = L.circleMarker(\n",
       "                [12.5657, 104.991],\n",
       "                {&quot;bubblingMouseEvents&quot;: true, &quot;color&quot;: &quot;red&quot;, &quot;dashArray&quot;: null, &quot;dashOffset&quot;: null, &quot;fill&quot;: true, &quot;fillColor&quot;: &quot;black&quot;, &quot;fillOpacity&quot;: 0.7, &quot;fillRule&quot;: &quot;evenodd&quot;, &quot;lineCap&quot;: &quot;round&quot;, &quot;lineJoin&quot;: &quot;round&quot;, &quot;opacity&quot;: 1.0, &quot;radius&quot;: 2.23606797749979, &quot;stroke&quot;: true, &quot;weight&quot;: 3}\n",
       "            ).addTo(map_3b07ff33e33ac2836a73bdc846789b71);\n",
       "        \n",
       "    \n",
       "        var popup_f54db33f7a3deff8bcd6d6b272bece3d = L.popup({\n",
       "  &quot;maxWidth&quot;: &quot;100%&quot;,\n",
       "  &quot;autoClose&quot;: null,\n",
       "  &quot;closeOnClick&quot;: null,\n",
       "});\n",
       "\n",
       "        \n",
       "            \n",
       "                var html_e664e153b31aa07f8cc3b0667c1c1708 = $(`&lt;div id=&quot;html_e664e153b31aa07f8cc3b0667c1c1708&quot; style=&quot;width: 100.0%; height: 100.0%;&quot;&gt;Cambodia: 5 contents&lt;/div&gt;`)[0];\n",
       "                popup_f54db33f7a3deff8bcd6d6b272bece3d.setContent(html_e664e153b31aa07f8cc3b0667c1c1708);\n",
       "            \n",
       "        \n",
       "\n",
       "        circle_marker_c3fc0cd9cd17f8a1e981e5375ac10781.bindPopup(popup_f54db33f7a3deff8bcd6d6b272bece3d)\n",
       "        ;\n",
       "\n",
       "        \n",
       "    \n",
       "    \n",
       "            var circle_marker_81e96b41f1d5f29822e172dc305a968e = L.circleMarker(\n",
       "                [7.9465, -1.0232],\n",
       "                {&quot;bubblingMouseEvents&quot;: true, &quot;color&quot;: &quot;red&quot;, &quot;dashArray&quot;: null, &quot;dashOffset&quot;: null, &quot;fill&quot;: true, &quot;fillColor&quot;: &quot;black&quot;, &quot;fillOpacity&quot;: 0.7, &quot;fillRule&quot;: &quot;evenodd&quot;, &quot;lineCap&quot;: &quot;round&quot;, &quot;lineJoin&quot;: &quot;round&quot;, &quot;opacity&quot;: 1.0, &quot;radius&quot;: 2.23606797749979, &quot;stroke&quot;: true, &quot;weight&quot;: 3}\n",
       "            ).addTo(map_3b07ff33e33ac2836a73bdc846789b71);\n",
       "        \n",
       "    \n",
       "        var popup_17f95b0facd7d030734ad00d46772d98 = L.popup({\n",
       "  &quot;maxWidth&quot;: &quot;100%&quot;,\n",
       "  &quot;autoClose&quot;: null,\n",
       "  &quot;closeOnClick&quot;: null,\n",
       "});\n",
       "\n",
       "        \n",
       "            \n",
       "                var html_6460b6cf685c05806d2ced95d4136a06 = $(`&lt;div id=&quot;html_6460b6cf685c05806d2ced95d4136a06&quot; style=&quot;width: 100.0%; height: 100.0%;&quot;&gt;Ghana: 5 contents&lt;/div&gt;`)[0];\n",
       "                popup_17f95b0facd7d030734ad00d46772d98.setContent(html_6460b6cf685c05806d2ced95d4136a06);\n",
       "            \n",
       "        \n",
       "\n",
       "        circle_marker_81e96b41f1d5f29822e172dc305a968e.bindPopup(popup_17f95b0facd7d030734ad00d46772d98)\n",
       "        ;\n",
       "\n",
       "        \n",
       "    \n",
       "    \n",
       "            var circle_marker_0eac6f6a97ae772c67f485ae16b19d30 = L.circleMarker(\n",
       "                [6.4238, -66.5897],\n",
       "                {&quot;bubblingMouseEvents&quot;: true, &quot;color&quot;: &quot;red&quot;, &quot;dashArray&quot;: null, &quot;dashOffset&quot;: null, &quot;fill&quot;: true, &quot;fillColor&quot;: &quot;black&quot;, &quot;fillOpacity&quot;: 0.7, &quot;fillRule&quot;: &quot;evenodd&quot;, &quot;lineCap&quot;: &quot;round&quot;, &quot;lineJoin&quot;: &quot;round&quot;, &quot;opacity&quot;: 1.0, &quot;radius&quot;: 2.0, &quot;stroke&quot;: true, &quot;weight&quot;: 3}\n",
       "            ).addTo(map_3b07ff33e33ac2836a73bdc846789b71);\n",
       "        \n",
       "    \n",
       "        var popup_2530da1e9742710fe74cce5ede591f53 = L.popup({\n",
       "  &quot;maxWidth&quot;: &quot;100%&quot;,\n",
       "  &quot;autoClose&quot;: null,\n",
       "  &quot;closeOnClick&quot;: null,\n",
       "});\n",
       "\n",
       "        \n",
       "            \n",
       "                var html_c105cfd5adb2303dec10831eb8b48065 = $(`&lt;div id=&quot;html_c105cfd5adb2303dec10831eb8b48065&quot; style=&quot;width: 100.0%; height: 100.0%;&quot;&gt;Venezuela: 4 contents&lt;/div&gt;`)[0];\n",
       "                popup_2530da1e9742710fe74cce5ede591f53.setContent(html_c105cfd5adb2303dec10831eb8b48065);\n",
       "            \n",
       "        \n",
       "\n",
       "        circle_marker_0eac6f6a97ae772c67f485ae16b19d30.bindPopup(popup_2530da1e9742710fe74cce5ede591f53)\n",
       "        ;\n",
       "\n",
       "        \n",
       "    \n",
       "    \n",
       "            var circle_marker_899b8e706976c3415020fb410b36c51e = L.circleMarker(\n",
       "                [32.4279, 53.688],\n",
       "                {&quot;bubblingMouseEvents&quot;: true, &quot;color&quot;: &quot;red&quot;, &quot;dashArray&quot;: null, &quot;dashOffset&quot;: null, &quot;fill&quot;: true, &quot;fillColor&quot;: &quot;black&quot;, &quot;fillOpacity&quot;: 0.7, &quot;fillRule&quot;: &quot;evenodd&quot;, &quot;lineCap&quot;: &quot;round&quot;, &quot;lineJoin&quot;: &quot;round&quot;, &quot;opacity&quot;: 1.0, &quot;radius&quot;: 2.0, &quot;stroke&quot;: true, &quot;weight&quot;: 3}\n",
       "            ).addTo(map_3b07ff33e33ac2836a73bdc846789b71);\n",
       "        \n",
       "    \n",
       "        var popup_bccbabd53ccd70031fb6f70f1cfd3b24 = L.popup({\n",
       "  &quot;maxWidth&quot;: &quot;100%&quot;,\n",
       "  &quot;autoClose&quot;: null,\n",
       "  &quot;closeOnClick&quot;: null,\n",
       "});\n",
       "\n",
       "        \n",
       "            \n",
       "                var html_70877fa4678b7fc5aa19faa8481115e3 = $(`&lt;div id=&quot;html_70877fa4678b7fc5aa19faa8481115e3&quot; style=&quot;width: 100.0%; height: 100.0%;&quot;&gt;Iran: 4 contents&lt;/div&gt;`)[0];\n",
       "                popup_bccbabd53ccd70031fb6f70f1cfd3b24.setContent(html_70877fa4678b7fc5aa19faa8481115e3);\n",
       "            \n",
       "        \n",
       "\n",
       "        circle_marker_899b8e706976c3415020fb410b36c51e.bindPopup(popup_bccbabd53ccd70031fb6f70f1cfd3b24)\n",
       "        ;\n",
       "\n",
       "        \n",
       "    \n",
       "    \n",
       "            var circle_marker_bcd68684cd74cdf1383294a88f1d50dd = L.circleMarker(\n",
       "                [23.685, 90.3563],\n",
       "                {&quot;bubblingMouseEvents&quot;: true, &quot;color&quot;: &quot;red&quot;, &quot;dashArray&quot;: null, &quot;dashOffset&quot;: null, &quot;fill&quot;: true, &quot;fillColor&quot;: &quot;black&quot;, &quot;fillOpacity&quot;: 0.7, &quot;fillRule&quot;: &quot;evenodd&quot;, &quot;lineCap&quot;: &quot;round&quot;, &quot;lineJoin&quot;: &quot;round&quot;, &quot;opacity&quot;: 1.0, &quot;radius&quot;: 2.0, &quot;stroke&quot;: true, &quot;weight&quot;: 3}\n",
       "            ).addTo(map_3b07ff33e33ac2836a73bdc846789b71);\n",
       "        \n",
       "    \n",
       "        var popup_0dfa420ffb0806996aeb7143eb69c18a = L.popup({\n",
       "  &quot;maxWidth&quot;: &quot;100%&quot;,\n",
       "  &quot;autoClose&quot;: null,\n",
       "  &quot;closeOnClick&quot;: null,\n",
       "});\n",
       "\n",
       "        \n",
       "            \n",
       "                var html_833083611a3fda7abdf893c4e902f5bc = $(`&lt;div id=&quot;html_833083611a3fda7abdf893c4e902f5bc&quot; style=&quot;width: 100.0%; height: 100.0%;&quot;&gt;Bangladesh: 4 contents&lt;/div&gt;`)[0];\n",
       "                popup_0dfa420ffb0806996aeb7143eb69c18a.setContent(html_833083611a3fda7abdf893c4e902f5bc);\n",
       "            \n",
       "        \n",
       "\n",
       "        circle_marker_bcd68684cd74cdf1383294a88f1d50dd.bindPopup(popup_0dfa420ffb0806996aeb7143eb69c18a)\n",
       "        ;\n",
       "\n",
       "        \n",
       "    \n",
       "    \n",
       "            var circle_marker_313f3061d8443c7eef8e80763b94616e = L.circleMarker(\n",
       "                [45.1, 15.2],\n",
       "                {&quot;bubblingMouseEvents&quot;: true, &quot;color&quot;: &quot;red&quot;, &quot;dashArray&quot;: null, &quot;dashOffset&quot;: null, &quot;fill&quot;: true, &quot;fillColor&quot;: &quot;black&quot;, &quot;fillOpacity&quot;: 0.7, &quot;fillRule&quot;: &quot;evenodd&quot;, &quot;lineCap&quot;: &quot;round&quot;, &quot;lineJoin&quot;: &quot;round&quot;, &quot;opacity&quot;: 1.0, &quot;radius&quot;: 2.0, &quot;stroke&quot;: true, &quot;weight&quot;: 3}\n",
       "            ).addTo(map_3b07ff33e33ac2836a73bdc846789b71);\n",
       "        \n",
       "    \n",
       "        var popup_988e448a095d5b4b6e9eb2658fe84cfc = L.popup({\n",
       "  &quot;maxWidth&quot;: &quot;100%&quot;,\n",
       "  &quot;autoClose&quot;: null,\n",
       "  &quot;closeOnClick&quot;: null,\n",
       "});\n",
       "\n",
       "        \n",
       "            \n",
       "                var html_2a6d8c8c15cce81775884bd6acfc77f4 = $(`&lt;div id=&quot;html_2a6d8c8c15cce81775884bd6acfc77f4&quot; style=&quot;width: 100.0%; height: 100.0%;&quot;&gt;Croatia: 4 contents&lt;/div&gt;`)[0];\n",
       "                popup_988e448a095d5b4b6e9eb2658fe84cfc.setContent(html_2a6d8c8c15cce81775884bd6acfc77f4);\n",
       "            \n",
       "        \n",
       "\n",
       "        circle_marker_313f3061d8443c7eef8e80763b94616e.bindPopup(popup_988e448a095d5b4b6e9eb2658fe84cfc)\n",
       "        ;\n",
       "\n",
       "        \n",
       "    \n",
       "    \n",
       "            var circle_marker_da9454a6542839e56324a7151ce83bdf = L.circleMarker(\n",
       "                [48.3794, 31.1656],\n",
       "                {&quot;bubblingMouseEvents&quot;: true, &quot;color&quot;: &quot;red&quot;, &quot;dashArray&quot;: null, &quot;dashOffset&quot;: null, &quot;fill&quot;: true, &quot;fillColor&quot;: &quot;black&quot;, &quot;fillOpacity&quot;: 0.7, &quot;fillRule&quot;: &quot;evenodd&quot;, &quot;lineCap&quot;: &quot;round&quot;, &quot;lineJoin&quot;: &quot;round&quot;, &quot;opacity&quot;: 1.0, &quot;radius&quot;: 1.7320508075688772, &quot;stroke&quot;: true, &quot;weight&quot;: 3}\n",
       "            ).addTo(map_3b07ff33e33ac2836a73bdc846789b71);\n",
       "        \n",
       "    \n",
       "        var popup_f7aa3ae4138d2226013317c821308757 = L.popup({\n",
       "  &quot;maxWidth&quot;: &quot;100%&quot;,\n",
       "  &quot;autoClose&quot;: null,\n",
       "  &quot;closeOnClick&quot;: null,\n",
       "});\n",
       "\n",
       "        \n",
       "            \n",
       "                var html_e7762dd38b35da5f1a82086ec3880018 = $(`&lt;div id=&quot;html_e7762dd38b35da5f1a82086ec3880018&quot; style=&quot;width: 100.0%; height: 100.0%;&quot;&gt;Ukraine: 3 contents&lt;/div&gt;`)[0];\n",
       "                popup_f7aa3ae4138d2226013317c821308757.setContent(html_e7762dd38b35da5f1a82086ec3880018);\n",
       "            \n",
       "        \n",
       "\n",
       "        circle_marker_da9454a6542839e56324a7151ce83bdf.bindPopup(popup_f7aa3ae4138d2226013317c821308757)\n",
       "        ;\n",
       "\n",
       "        \n",
       "    \n",
       "    \n",
       "            var circle_marker_2fa31b364cac2676dbeeca97f215e3d5 = L.circleMarker(\n",
       "                [35.9375, 14.3754],\n",
       "                {&quot;bubblingMouseEvents&quot;: true, &quot;color&quot;: &quot;red&quot;, &quot;dashArray&quot;: null, &quot;dashOffset&quot;: null, &quot;fill&quot;: true, &quot;fillColor&quot;: &quot;black&quot;, &quot;fillOpacity&quot;: 0.7, &quot;fillRule&quot;: &quot;evenodd&quot;, &quot;lineCap&quot;: &quot;round&quot;, &quot;lineJoin&quot;: &quot;round&quot;, &quot;opacity&quot;: 1.0, &quot;radius&quot;: 1.7320508075688772, &quot;stroke&quot;: true, &quot;weight&quot;: 3}\n",
       "            ).addTo(map_3b07ff33e33ac2836a73bdc846789b71);\n",
       "        \n",
       "    \n",
       "        var popup_ac490497221b86bb85e982892719cacb = L.popup({\n",
       "  &quot;maxWidth&quot;: &quot;100%&quot;,\n",
       "  &quot;autoClose&quot;: null,\n",
       "  &quot;closeOnClick&quot;: null,\n",
       "});\n",
       "\n",
       "        \n",
       "            \n",
       "                var html_0eb950a904de7c8d51fffe56d0c5692e = $(`&lt;div id=&quot;html_0eb950a904de7c8d51fffe56d0c5692e&quot; style=&quot;width: 100.0%; height: 100.0%;&quot;&gt;Malta: 3 contents&lt;/div&gt;`)[0];\n",
       "                popup_ac490497221b86bb85e982892719cacb.setContent(html_0eb950a904de7c8d51fffe56d0c5692e);\n",
       "            \n",
       "        \n",
       "\n",
       "        circle_marker_2fa31b364cac2676dbeeca97f215e3d5.bindPopup(popup_ac490497221b86bb85e982892719cacb)\n",
       "        ;\n",
       "\n",
       "        \n",
       "    \n",
       "    \n",
       "            var circle_marker_7e76c5014ec3d9a2dae2ff24bebf72eb = L.circleMarker(\n",
       "                [34.8021, 38.9968],\n",
       "                {&quot;bubblingMouseEvents&quot;: true, &quot;color&quot;: &quot;red&quot;, &quot;dashArray&quot;: null, &quot;dashOffset&quot;: null, &quot;fill&quot;: true, &quot;fillColor&quot;: &quot;black&quot;, &quot;fillOpacity&quot;: 0.7, &quot;fillRule&quot;: &quot;evenodd&quot;, &quot;lineCap&quot;: &quot;round&quot;, &quot;lineJoin&quot;: &quot;round&quot;, &quot;opacity&quot;: 1.0, &quot;radius&quot;: 1.7320508075688772, &quot;stroke&quot;: true, &quot;weight&quot;: 3}\n",
       "            ).addTo(map_3b07ff33e33ac2836a73bdc846789b71);\n",
       "        \n",
       "    \n",
       "        var popup_73afe6ee928deaa4a0784c8197704e4f = L.popup({\n",
       "  &quot;maxWidth&quot;: &quot;100%&quot;,\n",
       "  &quot;autoClose&quot;: null,\n",
       "  &quot;closeOnClick&quot;: null,\n",
       "});\n",
       "\n",
       "        \n",
       "            \n",
       "                var html_0fb9e0b51689fb06c6affd41d0916b1d = $(`&lt;div id=&quot;html_0fb9e0b51689fb06c6affd41d0916b1d&quot; style=&quot;width: 100.0%; height: 100.0%;&quot;&gt;Syria: 3 contents&lt;/div&gt;`)[0];\n",
       "                popup_73afe6ee928deaa4a0784c8197704e4f.setContent(html_0fb9e0b51689fb06c6affd41d0916b1d);\n",
       "            \n",
       "        \n",
       "\n",
       "        circle_marker_7e76c5014ec3d9a2dae2ff24bebf72eb.bindPopup(popup_73afe6ee928deaa4a0784c8197704e4f)\n",
       "        ;\n",
       "\n",
       "        \n",
       "    \n",
       "    \n",
       "            var circle_marker_f82a6acd47c753ac9592bfb9827ccc1c = L.circleMarker(\n",
       "                [28.0339, 1.6596],\n",
       "                {&quot;bubblingMouseEvents&quot;: true, &quot;color&quot;: &quot;red&quot;, &quot;dashArray&quot;: null, &quot;dashOffset&quot;: null, &quot;fill&quot;: true, &quot;fillColor&quot;: &quot;black&quot;, &quot;fillOpacity&quot;: 0.7, &quot;fillRule&quot;: &quot;evenodd&quot;, &quot;lineCap&quot;: &quot;round&quot;, &quot;lineJoin&quot;: &quot;round&quot;, &quot;opacity&quot;: 1.0, &quot;radius&quot;: 1.7320508075688772, &quot;stroke&quot;: true, &quot;weight&quot;: 3}\n",
       "            ).addTo(map_3b07ff33e33ac2836a73bdc846789b71);\n",
       "        \n",
       "    \n",
       "        var popup_0a17a17d1ffb7b629f3926ae6477b985 = L.popup({\n",
       "  &quot;maxWidth&quot;: &quot;100%&quot;,\n",
       "  &quot;autoClose&quot;: null,\n",
       "  &quot;closeOnClick&quot;: null,\n",
       "});\n",
       "\n",
       "        \n",
       "            \n",
       "                var html_b2a4203ac7dabb8efec6cadb62d86e31 = $(`&lt;div id=&quot;html_b2a4203ac7dabb8efec6cadb62d86e31&quot; style=&quot;width: 100.0%; height: 100.0%;&quot;&gt;Algeria: 3 contents&lt;/div&gt;`)[0];\n",
       "                popup_0a17a17d1ffb7b629f3926ae6477b985.setContent(html_b2a4203ac7dabb8efec6cadb62d86e31);\n",
       "            \n",
       "        \n",
       "\n",
       "        circle_marker_f82a6acd47c753ac9592bfb9827ccc1c.bindPopup(popup_0a17a17d1ffb7b629f3926ae6477b985)\n",
       "        ;\n",
       "\n",
       "        \n",
       "    \n",
       "    \n",
       "            var circle_marker_99132b96f47c89458473cb8ba3269e0e = L.circleMarker(\n",
       "                [46.1512, 14.9955],\n",
       "                {&quot;bubblingMouseEvents&quot;: true, &quot;color&quot;: &quot;red&quot;, &quot;dashArray&quot;: null, &quot;dashOffset&quot;: null, &quot;fill&quot;: true, &quot;fillColor&quot;: &quot;black&quot;, &quot;fillOpacity&quot;: 0.7, &quot;fillRule&quot;: &quot;evenodd&quot;, &quot;lineCap&quot;: &quot;round&quot;, &quot;lineJoin&quot;: &quot;round&quot;, &quot;opacity&quot;: 1.0, &quot;radius&quot;: 1.7320508075688772, &quot;stroke&quot;: true, &quot;weight&quot;: 3}\n",
       "            ).addTo(map_3b07ff33e33ac2836a73bdc846789b71);\n",
       "        \n",
       "    \n",
       "        var popup_af7937bb56203880625980e6c01727af = L.popup({\n",
       "  &quot;maxWidth&quot;: &quot;100%&quot;,\n",
       "  &quot;autoClose&quot;: null,\n",
       "  &quot;closeOnClick&quot;: null,\n",
       "});\n",
       "\n",
       "        \n",
       "            \n",
       "                var html_facaea7211351f4b39fc912533c80b53 = $(`&lt;div id=&quot;html_facaea7211351f4b39fc912533c80b53&quot; style=&quot;width: 100.0%; height: 100.0%;&quot;&gt;Slovenia: 3 contents&lt;/div&gt;`)[0];\n",
       "                popup_af7937bb56203880625980e6c01727af.setContent(html_facaea7211351f4b39fc912533c80b53);\n",
       "            \n",
       "        \n",
       "\n",
       "        circle_marker_99132b96f47c89458473cb8ba3269e0e.bindPopup(popup_af7937bb56203880625980e6c01727af)\n",
       "        ;\n",
       "\n",
       "        \n",
       "    \n",
       "    \n",
       "            var circle_marker_45c5ccc1440611d5b54e9aec2020887d = L.circleMarker(\n",
       "                [14.4974, -14.4524],\n",
       "                {&quot;bubblingMouseEvents&quot;: true, &quot;color&quot;: &quot;red&quot;, &quot;dashArray&quot;: null, &quot;dashOffset&quot;: null, &quot;fill&quot;: true, &quot;fillColor&quot;: &quot;black&quot;, &quot;fillOpacity&quot;: 0.7, &quot;fillRule&quot;: &quot;evenodd&quot;, &quot;lineCap&quot;: &quot;round&quot;, &quot;lineJoin&quot;: &quot;round&quot;, &quot;opacity&quot;: 1.0, &quot;radius&quot;: 1.7320508075688772, &quot;stroke&quot;: true, &quot;weight&quot;: 3}\n",
       "            ).addTo(map_3b07ff33e33ac2836a73bdc846789b71);\n",
       "        \n",
       "    \n",
       "        var popup_2e46edc8b13df2a3bacdd6ed0f5b939a = L.popup({\n",
       "  &quot;maxWidth&quot;: &quot;100%&quot;,\n",
       "  &quot;autoClose&quot;: null,\n",
       "  &quot;closeOnClick&quot;: null,\n",
       "});\n",
       "\n",
       "        \n",
       "            \n",
       "                var html_daddc4fa0455ced2a000582b6743ac69 = $(`&lt;div id=&quot;html_daddc4fa0455ced2a000582b6743ac69&quot; style=&quot;width: 100.0%; height: 100.0%;&quot;&gt;Senegal: 3 contents&lt;/div&gt;`)[0];\n",
       "                popup_2e46edc8b13df2a3bacdd6ed0f5b939a.setContent(html_daddc4fa0455ced2a000582b6743ac69);\n",
       "            \n",
       "        \n",
       "\n",
       "        circle_marker_45c5ccc1440611d5b54e9aec2020887d.bindPopup(popup_2e46edc8b13df2a3bacdd6ed0f5b939a)\n",
       "        ;\n",
       "\n",
       "        \n",
       "    \n",
       "    \n",
       "            var circle_marker_a6428950927be589832733608fdab3c6 = L.circleMarker(\n",
       "                [-19.0154, 29.1549],\n",
       "                {&quot;bubblingMouseEvents&quot;: true, &quot;color&quot;: &quot;red&quot;, &quot;dashArray&quot;: null, &quot;dashOffset&quot;: null, &quot;fill&quot;: true, &quot;fillColor&quot;: &quot;black&quot;, &quot;fillOpacity&quot;: 0.7, &quot;fillRule&quot;: &quot;evenodd&quot;, &quot;lineCap&quot;: &quot;round&quot;, &quot;lineJoin&quot;: &quot;round&quot;, &quot;opacity&quot;: 1.0, &quot;radius&quot;: 1.7320508075688772, &quot;stroke&quot;: true, &quot;weight&quot;: 3}\n",
       "            ).addTo(map_3b07ff33e33ac2836a73bdc846789b71);\n",
       "        \n",
       "    \n",
       "        var popup_49d21da28e433f1f3a738d12540eb6d5 = L.popup({\n",
       "  &quot;maxWidth&quot;: &quot;100%&quot;,\n",
       "  &quot;autoClose&quot;: null,\n",
       "  &quot;closeOnClick&quot;: null,\n",
       "});\n",
       "\n",
       "        \n",
       "            \n",
       "                var html_eef7d8352800c4cb8b98807f3ed36437 = $(`&lt;div id=&quot;html_eef7d8352800c4cb8b98807f3ed36437&quot; style=&quot;width: 100.0%; height: 100.0%;&quot;&gt;Zimbabwe: 3 contents&lt;/div&gt;`)[0];\n",
       "                popup_49d21da28e433f1f3a738d12540eb6d5.setContent(html_eef7d8352800c4cb8b98807f3ed36437);\n",
       "            \n",
       "        \n",
       "\n",
       "        circle_marker_a6428950927be589832733608fdab3c6.bindPopup(popup_49d21da28e433f1f3a738d12540eb6d5)\n",
       "        ;\n",
       "\n",
       "        \n",
       "    \n",
       "    \n",
       "            var circle_marker_01884e8e8edbe0957e4469f068b4ebe3 = L.circleMarker(\n",
       "                [42.3154, 43.3569],\n",
       "                {&quot;bubblingMouseEvents&quot;: true, &quot;color&quot;: &quot;red&quot;, &quot;dashArray&quot;: null, &quot;dashOffset&quot;: null, &quot;fill&quot;: true, &quot;fillColor&quot;: &quot;black&quot;, &quot;fillOpacity&quot;: 0.7, &quot;fillRule&quot;: &quot;evenodd&quot;, &quot;lineCap&quot;: &quot;round&quot;, &quot;lineJoin&quot;: &quot;round&quot;, &quot;opacity&quot;: 1.0, &quot;radius&quot;: 1.4142135623730951, &quot;stroke&quot;: true, &quot;weight&quot;: 3}\n",
       "            ).addTo(map_3b07ff33e33ac2836a73bdc846789b71);\n",
       "        \n",
       "    \n",
       "        var popup_76ce4476491572c6143b6971bac97c55 = L.popup({\n",
       "  &quot;maxWidth&quot;: &quot;100%&quot;,\n",
       "  &quot;autoClose&quot;: null,\n",
       "  &quot;closeOnClick&quot;: null,\n",
       "});\n",
       "\n",
       "        \n",
       "            \n",
       "                var html_2002cb01cd4e4765de5536ffa4d3253f = $(`&lt;div id=&quot;html_2002cb01cd4e4765de5536ffa4d3253f&quot; style=&quot;width: 100.0%; height: 100.0%;&quot;&gt;Georgia: 2 contents&lt;/div&gt;`)[0];\n",
       "                popup_76ce4476491572c6143b6971bac97c55.setContent(html_2002cb01cd4e4765de5536ffa4d3253f);\n",
       "            \n",
       "        \n",
       "\n",
       "        circle_marker_01884e8e8edbe0957e4469f068b4ebe3.bindPopup(popup_76ce4476491572c6143b6971bac97c55)\n",
       "        ;\n",
       "\n",
       "        \n",
       "    \n",
       "    \n",
       "            var circle_marker_006681ac747862ab9d14f9c3ea3528da = L.circleMarker(\n",
       "                [33.2232, 43.6793],\n",
       "                {&quot;bubblingMouseEvents&quot;: true, &quot;color&quot;: &quot;red&quot;, &quot;dashArray&quot;: null, &quot;dashOffset&quot;: null, &quot;fill&quot;: true, &quot;fillColor&quot;: &quot;black&quot;, &quot;fillOpacity&quot;: 0.7, &quot;fillRule&quot;: &quot;evenodd&quot;, &quot;lineCap&quot;: &quot;round&quot;, &quot;lineJoin&quot;: &quot;round&quot;, &quot;opacity&quot;: 1.0, &quot;radius&quot;: 1.4142135623730951, &quot;stroke&quot;: true, &quot;weight&quot;: 3}\n",
       "            ).addTo(map_3b07ff33e33ac2836a73bdc846789b71);\n",
       "        \n",
       "    \n",
       "        var popup_ea221b18ed59b22205bbe17f66f5b1be = L.popup({\n",
       "  &quot;maxWidth&quot;: &quot;100%&quot;,\n",
       "  &quot;autoClose&quot;: null,\n",
       "  &quot;closeOnClick&quot;: null,\n",
       "});\n",
       "\n",
       "        \n",
       "            \n",
       "                var html_1e605f442d015b2ae4eeecbdd769a594 = $(`&lt;div id=&quot;html_1e605f442d015b2ae4eeecbdd769a594&quot; style=&quot;width: 100.0%; height: 100.0%;&quot;&gt;Iraq: 2 contents&lt;/div&gt;`)[0];\n",
       "                popup_ea221b18ed59b22205bbe17f66f5b1be.setContent(html_1e605f442d015b2ae4eeecbdd769a594);\n",
       "            \n",
       "        \n",
       "\n",
       "        circle_marker_006681ac747862ab9d14f9c3ea3528da.bindPopup(popup_ea221b18ed59b22205bbe17f66f5b1be)\n",
       "        ;\n",
       "\n",
       "        \n",
       "    \n",
       "    \n",
       "            var circle_marker_4949d73869c853ea542a87fb94d3e4e0 = L.circleMarker(\n",
       "                [15.7835, -90.2308],\n",
       "                {&quot;bubblingMouseEvents&quot;: true, &quot;color&quot;: &quot;red&quot;, &quot;dashArray&quot;: null, &quot;dashOffset&quot;: null, &quot;fill&quot;: true, &quot;fillColor&quot;: &quot;black&quot;, &quot;fillOpacity&quot;: 0.7, &quot;fillRule&quot;: &quot;evenodd&quot;, &quot;lineCap&quot;: &quot;round&quot;, &quot;lineJoin&quot;: &quot;round&quot;, &quot;opacity&quot;: 1.0, &quot;radius&quot;: 1.4142135623730951, &quot;stroke&quot;: true, &quot;weight&quot;: 3}\n",
       "            ).addTo(map_3b07ff33e33ac2836a73bdc846789b71);\n",
       "        \n",
       "    \n",
       "        var popup_fc5af87d7b72f4c73512ede96dd9ca45 = L.popup({\n",
       "  &quot;maxWidth&quot;: &quot;100%&quot;,\n",
       "  &quot;autoClose&quot;: null,\n",
       "  &quot;closeOnClick&quot;: null,\n",
       "});\n",
       "\n",
       "        \n",
       "            \n",
       "                var html_8c7ac5aa80700addd21e066c6708ce46 = $(`&lt;div id=&quot;html_8c7ac5aa80700addd21e066c6708ce46&quot; style=&quot;width: 100.0%; height: 100.0%;&quot;&gt;Guatemala: 2 contents&lt;/div&gt;`)[0];\n",
       "                popup_fc5af87d7b72f4c73512ede96dd9ca45.setContent(html_8c7ac5aa80700addd21e066c6708ce46);\n",
       "            \n",
       "        \n",
       "\n",
       "        circle_marker_4949d73869c853ea542a87fb94d3e4e0.bindPopup(popup_fc5af87d7b72f4c73512ede96dd9ca45)\n",
       "        ;\n",
       "\n",
       "        \n",
       "    \n",
       "    \n",
       "            var circle_marker_db129a5bc0f2c15ba6ead8cadadae85f = L.circleMarker(\n",
       "                [28.3949, 84.124],\n",
       "                {&quot;bubblingMouseEvents&quot;: true, &quot;color&quot;: &quot;red&quot;, &quot;dashArray&quot;: null, &quot;dashOffset&quot;: null, &quot;fill&quot;: true, &quot;fillColor&quot;: &quot;black&quot;, &quot;fillOpacity&quot;: 0.7, &quot;fillRule&quot;: &quot;evenodd&quot;, &quot;lineCap&quot;: &quot;round&quot;, &quot;lineJoin&quot;: &quot;round&quot;, &quot;opacity&quot;: 1.0, &quot;radius&quot;: 1.4142135623730951, &quot;stroke&quot;: true, &quot;weight&quot;: 3}\n",
       "            ).addTo(map_3b07ff33e33ac2836a73bdc846789b71);\n",
       "        \n",
       "    \n",
       "        var popup_dbdf36671ae9652fe31984193120fdeb = L.popup({\n",
       "  &quot;maxWidth&quot;: &quot;100%&quot;,\n",
       "  &quot;autoClose&quot;: null,\n",
       "  &quot;closeOnClick&quot;: null,\n",
       "});\n",
       "\n",
       "        \n",
       "            \n",
       "                var html_307f6ca83011d9f4662db54f3ae8f38c = $(`&lt;div id=&quot;html_307f6ca83011d9f4662db54f3ae8f38c&quot; style=&quot;width: 100.0%; height: 100.0%;&quot;&gt;Nepal: 2 contents&lt;/div&gt;`)[0];\n",
       "                popup_dbdf36671ae9652fe31984193120fdeb.setContent(html_307f6ca83011d9f4662db54f3ae8f38c);\n",
       "            \n",
       "        \n",
       "\n",
       "        circle_marker_db129a5bc0f2c15ba6ead8cadadae85f.bindPopup(popup_dbdf36671ae9652fe31984193120fdeb)\n",
       "        ;\n",
       "\n",
       "        \n",
       "    \n",
       "    \n",
       "            var circle_marker_add803d635495d29041192b5000c5cc7 = L.circleMarker(\n",
       "                [-22.9576, 18.4904],\n",
       "                {&quot;bubblingMouseEvents&quot;: true, &quot;color&quot;: &quot;red&quot;, &quot;dashArray&quot;: null, &quot;dashOffset&quot;: null, &quot;fill&quot;: true, &quot;fillColor&quot;: &quot;black&quot;, &quot;fillOpacity&quot;: 0.7, &quot;fillRule&quot;: &quot;evenodd&quot;, &quot;lineCap&quot;: &quot;round&quot;, &quot;lineJoin&quot;: &quot;round&quot;, &quot;opacity&quot;: 1.0, &quot;radius&quot;: 1.4142135623730951, &quot;stroke&quot;: true, &quot;weight&quot;: 3}\n",
       "            ).addTo(map_3b07ff33e33ac2836a73bdc846789b71);\n",
       "        \n",
       "    \n",
       "        var popup_af291a721da8e62b3bcee5535ddabfd2 = L.popup({\n",
       "  &quot;maxWidth&quot;: &quot;100%&quot;,\n",
       "  &quot;autoClose&quot;: null,\n",
       "  &quot;closeOnClick&quot;: null,\n",
       "});\n",
       "\n",
       "        \n",
       "            \n",
       "                var html_1d4b50a3b04501c63aa90c73fc148b57 = $(`&lt;div id=&quot;html_1d4b50a3b04501c63aa90c73fc148b57&quot; style=&quot;width: 100.0%; height: 100.0%;&quot;&gt;Namibia: 2 contents&lt;/div&gt;`)[0];\n",
       "                popup_af291a721da8e62b3bcee5535ddabfd2.setContent(html_1d4b50a3b04501c63aa90c73fc148b57);\n",
       "            \n",
       "        \n",
       "\n",
       "        circle_marker_add803d635495d29041192b5000c5cc7.bindPopup(popup_af291a721da8e62b3bcee5535ddabfd2)\n",
       "        ;\n",
       "\n",
       "        \n",
       "    \n",
       "    \n",
       "            var circle_marker_26431d9e7cb79f00e32885dfdc434048 = L.circleMarker(\n",
       "                [-20.3484, 57.5522],\n",
       "                {&quot;bubblingMouseEvents&quot;: true, &quot;color&quot;: &quot;red&quot;, &quot;dashArray&quot;: null, &quot;dashOffset&quot;: null, &quot;fill&quot;: true, &quot;fillColor&quot;: &quot;black&quot;, &quot;fillOpacity&quot;: 0.7, &quot;fillRule&quot;: &quot;evenodd&quot;, &quot;lineCap&quot;: &quot;round&quot;, &quot;lineJoin&quot;: &quot;round&quot;, &quot;opacity&quot;: 1.0, &quot;radius&quot;: 1.4142135623730951, &quot;stroke&quot;: true, &quot;weight&quot;: 3}\n",
       "            ).addTo(map_3b07ff33e33ac2836a73bdc846789b71);\n",
       "        \n",
       "    \n",
       "        var popup_8ba8ea0afedab9aa928e718524568199 = L.popup({\n",
       "  &quot;maxWidth&quot;: &quot;100%&quot;,\n",
       "  &quot;autoClose&quot;: null,\n",
       "  &quot;closeOnClick&quot;: null,\n",
       "});\n",
       "\n",
       "        \n",
       "            \n",
       "                var html_006fbcc7621b03e0b2e6c2c0e9735721 = $(`&lt;div id=&quot;html_006fbcc7621b03e0b2e6c2c0e9735721&quot; style=&quot;width: 100.0%; height: 100.0%;&quot;&gt;Mauritius: 2 contents&lt;/div&gt;`)[0];\n",
       "                popup_8ba8ea0afedab9aa928e718524568199.setContent(html_006fbcc7621b03e0b2e6c2c0e9735721);\n",
       "            \n",
       "        \n",
       "\n",
       "        circle_marker_26431d9e7cb79f00e32885dfdc434048.bindPopup(popup_8ba8ea0afedab9aa928e718524568199)\n",
       "        ;\n",
       "\n",
       "        \n",
       "    \n",
       "    \n",
       "            var circle_marker_43d901913a6728898dd710c2fc48b1ef = L.circleMarker(\n",
       "                [19.3133, -81.2546],\n",
       "                {&quot;bubblingMouseEvents&quot;: true, &quot;color&quot;: &quot;red&quot;, &quot;dashArray&quot;: null, &quot;dashOffset&quot;: null, &quot;fill&quot;: true, &quot;fillColor&quot;: &quot;black&quot;, &quot;fillOpacity&quot;: 0.7, &quot;fillRule&quot;: &quot;evenodd&quot;, &quot;lineCap&quot;: &quot;round&quot;, &quot;lineJoin&quot;: &quot;round&quot;, &quot;opacity&quot;: 1.0, &quot;radius&quot;: 1.4142135623730951, &quot;stroke&quot;: true, &quot;weight&quot;: 3}\n",
       "            ).addTo(map_3b07ff33e33ac2836a73bdc846789b71);\n",
       "        \n",
       "    \n",
       "        var popup_51737c94c5dc7ff25164c57c48c025a9 = L.popup({\n",
       "  &quot;maxWidth&quot;: &quot;100%&quot;,\n",
       "  &quot;autoClose&quot;: null,\n",
       "  &quot;closeOnClick&quot;: null,\n",
       "});\n",
       "\n",
       "        \n",
       "            \n",
       "                var html_737d583d1392dd0441db1f53e0767102 = $(`&lt;div id=&quot;html_737d583d1392dd0441db1f53e0767102&quot; style=&quot;width: 100.0%; height: 100.0%;&quot;&gt;Cayman Islands: 2 contents&lt;/div&gt;`)[0];\n",
       "                popup_51737c94c5dc7ff25164c57c48c025a9.setContent(html_737d583d1392dd0441db1f53e0767102);\n",
       "            \n",
       "        \n",
       "\n",
       "        circle_marker_43d901913a6728898dd710c2fc48b1ef.bindPopup(popup_51737c94c5dc7ff25164c57c48c025a9)\n",
       "        ;\n",
       "\n",
       "        \n",
       "    \n",
       "    \n",
       "            var circle_marker_e603b0863a909a9c8c3a4c3fabcc793d = L.circleMarker(\n",
       "                [-11.2027, 17.8739],\n",
       "                {&quot;bubblingMouseEvents&quot;: true, &quot;color&quot;: &quot;red&quot;, &quot;dashArray&quot;: null, &quot;dashOffset&quot;: null, &quot;fill&quot;: true, &quot;fillColor&quot;: &quot;black&quot;, &quot;fillOpacity&quot;: 0.7, &quot;fillRule&quot;: &quot;evenodd&quot;, &quot;lineCap&quot;: &quot;round&quot;, &quot;lineJoin&quot;: &quot;round&quot;, &quot;opacity&quot;: 1.0, &quot;radius&quot;: 1.0, &quot;stroke&quot;: true, &quot;weight&quot;: 3}\n",
       "            ).addTo(map_3b07ff33e33ac2836a73bdc846789b71);\n",
       "        \n",
       "    \n",
       "        var popup_e9cb7c29b64dd601258fbdc6e44cc1e5 = L.popup({\n",
       "  &quot;maxWidth&quot;: &quot;100%&quot;,\n",
       "  &quot;autoClose&quot;: null,\n",
       "  &quot;closeOnClick&quot;: null,\n",
       "});\n",
       "\n",
       "        \n",
       "            \n",
       "                var html_678d24b4fd585bcc85b8a551ef452f9a = $(`&lt;div id=&quot;html_678d24b4fd585bcc85b8a551ef452f9a&quot; style=&quot;width: 100.0%; height: 100.0%;&quot;&gt;Angola: 1 contents&lt;/div&gt;`)[0];\n",
       "                popup_e9cb7c29b64dd601258fbdc6e44cc1e5.setContent(html_678d24b4fd585bcc85b8a551ef452f9a);\n",
       "            \n",
       "        \n",
       "\n",
       "        circle_marker_e603b0863a909a9c8c3a4c3fabcc793d.bindPopup(popup_e9cb7c29b64dd601258fbdc6e44cc1e5)\n",
       "        ;\n",
       "\n",
       "        \n",
       "    \n",
       "    \n",
       "            var circle_marker_3fb5005582c8f509b77abbc9c6b8236f = L.circleMarker(\n",
       "                [41.1533, 20.1683],\n",
       "                {&quot;bubblingMouseEvents&quot;: true, &quot;color&quot;: &quot;red&quot;, &quot;dashArray&quot;: null, &quot;dashOffset&quot;: null, &quot;fill&quot;: true, &quot;fillColor&quot;: &quot;black&quot;, &quot;fillOpacity&quot;: 0.7, &quot;fillRule&quot;: &quot;evenodd&quot;, &quot;lineCap&quot;: &quot;round&quot;, &quot;lineJoin&quot;: &quot;round&quot;, &quot;opacity&quot;: 1.0, &quot;radius&quot;: 1.0, &quot;stroke&quot;: true, &quot;weight&quot;: 3}\n",
       "            ).addTo(map_3b07ff33e33ac2836a73bdc846789b71);\n",
       "        \n",
       "    \n",
       "        var popup_2b09a0e14b38ad9320de35cf3e2f1639 = L.popup({\n",
       "  &quot;maxWidth&quot;: &quot;100%&quot;,\n",
       "  &quot;autoClose&quot;: null,\n",
       "  &quot;closeOnClick&quot;: null,\n",
       "});\n",
       "\n",
       "        \n",
       "            \n",
       "                var html_b3aeb9584aad4688b1785d77cd36613d = $(`&lt;div id=&quot;html_b3aeb9584aad4688b1785d77cd36613d&quot; style=&quot;width: 100.0%; height: 100.0%;&quot;&gt;Albania: 1 contents&lt;/div&gt;`)[0];\n",
       "                popup_2b09a0e14b38ad9320de35cf3e2f1639.setContent(html_b3aeb9584aad4688b1785d77cd36613d);\n",
       "            \n",
       "        \n",
       "\n",
       "        circle_marker_3fb5005582c8f509b77abbc9c6b8236f.bindPopup(popup_2b09a0e14b38ad9320de35cf3e2f1639)\n",
       "        ;\n",
       "\n",
       "        \n",
       "    \n",
       "    \n",
       "            var circle_marker_436e978bce1b7037e58fafc712deba29 = L.circleMarker(\n",
       "                [33.9391, 67.71],\n",
       "                {&quot;bubblingMouseEvents&quot;: true, &quot;color&quot;: &quot;red&quot;, &quot;dashArray&quot;: null, &quot;dashOffset&quot;: null, &quot;fill&quot;: true, &quot;fillColor&quot;: &quot;black&quot;, &quot;fillOpacity&quot;: 0.7, &quot;fillRule&quot;: &quot;evenodd&quot;, &quot;lineCap&quot;: &quot;round&quot;, &quot;lineJoin&quot;: &quot;round&quot;, &quot;opacity&quot;: 1.0, &quot;radius&quot;: 1.0, &quot;stroke&quot;: true, &quot;weight&quot;: 3}\n",
       "            ).addTo(map_3b07ff33e33ac2836a73bdc846789b71);\n",
       "        \n",
       "    \n",
       "        var popup_affae3bc8ec4c624ad16f2a266d1cf8c = L.popup({\n",
       "  &quot;maxWidth&quot;: &quot;100%&quot;,\n",
       "  &quot;autoClose&quot;: null,\n",
       "  &quot;closeOnClick&quot;: null,\n",
       "});\n",
       "\n",
       "        \n",
       "            \n",
       "                var html_58eb62acc65d3fe59c5fc553c58b7dbd = $(`&lt;div id=&quot;html_58eb62acc65d3fe59c5fc553c58b7dbd&quot; style=&quot;width: 100.0%; height: 100.0%;&quot;&gt;Afghanistan: 1 contents&lt;/div&gt;`)[0];\n",
       "                popup_affae3bc8ec4c624ad16f2a266d1cf8c.setContent(html_58eb62acc65d3fe59c5fc553c58b7dbd);\n",
       "            \n",
       "        \n",
       "\n",
       "        circle_marker_436e978bce1b7037e58fafc712deba29.bindPopup(popup_affae3bc8ec4c624ad16f2a266d1cf8c)\n",
       "        ;\n",
       "\n",
       "        \n",
       "    \n",
       "    \n",
       "            var circle_marker_3384da883da99262e309b9bdcb397ca1 = L.circleMarker(\n",
       "                [-22.3285, 24.6849],\n",
       "                {&quot;bubblingMouseEvents&quot;: true, &quot;color&quot;: &quot;red&quot;, &quot;dashArray&quot;: null, &quot;dashOffset&quot;: null, &quot;fill&quot;: true, &quot;fillColor&quot;: &quot;black&quot;, &quot;fillOpacity&quot;: 0.7, &quot;fillRule&quot;: &quot;evenodd&quot;, &quot;lineCap&quot;: &quot;round&quot;, &quot;lineJoin&quot;: &quot;round&quot;, &quot;opacity&quot;: 1.0, &quot;radius&quot;: 1.0, &quot;stroke&quot;: true, &quot;weight&quot;: 3}\n",
       "            ).addTo(map_3b07ff33e33ac2836a73bdc846789b71);\n",
       "        \n",
       "    \n",
       "        var popup_5f8dc843407e0c8088944a7cdb68abf3 = L.popup({\n",
       "  &quot;maxWidth&quot;: &quot;100%&quot;,\n",
       "  &quot;autoClose&quot;: null,\n",
       "  &quot;closeOnClick&quot;: null,\n",
       "});\n",
       "\n",
       "        \n",
       "            \n",
       "                var html_3ee5db18b147cd086aa522211129e425 = $(`&lt;div id=&quot;html_3ee5db18b147cd086aa522211129e425&quot; style=&quot;width: 100.0%; height: 100.0%;&quot;&gt;Botswana: 1 contents&lt;/div&gt;`)[0];\n",
       "                popup_5f8dc843407e0c8088944a7cdb68abf3.setContent(html_3ee5db18b147cd086aa522211129e425);\n",
       "            \n",
       "        \n",
       "\n",
       "        circle_marker_3384da883da99262e309b9bdcb397ca1.bindPopup(popup_5f8dc843407e0c8088944a7cdb68abf3)\n",
       "        ;\n",
       "\n",
       "        \n",
       "    \n",
       "    \n",
       "            var circle_marker_61fd3d2169320218033c05d53ddbe48e = L.circleMarker(\n",
       "                [25.0343, -77.3963],\n",
       "                {&quot;bubblingMouseEvents&quot;: true, &quot;color&quot;: &quot;red&quot;, &quot;dashArray&quot;: null, &quot;dashOffset&quot;: null, &quot;fill&quot;: true, &quot;fillColor&quot;: &quot;black&quot;, &quot;fillOpacity&quot;: 0.7, &quot;fillRule&quot;: &quot;evenodd&quot;, &quot;lineCap&quot;: &quot;round&quot;, &quot;lineJoin&quot;: &quot;round&quot;, &quot;opacity&quot;: 1.0, &quot;radius&quot;: 1.0, &quot;stroke&quot;: true, &quot;weight&quot;: 3}\n",
       "            ).addTo(map_3b07ff33e33ac2836a73bdc846789b71);\n",
       "        \n",
       "    \n",
       "        var popup_5f9fc65032d42bb337b4f6878af2d1fb = L.popup({\n",
       "  &quot;maxWidth&quot;: &quot;100%&quot;,\n",
       "  &quot;autoClose&quot;: null,\n",
       "  &quot;closeOnClick&quot;: null,\n",
       "});\n",
       "\n",
       "        \n",
       "            \n",
       "                var html_d7a72554a7e25d6c4116e16bffccfbc8 = $(`&lt;div id=&quot;html_d7a72554a7e25d6c4116e16bffccfbc8&quot; style=&quot;width: 100.0%; height: 100.0%;&quot;&gt;Bahamas: 1 contents&lt;/div&gt;`)[0];\n",
       "                popup_5f9fc65032d42bb337b4f6878af2d1fb.setContent(html_d7a72554a7e25d6c4116e16bffccfbc8);\n",
       "            \n",
       "        \n",
       "\n",
       "        circle_marker_61fd3d2169320218033c05d53ddbe48e.bindPopup(popup_5f9fc65032d42bb337b4f6878af2d1fb)\n",
       "        ;\n",
       "\n",
       "        \n",
       "    \n",
       "    \n",
       "            var circle_marker_24716cbe5c139ac13bca954240e0d2fc = L.circleMarker(\n",
       "                [40.1431, 47.5769],\n",
       "                {&quot;bubblingMouseEvents&quot;: true, &quot;color&quot;: &quot;red&quot;, &quot;dashArray&quot;: null, &quot;dashOffset&quot;: null, &quot;fill&quot;: true, &quot;fillColor&quot;: &quot;black&quot;, &quot;fillOpacity&quot;: 0.7, &quot;fillRule&quot;: &quot;evenodd&quot;, &quot;lineCap&quot;: &quot;round&quot;, &quot;lineJoin&quot;: &quot;round&quot;, &quot;opacity&quot;: 1.0, &quot;radius&quot;: 1.0, &quot;stroke&quot;: true, &quot;weight&quot;: 3}\n",
       "            ).addTo(map_3b07ff33e33ac2836a73bdc846789b71);\n",
       "        \n",
       "    \n",
       "        var popup_e290092ff166f2938cd5f9e9126fc5c6 = L.popup({\n",
       "  &quot;maxWidth&quot;: &quot;100%&quot;,\n",
       "  &quot;autoClose&quot;: null,\n",
       "  &quot;closeOnClick&quot;: null,\n",
       "});\n",
       "\n",
       "        \n",
       "            \n",
       "                var html_95a9ef054c2c7fa30ae12eb40e7840a4 = $(`&lt;div id=&quot;html_95a9ef054c2c7fa30ae12eb40e7840a4&quot; style=&quot;width: 100.0%; height: 100.0%;&quot;&gt;Azerbaijan: 1 contents&lt;/div&gt;`)[0];\n",
       "                popup_e290092ff166f2938cd5f9e9126fc5c6.setContent(html_95a9ef054c2c7fa30ae12eb40e7840a4);\n",
       "            \n",
       "        \n",
       "\n",
       "        circle_marker_24716cbe5c139ac13bca954240e0d2fc.bindPopup(popup_e290092ff166f2938cd5f9e9126fc5c6)\n",
       "        ;\n",
       "\n",
       "        \n",
       "    \n",
       "    \n",
       "            var circle_marker_21bb0aa3becc37c96c38099c839e9fd5 = L.circleMarker(\n",
       "                [40.0691, 45.0382],\n",
       "                {&quot;bubblingMouseEvents&quot;: true, &quot;color&quot;: &quot;red&quot;, &quot;dashArray&quot;: null, &quot;dashOffset&quot;: null, &quot;fill&quot;: true, &quot;fillColor&quot;: &quot;black&quot;, &quot;fillOpacity&quot;: 0.7, &quot;fillRule&quot;: &quot;evenodd&quot;, &quot;lineCap&quot;: &quot;round&quot;, &quot;lineJoin&quot;: &quot;round&quot;, &quot;opacity&quot;: 1.0, &quot;radius&quot;: 1.0, &quot;stroke&quot;: true, &quot;weight&quot;: 3}\n",
       "            ).addTo(map_3b07ff33e33ac2836a73bdc846789b71);\n",
       "        \n",
       "    \n",
       "        var popup_29cac130d511a38c564e5ca84700a131 = L.popup({\n",
       "  &quot;maxWidth&quot;: &quot;100%&quot;,\n",
       "  &quot;autoClose&quot;: null,\n",
       "  &quot;closeOnClick&quot;: null,\n",
       "});\n",
       "\n",
       "        \n",
       "            \n",
       "                var html_da4b23b01f831cd57ff8a00aed3b0434 = $(`&lt;div id=&quot;html_da4b23b01f831cd57ff8a00aed3b0434&quot; style=&quot;width: 100.0%; height: 100.0%;&quot;&gt;Armenia: 1 contents&lt;/div&gt;`)[0];\n",
       "                popup_29cac130d511a38c564e5ca84700a131.setContent(html_da4b23b01f831cd57ff8a00aed3b0434);\n",
       "            \n",
       "        \n",
       "\n",
       "        circle_marker_21bb0aa3becc37c96c38099c839e9fd5.bindPopup(popup_29cac130d511a38c564e5ca84700a131)\n",
       "        ;\n",
       "\n",
       "        \n",
       "    \n",
       "    \n",
       "            var circle_marker_a33f4dbb04ffd57d57a3d2124dae4848 = L.circleMarker(\n",
       "                [35.1264, 33.4299],\n",
       "                {&quot;bubblingMouseEvents&quot;: true, &quot;color&quot;: &quot;red&quot;, &quot;dashArray&quot;: null, &quot;dashOffset&quot;: null, &quot;fill&quot;: true, &quot;fillColor&quot;: &quot;black&quot;, &quot;fillOpacity&quot;: 0.7, &quot;fillRule&quot;: &quot;evenodd&quot;, &quot;lineCap&quot;: &quot;round&quot;, &quot;lineJoin&quot;: &quot;round&quot;, &quot;opacity&quot;: 1.0, &quot;radius&quot;: 1.0, &quot;stroke&quot;: true, &quot;weight&quot;: 3}\n",
       "            ).addTo(map_3b07ff33e33ac2836a73bdc846789b71);\n",
       "        \n",
       "    \n",
       "        var popup_d5327c82c17b1c5a08be99bf58539685 = L.popup({\n",
       "  &quot;maxWidth&quot;: &quot;100%&quot;,\n",
       "  &quot;autoClose&quot;: null,\n",
       "  &quot;closeOnClick&quot;: null,\n",
       "});\n",
       "\n",
       "        \n",
       "            \n",
       "                var html_11704fa6f97f153c779adc4d1e2b1220 = $(`&lt;div id=&quot;html_11704fa6f97f153c779adc4d1e2b1220&quot; style=&quot;width: 100.0%; height: 100.0%;&quot;&gt;Cyprus: 1 contents&lt;/div&gt;`)[0];\n",
       "                popup_d5327c82c17b1c5a08be99bf58539685.setContent(html_11704fa6f97f153c779adc4d1e2b1220);\n",
       "            \n",
       "        \n",
       "\n",
       "        circle_marker_a33f4dbb04ffd57d57a3d2124dae4848.bindPopup(popup_d5327c82c17b1c5a08be99bf58539685)\n",
       "        ;\n",
       "\n",
       "        \n",
       "    \n",
       "    \n",
       "            var circle_marker_0296aa2c5a3c68a2bb0a08dfd8139eb3 = L.circleMarker(\n",
       "                [55.1694, 23.8813],\n",
       "                {&quot;bubblingMouseEvents&quot;: true, &quot;color&quot;: &quot;red&quot;, &quot;dashArray&quot;: null, &quot;dashOffset&quot;: null, &quot;fill&quot;: true, &quot;fillColor&quot;: &quot;black&quot;, &quot;fillOpacity&quot;: 0.7, &quot;fillRule&quot;: &quot;evenodd&quot;, &quot;lineCap&quot;: &quot;round&quot;, &quot;lineJoin&quot;: &quot;round&quot;, &quot;opacity&quot;: 1.0, &quot;radius&quot;: 1.0, &quot;stroke&quot;: true, &quot;weight&quot;: 3}\n",
       "            ).addTo(map_3b07ff33e33ac2836a73bdc846789b71);\n",
       "        \n",
       "    \n",
       "        var popup_cccbd01d94a037107c2a38e0632a668b = L.popup({\n",
       "  &quot;maxWidth&quot;: &quot;100%&quot;,\n",
       "  &quot;autoClose&quot;: null,\n",
       "  &quot;closeOnClick&quot;: null,\n",
       "});\n",
       "\n",
       "        \n",
       "            \n",
       "                var html_d431b2c25f771ef036e612c5f8c2eca0 = $(`&lt;div id=&quot;html_d431b2c25f771ef036e612c5f8c2eca0&quot; style=&quot;width: 100.0%; height: 100.0%;&quot;&gt;Lithuania: 1 contents&lt;/div&gt;`)[0];\n",
       "                popup_cccbd01d94a037107c2a38e0632a668b.setContent(html_d431b2c25f771ef036e612c5f8c2eca0);\n",
       "            \n",
       "        \n",
       "\n",
       "        circle_marker_0296aa2c5a3c68a2bb0a08dfd8139eb3.bindPopup(popup_cccbd01d94a037107c2a38e0632a668b)\n",
       "        ;\n",
       "\n",
       "        \n",
       "    \n",
       "    \n",
       "            var circle_marker_6d0bd0bcdc4301a005bc6c4d452f15c7 = L.circleMarker(\n",
       "                [56.8796, 24.6032],\n",
       "                {&quot;bubblingMouseEvents&quot;: true, &quot;color&quot;: &quot;red&quot;, &quot;dashArray&quot;: null, &quot;dashOffset&quot;: null, &quot;fill&quot;: true, &quot;fillColor&quot;: &quot;black&quot;, &quot;fillOpacity&quot;: 0.7, &quot;fillRule&quot;: &quot;evenodd&quot;, &quot;lineCap&quot;: &quot;round&quot;, &quot;lineJoin&quot;: &quot;round&quot;, &quot;opacity&quot;: 1.0, &quot;radius&quot;: 1.0, &quot;stroke&quot;: true, &quot;weight&quot;: 3}\n",
       "            ).addTo(map_3b07ff33e33ac2836a73bdc846789b71);\n",
       "        \n",
       "    \n",
       "        var popup_f52c11baa2d54abdd5dfdf6140dacc7d = L.popup({\n",
       "  &quot;maxWidth&quot;: &quot;100%&quot;,\n",
       "  &quot;autoClose&quot;: null,\n",
       "  &quot;closeOnClick&quot;: null,\n",
       "});\n",
       "\n",
       "        \n",
       "            \n",
       "                var html_1de3b8449351c5fe58d7138652341e9f = $(`&lt;div id=&quot;html_1de3b8449351c5fe58d7138652341e9f&quot; style=&quot;width: 100.0%; height: 100.0%;&quot;&gt;Latvia: 1 contents&lt;/div&gt;`)[0];\n",
       "                popup_f52c11baa2d54abdd5dfdf6140dacc7d.setContent(html_1de3b8449351c5fe58d7138652341e9f);\n",
       "            \n",
       "        \n",
       "\n",
       "        circle_marker_6d0bd0bcdc4301a005bc6c4d452f15c7.bindPopup(popup_f52c11baa2d54abdd5dfdf6140dacc7d)\n",
       "        ;\n",
       "\n",
       "        \n",
       "    \n",
       "    \n",
       "            var circle_marker_c0651dbaaa5f3877c6bfdbfee92f3221 = L.circleMarker(\n",
       "                [48.0196, 66.9237],\n",
       "                {&quot;bubblingMouseEvents&quot;: true, &quot;color&quot;: &quot;red&quot;, &quot;dashArray&quot;: null, &quot;dashOffset&quot;: null, &quot;fill&quot;: true, &quot;fillColor&quot;: &quot;black&quot;, &quot;fillOpacity&quot;: 0.7, &quot;fillRule&quot;: &quot;evenodd&quot;, &quot;lineCap&quot;: &quot;round&quot;, &quot;lineJoin&quot;: &quot;round&quot;, &quot;opacity&quot;: 1.0, &quot;radius&quot;: 1.0, &quot;stroke&quot;: true, &quot;weight&quot;: 3}\n",
       "            ).addTo(map_3b07ff33e33ac2836a73bdc846789b71);\n",
       "        \n",
       "    \n",
       "        var popup_9f8a0d86fb4c6ee07a0f23cd3aeb41c7 = L.popup({\n",
       "  &quot;maxWidth&quot;: &quot;100%&quot;,\n",
       "  &quot;autoClose&quot;: null,\n",
       "  &quot;closeOnClick&quot;: null,\n",
       "});\n",
       "\n",
       "        \n",
       "            \n",
       "                var html_6c8f381309c16ba5520fa88487711e67 = $(`&lt;div id=&quot;html_6c8f381309c16ba5520fa88487711e67&quot; style=&quot;width: 100.0%; height: 100.0%;&quot;&gt;Kazakhstan: 1 contents&lt;/div&gt;`)[0];\n",
       "                popup_9f8a0d86fb4c6ee07a0f23cd3aeb41c7.setContent(html_6c8f381309c16ba5520fa88487711e67);\n",
       "            \n",
       "        \n",
       "\n",
       "        circle_marker_c0651dbaaa5f3877c6bfdbfee92f3221.bindPopup(popup_9f8a0d86fb4c6ee07a0f23cd3aeb41c7)\n",
       "        ;\n",
       "\n",
       "        \n",
       "    \n",
       "    \n",
       "            var circle_marker_b8993b34d98843c81d216e6bda072901 = L.circleMarker(\n",
       "                [18.1096, -77.2975],\n",
       "                {&quot;bubblingMouseEvents&quot;: true, &quot;color&quot;: &quot;red&quot;, &quot;dashArray&quot;: null, &quot;dashOffset&quot;: null, &quot;fill&quot;: true, &quot;fillColor&quot;: &quot;black&quot;, &quot;fillOpacity&quot;: 0.7, &quot;fillRule&quot;: &quot;evenodd&quot;, &quot;lineCap&quot;: &quot;round&quot;, &quot;lineJoin&quot;: &quot;round&quot;, &quot;opacity&quot;: 1.0, &quot;radius&quot;: 1.0, &quot;stroke&quot;: true, &quot;weight&quot;: 3}\n",
       "            ).addTo(map_3b07ff33e33ac2836a73bdc846789b71);\n",
       "        \n",
       "    \n",
       "        var popup_1c11bcb6476f8dd60fb2acc8c5af510d = L.popup({\n",
       "  &quot;maxWidth&quot;: &quot;100%&quot;,\n",
       "  &quot;autoClose&quot;: null,\n",
       "  &quot;closeOnClick&quot;: null,\n",
       "});\n",
       "\n",
       "        \n",
       "            \n",
       "                var html_d7fa7cf5760e7f4ff36d6ae52c3ec176 = $(`&lt;div id=&quot;html_d7fa7cf5760e7f4ff36d6ae52c3ec176&quot; style=&quot;width: 100.0%; height: 100.0%;&quot;&gt;Jamaica: 1 contents&lt;/div&gt;`)[0];\n",
       "                popup_1c11bcb6476f8dd60fb2acc8c5af510d.setContent(html_d7fa7cf5760e7f4ff36d6ae52c3ec176);\n",
       "            \n",
       "        \n",
       "\n",
       "        circle_marker_b8993b34d98843c81d216e6bda072901.bindPopup(popup_1c11bcb6476f8dd60fb2acc8c5af510d)\n",
       "        ;\n",
       "\n",
       "        \n",
       "    \n",
       "    \n",
       "            var circle_marker_656838719a3ee34282b568c79df2d99d = L.circleMarker(\n",
       "                [-23.4425, -58.4438],\n",
       "                {&quot;bubblingMouseEvents&quot;: true, &quot;color&quot;: &quot;red&quot;, &quot;dashArray&quot;: null, &quot;dashOffset&quot;: null, &quot;fill&quot;: true, &quot;fillColor&quot;: &quot;black&quot;, &quot;fillOpacity&quot;: 0.7, &quot;fillRule&quot;: &quot;evenodd&quot;, &quot;lineCap&quot;: &quot;round&quot;, &quot;lineJoin&quot;: &quot;round&quot;, &quot;opacity&quot;: 1.0, &quot;radius&quot;: 1.0, &quot;stroke&quot;: true, &quot;weight&quot;: 3}\n",
       "            ).addTo(map_3b07ff33e33ac2836a73bdc846789b71);\n",
       "        \n",
       "    \n",
       "        var popup_86592a4a485701bb43de022fe9446668 = L.popup({\n",
       "  &quot;maxWidth&quot;: &quot;100%&quot;,\n",
       "  &quot;autoClose&quot;: null,\n",
       "  &quot;closeOnClick&quot;: null,\n",
       "});\n",
       "\n",
       "        \n",
       "            \n",
       "                var html_2e021d80f1ff5345a19a5d328c8369f5 = $(`&lt;div id=&quot;html_2e021d80f1ff5345a19a5d328c8369f5&quot; style=&quot;width: 100.0%; height: 100.0%;&quot;&gt;Paraguay: 1 contents&lt;/div&gt;`)[0];\n",
       "                popup_86592a4a485701bb43de022fe9446668.setContent(html_2e021d80f1ff5345a19a5d328c8369f5);\n",
       "            \n",
       "        \n",
       "\n",
       "        circle_marker_656838719a3ee34282b568c79df2d99d.bindPopup(popup_86592a4a485701bb43de022fe9446668)\n",
       "        ;\n",
       "\n",
       "        \n",
       "    \n",
       "    \n",
       "            var circle_marker_6a793e510284afd4ef77c77b29fb0c20 = L.circleMarker(\n",
       "                [31.9522, 35.2332],\n",
       "                {&quot;bubblingMouseEvents&quot;: true, &quot;color&quot;: &quot;red&quot;, &quot;dashArray&quot;: null, &quot;dashOffset&quot;: null, &quot;fill&quot;: true, &quot;fillColor&quot;: &quot;black&quot;, &quot;fillOpacity&quot;: 0.7, &quot;fillRule&quot;: &quot;evenodd&quot;, &quot;lineCap&quot;: &quot;round&quot;, &quot;lineJoin&quot;: &quot;round&quot;, &quot;opacity&quot;: 1.0, &quot;radius&quot;: 1.0, &quot;stroke&quot;: true, &quot;weight&quot;: 3}\n",
       "            ).addTo(map_3b07ff33e33ac2836a73bdc846789b71);\n",
       "        \n",
       "    \n",
       "        var popup_f924e8836a4751373e37d331c2b507ea = L.popup({\n",
       "  &quot;maxWidth&quot;: &quot;100%&quot;,\n",
       "  &quot;autoClose&quot;: null,\n",
       "  &quot;closeOnClick&quot;: null,\n",
       "});\n",
       "\n",
       "        \n",
       "            \n",
       "                var html_82870d38a47a1d74cad45761bee9ade8 = $(`&lt;div id=&quot;html_82870d38a47a1d74cad45761bee9ade8&quot; style=&quot;width: 100.0%; height: 100.0%;&quot;&gt;Palestine: 1 contents&lt;/div&gt;`)[0];\n",
       "                popup_f924e8836a4751373e37d331c2b507ea.setContent(html_82870d38a47a1d74cad45761bee9ade8);\n",
       "            \n",
       "        \n",
       "\n",
       "        circle_marker_6a793e510284afd4ef77c77b29fb0c20.bindPopup(popup_f924e8836a4751373e37d331c2b507ea)\n",
       "        ;\n",
       "\n",
       "        \n",
       "    \n",
       "    \n",
       "            tile_layer_7882bac59a868472aa3d3098957e83cc.addTo(map_3b07ff33e33ac2836a73bdc846789b71);\n",
       "        \n",
       "&lt;/script&gt;\n",
       "&lt;/html&gt;\" style=\"position:absolute;width:100%;height:100%;left:0;top:0;border:none !important;\" allowfullscreen webkitallowfullscreen mozallowfullscreen></iframe></div></div>"
      ],
      "text/plain": [
       "<folium.folium.Map at 0x1f9e5af5d90>"
      ]
     },
     "execution_count": 139,
     "metadata": {},
     "output_type": "execute_result"
    }
   ],
   "source": [
    "# Convert to DataFrame for easier manipulation\n",
    "country_data = pd.DataFrame(list(country_content.items()), columns=[\"Country\", \"Content_Count\"])\n",
    "\n",
    "# Initialize a map centered globally\n",
    "world_map = folium.Map(location=[20, 0], zoom_start=2)\n",
    "\n",
    "# Loop through the country_data DataFrame\n",
    "for index, row in country_data.iterrows():\n",
    "    country = row['Country']\n",
    "    count = row['Content_Count']\n",
    "    \n",
    "    # Get the coordinates from the dictionary\n",
    "    coords = country_coords.get(country, None)\n",
    "    \n",
    "    # Only add circles for valid coordinates\n",
    "    if coords and coords != [0, 0]:\n",
    "        folium.CircleMarker(\n",
    "            location=coords,\n",
    "            radius=count ** 0.5,  # Scale circle size by count\n",
    "            color=\"red\",  # Circle outline color\n",
    "            fill=True,\n",
    "            fill_color=\"black\",  # Circle fill color\n",
    "            fill_opacity=0.7,\n",
    "            popup=f\"{country}: {count} contents\",  # Popup with country and content count\n",
    "        ).add_to(world_map)\n",
    "\n",
    "#Save the map \n",
    "world_map.save(\"country_content_map.html\")\n",
    "#Display the map\n",
    "world_map"
   ]
  },
  {
   "cell_type": "markdown",
   "id": "f36ae3ef",
   "metadata": {},
   "source": [
    "##\tAre there specific times of the year when more content is added?"
   ]
  },
  {
   "cell_type": "markdown",
   "id": "6de616af",
   "metadata": {},
   "source": [
    "### **Are There Specific Times of the Year When More Content Is Added?**\n",
    "📅 **Trend Analysis of Netflix Content Addition by Month**  \n",
    "Using the dataset, we analyzed the number of shows and movies added to Netflix by month to determine if there are seasonal trends.\n",
    "\n",
    "**Key Findings:**\n",
    "- **July** is the peak month for Netflix content additions, with **827** titles added.\n",
    "- **December** follows closely with **812** titles, while **September** comes in third with **769**.\n",
    "- The months with the fewest additions are **February** with **562** and **May** with **632** titles added.\n",
    "\n",
    "The month-wise distribution indicates that content addition is higher during the mid-to-late part of the year (July to December), which may reflect seasonal content releases or business strategies.\n"
   ]
  },
  {
   "cell_type": "code",
   "execution_count": 165,
   "id": "44b9bbbe",
   "metadata": {},
   "outputs": [],
   "source": [
    "monthly_added_content = df.groupby(\"month_added\").count().\\\n",
    "                            sort_values(by=\"show_id\", ascending=False)[[\"show_id\"]].\\\n",
    "                            reset_index()\n"
   ]
  },
  {
   "cell_type": "code",
   "execution_count": 167,
   "id": "1a815187",
   "metadata": {},
   "outputs": [
    {
     "data": {
      "application/vnd.plotly.v1+json": {
       "config": {
        "plotlyServerURL": "https://plot.ly"
       },
       "data": [
        {
         "alignmentgroup": "True",
         "hovertemplate": "month_added=%{x}<br>show_id=%{y}<extra></extra>",
         "legendgroup": "",
         "marker": {
          "color": "#221F1F",
          "pattern": {
           "shape": ""
          }
         },
         "name": "",
         "offsetgroup": "",
         "orientation": "v",
         "showlegend": false,
         "textposition": "auto",
         "texttemplate": "%{y}",
         "type": "bar",
         "x": [
          "July",
          "December",
          "September",
          "April",
          "October",
          "August",
          "March",
          "January",
          "June",
          "November",
          "May",
          "February"
         ],
         "xaxis": "x",
         "y": [
          827,
          812,
          769,
          763,
          760,
          754,
          741,
          737,
          728,
          705,
          632,
          562
         ],
         "yaxis": "y"
        }
       ],
       "layout": {
        "barmode": "relative",
        "legend": {
         "tracegroupgap": 0
        },
        "template": {
         "data": {
          "bar": [
           {
            "error_x": {
             "color": "#2a3f5f"
            },
            "error_y": {
             "color": "#2a3f5f"
            },
            "marker": {
             "line": {
              "color": "#E5ECF6",
              "width": 0.5
             },
             "pattern": {
              "fillmode": "overlay",
              "size": 10,
              "solidity": 0.2
             }
            },
            "type": "bar"
           }
          ],
          "barpolar": [
           {
            "marker": {
             "line": {
              "color": "#E5ECF6",
              "width": 0.5
             },
             "pattern": {
              "fillmode": "overlay",
              "size": 10,
              "solidity": 0.2
             }
            },
            "type": "barpolar"
           }
          ],
          "carpet": [
           {
            "aaxis": {
             "endlinecolor": "#2a3f5f",
             "gridcolor": "white",
             "linecolor": "white",
             "minorgridcolor": "white",
             "startlinecolor": "#2a3f5f"
            },
            "baxis": {
             "endlinecolor": "#2a3f5f",
             "gridcolor": "white",
             "linecolor": "white",
             "minorgridcolor": "white",
             "startlinecolor": "#2a3f5f"
            },
            "type": "carpet"
           }
          ],
          "choropleth": [
           {
            "colorbar": {
             "outlinewidth": 0,
             "ticks": ""
            },
            "type": "choropleth"
           }
          ],
          "contour": [
           {
            "colorbar": {
             "outlinewidth": 0,
             "ticks": ""
            },
            "colorscale": [
             [
              0,
              "#0d0887"
             ],
             [
              0.1111111111111111,
              "#46039f"
             ],
             [
              0.2222222222222222,
              "#7201a8"
             ],
             [
              0.3333333333333333,
              "#9c179e"
             ],
             [
              0.4444444444444444,
              "#bd3786"
             ],
             [
              0.5555555555555556,
              "#d8576b"
             ],
             [
              0.6666666666666666,
              "#ed7953"
             ],
             [
              0.7777777777777778,
              "#fb9f3a"
             ],
             [
              0.8888888888888888,
              "#fdca26"
             ],
             [
              1,
              "#f0f921"
             ]
            ],
            "type": "contour"
           }
          ],
          "contourcarpet": [
           {
            "colorbar": {
             "outlinewidth": 0,
             "ticks": ""
            },
            "type": "contourcarpet"
           }
          ],
          "heatmap": [
           {
            "colorbar": {
             "outlinewidth": 0,
             "ticks": ""
            },
            "colorscale": [
             [
              0,
              "#0d0887"
             ],
             [
              0.1111111111111111,
              "#46039f"
             ],
             [
              0.2222222222222222,
              "#7201a8"
             ],
             [
              0.3333333333333333,
              "#9c179e"
             ],
             [
              0.4444444444444444,
              "#bd3786"
             ],
             [
              0.5555555555555556,
              "#d8576b"
             ],
             [
              0.6666666666666666,
              "#ed7953"
             ],
             [
              0.7777777777777778,
              "#fb9f3a"
             ],
             [
              0.8888888888888888,
              "#fdca26"
             ],
             [
              1,
              "#f0f921"
             ]
            ],
            "type": "heatmap"
           }
          ],
          "heatmapgl": [
           {
            "colorbar": {
             "outlinewidth": 0,
             "ticks": ""
            },
            "colorscale": [
             [
              0,
              "#0d0887"
             ],
             [
              0.1111111111111111,
              "#46039f"
             ],
             [
              0.2222222222222222,
              "#7201a8"
             ],
             [
              0.3333333333333333,
              "#9c179e"
             ],
             [
              0.4444444444444444,
              "#bd3786"
             ],
             [
              0.5555555555555556,
              "#d8576b"
             ],
             [
              0.6666666666666666,
              "#ed7953"
             ],
             [
              0.7777777777777778,
              "#fb9f3a"
             ],
             [
              0.8888888888888888,
              "#fdca26"
             ],
             [
              1,
              "#f0f921"
             ]
            ],
            "type": "heatmapgl"
           }
          ],
          "histogram": [
           {
            "marker": {
             "pattern": {
              "fillmode": "overlay",
              "size": 10,
              "solidity": 0.2
             }
            },
            "type": "histogram"
           }
          ],
          "histogram2d": [
           {
            "colorbar": {
             "outlinewidth": 0,
             "ticks": ""
            },
            "colorscale": [
             [
              0,
              "#0d0887"
             ],
             [
              0.1111111111111111,
              "#46039f"
             ],
             [
              0.2222222222222222,
              "#7201a8"
             ],
             [
              0.3333333333333333,
              "#9c179e"
             ],
             [
              0.4444444444444444,
              "#bd3786"
             ],
             [
              0.5555555555555556,
              "#d8576b"
             ],
             [
              0.6666666666666666,
              "#ed7953"
             ],
             [
              0.7777777777777778,
              "#fb9f3a"
             ],
             [
              0.8888888888888888,
              "#fdca26"
             ],
             [
              1,
              "#f0f921"
             ]
            ],
            "type": "histogram2d"
           }
          ],
          "histogram2dcontour": [
           {
            "colorbar": {
             "outlinewidth": 0,
             "ticks": ""
            },
            "colorscale": [
             [
              0,
              "#0d0887"
             ],
             [
              0.1111111111111111,
              "#46039f"
             ],
             [
              0.2222222222222222,
              "#7201a8"
             ],
             [
              0.3333333333333333,
              "#9c179e"
             ],
             [
              0.4444444444444444,
              "#bd3786"
             ],
             [
              0.5555555555555556,
              "#d8576b"
             ],
             [
              0.6666666666666666,
              "#ed7953"
             ],
             [
              0.7777777777777778,
              "#fb9f3a"
             ],
             [
              0.8888888888888888,
              "#fdca26"
             ],
             [
              1,
              "#f0f921"
             ]
            ],
            "type": "histogram2dcontour"
           }
          ],
          "mesh3d": [
           {
            "colorbar": {
             "outlinewidth": 0,
             "ticks": ""
            },
            "type": "mesh3d"
           }
          ],
          "parcoords": [
           {
            "line": {
             "colorbar": {
              "outlinewidth": 0,
              "ticks": ""
             }
            },
            "type": "parcoords"
           }
          ],
          "pie": [
           {
            "automargin": true,
            "type": "pie"
           }
          ],
          "scatter": [
           {
            "fillpattern": {
             "fillmode": "overlay",
             "size": 10,
             "solidity": 0.2
            },
            "type": "scatter"
           }
          ],
          "scatter3d": [
           {
            "line": {
             "colorbar": {
              "outlinewidth": 0,
              "ticks": ""
             }
            },
            "marker": {
             "colorbar": {
              "outlinewidth": 0,
              "ticks": ""
             }
            },
            "type": "scatter3d"
           }
          ],
          "scattercarpet": [
           {
            "marker": {
             "colorbar": {
              "outlinewidth": 0,
              "ticks": ""
             }
            },
            "type": "scattercarpet"
           }
          ],
          "scattergeo": [
           {
            "marker": {
             "colorbar": {
              "outlinewidth": 0,
              "ticks": ""
             }
            },
            "type": "scattergeo"
           }
          ],
          "scattergl": [
           {
            "marker": {
             "colorbar": {
              "outlinewidth": 0,
              "ticks": ""
             }
            },
            "type": "scattergl"
           }
          ],
          "scattermapbox": [
           {
            "marker": {
             "colorbar": {
              "outlinewidth": 0,
              "ticks": ""
             }
            },
            "type": "scattermapbox"
           }
          ],
          "scatterpolar": [
           {
            "marker": {
             "colorbar": {
              "outlinewidth": 0,
              "ticks": ""
             }
            },
            "type": "scatterpolar"
           }
          ],
          "scatterpolargl": [
           {
            "marker": {
             "colorbar": {
              "outlinewidth": 0,
              "ticks": ""
             }
            },
            "type": "scatterpolargl"
           }
          ],
          "scatterternary": [
           {
            "marker": {
             "colorbar": {
              "outlinewidth": 0,
              "ticks": ""
             }
            },
            "type": "scatterternary"
           }
          ],
          "surface": [
           {
            "colorbar": {
             "outlinewidth": 0,
             "ticks": ""
            },
            "colorscale": [
             [
              0,
              "#0d0887"
             ],
             [
              0.1111111111111111,
              "#46039f"
             ],
             [
              0.2222222222222222,
              "#7201a8"
             ],
             [
              0.3333333333333333,
              "#9c179e"
             ],
             [
              0.4444444444444444,
              "#bd3786"
             ],
             [
              0.5555555555555556,
              "#d8576b"
             ],
             [
              0.6666666666666666,
              "#ed7953"
             ],
             [
              0.7777777777777778,
              "#fb9f3a"
             ],
             [
              0.8888888888888888,
              "#fdca26"
             ],
             [
              1,
              "#f0f921"
             ]
            ],
            "type": "surface"
           }
          ],
          "table": [
           {
            "cells": {
             "fill": {
              "color": "#EBF0F8"
             },
             "line": {
              "color": "white"
             }
            },
            "header": {
             "fill": {
              "color": "#C8D4E3"
             },
             "line": {
              "color": "white"
             }
            },
            "type": "table"
           }
          ]
         },
         "layout": {
          "annotationdefaults": {
           "arrowcolor": "#2a3f5f",
           "arrowhead": 0,
           "arrowwidth": 1
          },
          "autotypenumbers": "strict",
          "coloraxis": {
           "colorbar": {
            "outlinewidth": 0,
            "ticks": ""
           }
          },
          "colorscale": {
           "diverging": [
            [
             0,
             "#8e0152"
            ],
            [
             0.1,
             "#c51b7d"
            ],
            [
             0.2,
             "#de77ae"
            ],
            [
             0.3,
             "#f1b6da"
            ],
            [
             0.4,
             "#fde0ef"
            ],
            [
             0.5,
             "#f7f7f7"
            ],
            [
             0.6,
             "#e6f5d0"
            ],
            [
             0.7,
             "#b8e186"
            ],
            [
             0.8,
             "#7fbc41"
            ],
            [
             0.9,
             "#4d9221"
            ],
            [
             1,
             "#276419"
            ]
           ],
           "sequential": [
            [
             0,
             "#0d0887"
            ],
            [
             0.1111111111111111,
             "#46039f"
            ],
            [
             0.2222222222222222,
             "#7201a8"
            ],
            [
             0.3333333333333333,
             "#9c179e"
            ],
            [
             0.4444444444444444,
             "#bd3786"
            ],
            [
             0.5555555555555556,
             "#d8576b"
            ],
            [
             0.6666666666666666,
             "#ed7953"
            ],
            [
             0.7777777777777778,
             "#fb9f3a"
            ],
            [
             0.8888888888888888,
             "#fdca26"
            ],
            [
             1,
             "#f0f921"
            ]
           ],
           "sequentialminus": [
            [
             0,
             "#0d0887"
            ],
            [
             0.1111111111111111,
             "#46039f"
            ],
            [
             0.2222222222222222,
             "#7201a8"
            ],
            [
             0.3333333333333333,
             "#9c179e"
            ],
            [
             0.4444444444444444,
             "#bd3786"
            ],
            [
             0.5555555555555556,
             "#d8576b"
            ],
            [
             0.6666666666666666,
             "#ed7953"
            ],
            [
             0.7777777777777778,
             "#fb9f3a"
            ],
            [
             0.8888888888888888,
             "#fdca26"
            ],
            [
             1,
             "#f0f921"
            ]
           ]
          },
          "colorway": [
           "#636efa",
           "#EF553B",
           "#00cc96",
           "#ab63fa",
           "#FFA15A",
           "#19d3f3",
           "#FF6692",
           "#B6E880",
           "#FF97FF",
           "#FECB52"
          ],
          "font": {
           "color": "#2a3f5f"
          },
          "geo": {
           "bgcolor": "white",
           "lakecolor": "white",
           "landcolor": "#E5ECF6",
           "showlakes": true,
           "showland": true,
           "subunitcolor": "white"
          },
          "hoverlabel": {
           "align": "left"
          },
          "hovermode": "closest",
          "mapbox": {
           "style": "light"
          },
          "paper_bgcolor": "white",
          "plot_bgcolor": "#E5ECF6",
          "polar": {
           "angularaxis": {
            "gridcolor": "white",
            "linecolor": "white",
            "ticks": ""
           },
           "bgcolor": "#E5ECF6",
           "radialaxis": {
            "gridcolor": "white",
            "linecolor": "white",
            "ticks": ""
           }
          },
          "scene": {
           "xaxis": {
            "backgroundcolor": "#E5ECF6",
            "gridcolor": "white",
            "gridwidth": 2,
            "linecolor": "white",
            "showbackground": true,
            "ticks": "",
            "zerolinecolor": "white"
           },
           "yaxis": {
            "backgroundcolor": "#E5ECF6",
            "gridcolor": "white",
            "gridwidth": 2,
            "linecolor": "white",
            "showbackground": true,
            "ticks": "",
            "zerolinecolor": "white"
           },
           "zaxis": {
            "backgroundcolor": "#E5ECF6",
            "gridcolor": "white",
            "gridwidth": 2,
            "linecolor": "white",
            "showbackground": true,
            "ticks": "",
            "zerolinecolor": "white"
           }
          },
          "shapedefaults": {
           "line": {
            "color": "#2a3f5f"
           }
          },
          "ternary": {
           "aaxis": {
            "gridcolor": "white",
            "linecolor": "white",
            "ticks": ""
           },
           "baxis": {
            "gridcolor": "white",
            "linecolor": "white",
            "ticks": ""
           },
           "bgcolor": "#E5ECF6",
           "caxis": {
            "gridcolor": "white",
            "linecolor": "white",
            "ticks": ""
           }
          },
          "title": {
           "x": 0.05
          },
          "xaxis": {
           "automargin": true,
           "gridcolor": "white",
           "linecolor": "white",
           "ticks": "",
           "title": {
            "standoff": 15
           },
           "zerolinecolor": "white",
           "zerolinewidth": 2
          },
          "yaxis": {
           "automargin": true,
           "gridcolor": "white",
           "linecolor": "white",
           "ticks": "",
           "title": {
            "standoff": 15
           },
           "zerolinecolor": "white",
           "zerolinewidth": 2
          }
         }
        },
        "title": {
         "font": {
          "color": "#E50914",
          "size": 24
         },
         "text": "Number of added content per Month"
        },
        "xaxis": {
         "anchor": "y",
         "domain": [
          0,
          1
         ],
         "title": {
          "text": "Month"
         }
        },
        "yaxis": {
         "anchor": "x",
         "domain": [
          0,
          1
         ],
         "title": {
          "text": "Total content"
         }
        }
       }
      },
      "text/html": [
       "<div>                            <div id=\"0e195e34-7d57-4c2f-b609-f5cf1ee18e14\" class=\"plotly-graph-div\" style=\"height:525px; width:100%;\"></div>            <script type=\"text/javascript\">                require([\"plotly\"], function(Plotly) {                    window.PLOTLYENV=window.PLOTLYENV || {};                                    if (document.getElementById(\"0e195e34-7d57-4c2f-b609-f5cf1ee18e14\")) {                    Plotly.newPlot(                        \"0e195e34-7d57-4c2f-b609-f5cf1ee18e14\",                        [{\"alignmentgroup\":\"True\",\"hovertemplate\":\"month_added=%{x}\\u003cbr\\u003eshow_id=%{y}\\u003cextra\\u003e\\u003c\\u002fextra\\u003e\",\"legendgroup\":\"\",\"marker\":{\"color\":\"#221F1F\",\"pattern\":{\"shape\":\"\"}},\"name\":\"\",\"offsetgroup\":\"\",\"orientation\":\"v\",\"showlegend\":false,\"textposition\":\"auto\",\"texttemplate\":\"%{y}\",\"x\":[\"July\",\"December\",\"September\",\"April\",\"October\",\"August\",\"March\",\"January\",\"June\",\"November\",\"May\",\"February\"],\"xaxis\":\"x\",\"y\":[827,812,769,763,760,754,741,737,728,705,632,562],\"yaxis\":\"y\",\"type\":\"bar\"}],                        {\"template\":{\"data\":{\"histogram2dcontour\":[{\"type\":\"histogram2dcontour\",\"colorbar\":{\"outlinewidth\":0,\"ticks\":\"\"},\"colorscale\":[[0.0,\"#0d0887\"],[0.1111111111111111,\"#46039f\"],[0.2222222222222222,\"#7201a8\"],[0.3333333333333333,\"#9c179e\"],[0.4444444444444444,\"#bd3786\"],[0.5555555555555556,\"#d8576b\"],[0.6666666666666666,\"#ed7953\"],[0.7777777777777778,\"#fb9f3a\"],[0.8888888888888888,\"#fdca26\"],[1.0,\"#f0f921\"]]}],\"choropleth\":[{\"type\":\"choropleth\",\"colorbar\":{\"outlinewidth\":0,\"ticks\":\"\"}}],\"histogram2d\":[{\"type\":\"histogram2d\",\"colorbar\":{\"outlinewidth\":0,\"ticks\":\"\"},\"colorscale\":[[0.0,\"#0d0887\"],[0.1111111111111111,\"#46039f\"],[0.2222222222222222,\"#7201a8\"],[0.3333333333333333,\"#9c179e\"],[0.4444444444444444,\"#bd3786\"],[0.5555555555555556,\"#d8576b\"],[0.6666666666666666,\"#ed7953\"],[0.7777777777777778,\"#fb9f3a\"],[0.8888888888888888,\"#fdca26\"],[1.0,\"#f0f921\"]]}],\"heatmap\":[{\"type\":\"heatmap\",\"colorbar\":{\"outlinewidth\":0,\"ticks\":\"\"},\"colorscale\":[[0.0,\"#0d0887\"],[0.1111111111111111,\"#46039f\"],[0.2222222222222222,\"#7201a8\"],[0.3333333333333333,\"#9c179e\"],[0.4444444444444444,\"#bd3786\"],[0.5555555555555556,\"#d8576b\"],[0.6666666666666666,\"#ed7953\"],[0.7777777777777778,\"#fb9f3a\"],[0.8888888888888888,\"#fdca26\"],[1.0,\"#f0f921\"]]}],\"heatmapgl\":[{\"type\":\"heatmapgl\",\"colorbar\":{\"outlinewidth\":0,\"ticks\":\"\"},\"colorscale\":[[0.0,\"#0d0887\"],[0.1111111111111111,\"#46039f\"],[0.2222222222222222,\"#7201a8\"],[0.3333333333333333,\"#9c179e\"],[0.4444444444444444,\"#bd3786\"],[0.5555555555555556,\"#d8576b\"],[0.6666666666666666,\"#ed7953\"],[0.7777777777777778,\"#fb9f3a\"],[0.8888888888888888,\"#fdca26\"],[1.0,\"#f0f921\"]]}],\"contourcarpet\":[{\"type\":\"contourcarpet\",\"colorbar\":{\"outlinewidth\":0,\"ticks\":\"\"}}],\"contour\":[{\"type\":\"contour\",\"colorbar\":{\"outlinewidth\":0,\"ticks\":\"\"},\"colorscale\":[[0.0,\"#0d0887\"],[0.1111111111111111,\"#46039f\"],[0.2222222222222222,\"#7201a8\"],[0.3333333333333333,\"#9c179e\"],[0.4444444444444444,\"#bd3786\"],[0.5555555555555556,\"#d8576b\"],[0.6666666666666666,\"#ed7953\"],[0.7777777777777778,\"#fb9f3a\"],[0.8888888888888888,\"#fdca26\"],[1.0,\"#f0f921\"]]}],\"surface\":[{\"type\":\"surface\",\"colorbar\":{\"outlinewidth\":0,\"ticks\":\"\"},\"colorscale\":[[0.0,\"#0d0887\"],[0.1111111111111111,\"#46039f\"],[0.2222222222222222,\"#7201a8\"],[0.3333333333333333,\"#9c179e\"],[0.4444444444444444,\"#bd3786\"],[0.5555555555555556,\"#d8576b\"],[0.6666666666666666,\"#ed7953\"],[0.7777777777777778,\"#fb9f3a\"],[0.8888888888888888,\"#fdca26\"],[1.0,\"#f0f921\"]]}],\"mesh3d\":[{\"type\":\"mesh3d\",\"colorbar\":{\"outlinewidth\":0,\"ticks\":\"\"}}],\"scatter\":[{\"fillpattern\":{\"fillmode\":\"overlay\",\"size\":10,\"solidity\":0.2},\"type\":\"scatter\"}],\"parcoords\":[{\"type\":\"parcoords\",\"line\":{\"colorbar\":{\"outlinewidth\":0,\"ticks\":\"\"}}}],\"scatterpolargl\":[{\"type\":\"scatterpolargl\",\"marker\":{\"colorbar\":{\"outlinewidth\":0,\"ticks\":\"\"}}}],\"bar\":[{\"error_x\":{\"color\":\"#2a3f5f\"},\"error_y\":{\"color\":\"#2a3f5f\"},\"marker\":{\"line\":{\"color\":\"#E5ECF6\",\"width\":0.5},\"pattern\":{\"fillmode\":\"overlay\",\"size\":10,\"solidity\":0.2}},\"type\":\"bar\"}],\"scattergeo\":[{\"type\":\"scattergeo\",\"marker\":{\"colorbar\":{\"outlinewidth\":0,\"ticks\":\"\"}}}],\"scatterpolar\":[{\"type\":\"scatterpolar\",\"marker\":{\"colorbar\":{\"outlinewidth\":0,\"ticks\":\"\"}}}],\"histogram\":[{\"marker\":{\"pattern\":{\"fillmode\":\"overlay\",\"size\":10,\"solidity\":0.2}},\"type\":\"histogram\"}],\"scattergl\":[{\"type\":\"scattergl\",\"marker\":{\"colorbar\":{\"outlinewidth\":0,\"ticks\":\"\"}}}],\"scatter3d\":[{\"type\":\"scatter3d\",\"line\":{\"colorbar\":{\"outlinewidth\":0,\"ticks\":\"\"}},\"marker\":{\"colorbar\":{\"outlinewidth\":0,\"ticks\":\"\"}}}],\"scattermapbox\":[{\"type\":\"scattermapbox\",\"marker\":{\"colorbar\":{\"outlinewidth\":0,\"ticks\":\"\"}}}],\"scatterternary\":[{\"type\":\"scatterternary\",\"marker\":{\"colorbar\":{\"outlinewidth\":0,\"ticks\":\"\"}}}],\"scattercarpet\":[{\"type\":\"scattercarpet\",\"marker\":{\"colorbar\":{\"outlinewidth\":0,\"ticks\":\"\"}}}],\"carpet\":[{\"aaxis\":{\"endlinecolor\":\"#2a3f5f\",\"gridcolor\":\"white\",\"linecolor\":\"white\",\"minorgridcolor\":\"white\",\"startlinecolor\":\"#2a3f5f\"},\"baxis\":{\"endlinecolor\":\"#2a3f5f\",\"gridcolor\":\"white\",\"linecolor\":\"white\",\"minorgridcolor\":\"white\",\"startlinecolor\":\"#2a3f5f\"},\"type\":\"carpet\"}],\"table\":[{\"cells\":{\"fill\":{\"color\":\"#EBF0F8\"},\"line\":{\"color\":\"white\"}},\"header\":{\"fill\":{\"color\":\"#C8D4E3\"},\"line\":{\"color\":\"white\"}},\"type\":\"table\"}],\"barpolar\":[{\"marker\":{\"line\":{\"color\":\"#E5ECF6\",\"width\":0.5},\"pattern\":{\"fillmode\":\"overlay\",\"size\":10,\"solidity\":0.2}},\"type\":\"barpolar\"}],\"pie\":[{\"automargin\":true,\"type\":\"pie\"}]},\"layout\":{\"autotypenumbers\":\"strict\",\"colorway\":[\"#636efa\",\"#EF553B\",\"#00cc96\",\"#ab63fa\",\"#FFA15A\",\"#19d3f3\",\"#FF6692\",\"#B6E880\",\"#FF97FF\",\"#FECB52\"],\"font\":{\"color\":\"#2a3f5f\"},\"hovermode\":\"closest\",\"hoverlabel\":{\"align\":\"left\"},\"paper_bgcolor\":\"white\",\"plot_bgcolor\":\"#E5ECF6\",\"polar\":{\"bgcolor\":\"#E5ECF6\",\"angularaxis\":{\"gridcolor\":\"white\",\"linecolor\":\"white\",\"ticks\":\"\"},\"radialaxis\":{\"gridcolor\":\"white\",\"linecolor\":\"white\",\"ticks\":\"\"}},\"ternary\":{\"bgcolor\":\"#E5ECF6\",\"aaxis\":{\"gridcolor\":\"white\",\"linecolor\":\"white\",\"ticks\":\"\"},\"baxis\":{\"gridcolor\":\"white\",\"linecolor\":\"white\",\"ticks\":\"\"},\"caxis\":{\"gridcolor\":\"white\",\"linecolor\":\"white\",\"ticks\":\"\"}},\"coloraxis\":{\"colorbar\":{\"outlinewidth\":0,\"ticks\":\"\"}},\"colorscale\":{\"sequential\":[[0.0,\"#0d0887\"],[0.1111111111111111,\"#46039f\"],[0.2222222222222222,\"#7201a8\"],[0.3333333333333333,\"#9c179e\"],[0.4444444444444444,\"#bd3786\"],[0.5555555555555556,\"#d8576b\"],[0.6666666666666666,\"#ed7953\"],[0.7777777777777778,\"#fb9f3a\"],[0.8888888888888888,\"#fdca26\"],[1.0,\"#f0f921\"]],\"sequentialminus\":[[0.0,\"#0d0887\"],[0.1111111111111111,\"#46039f\"],[0.2222222222222222,\"#7201a8\"],[0.3333333333333333,\"#9c179e\"],[0.4444444444444444,\"#bd3786\"],[0.5555555555555556,\"#d8576b\"],[0.6666666666666666,\"#ed7953\"],[0.7777777777777778,\"#fb9f3a\"],[0.8888888888888888,\"#fdca26\"],[1.0,\"#f0f921\"]],\"diverging\":[[0,\"#8e0152\"],[0.1,\"#c51b7d\"],[0.2,\"#de77ae\"],[0.3,\"#f1b6da\"],[0.4,\"#fde0ef\"],[0.5,\"#f7f7f7\"],[0.6,\"#e6f5d0\"],[0.7,\"#b8e186\"],[0.8,\"#7fbc41\"],[0.9,\"#4d9221\"],[1,\"#276419\"]]},\"xaxis\":{\"gridcolor\":\"white\",\"linecolor\":\"white\",\"ticks\":\"\",\"title\":{\"standoff\":15},\"zerolinecolor\":\"white\",\"automargin\":true,\"zerolinewidth\":2},\"yaxis\":{\"gridcolor\":\"white\",\"linecolor\":\"white\",\"ticks\":\"\",\"title\":{\"standoff\":15},\"zerolinecolor\":\"white\",\"automargin\":true,\"zerolinewidth\":2},\"scene\":{\"xaxis\":{\"backgroundcolor\":\"#E5ECF6\",\"gridcolor\":\"white\",\"linecolor\":\"white\",\"showbackground\":true,\"ticks\":\"\",\"zerolinecolor\":\"white\",\"gridwidth\":2},\"yaxis\":{\"backgroundcolor\":\"#E5ECF6\",\"gridcolor\":\"white\",\"linecolor\":\"white\",\"showbackground\":true,\"ticks\":\"\",\"zerolinecolor\":\"white\",\"gridwidth\":2},\"zaxis\":{\"backgroundcolor\":\"#E5ECF6\",\"gridcolor\":\"white\",\"linecolor\":\"white\",\"showbackground\":true,\"ticks\":\"\",\"zerolinecolor\":\"white\",\"gridwidth\":2}},\"shapedefaults\":{\"line\":{\"color\":\"#2a3f5f\"}},\"annotationdefaults\":{\"arrowcolor\":\"#2a3f5f\",\"arrowhead\":0,\"arrowwidth\":1},\"geo\":{\"bgcolor\":\"white\",\"landcolor\":\"#E5ECF6\",\"subunitcolor\":\"white\",\"showland\":true,\"showlakes\":true,\"lakecolor\":\"white\"},\"title\":{\"x\":0.05},\"mapbox\":{\"style\":\"light\"}}},\"xaxis\":{\"anchor\":\"y\",\"domain\":[0.0,1.0],\"title\":{\"text\":\"Month\"}},\"yaxis\":{\"anchor\":\"x\",\"domain\":[0.0,1.0],\"title\":{\"text\":\"Total content\"}},\"legend\":{\"tracegroupgap\":0},\"title\":{\"text\":\"Number of added content per Month\",\"font\":{\"size\":24,\"color\":\"#E50914\"}},\"barmode\":\"relative\"},                        {\"responsive\": true}                    ).then(function(){\n",
       "                            \n",
       "var gd = document.getElementById('0e195e34-7d57-4c2f-b609-f5cf1ee18e14');\n",
       "var x = new MutationObserver(function (mutations, observer) {{\n",
       "        var display = window.getComputedStyle(gd).display;\n",
       "        if (!display || display === 'none') {{\n",
       "            console.log([gd, 'removed!']);\n",
       "            Plotly.purge(gd);\n",
       "            observer.disconnect();\n",
       "        }}\n",
       "}});\n",
       "\n",
       "// Listen for the removal of the full notebook cells\n",
       "var notebookContainer = gd.closest('#notebook-container');\n",
       "if (notebookContainer) {{\n",
       "    x.observe(notebookContainer, {childList: true});\n",
       "}}\n",
       "\n",
       "// Listen for the clearing of the current output cell\n",
       "var outputEl = gd.closest('.output');\n",
       "if (outputEl) {{\n",
       "    x.observe(outputEl, {childList: true});\n",
       "}}\n",
       "\n",
       "                        })                };                });            </script>        </div>"
      ]
     },
     "metadata": {},
     "output_type": "display_data"
    }
   ],
   "source": [
    "\n",
    "fig = px.bar(\n",
    "    data_frame=monthly_added_content,\n",
    "    x=\"month_added\",\n",
    "    y=\"show_id\",\n",
    "    title=\"Number of added content per Month\",\n",
    "    text_auto=True,\n",
    "    color_discrete_sequence=['#221F1F']\n",
    ")\n",
    "\n",
    "\n",
    "# Customizing labels\n",
    "fig.update_layout(\n",
    "    xaxis_title=\"Month\",  # Update X-axis label\n",
    "    yaxis_title=\"Total content\",  # Update Y-axis label\n",
    "    title_font=dict(size=24, color=\"#E50914\")  \n",
    ")\n",
    "\n",
    "# Show the figure\n",
    "fig.show()"
   ]
  }
 ],
 "metadata": {
  "kernelspec": {
   "display_name": "Python 3 (ipykernel)",
   "language": "python",
   "name": "python3"
  },
  "language_info": {
   "codemirror_mode": {
    "name": "ipython",
    "version": 3
   },
   "file_extension": ".py",
   "mimetype": "text/x-python",
   "name": "python",
   "nbconvert_exporter": "python",
   "pygments_lexer": "ipython3",
   "version": "3.12.3"
  }
 },
 "nbformat": 4,
 "nbformat_minor": 5
}

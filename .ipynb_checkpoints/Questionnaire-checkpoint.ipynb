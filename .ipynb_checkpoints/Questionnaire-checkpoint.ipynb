{
 "cells": [
  {
   "cell_type": "markdown",
   "id": "b9b7eba7",
   "metadata": {},
   "source": [
    "# Netflix Content Analysis: Questionnaire & Findings\n",
    "\n",
    "### 1. **What is the distribution of content by type (Movies vs. TV Shows)?**\n",
    "- **Analysis**: The dataset reveals that **Movies** dominate Netflix’s content library, with a significantly higher number of Movies compared to TV Shows.\n",
    "- **Answer**: Based on the data, the platform has a larger number of **Movies** compared to **TV Shows**.\n",
    "\n",
    "### 2. **How has the volume of new content added changed over the years (Trend Analysis)?**\n",
    "- **Analysis**: The volume of new content added has dramatically increased, particularly from 2016 onward. The years **2019** and **2020** saw the largest peaks in content additions.\n",
    "- **Answer**: The volume of content added to Netflix has significantly increased, with the highest peaks occurring in **2019** and **2020**. This surge in content may be attributed to Netflix's expanding global presence and focus on original productions.\n",
    "\n",
    "### 3. **What are the most common categories in the dataset?**\n",
    "- **Analysis**: Categories such as **International Movies**, **Dramas**, and **Comedies** appear most frequently in the dataset.\n",
    "- **Answer**: The most common categories in Netflix’s content library are **International Movies**, **Dramas**, and **Comedies**, with **International Movies** having the highest volume.\n",
    "\n",
    "### 4. **What is the distribution of TMDB ratings for Netflix content?**\n",
    "- **Analysis**: When integrating ratings from the **TMDB API**, the average rating for most content is relatively high, around **8.0** and above.\n",
    "- **Answer**: The TMDB ratings for Netflix's content suggest that the platform's shows and movies generally maintain high ratings, with an average rating of **8.0** or higher for most titles, especially in **Action** and **Drama** genres.\n",
    "\n",
    "### 5. **Where are most of the movies and TV shows produced (countries)?**\n",
    "- **Analysis**: The countries producing the most content on Netflix are the **United States**, **India**, and the **United Kingdom**, followed by other regions such as **France** and **Japan**.\n",
    "- **Answer**: Most content on Netflix originates from **United States**, **India**, and **United Kingdom**, followed by countries like **France** and **Japan**, which have significant contributions.\n",
    "\n",
    "### 6. **Are there specific times of the year when more content is added?**\n",
    "- **Analysis**: The data shows that Netflix tends to add more content during certain months of the year, such as **July**, **December**, and **September**.\n",
    "- **Answer**: Content additions on Netflix peak during the **summer months** (especially **July**) and **December**, likely due to seasonal content planning and holiday releases.\n",
    "\n",
    "---\n",
    "\n",
    "### Conclusion\n",
    "\n",
    "Based on the findings from this analysis, we have addressed all the core questions regarding the content distribution, ratings, production origins, and trends in Netflix's catalog. No additional questions are necessary, and all the key insights have been extracted from the data.\n",
    "\n"
   ]
  }
 ],
 "metadata": {
  "kernelspec": {
   "display_name": "Python 3 (ipykernel)",
   "language": "python",
   "name": "python3"
  },
  "language_info": {
   "codemirror_mode": {
    "name": "ipython",
    "version": 3
   },
   "file_extension": ".py",
   "mimetype": "text/x-python",
   "name": "python",
   "nbconvert_exporter": "python",
   "pygments_lexer": "ipython3",
   "version": "3.12.3"
  }
 },
 "nbformat": 4,
 "nbformat_minor": 5
}
